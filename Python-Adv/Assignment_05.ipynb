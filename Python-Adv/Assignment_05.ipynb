{
 "cells": [
  {
   "cell_type": "markdown",
   "id": "7aa1f05e",
   "metadata": {},
   "source": [
    "### 1.Create a function that takes a number n (integer greater than zero) as an argument, and returns 2 if n is odd and 8 if n is even.\n",
    "    You can only use the following arithmetic operators:\n",
    "    addition of numbers +, \n",
    "    subtraction of numbers -, \n",
    "    multiplication of number *, \n",
    "    division of number /, \n",
    "    and exponentiation **.\n",
    "    You are not allowed to use any other methods in this challenge (i.e. no if statements, comparison operators, etc).\n",
    "    Examples:\n",
    "    f(1) ➞ 2\n",
    "    f(2) ➞ 8\n",
    "    f(3) ➞ 2"
   ]
  },
  {
   "cell_type": "code",
   "execution_count": 1,
   "id": "8ecb120f",
   "metadata": {},
   "outputs": [
    {
     "name": "stdout",
     "output_type": "stream",
     "text": [
      "f(1)➞ 2\n",
      "f(2)➞ 8\n",
      "f(3)➞ 2\n"
     ]
    }
   ],
   "source": [
    "def f(num):\n",
    "    output = [8,2]\n",
    "    print(f'f({num})➞ {output[num&1]}')\n",
    "    \n",
    "f(1)\n",
    "f(2)\n",
    "f(3)"
   ]
  },
  {
   "cell_type": "markdown",
   "id": "1c13eb5f",
   "metadata": {},
   "source": [
    "### 2.Create a function that returns the majority vote in a list. A majority vote is an element that occurs > N/2 times in a list (where N is the length of the list).\n",
    "    Examples:\n",
    "    majority_vote([\"A\", \"A\", \"B\"]) ➞ \"A\"\n",
    "    majority_vote([\"A\", \"A\", \"A\", \"B\", \"C\", \"A\"]) ➞ \"A\"\n",
    "    majority_vote([\"A\", \"B\", \"B\", \"A\", \"C\", \"C\"]) ➞ None"
   ]
  },
  {
   "cell_type": "code",
   "execution_count": 2,
   "id": "3d4403a6",
   "metadata": {},
   "outputs": [
    {
     "name": "stdout",
     "output_type": "stream",
     "text": [
      "majority_vote(['A', 'A', 'B']) ➞ A\n",
      "majority_vote(['A', 'A', 'A', 'B', 'C', 'A']) ➞ A\n",
      "majority_vote(['A', 'B', 'B', 'A', 'C', 'C']) ➞ None\n"
     ]
    }
   ],
   "source": [
    "def majority_vote(list1):\n",
    "    output = None\n",
    "    for i in set(list1):\n",
    "        if list1.count(i) > (len(list1)/2):\n",
    "            output = i\n",
    "    print(f'majority_vote({list1}) ➞ {output}')\n",
    "    \n",
    "majority_vote([\"A\", \"A\", \"B\"])\n",
    "majority_vote([\"A\", \"A\", \"A\", \"B\", \"C\", \"A\"])\n",
    "majority_vote([\"A\", \"B\", \"B\", \"A\", \"C\", \"C\"])"
   ]
  },
  {
   "cell_type": "markdown",
   "id": "86f19dad",
   "metadata": {},
   "source": [
    "### 3.Create a function that takes a string txt and censors any word from a given list lst. The text removed must be replaced by the given character char.\n",
    "    Examples:\n",
    "    censor_string(\"Today is a Wednesday!\", [\"Today\", \"a\"], \"-\") ➞ \"----- is - Wednesday!\"\n",
    "    censor_string(\"The cow jumped over the moon.\", [\"cow\", \"over\"], \"*\"), \"The *** jumped **** the moon.\")\n",
    "    censor_string(\"Why did the chicken cross the road ?\", [\"Did\", \"chicken\", \"road\"], \"*\") ➞ \"Why *** the ******* cross \n",
    "    the ****?\""
   ]
  },
  {
   "cell_type": "code",
   "execution_count": 3,
   "id": "0cdd2571",
   "metadata": {},
   "outputs": [
    {
     "name": "stdout",
     "output_type": "stream",
     "text": [
      "censor_string(Today is a Wednesday!) ➞ ----- is - Wednesday!\n",
      "censor_string(The cow jumped over the moon.) ➞ The *** jumped **** the moon.\n",
      "censor_string(Why did the chicken cross the road ?) ➞ Why *** the ******* cross the **** ?\n"
     ]
    }
   ],
   "source": [
    "def censor_string(string1, string2, char):\n",
    "    output = []\n",
    "    for i in string1.split():\n",
    "        if i.title() in string2 or i.lower() in string2 or i.upper() in string2:\n",
    "            output.append(char*len(i))\n",
    "        else:\n",
    "            output.append(i)\n",
    "    print(f'censor_string({string1}) ➞ {\" \".join(output)}')\n",
    "\n",
    "censor_string(\"Today is a Wednesday!\", [\"Today\", \"a\"], \"-\")\n",
    "censor_string(\"The cow jumped over the moon.\", [\"cow\", \"over\"], \"*\")\n",
    "censor_string(\"Why did the chicken cross the road ?\", [\"Did\", \"chicken\", \"road\"], \"*\")"
   ]
  },
  {
   "cell_type": "markdown",
   "id": "2c82912f",
   "metadata": {},
   "source": [
    "### 4.In mathematics a Polydivisible Number (or magic number) is a number in a given number base with digits abcde... that has the following properties:\n",
    "    Its first digit a is not 0.\n",
    "    The number formed by its first two digits ab is a multiple of 2.\n",
    "    The number formed by its first three digits abc is a multiple of 3.\n",
    "    The number formed by its first four digits abcd is a multiple of 4. Create a function which takes an integer n and \n",
    "    returns True if the given number is a Polydivisible Number and False otherwise.\n",
    "    Examples:\n",
    "    is_polydivisible(1232) ➞ True\n",
    "        # 1     / 1 = 1\n",
    "        # 12    / 2 = 6\n",
    "        # 123   / 3 = 41\n",
    "        # 1232  / 4 = 308\n",
    "    is_polydivisible(123220 ) ➞ False\n",
    "        # 1   / 1 = 1\n",
    "        # 12   / 2 = 6\n",
    "        # 123   / 3 = 41\n",
    "        # 1232   / 4 = 308\n",
    "        # 12322   / 5 = 2464.4         # Not a Whole Number\n",
    "        # 123220   /6 = 220536.333...  # Not a Whole Number\n",
    "\n",
    "\n"
   ]
  },
  {
   "cell_type": "code",
   "execution_count": 4,
   "id": "99ca22f2",
   "metadata": {},
   "outputs": [
    {
     "name": "stdout",
     "output_type": "stream",
     "text": [
      "is_polydivisible(1232) ➞ True\n",
      "is_polydivisible(123220) ➞ False\n"
     ]
    }
   ],
   "source": [
    "def is_polydivisible(num):\n",
    "    output = False\n",
    "    num_temp = str(num)\n",
    "    for i in range(len(num_temp)):\n",
    "        if(int(num_temp[:i+1])%(i+1) == 0):\n",
    "            output = True\n",
    "        else:\n",
    "            output = False\n",
    "            break\n",
    "    print(f'is_polydivisible({num}) ➞ {output}')\n",
    "        \n",
    "is_polydivisible(1232)\n",
    "is_polydivisible(123220)"
   ]
  },
  {
   "cell_type": "markdown",
   "id": "5b7bfa34",
   "metadata": {},
   "source": [
    "### 5. Create a function that takes a list of numbers and returns the sum of all prime numbers in the list.\n",
    "    Examples:\n",
    "    sum_primes([1, 2, 3, 4, 5, 6, 7, 8, 9, 10]) ➞ 17\n",
    "    sum_primes([2, 3, 4, 11, 20, 50, 71]) ➞ 87\n",
    "    sum_primes([]) ➞ None"
   ]
  },
  {
   "cell_type": "code",
   "execution_count": 5,
   "id": "6b9997ce",
   "metadata": {},
   "outputs": [
    {
     "name": "stdout",
     "output_type": "stream",
     "text": [
      "sum_prices([1, 2, 3, 4, 5, 6, 7, 8, 9, 10]) ➞ 17\n",
      "sum_prices([2, 3, 4, 11, 20, 50, 71]) ➞ 87\n",
      "sum_prices([]) ➞ None\n"
     ]
    }
   ],
   "source": [
    "def sum_primes(list2):\n",
    "    output = []\n",
    "    for i in list2:\n",
    "        if i in [2,3]:\n",
    "            output.append(i)\n",
    "        elif i in [6*n-1 for n in range(0,i)] or i in [6*n+1 for n in range(0,i)]:\n",
    "            output.append(i)\n",
    "    if 1 in output:\n",
    "        output.remove(1)\n",
    "    print(f'sum_prices({list2}) ➞ {sum(output) if len(output) > 0 else None}')\n",
    "        \n",
    "sum_primes([1, 2, 3, 4, 5, 6, 7, 8, 9, 10])\n",
    "sum_primes([2, 3, 4, 11, 20, 50, 71])\n",
    "sum_primes([])"
   ]
  },
  {
   "cell_type": "code",
   "execution_count": null,
   "id": "b9639697",
   "metadata": {},
   "outputs": [],
   "source": []
  }
 ],
 "metadata": {
  "kernelspec": {
   "display_name": "Python 3",
   "language": "python",
   "name": "python3"
  },
  "language_info": {
   "codemirror_mode": {
    "name": "ipython",
    "version": 3
   },
   "file_extension": ".py",
   "mimetype": "text/x-python",
   "name": "python",
   "nbconvert_exporter": "python",
   "pygments_lexer": "ipython3",
   "version": "3.8.8"
  }
 },
 "nbformat": 4,
 "nbformat_minor": 5
}
