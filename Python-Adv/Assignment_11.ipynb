{
 "cells": [
  {
   "cell_type": "markdown",
   "id": "dd7dd6e8",
   "metadata": {},
   "source": [
    "### 1. Create a function that takes a list and returns a new list containing only prime numbers.\n",
    "    Examples:\n",
    "    filter_primes([7, 9, 3, 9, 10, 11, 27]) ➞ [7, 3, 11]\n",
    "    filter_primes([10007, 1009, 1007, 27, 147, 77, 1001, 70]) ➞ [10007, 1009]\n",
    "    filter_primes([1009, 10, 10, 10, 3, 33, 9, 4, 1, 61, 63, 69, 1087, 1091, 1093, 1097]) ➞ [1009, 3, 61, 1087, 1091, \n",
    "    1093, 1097]"
   ]
  },
  {
   "cell_type": "code",
   "execution_count": 1,
   "id": "97e869ac",
   "metadata": {},
   "outputs": [
    {
     "name": "stdout",
     "output_type": "stream",
     "text": [
      "filter_primes([7, 9, 3, 9, 10, 11, 27]) ➞ [7, 3, 11]\n",
      "filter_primes([10007, 1009, 1007, 27, 147, 77, 1001, 70]) ➞ [10007, 1009]\n",
      "filter_primes([1009, 10, 10, 10, 3, 33, 9, 4, 1, 61, 63, 69, 1087, 1091, 1093, 1097]) ➞ [1009, 3, 61, 1087, 1091, 1093, 1097]\n"
     ]
    }
   ],
   "source": [
    "def filter_primes(list1):\n",
    "    new_list = []\n",
    "    for i in list1:\n",
    "        if i in [2,3]:\n",
    "            new_list.append(i)\n",
    "        elif ((i+1)%6 == 0) or ((i-1)%6 == 0) and i != 1:\n",
    "            new_list.append(i)\n",
    "    temp = new_list.copy()\n",
    "    for i in temp:\n",
    "        for j in range(2,i):\n",
    "            if i%j == 0:\n",
    "                new_list.remove(i)\n",
    "                break        \n",
    "    print(f'filter_primes({list1}) ➞ {new_list}')\n",
    "    \n",
    "filter_primes([7, 9, 3, 9, 10, 11, 27])\n",
    "filter_primes([10007, 1009, 1007, 27, 147, 77, 1001, 70])\n",
    "filter_primes([1009, 10, 10, 10, 3, 33, 9, 4, 1, 61, 63, 69, 1087, 1091, 1093, 1097])"
   ]
  },
  {
   "cell_type": "markdown",
   "id": "f545c07f",
   "metadata": {},
   "source": [
    "### 2. Once a water balloon pops, is soaks the area around it. The ground gets drier the further away you travel from the balloon.\n",
    "    The effect of a water balloon popping can be modeled using a list. Create a function that takes a list which takes the \n",
    "    pre-pop state and returns the state after the balloon is popped. The pre-pop state will contain at most a single \n",
    "    balloon, whose size is represented by the only non-zero element.\n",
    "\n",
    "    Examples:\n",
    "    pop([0, 0, 0, 0, 4, 0, 0, 0, 0]) ➞ [0, 1, 2, 3, 4, 3, 2, 1, 0]\n",
    "    pop([0, 0, 0, 3, 0, 0, 0]) ➞ [0, 1, 2, 3, 2, 1, 0]\n",
    "    pop([0, 0, 2, 0, 0]) ➞ [0, 1, 2, 1, 0]\n",
    "    pop([0]) ➞ [0]"
   ]
  },
  {
   "cell_type": "code",
   "execution_count": 2,
   "id": "344b820c",
   "metadata": {},
   "outputs": [
    {
     "name": "stdout",
     "output_type": "stream",
     "text": [
      "pop([0, 0, 0, 0, 4, 0, 0, 0, 0]) ➞ [0, 1, 2, 3, 4, 3, 2, 1, 0]\n",
      "pop([0, 0, 0, 3, 0, 0, 0]) ➞ [0, 1, 2, 3, 2, 1, 0]\n",
      "pop([0, 0, 2, 0, 0]) ➞ [0, 1, 2, 1, 0]\n",
      "pop([0]) ➞ [0]\n"
     ]
    }
   ],
   "source": [
    "def pop(in_list):\n",
    "    pop_number = sorted(in_list,reverse=True)[0]\n",
    "    output = []\n",
    "    if pop_number == 0:\n",
    "        output.append(0)\n",
    "    else:\n",
    "        output.extend([x for x in range((len(in_list)-1)//2)])\n",
    "        output.append(pop_number)\n",
    "        output.extend([((len(in_list)-2)//2)-x for x in range((len(in_list)-1)//2)])\n",
    "    print(f'pop({in_list}) ➞ {output}')\n",
    "    \n",
    "pop([0, 0, 0, 0, 4, 0, 0, 0, 0])\n",
    "pop([0, 0, 0, 3, 0, 0, 0])\n",
    "pop([0, 0, 2, 0, 0])\n",
    "pop([0])"
   ]
  },
  {
   "cell_type": "markdown",
   "id": "441ed561",
   "metadata": {},
   "source": [
    "### 3. \"Loves me, loves me not\" is a traditional game in which a person plucks off all the petals of a flower one by one, saying the phrase \"Loves me\" and \"Loves me not\" when determining whether the one that they love, loves them back.\n",
    "    Given a number of petals, return a string which repeats the phrases \"Loves me\" and \"Loves me not\" for every alternating\n",
    "    petal, and return the last phrase in all caps. Remember to put a comma and space between phrases.\n",
    "\n",
    "    Examples:\n",
    "    loves_me(3) ➞ \"Loves me, Loves me not, LOVES ME\"\n",
    "    loves_me(6) ➞ \"Loves me, Loves me not, Loves me, Loves me not, Loves me, LOVES ME NOT\"\n",
    "    loves_me(1) ➞ \"LOVES ME\""
   ]
  },
  {
   "cell_type": "code",
   "execution_count": 4,
   "id": "467db214",
   "metadata": {},
   "outputs": [
    {
     "name": "stdout",
     "output_type": "stream",
     "text": [
      "loves_me(3) ➞ Loves me, Loves me not, LOVES ME\n",
      "loves_me(6) ➞ Loves me, Loves me not, Loves me, Loves me not, Loves me, LOVES ME NOT\n",
      "loves_me(1) ➞ LOVES ME\n"
     ]
    }
   ],
   "source": [
    "def loves_me(pl_num):\n",
    "    string = []\n",
    "    for i in range(pl_num):\n",
    "        if i%2 ==0:\n",
    "            string.append('Loves me')\n",
    "        else:\n",
    "            string.append('Loves me not')\n",
    "    string[-1] = string[-1].upper()\n",
    "    print(f'loves_me({pl_num}) ➞ {\", \".join(string)}')\n",
    "    \n",
    "loves_me(3)\n",
    "loves_me(6)\n",
    "loves_me(1)"
   ]
  },
  {
   "cell_type": "markdown",
   "id": "328b193d",
   "metadata": {},
   "source": [
    "### 4. Write a function that sorts each string in a list by the letter in alphabetic ascending order (a-z).\n",
    "    Examples:\n",
    "    sort_by_letter([\"932c\", \"832u32\", \"2344b\"]) ➞ [\"2344b\", \"932c\", \"832u32\"]\n",
    "    sort_by_letter([\"99a\", \"78b\", \"c2345\", \"11d\"]) ➞ [\"99a\", \"78b\", \"c2345\", \"11d\"]\n",
    "    sort_by_letter([\"572z\", \"5y5\", \"304q2\"]) ➞ [\"304q2\", \"5y5\", \"572z\"]\n",
    "    sort_by_letter([]) ➞ []"
   ]
  },
  {
   "cell_type": "code",
   "execution_count": 2,
   "id": "3ebd9640",
   "metadata": {},
   "outputs": [
    {
     "name": "stdout",
     "output_type": "stream",
     "text": [
      "sort_by_letter(['932c', '832u32', '2344b']) ➞ ['2344b', '932c', '832u32']\n",
      "sort_by_letter(['99a', '78b', 'c2345', '11d']) ➞ ['99a', '78b', 'c2345', '11d']\n",
      "sort_by_letter(['572z', '5y5', '304q2']) ➞ ['304q2', '5y5', '572z']\n",
      "sort_by_letter([]) ➞ []\n"
     ]
    }
   ],
   "source": [
    "def sort_by_letter(list2):\n",
    "    temp = []\n",
    "    output = []\n",
    "    for i in list2:\n",
    "        for char in i:\n",
    "            if char.isalpha():\n",
    "                temp.append(char)\n",
    "    temp.sort()\n",
    "    for char in temp:\n",
    "        for i in list2:\n",
    "            if char in i:\n",
    "                output.append(i)\n",
    "    \n",
    "    print(f'sort_by_letter({list2}) ➞ {output}')\n",
    "                \n",
    "sort_by_letter([\"932c\", \"832u32\", \"2344b\"])\n",
    "sort_by_letter([\"99a\", \"78b\", \"c2345\", \"11d\"])\n",
    "sort_by_letter([\"572z\", \"5y5\", \"304q2\"])\n",
    "sort_by_letter([])"
   ]
  },
  {
   "cell_type": "markdown",
   "id": "17b4c72c",
   "metadata": {},
   "source": [
    "### 5. There are three cups on a table, at positions A, B, and C. At the start, there is a ball hidden under the cup at position B.\n",
    "    image.png\n",
    "\n",
    "    However, I perform several swaps on the cups, which is notated as two letters. For example, if I swap the cups at\n",
    "    positions A and B, I could notate this as AB or BA.\n",
    "\n",
    "    Create a function that returns the letter position that the ball is at, once I finish swapping the cups. The swaps \n",
    "    will be given to you as a list.\n",
    "\n",
    "    Examples:\n",
    "        cup_swapping([\"AB\", \"CA\", \"AB\"]) ➞ \"C\"\n",
    "        # Ball begins at position B.\n",
    "        # Cups A and B swap, so the ball is at position A.\n",
    "        # Cups C and A swap, so the ball is at position C.\n",
    "        # Cups A and B swap, but the ball is at position C, so it doesn't move."
   ]
  },
  {
   "cell_type": "code",
   "execution_count": 6,
   "id": "8f01563c",
   "metadata": {},
   "outputs": [
    {
     "name": "stdout",
     "output_type": "stream",
     "text": [
      "cup_swapping(['AB', 'CA', 'AB']) ➞ C\n",
      "cup_swapping(['AB', 'CA', 'AB']) ➞ B\n",
      "cup_swapping(['AC', 'BC', 'AB']) ➞ A\n"
     ]
    }
   ],
   "source": [
    "def cup_swapping(swap_list,int_ball_pos):\n",
    "    ball_pos = int_ball_pos\n",
    "    for i in swap_list:\n",
    "        if ball_pos in i:\n",
    "            ball_pos = i.replace(ball_pos,'')\n",
    "    print(f'cup_swapping({swap_list}) ➞ {ball_pos}')\n",
    "            \n",
    "cup_swapping([\"AB\", \"CA\", \"AB\"],'B')\n",
    "cup_swapping([\"AB\", \"CA\", \"AB\"],'C')\n",
    "cup_swapping([\"AC\", \"BC\", \"AB\"],'A')"
   ]
  },
  {
   "cell_type": "code",
   "execution_count": null,
   "id": "285ce5bb",
   "metadata": {},
   "outputs": [],
   "source": []
  }
 ],
 "metadata": {
  "kernelspec": {
   "display_name": "Python 3",
   "language": "python",
   "name": "python3"
  },
  "language_info": {
   "codemirror_mode": {
    "name": "ipython",
    "version": 3
   },
   "file_extension": ".py",
   "mimetype": "text/x-python",
   "name": "python",
   "nbconvert_exporter": "python",
   "pygments_lexer": "ipython3",
   "version": "3.8.8"
  }
 },
 "nbformat": 4,
 "nbformat_minor": 5
}
