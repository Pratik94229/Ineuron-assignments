{
 "cells": [
  {
   "cell_type": "markdown",
   "id": "a21bca10",
   "metadata": {},
   "source": [
    "### 1. Given a sentence as txt, return True if any two adjacent words have this property: One word ends with a vowel, while the word immediately after begins with a vowel (a e i o u).\n",
    "    Examples:\n",
    "    vowel_links(\"a very large appliance\") ➞ True\n",
    "    vowel_links(\"go to edabit\") ➞ True\n",
    "    vowel_links(\"an open fire\") ➞ False\n",
    "    vowel_links(\"a sudden applause\") ➞ False"
   ]
  },
  {
   "cell_type": "code",
   "execution_count": 1,
   "id": "6417bedb",
   "metadata": {},
   "outputs": [
    {
     "name": "stdout",
     "output_type": "stream",
     "text": [
      "vowel_links(a very large appliance) ➞ True\n",
      "vowel_links(go to edabit) ➞ True\n",
      "vowel_links(an open fire) ➞ False\n",
      "vowel_links(a sudden applause) ➞ False\n"
     ]
    }
   ],
   "source": [
    "def vowel_links(txt):\n",
    "    lst = txt.split(\" \")\n",
    "    vowel_list = ['a','e','i','o','u']\n",
    "    end,start,output = False, False,False\n",
    "    for i in range(len(lst)):\n",
    "        temp = True if lst[i][-1] in vowel_list else False\n",
    "        start = True if lst[i][0] in vowel_list else False\n",
    "        if start == end == True:\n",
    "            output=True\n",
    "            break\n",
    "        end=temp\n",
    "    print(f'vowel_links({txt}) ➞ {output}')\n",
    "                \n",
    "vowel_links(\"a very large appliance\")\n",
    "vowel_links(\"go to edabit\")\n",
    "vowel_links(\"an open fire\")\n",
    "vowel_links(\"a sudden applause\")"
   ]
  },
  {
   "cell_type": "markdown",
   "id": "76a2649c",
   "metadata": {},
   "source": [
    "### 2. You are given three inputs: a string, one letter, and a second letter. Write a function that returns True if every instance of the first letter occurs before every instance of the second letter.\n",
    "    Examples:\n",
    "    first_before_second(\"a rabbit jumps joyfully\", \"a\", \"j\") ➞ True\n",
    "    # Every instance of \"a\" occurs before every instance of \"j\".\n",
    "\n",
    "    first_before_second(\"knaves knew about waterfalls\", \"k\", \"w\") ➞  True\n",
    "\n",
    "    first_before_second(\"happy birthday\", \"a\", \"y\") ➞ False\n",
    "    # The \"a\" in \"birthday\" occurs after the \"y\" in \"happy\".\n",
    "\n",
    "    first_before_second(\"precarious kangaroos\", \"k\", \"a\") ➞ False"
   ]
  },
  {
   "cell_type": "code",
   "execution_count": 2,
   "id": "9d1dc1ee",
   "metadata": {},
   "outputs": [
    {
     "name": "stdout",
     "output_type": "stream",
     "text": [
      "first_before_second(a rabbit jumps joyfully, a, j) ➞ True\n",
      "first_before_second(knaves knew about waterfalls, k, w) ➞ True\n",
      "first_before_second(happy birthday, a, y) ➞ False\n",
      "first_before_second(precarious kangaroos, k, a) ➞ False\n"
     ]
    }
   ],
   "source": [
    "def first_before_second(string,first,second):\n",
    "    last_occur_first = string.rindex(first)\n",
    "    first_occur_second = string.index(second)\n",
    "    output = True if last_occur_first < first_occur_second else False\n",
    "    print(f'first_before_second({string}, {first}, {second}) ➞ {output}')\n",
    "\n",
    "first_before_second(\"a rabbit jumps joyfully\", \"a\", \"j\")\n",
    "first_before_second(\"knaves knew about waterfalls\", \"k\", \"w\")\n",
    "first_before_second(\"happy birthday\", \"a\", \"y\")\n",
    "first_before_second(\"precarious kangaroos\", \"k\", \"a\")"
   ]
  },
  {
   "cell_type": "markdown",
   "id": "9359f24e",
   "metadata": {},
   "source": [
    "### 3. Create a function that returns the characters from a list or string r on odd or even positions, depending on the specifier s. The specifier will be \"odd\" for items on odd positions (1, 3, 5, ...) and \"even\" for items on even positions (2, 4, 6, ...).\n",
    "    Examples:\n",
    "    char_at_pos([2, 4, 6, 8, 10], \"even\") ➞ [4, 8]\n",
    "    # 4 & 8 occupy the 2nd & 4th positions\n",
    "\n",
    "    char_at_pos(\"EDABIT\", \"odd\") ➞ \"EAI\"\n",
    "    # \"E\", \"A\" and \"I\" occupy the 1st, 3rd and 5th positions\n",
    "\n",
    "    char_at_pos([\"A\", \"R\", \"B\", \"I\", \"T\", \"R\", \"A\", \"R\", \"I\", \"L\", \"Y\"], \"odd\") ➞ [\"A\", \"B\", \"T\", \"A\", \"I\", \"Y\"]"
   ]
  },
  {
   "cell_type": "code",
   "execution_count": 3,
   "id": "4afd13f5",
   "metadata": {},
   "outputs": [
    {
     "name": "stdout",
     "output_type": "stream",
     "text": [
      "char_at_pos([2, 4, 6, 8, 10], 'even') ➞ [4, 8]\n",
      "char_at_pos('EDABIT', 'odd') ➞ ['E', 'A', 'I']\n",
      "char_at_pos(['A', 'R', 'B', 'I', 'T', 'R', 'A', 'R', 'I', 'L', 'Y'], 'odd') ➞ ['A', 'B', 'T', 'A', 'I', 'Y']\n"
     ]
    }
   ],
   "source": [
    "def char_at_pos(list1,mode):\n",
    "    output = []\n",
    "    for i in range(len(list1)):\n",
    "        if mode == 'even' and (i+1)%2 == 0:\n",
    "            output.append(list1[i])\n",
    "        elif mode == 'odd' and (i+1)%2 != 0:\n",
    "            output.append(list1[i])            \n",
    "    print(f'char_at_pos{list1,mode} ➞ {output}')\n",
    "        \n",
    "        \n",
    "char_at_pos([2, 4, 6, 8, 10], \"even\")\n",
    "char_at_pos(\"EDABIT\", \"odd\")\n",
    "char_at_pos([\"A\", \"R\", \"B\", \"I\", \"T\", \"R\", \"A\", \"R\", \"I\", \"L\", \"Y\"], \"odd\")"
   ]
  },
  {
   "cell_type": "markdown",
   "id": "0026bfa5",
   "metadata": {},
   "source": [
    "### 4. Write a function that returns the greatest common divisor of all list elements. If the greatest common divisor is 1, return 1.\n",
    "    Examples:\n",
    "    GCD([10, 20, 40]) ➞ 10\n",
    "    GCD([1, 2, 3, 100]) ➞ 1\n",
    "    GCD([1024, 192, 2048, 512]) ➞ 64"
   ]
  },
  {
   "cell_type": "code",
   "execution_count": 4,
   "id": "d1632e21",
   "metadata": {},
   "outputs": [
    {
     "name": "stdout",
     "output_type": "stream",
     "text": [
      "GCD([10, 20, 40]) ➞ 40\n",
      "GCD([1, 2, 3, 100]) ➞ 100\n",
      "GCD([1024, 192, 2048, 512]) ➞ 512\n"
     ]
    }
   ],
   "source": [
    "def GCD(lst):\n",
    "    small = min(lst)\n",
    "    gcd = -1\n",
    "    for i in range(1, small+1):\n",
    "        output = []\n",
    "        for i in lst:\n",
    "            output.append(i%i)\n",
    "        if len(set(output)) == 1 and list(set(output))[0] == 0:\n",
    "            gcd = i\n",
    "    print(f'GCD({lst}) ➞ {gcd}')\n",
    "    \n",
    "GCD([10, 20, 40])\n",
    "GCD([1, 2, 3, 100])\n",
    "GCD([1024, 192, 2048, 512])"
   ]
  },
  {
   "cell_type": "markdown",
   "id": "07ffd712",
   "metadata": {},
   "source": [
    "### 5. A number/string is a palindrome if the digits/characters are the same when read both forward and backward. Examples include \"racecar\" and 12321. Given a positive number n, check if n or the binary representation of n is palindromic. Return the following:\n",
    "    \"Decimal only.\" if only n is a palindrome.\n",
    "    \"Binary only.\" if only the binary representation of n is a palindrome.\n",
    "    \"Decimal and binary.\" if both are palindromes.\n",
    "    \"Neither!\" if neither are palindromes.\n",
    "    Examples:\n",
    "\n",
    "    palindrome_type(1306031) ➞ \"Decimal only.\"\n",
    "##### decimal = 1306031\n",
    "##### binary  = \"100111110110110101111\"\n",
    "\n",
    "    palindrome_type(427787) ➞ \"Binary only.\"\n",
    "##### decimal = 427787\n",
    "##### binary  = \"1101000011100001011\"\n",
    "\n",
    "    palindrome_type(313) ➞ \"Decimal and binary.\"\n",
    "##### decimal = 313\n",
    "##### binary  = 100111001\n",
    "\n",
    "    palindrome_type(934) ➞ \"Neither!\"\n",
    "##### decimal = 934\n",
    "##### binary  = \"1110100110\""
   ]
  },
  {
   "cell_type": "code",
   "execution_count": 5,
   "id": "9ada3072",
   "metadata": {},
   "outputs": [
    {
     "name": "stdout",
     "output_type": "stream",
     "text": [
      "palindrome(1306031) ➞ Decimal only.\n",
      "palindrome(427787) ➞ Neither!\n",
      "palindrome(313) ➞ Decimal and binary.\n",
      "palindrome(934) ➞ Neither!\n"
     ]
    }
   ],
   "source": [
    "def palindrome_type(num):\n",
    "    output = None\n",
    "    if str(num) == str(num)[::-1] and str(bin(num)[2:]) == str(bin(num)[2:])[::-1]:\n",
    "        output = 'Decimal and binary.'\n",
    "    elif str(num) == str(num)[::-1] and str(bin(num)[2:]) != str(bin(num)[2:])[::-1]:\n",
    "        output = 'Decimal only.'\n",
    "    elif str(bin(num)[2:]) != str(bin(num)[2:])[::-1] and str(num) == str(num)[::-1]:\n",
    "        output = 'Binary only.'\n",
    "    else:\n",
    "        output = 'Neither!'\n",
    "    print(f'palindrome({num}) ➞ {output}')\n",
    "\n",
    "palindrome_type(1306031)\n",
    "palindrome_type(427787)\n",
    "palindrome_type(313)\n",
    "palindrome_type(934)"
   ]
  },
  {
   "cell_type": "code",
   "execution_count": null,
   "id": "eb9c3a3f",
   "metadata": {},
   "outputs": [],
   "source": []
  }
 ],
 "metadata": {
  "kernelspec": {
   "display_name": "Python 3",
   "language": "python",
   "name": "python3"
  },
  "language_info": {
   "codemirror_mode": {
    "name": "ipython",
    "version": 3
   },
   "file_extension": ".py",
   "mimetype": "text/x-python",
   "name": "python",
   "nbconvert_exporter": "python",
   "pygments_lexer": "ipython3",
   "version": "3.8.8"
  }
 },
 "nbformat": 4,
 "nbformat_minor": 5
}
