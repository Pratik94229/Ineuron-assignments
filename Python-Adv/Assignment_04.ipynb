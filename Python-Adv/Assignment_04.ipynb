{
 "cells": [
  {
   "cell_type": "markdown",
   "id": "b9b02559",
   "metadata": {},
   "source": [
    "### 1.In mathematics, the Fibonacci numbers, commonly denoted Fn, form a sequence, called the Fibonacci sequence, such that each number is the sum of the two preceding ones, starting from 0 and 1:\n",
    "                \n",
    "            F0 = 0  F1 = 1,\n",
    "           and\n",
    "            Fn= Fn-1 + Fn-2,\n",
    "            for n>1\n",
    "\n",
    "The beginning of the sequence is this: 0, 1, 1, 2, 3, 5, 8, 13, 21, 34, 55, 89, 144, ...\n",
    "The function fastFib(num) returns the fibonacci number Fn, of the given num as an argument.\n",
    "Examples:\n",
    "fib_fast(5) ➞ 5\n",
    "fib_fast(10) ➞ 55\n",
    "fib_fast(20) ➞ 6765\n",
    "fib_fast(50) ➞ 12586269025"
   ]
  },
  {
   "cell_type": "code",
   "execution_count": 1,
   "id": "981d0829",
   "metadata": {},
   "outputs": [
    {
     "name": "stdout",
     "output_type": "stream",
     "text": [
      "fib_fast(5) ➞ 5\n",
      "fib_fast(10) ➞ 55\n",
      "fib_fast(20) ➞ 6765\n",
      "fib_fast(50) ➞ 12586269025\n"
     ]
    }
   ],
   "source": [
    "def fib_fast(num):\n",
    "    lst = []\n",
    "    for i in range(num+1):\n",
    "        if i in [0,1]:\n",
    "            lst.append(i)\n",
    "        else:\n",
    "            lst.append(lst[-1]+lst[-2])\n",
    "    print(f'fib_fast({num}) ➞ {lst[-1]}')\n",
    "fib_fast(5)\n",
    "fib_fast(10)\n",
    "fib_fast(20)\n",
    "fib_fast(50)     "
   ]
  },
  {
   "cell_type": "markdown",
   "id": "57a24ef7",
   "metadata": {},
   "source": [
    "### 2.Create a function that takes a strings characters as ASCII and returns each characters hexadecimal value as a string.\n",
    "    Examples:\n",
    "    convert_to_hex(\"hello world\") ➞ \"68 65 6c 6c 6f 20 77 6f 72 6c 64\"\n",
    "    convert_to_hex(\"Big Boi\") ➞ \"42 69 67 20 42 6f 69\"\n",
    "    convert_to_hex(\"Marty Poppinson\") ➞ \"4d 61 72 74 79 20 50 6f 70 70 69 6e 73 6f 6e\""
   ]
  },
  {
   "cell_type": "code",
   "execution_count": 2,
   "id": "be814035",
   "metadata": {},
   "outputs": [
    {
     "name": "stdout",
     "output_type": "stream",
     "text": [
      "convert_to_hex(hello world) ➞ 68 65 6c 6c 6f 20 77 6f 72 6c 64\n",
      "convert_to_hex(Big Boi) ➞ 42 69 67 20 42 6f 69\n",
      "convert_to_hex(Marty Poppinson) ➞ 4d 61 72 74 79 20 50 6f 70 70 69 6e 73 6f 6e\n"
     ]
    }
   ],
   "source": [
    "def convert_to_hex(string):\n",
    "    output = []\n",
    "    for i in string:\n",
    "        output.append(hex(ord(i))[2:])\n",
    "    print(f'convert_to_hex({string}) ➞ {\" \".join(output)}')\n",
    "\n",
    "convert_to_hex(\"hello world\")\n",
    "convert_to_hex(\"Big Boi\")\n",
    "convert_to_hex(\"Marty Poppinson\")"
   ]
  },
  {
   "cell_type": "markdown",
   "id": "f9ff8f07",
   "metadata": {},
   "source": [
    "### 3.Someone has attempted to censor my strings by replacing every vowel with a *, l*k* th*s. Luckily, I've been able to find the vowels that were removed.\n",
    "    Given a censored string and a string of the censored vowels, return the original uncensored string.\n",
    "    Examples:\n",
    "    uncensor(\"Wh*r* d*d my v*w*ls g*?\", \"eeioeo\") ➞ \"Where did my vowels go?\"\n",
    "    uncensor(\"abcd\", \"\") ➞ \"abcd\"\n",
    "    uncensor(\"*PP*RC*S*\", \"UEAE\") ➞ \"UPPERCASE\""
   ]
  },
  {
   "cell_type": "code",
   "execution_count": 3,
   "id": "d478695a",
   "metadata": {},
   "outputs": [
    {
     "name": "stdout",
     "output_type": "stream",
     "text": [
      "uncensor('Wh*r* d*d my v*w*ls g*?', 'eeioeo') ➞ Where did my vowels go?\n",
      "uncensor('abcd', '') ➞ abcd\n",
      "uncensor('*PP*RC*S*', 'UEAE') ➞ UPPERCASE\n"
     ]
    }
   ],
   "source": [
    "def uncensor(string,vowels):\n",
    "    x = 0\n",
    "    output = ''\n",
    "    for i in string:\n",
    "        if i == '*':\n",
    "            output += vowels[x]\n",
    "            x +=1\n",
    "        else:\n",
    "            output += i\n",
    "    print(f'uncensor{string,vowels} ➞ {output}')\n",
    "\n",
    "uncensor(\"Wh*r* d*d my v*w*ls g*?\", \"eeioeo\")\n",
    "uncensor(\"abcd\", \"\")\n",
    "uncensor(\"*PP*RC*S*\", \"UEAE\") "
   ]
  },
  {
   "cell_type": "markdown",
   "id": "f29e1874",
   "metadata": {},
   "source": [
    "### 4.Write a function that takes an IP address and returns the domain name using PTR DNS records.\n",
    "    Examples:\n",
    "    get_domain(\"8.8.8.8\") ➞ \"dns.google\"\n",
    "    get_domain(\"8.8.4.4\") ➞ \"dns.google\""
   ]
  },
  {
   "cell_type": "code",
   "execution_count": 4,
   "id": "91dcb4cf",
   "metadata": {},
   "outputs": [
    {
     "name": "stdout",
     "output_type": "stream",
     "text": [
      "get_domain(8.8.8.8) ➞ ('dns.google', [], ['8.8.8.8']) ➞ dns.google\n",
      "get_domain(8.8.4.4) ➞ ('dns.google', [], ['8.8.4.4']) ➞ dns.google\n"
     ]
    }
   ],
   "source": [
    "import socket\n",
    "def get_domain(ip):\n",
    "    print(f'get_domain({ip}) ➞ {socket.gethostbyaddr(ip)} ➞ {socket.gethostbyaddr(ip)[0]}')\n",
    "    \n",
    "get_domain(\"8.8.8.8\")\n",
    "get_domain(\"8.8.4.4\")"
   ]
  },
  {
   "cell_type": "markdown",
   "id": "a800e2c4",
   "metadata": {},
   "source": [
    "### 5.Create a function that takes an integer n and returns the factorial of factorials. See below examples for a better understanding:\n",
    "    Examples:\n",
    "fact_of_fact(4) ➞ 288\n",
    "##### 4! * 3! * 2! * 1! = 288\n",
    "    fact_of_fact(5) ➞ 34560\n",
    "    fact_of_fact(6) ➞ 24883200"
   ]
  },
  {
   "cell_type": "code",
   "execution_count": 6,
   "id": "936d2203",
   "metadata": {},
   "outputs": [
    {
     "name": "stdout",
     "output_type": "stream",
     "text": [
      "fact_of_fact(4) ➞ 288\n",
      "fact_of_fact(5) ➞ 34560\n",
      "fact_of_fact(6) ➞ 24883200\n"
     ]
    }
   ],
   "source": [
    "def fact_of_fact(num):\n",
    "    \n",
    "    def get_factorial(n):\n",
    "        if n == 1:\n",
    "            return 1\n",
    "        else:\n",
    "            return n*get_factorial(n-1)      \n",
    "    out_num = 1\n",
    "    for i in range(1,num+1):\n",
    "        out_num *= get_factorial(i)\n",
    "    print(f'fact_of_fact({num}) ➞ {out_num}')\n",
    "\n",
    "fact_of_fact(4)\n",
    "fact_of_fact(5)\n",
    "fact_of_fact(6)"
   ]
  },
  {
   "cell_type": "code",
   "execution_count": null,
   "id": "c5458c06",
   "metadata": {},
   "outputs": [],
   "source": []
  }
 ],
 "metadata": {
  "kernelspec": {
   "display_name": "Python 3",
   "language": "python",
   "name": "python3"
  },
  "language_info": {
   "codemirror_mode": {
    "name": "ipython",
    "version": 3
   },
   "file_extension": ".py",
   "mimetype": "text/x-python",
   "name": "python",
   "nbconvert_exporter": "python",
   "pygments_lexer": "ipython3",
   "version": "3.8.8"
  }
 },
 "nbformat": 4,
 "nbformat_minor": 5
}
