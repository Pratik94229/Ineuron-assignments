{
 "cells": [
  {
   "cell_type": "markdown",
   "id": "1b262da0",
   "metadata": {},
   "source": [
    "### 1. Create a function that transposes a 2D matrix.\n",
    "    Examples:\n",
    "\n",
    "    transpose_matrix([\n",
    "      [1, 1, 1],\n",
    "      [2, 2, 2],\n",
    "      [3, 3, 3]\n",
    "    ]) ➞ [\n",
    "      [1, 2, 3],\n",
    "      [1, 2, 3],\n",
    "      [1, 2, 3]\n",
    "    ]\n",
    "\n",
    "    transpose_matrix([\n",
    "      [5, 5],\n",
    "      [6, 7],\n",
    "      [9, 1]\n",
    "    ]) ➞ [\n",
    "      [5, 6, 9],\n",
    "      [5, 7, 1]\n",
    "    ]"
   ]
  },
  {
   "cell_type": "code",
   "execution_count": 1,
   "id": "d37195f3",
   "metadata": {},
   "outputs": [
    {
     "name": "stdout",
     "output_type": "stream",
     "text": [
      "transpose_matrix([[1, 1, 1], [2, 2, 2], [3, 3, 3]]) ➞ [[1, 2, 3], [1, 2, 3], [1, 2, 3]]\n",
      "transpose_matrix([[5, 5], [6, 7], [9, 1]]) ➞ [[5, 6, 9], [5, 7, 1]]\n"
     ]
    }
   ],
   "source": [
    "def transpose_matrix(lst):\n",
    "    output = []\n",
    "    for i in range(len(lst[0])):\n",
    "        temp = []\n",
    "        for j in lst:\n",
    "            temp.append(j[i])\n",
    "        output.append(temp)\n",
    "    print(f'transpose_matrix({lst}) ➞ {output}')\n",
    "\n",
    "transpose_matrix([[1, 1, 1],[2, 2, 2],[3, 3, 3]])\n",
    "transpose_matrix([[5, 5],[6, 7],[9, 1]])"
   ]
  },
  {
   "cell_type": "markdown",
   "id": "2076309a",
   "metadata": {},
   "source": [
    "### 2. Create a function that determines whether a string is a valid hex code.\n",
    "    A hex code must begin with a pound key # and is exactly 6 characters in length. Each character must be a digit \n",
    "    from 0-9 or an alphabetic character from A-F. All alphabetic characters may be uppercase or lowercase.\n",
    "\n",
    "    Examples:\n",
    "    is_valid_hex_code(\"#CD5C5C\") ➞ True\n",
    "    is_valid_hex_code(\"#EAECEE\") ➞ True\n",
    "    is_valid_hex_code(\"#eaecee\") ➞ True\n",
    "\n",
    "    is_valid_hex_code(\"#CD5C58C\") ➞ False\n",
    "    # Length exceeds 6\n",
    "\n",
    "    is_valid_hex_code(\"#CD5C5Z\") ➞ False\n",
    "    # Not all alphabetic characters in A-F\n",
    "\n",
    "    is_valid_hex_code(\"#CD5C&C\") ➞ False\n",
    "    # Contains unacceptable character\n",
    "\n",
    "    is_valid_hex_code(\"CD5C5C\") ➞ False\n",
    "    # Missing #"
   ]
  },
  {
   "cell_type": "code",
   "execution_count": 2,
   "id": "1d305903",
   "metadata": {},
   "outputs": [
    {
     "name": "stdout",
     "output_type": "stream",
     "text": [
      "is_valid_hex_code(#CD5C5C) ➞ True\n",
      "is_valid_hex_code(#EAECEE) ➞ True\n",
      "is_valid_hex_code(#eaecee) ➞ True\n",
      "is_valid_hex_code(#CD5C58C) ➞ False\n",
      "is_valid_hex_code(#CD5C5Z) ➞ False\n",
      "is_valid_hex_code(#CD5C&C) ➞ False\n",
      "is_valid_hex_code(CD5C5C) ➞ False\n"
     ]
    }
   ],
   "source": [
    "def is_valid_hex_code(string):\n",
    "    out_string = True\n",
    "    for i in string:\n",
    "        if i.lower() not in '#abcdef0123456789' or len(string) != 7:\n",
    "            out_string = False\n",
    "    print(f'is_valid_hex_code({string}) ➞ {out_string}')\n",
    "\n",
    "is_valid_hex_code(\"#CD5C5C\")\n",
    "is_valid_hex_code(\"#EAECEE\")\n",
    "is_valid_hex_code(\"#eaecee\")\n",
    "is_valid_hex_code(\"#CD5C58C\")\n",
    "is_valid_hex_code(\"#CD5C5Z\")\n",
    "is_valid_hex_code(\"#CD5C&C\")\n",
    "is_valid_hex_code(\"CD5C5C\")"
   ]
  },
  {
   "cell_type": "markdown",
   "id": "26146abc",
   "metadata": {},
   "source": [
    "### 3. Given a list of math equations (given as strings), return the percentage of correct answers as a string. Round to the nearest whole number.\n",
    "    Examples:\n",
    "    mark_maths([\"2+2=4\", \"3+2=5\", \"10-3=3\", \"5+5=10\"]) ➞ \"75%\"\n",
    "    mark_maths([\"1-2=-2\"]), \"0%\"\n",
    "    mark_maths([\"2+3=5\", \"4+4=9\", \"3-1=2\"]) ➞ \"67%\""
   ]
  },
  {
   "cell_type": "code",
   "execution_count": 3,
   "id": "0194388b",
   "metadata": {},
   "outputs": [
    {
     "name": "stdout",
     "output_type": "stream",
     "text": [
      "mark_maths(['2+2=4', '3+2=5', '10-3=3', '5+5=10']) ➞ 75%\n",
      "mark_maths(['1-2=-2']) ➞ 0%\n",
      "mark_maths(['2+3=5', '4+4=9', '3-1=2']) ➞ 67%\n"
     ]
    }
   ],
   "source": [
    "import math\n",
    "def mark_maths(lst):\n",
    "    out_list = []\n",
    "    for i in lst:\n",
    "        i = i.split(\"=\")\n",
    "        out_list.append(eval(i[0]) == int(i[1])) \n",
    "    print(f'mark_maths({lst}) ➞ {str(math.ceil((sum(out_list)/len(out_list))*100))}%')\n",
    "        \n",
    "mark_maths([\"2+2=4\", \"3+2=5\", \"10-3=3\", \"5+5=10\"])\n",
    "mark_maths([\"1-2=-2\"])\n",
    "mark_maths([\"2+3=5\", \"4+4=9\", \"3-1=2\"])"
   ]
  },
  {
   "cell_type": "markdown",
   "id": "39fd64f1",
   "metadata": {},
   "source": [
    "### 4. There are two players, Alice and Bob, each with a 3-by-3 grid. A referee tells Alice to fill out one particular row in the grid (say the second row) by putting either a 1 or a 0 in each box, such that the sum of the numbers in that row is odd. The referee tells Bob to fill out one column in the grid (say the first column) by putting either a 1 or a 0 in each box, such that the sum of the numbers in that column is even.\n",
    "    Alice and Bob win the game if Alice’s numbers give an odd sum, Bob’s give an even sum, and (most important) they’ve \n",
    "    each written down the same number in the one square where their row and column intersect.\n",
    "\n",
    "    Examples:\n",
    "    magic_square_game([2, \"100\"], [1, \"101\"]) ➞ False\n",
    "    magic_square_game([2, \"001\"], [1, \"101\"]) ➞ True\n",
    "    magic_square_game([3, \"111\"], [2, \"011\"]) ➞ True\n",
    "    magic_square_game([1, \"010\"], [3, \"101\"]) ➞ False\n",
    "    # Two lists, Alice [row, \"her choice\"], Bob [column, \"his choice\"]"
   ]
  },
  {
   "cell_type": "code",
   "execution_count": 4,
   "id": "d3543b3d",
   "metadata": {},
   "outputs": [
    {
     "name": "stdout",
     "output_type": "stream",
     "text": [
      "magic_square_game([2, '100'], [1, '101']) ➞ False\n",
      "magic_square_game([2, '001'], [1, '101']) ➞ True\n",
      "magic_square_game([3, '111'], [2, '011']) ➞ True\n",
      "magic_square_game([1, '010'], [3, '101']) ➞ False\n"
     ]
    }
   ],
   "source": [
    "def magic_square_game(num1,num2):\n",
    "    output = False\n",
    "    if num2[1][num1[0]-1] == num1[1][num2[0]-1]:\n",
    "        output = True\n",
    "    print(f'magic_square_game{num1,num2} ➞ {output}')\n",
    "    \n",
    "magic_square_game([2, \"100\"], [1, \"101\"])\n",
    "magic_square_game([2, \"001\"], [1, \"101\"]) \n",
    "magic_square_game([3, \"111\"], [2, \"011\"]) \n",
    "magic_square_game([1, \"010\"], [3, \"101\"]) "
   ]
  },
  {
   "cell_type": "markdown",
   "id": "8b3bce09",
   "metadata": {},
   "source": [
    "### 5. From point A, an object is moving towards point B at constant velocity va (in km/hr). From point B, another object is moving towards point A at constant velocity vb (in km/hr). Knowing this and the distance between point A and B (in km), write a function that returns how much time passes until both objects meet.\n",
    "    Format the output like this: \"2h 23min 34s\"\n",
    "\n",
    "    Examples:\n",
    "    lets_meet(100, 10, 30) ➞ \"2h 30min 0s\"\n",
    "    lets_meet(280, 70, 80) ➞ \"1h 52min 0s\"\n",
    "    lets_meet(90, 75, 65) ➞ \"0h 38min 34s\""
   ]
  },
  {
   "cell_type": "code",
   "execution_count": 6,
   "id": "d476d2f7",
   "metadata": {},
   "outputs": [
    {
     "name": "stdout",
     "output_type": "stream",
     "text": [
      "lets_meet(100, 10, 30) ➞ 2h 30min 0s\n",
      "lets_meet(280, 70, 80) ➞ 1h 52min 0s\n",
      "lets_meet(90, 75, 65) ➞ 0h 38min 34s\n"
     ]
    }
   ],
   "source": [
    "import math\n",
    "def lets_meet(in_dist,velo_a,velo_b):\n",
    "    total_time = in_dist/(velo_a+velo_b)\n",
    "    Hours = math.floor(total_time) \n",
    "    Minutes = math.floor((total_time-Hours)*60)\n",
    "    Seconds = math.floor(((((total_time)-Hours)*60)-Minutes)*60)\n",
    "    print(f'lets_meet{in_dist,velo_a,velo_b} ➞ {Hours}h {Minutes}min {Seconds}s')\n",
    "    \n",
    "lets_meet(100, 10, 30)\n",
    "lets_meet(280, 70, 80)\n",
    "lets_meet(90, 75, 65)"
   ]
  },
  {
   "cell_type": "code",
   "execution_count": null,
   "id": "1d298bd3",
   "metadata": {},
   "outputs": [],
   "source": []
  }
 ],
 "metadata": {
  "kernelspec": {
   "display_name": "Python 3",
   "language": "python",
   "name": "python3"
  },
  "language_info": {
   "codemirror_mode": {
    "name": "ipython",
    "version": 3
   },
   "file_extension": ".py",
   "mimetype": "text/x-python",
   "name": "python",
   "nbconvert_exporter": "python",
   "pygments_lexer": "ipython3",
   "version": "3.8.8"
  }
 },
 "nbformat": 4,
 "nbformat_minor": 5
}
