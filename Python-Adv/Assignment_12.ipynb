{
 "cells": [
  {
   "cell_type": "markdown",
   "id": "cc046c06",
   "metadata": {},
   "source": [
    "### 1. For this challenge, forget how to add two numbers together. The best explanation on what to do for this function is this meme:\n",
    "    \n",
    "\n",
    "    Examples:\n",
    "        meme_sum(26, 39) ➞ 515\n",
    "        # 2+3 = 5, 6+9 = 15\n",
    "        # 26 + 39 = 515\n",
    "        meme_sum(122, 81) ➞ 1103\n",
    "        # 1+0 = 1, 2+8 = 10, 2+1 = 3\n",
    "        # 122 + 81 = 1103\n",
    "        meme_sum(1222, 30277) ➞ 31499"
   ]
  },
  {
   "cell_type": "code",
   "execution_count": 1,
   "id": "472cd02e",
   "metadata": {},
   "outputs": [
    {
     "name": "stdout",
     "output_type": "stream",
     "text": [
      "meme_sum('26', '39') ➞ 515\n",
      "meme_sum('122', '081') ➞ 1103\n",
      "meme_sum('01222', '30277') ➞ 31499\n"
     ]
    }
   ],
   "source": [
    "def meme_sum(x,y):\n",
    "    x,y = str(x),str(y)\n",
    "    output = ''\n",
    "    while len(x) != len(y):\n",
    "        if len(x) < len(y):\n",
    "            x ='0'+x\n",
    "        else:\n",
    "            y='0'+y\n",
    "    for i in range(len(x)):\n",
    "        output += str(int(x[i])+int(y[i]))\n",
    "    print(f'meme_sum{x,y} ➞ {output}')\n",
    "       \n",
    "meme_sum(26, 39)\n",
    "meme_sum(122, 81)\n",
    "meme_sum(1222, 30277) "
   ]
  },
  {
   "cell_type": "markdown",
   "id": "30ee1822",
   "metadata": {},
   "source": [
    "### 2. Given an integer, create a function that returns the next prime. If the number is prime, return the number itself.\n",
    "    Examples:\n",
    "    next_prime(12) ➞ 13\n",
    "    next_prime(24) ➞ 29\n",
    "    next_prime(11) ➞ 11\n",
    "    # 11 is a prime, so we return the number itself."
   ]
  },
  {
   "cell_type": "code",
   "execution_count": 2,
   "id": "1ed5466c",
   "metadata": {},
   "outputs": [
    {
     "name": "stdout",
     "output_type": "stream",
     "text": [
      "next_prine(12) ➞ 13\n",
      "next_prine(24) ➞ 29\n",
      "next_prine(11) ➞ 11\n"
     ]
    }
   ],
   "source": [
    "def next_prime(num):\n",
    "    next_num = num\n",
    "    while True:\n",
    "        if (num-1)%6 == 0 or (num+1)%6 ==0 :\n",
    "            temp = num\n",
    "            for i in range(3,num+1):\n",
    "                if num%i == 0 and i != num:\n",
    "                    num = num+1\n",
    "                    break\n",
    "            if temp == num:\n",
    "                break\n",
    "        else:\n",
    "            num += 1\n",
    "    \n",
    "    print(f'next_prine({next_num}) ➞ {num}')\n",
    "        \n",
    "next_prime(12)\n",
    "next_prime(24)\n",
    "next_prime(11)"
   ]
  },
  {
   "cell_type": "markdown",
   "id": "28f03cd7",
   "metadata": {},
   "source": [
    "### 3. If a person traveled up a hill for 18mins at 20mph and then traveled back down the same path at 60mph then their average speed traveled was 30mph.\n",
    "    Write a function that returns the average speed traveled given an uphill time, uphill rate and a downhill rate. \n",
    "    Uphill time is given in minutes. Return the rate as an integer (mph). No rounding is necessary.\n",
    "\n",
    "    Examples:\n",
    "    ave_spd(18, 20, 60) ➞ 30\n",
    "    ave_spd(30, 10, 30) ➞ 15\n",
    "    ave_spd(30, 8, 24) ➞ 12"
   ]
  },
  {
   "cell_type": "code",
   "execution_count": 3,
   "id": "2d46b075",
   "metadata": {},
   "outputs": [
    {
     "name": "stdout",
     "output_type": "stream",
     "text": [
      "ave_spd(18, 20, 60) ➞ 30\n",
      "ave_spd(30, 10, 30) ➞ 15\n",
      "ave_spd(30, 8, 24) ➞ 12\n"
     ]
    }
   ],
   "source": [
    "def ave_spd(up_time,up_speed,down_speed):\n",
    "    distance = up_speed*(up_time/60)\n",
    "    down_time = distance/down_speed\n",
    "    output = (2*distance)/((up_time/60)+down_time)\n",
    "    print(f'ave_spd{up_time,up_speed,down_speed} ➞ {int(output)}')\n",
    "    \n",
    "ave_spd(18, 20, 60)\n",
    "ave_spd(30, 10, 30)\n",
    "ave_spd(30, 8, 24)"
   ]
  },
  {
   "cell_type": "markdown",
   "id": "7c315b0b",
   "metadata": {},
   "source": [
    "### 4. The Kempner Function, applied to a composite number, permits to find the smallest integer greater than zero whose factorial is exactly divided by the number.\n",
    "    kempner(6) ➞ 3\n",
    "    1! = 1 % 6 > 0\n",
    "    2! = 2 % 6 > 0\n",
    "    3! = 6 % 6 === 0\n",
    "\n",
    "    kempner(10) ➞ 5\n",
    "    1! = 1 % 10 > 0\n",
    "    2! = 2 % 10 > 0\n",
    "    3! = 6 % 10 > 0\n",
    "    4! = 24 % 10 > 0\n",
    "    5! = 120 % 10 === 0\n",
    "\n",
    "    A Kempner Function applied to a prime will always return the prime itself.\n",
    "    kempner(2) ➞ 2\n",
    "    kempner(5) ➞ 5\n",
    "\n",
    "    Given an integer n, implement a Kempner Function.\n",
    "\n",
    "    Examples:\n",
    "    kempner(6) ➞ 3\n",
    "    kempner(10) ➞ 5\n",
    "    kempner(2) ➞ 2"
   ]
  },
  {
   "cell_type": "code",
   "execution_count": 4,
   "id": "7295df42",
   "metadata": {},
   "outputs": [
    {
     "name": "stdout",
     "output_type": "stream",
     "text": [
      "kempner(6) ➞ 3\n",
      "kempner(10) ➞ 5\n",
      "kempner(5) ➞ 5\n",
      "kempner(2) ➞ 2\n"
     ]
    }
   ],
   "source": [
    "def kempner(num):\n",
    "    def factorial(num):\n",
    "        if num == 1:\n",
    "            return 1\n",
    "        else:\n",
    "            return num * factorial(num-1)\n",
    "    for i in range(1,num+1):\n",
    "        if factorial(i)%num == 0:\n",
    "            output = i\n",
    "            break\n",
    "    print(f'kempner({num}) ➞ {output}')\n",
    "            \n",
    "kempner(6)\n",
    "kempner(10)\n",
    "kempner(5)\n",
    "kempner(2)"
   ]
  },
  {
   "cell_type": "markdown",
   "id": "9d48f2c4",
   "metadata": {},
   "source": [
    "### 5. You work in a factory, and your job is to take items from a conveyor belt and pack them into boxes. Each box can hold a maximum of 10 kgs. Given a list containing the weight (in kg) of each item, how many boxes would you need to pack all of the items?\n",
    "    Examples:\n",
    "    boxes([2, 1, 2, 5, 4, 3, 6, 1, 1, 9, 3, 2]) ➞ 5\n",
    "##### Box 1 = [2, 1, 2, 5] (10kg)\n",
    "##### Box 2 = [4, 3] (7kg)\n",
    "##### Box 3 = [6, 1, 1] (8kg)\n",
    "##### Box 4 = [9] (9kg)\n",
    "##### Box 5 = [3, 2] (5kg)"
   ]
  },
  {
   "cell_type": "code",
   "execution_count": 5,
   "id": "9bb39e03",
   "metadata": {},
   "outputs": [
    {
     "name": "stdout",
     "output_type": "stream",
     "text": [
      "boxes([2, 1, 2, 5, 4, 3, 6, 1, 1, 9, 3, 2]) ➞ [[2, 1, 2, 5], [4, 3], [6, 1, 1], [9], [3, 2]] ➞ 5\n",
      "boxes([5, 5, 5, 5, 5, 5, 2, 3, 4, 5, 6]) ➞ [[5, 5], [5, 5], [5, 5], [2, 3, 4], [5, 6]] ➞ 5\n"
     ]
    }
   ],
   "source": [
    "def boxes(list1):\n",
    "    list_box = list1.copy()\n",
    "    output = []\n",
    "    temp = []\n",
    "    while True:\n",
    "        if len(list1) != 0:\n",
    "            if sum(temp) <= 10:\n",
    "                temp.append(list1.pop(0))\n",
    "            else:\n",
    "                list1.insert(0,temp.pop())\n",
    "                output.append(temp)\n",
    "                temp = []\n",
    "        else:\n",
    "            output.append(temp)\n",
    "            temp= []\n",
    "            break\n",
    "    print(f'boxes({list_box}) ➞ {output} ➞ {len(output)}')    \n",
    "    \n",
    "boxes([2, 1, 2, 5, 4, 3, 6, 1, 1, 9, 3, 2])\n",
    "boxes([5, 5, 5, 5, 5, 5, 2, 3, 4, 5, 6])"
   ]
  },
  {
   "cell_type": "code",
   "execution_count": null,
   "id": "8ac209dd",
   "metadata": {},
   "outputs": [],
   "source": []
  },
  {
   "cell_type": "code",
   "execution_count": null,
   "id": "33587125",
   "metadata": {},
   "outputs": [],
   "source": []
  }
 ],
 "metadata": {
  "kernelspec": {
   "display_name": "Python 3",
   "language": "python",
   "name": "python3"
  },
  "language_info": {
   "codemirror_mode": {
    "name": "ipython",
    "version": 3
   },
   "file_extension": ".py",
   "mimetype": "text/x-python",
   "name": "python",
   "nbconvert_exporter": "python",
   "pygments_lexer": "ipython3",
   "version": "3.8.8"
  }
 },
 "nbformat": 4,
 "nbformat_minor": 5
}
