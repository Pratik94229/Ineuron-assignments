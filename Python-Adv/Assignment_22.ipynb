{
 "cells": [
  {
   "cell_type": "markdown",
   "id": "0a4f9ab5",
   "metadata": {},
   "source": [
    "### 1. Create a class Smoothie and do the following:\n",
    "    Create an instance attribute called ingredients.\n",
    "    Create a get_cost method which calculates the total cost of the ingredients used to make the smoothie.\n",
    "    Create a get_price method which returns the number from get_cost plus the number from get_cost multiplied by 1.5. \n",
    "    Round to two decimal places.\n",
    "    Create a get_name method which gets the ingredients and puts them in alphabetical order into a nice descriptive \n",
    "    sentence. If there are multiple ingredients, add the word \"Fusion\" to the end but otherwise, add \"Smoothie\".\n",
    "    Remember to change \"-berries\" to \"-berry\". See the examples below.\n",
    "    Ingredient       Price\n",
    "    Strawberries   $1.50\n",
    "    Banana           $0.50\n",
    "    Mango           $2.50\n",
    "    Blueberries       $1.00\n",
    "    Raspberries       $1.00\n",
    "    Apple           $1.75\n",
    "    Pineapple       $3.50\n",
    "\n",
    "    Examples:\n",
    "\n",
    "    s1 = Smoothie([\"Banana\"])\n",
    "    s1.ingredients ➞ [\"Banana\"]\n",
    "    s1.get_cost() ➞ \"$0.50\"\n",
    "    s1.get_price() ➞ \"$1.25\"\n",
    "    s1.get_name() ➞ \"Banana Smoothie\"\n",
    "    s2 = Smoothie([\"Raspberries\", \"Strawberries\", \"Blueberries\"])\n",
    "    s2.ingredients ➞ [\"Raspberries\", \"Strawberries\", \"Blueberries\"]\n",
    "    s2.get_cost() ➞ \"$3.50\"\n",
    "    s2.get_price() ➞ \"$8.75\"\n",
    "    s2.get_name() ➞ \"Blueberry Raspberry Strawberry Fusion\""
   ]
  },
  {
   "cell_type": "code",
   "execution_count": 4,
   "id": "693bb537",
   "metadata": {},
   "outputs": [
    {
     "name": "stdout",
     "output_type": "stream",
     "text": [
      "s1.ingredients ➞ ['Banana']\n",
      "s1.get_cost() ➞ \"$0.5\"\n",
      "s1.get_price() ➞ \"$1.25\"\n",
      "s1.get_name() ➞ \"Banana Smoothie\"\n",
      "s2.ingredients ➞ ['Raspberries', 'Strawberries', 'Blueberries']\n",
      "s2.get_cost() ➞ \"$3.5\"\n",
      "s2.get_price() ➞ \"$8.75\"\n",
      "s2.get_name() ➞ \"Blueberry Raspberry Strawberry Fusion\"\n"
     ]
    }
   ],
   "source": [
    "import re\n",
    "class Smoothie:\n",
    "    ingredients_price = {\n",
    "        'Strawberries':1.50,\n",
    "        'Banana':0.50,\n",
    "        'Mango':2.50,\n",
    "        'Blueberries':1.00,\n",
    "        'Raspberries':1.00,\n",
    "        'Apple':1.75,\n",
    "        'Pineapple':3.50\n",
    "    }\n",
    "    def __init__(self,ingredients):\n",
    "        self.ingredients = ingredients\n",
    "        self.cost = 0\n",
    "    def get_cost(self):\n",
    "        for i in self.ingredients:\n",
    "            if i in Smoothie.ingredients_price:\n",
    "                self.cost += round(Smoothie.ingredients_price.get(i,0),2)\n",
    "        return '$'+str(self.cost)\n",
    "    def get_price(self):\n",
    "        self.price = round((self.cost*1.5)+(self.cost),2)\n",
    "        return '$'+str(self.price)\n",
    "    def get_name(self):\n",
    "        self.name = re.sub('berries','berry',' '.join(sorted(self.ingredients)))\n",
    "        self.name = self.name+' Smoothie' if len(self.ingredients) == 1 else self.name+' Fusion'\n",
    "        return self.name\n",
    "\n",
    "s1 = Smoothie([\"Banana\"])\n",
    "print(f's1.ingredients ➞ {s1.ingredients}')\n",
    "print(f's1.get_cost() ➞ \"{s1.get_cost()}\"')\n",
    "print(f's1.get_price() ➞ \"{s1.get_price()}\"')\n",
    "print(f's1.get_name() ➞ \"{s1.get_name()}\"')\n",
    "\n",
    "s2 = Smoothie([\"Raspberries\", \"Strawberries\", \"Blueberries\"])\n",
    "print(f's2.ingredients ➞ {s2.ingredients}')\n",
    "print(f's2.get_cost() ➞ \"{s2.get_cost()}\"')\n",
    "print(f's2.get_price() ➞ \"{s2.get_price()}\"')\n",
    "print(f's2.get_name() ➞ \"{s2.get_name()}\"')"
   ]
  },
  {
   "cell_type": "markdown",
   "id": "08151cf9",
   "metadata": {},
   "source": [
    "### 2. Your task is to write a program which allows teachers to create a multiple choice test in a class called Testpaper and to be also able to assign a minimum pass mark. The testpaper's subject should also be included. The attributes are in the following order:\n",
    "    subject\n",
    "    markscheme\n",
    "    pass_mark\n",
    "    As well as that, we need to create student objects to take the test itself! Create another class called Student and do\n",
    "    the following:\n",
    "\n",
    "    Create an attribute called tests_taken and set the default as 'No tests taken'.\n",
    "    Make a method called take_test(), which takes in the testpaper object they are completing and the student's answers.\n",
    "    Compare what they wrote to the mark scheme, and append to the/create a dictionary assigned to tests_taken in the way \n",
    "    as shown in the point below.\n",
    "    Each key in the dictionary should be the testpaper subject and each value should be a string in the format seen in the\n",
    "    examples below (whether or not the student has failed, and their percentage in brackets).\n",
    "    Examples:\n",
    "    paper1 = Testpaper(\"Maths\", [\"1A\", \"2C\", \"3D\", \"4A\", \"5A\"], \"60%\")  \n",
    "    paper2 = Testpaper(\"Chemistry\", [\"1C\", \"2C\", \"3D\", \"4A\"], \"75%\")  \n",
    "    paper3 = Testpaper(\"Computing\", [\"1D\", \"2C\", \"3C\", \"4B\", \"5D\", \"6C\", \"7A\"], \"75%\")\n",
    "\n",
    "    student1 = Student()   \n",
    "    student2 = Student()\n",
    "\n",
    "    student1.tests_taken ➞ \"No tests taken\"\n",
    "    student1.take_test(paper1, [\"1A\", \"2D\", \"3D\", \"4A\", \"5A\"])\n",
    "    student1.tests_taken ➞ {\"Maths\" : \"Passed! (80%)\"}\n",
    "\n",
    "    student2.take_test(paper2, [\"1C\", \"2D\", \"3A\", \"4C\"])\n",
    "    student2.take_test(paper3, [\"1A\", \"2C\", \"3A\", \"4C\", \"5D\", \"6C\", \"7B\"])\n",
    "    student2.tests_taken ➞ {\"Chemistry\" : \"Failed! (25%)\", \"Computing\" : \"Failed! (43%)\"}"
   ]
  },
  {
   "cell_type": "code",
   "execution_count": 5,
   "id": "60ed9622",
   "metadata": {},
   "outputs": [
    {
     "name": "stdout",
     "output_type": "stream",
     "text": [
      "student1.tests_taken ➞ \"No tests taken\"\n",
      "student1.tests_taken ➞ {'Maths': 'Passed! (80%)'}\n",
      "student2.tests_taken ➞ {'Chemistry': 'Failed! (25%)', 'Computing': 'Failed! (42%)'}\n"
     ]
    }
   ],
   "source": [
    "class Testpaper:\n",
    "    def __init__(self,subject,markscheme,pass_mark):\n",
    "        self.subject = subject\n",
    "        self.markscheme = markscheme\n",
    "        self.pass_mark = pass_mark\n",
    "        \n",
    "class Student:\n",
    "    def __init__(self):\n",
    "        self.tests_taken = \"No tests taken\"\n",
    "    def take_test(self,paper_name,student_response):\n",
    "        correct_responses = 0\n",
    "        for i in range(len(paper_name.markscheme)):\n",
    "            if paper_name.markscheme[i] == student_response[i]:\n",
    "                correct_responses +=1\n",
    "        ach_pass_mark = int(correct_responses/len(paper_name.markscheme)*100)\n",
    "        needed_pass_mark = int(paper_name.pass_mark.split(\"%\")[0])\n",
    "        if self.tests_taken == 'No tests taken':\n",
    "            self.tests_taken = {}\n",
    "        if ach_pass_mark >= needed_pass_mark:\n",
    "            self.tests_taken[paper_name.subject] = f\"Passed! ({str(ach_pass_mark)}%)\"\n",
    "        else:\n",
    "            self.tests_taken[paper_name.subject] = f'Failed! ({str(ach_pass_mark)}%)'\n",
    "        \n",
    "paper1 = Testpaper(\"Maths\", [\"1A\", \"2C\", \"3D\", \"4A\", \"5A\"], \"60%\")  \n",
    "paper2 = Testpaper(\"Chemistry\", [\"1C\", \"2C\", \"3D\", \"4A\"], \"75%\")  \n",
    "paper3 = Testpaper(\"Computing\", [\"1D\", \"2C\", \"3C\", \"4B\", \"5D\", \"6C\", \"7A\"], \"75%\")       \n",
    "\n",
    "student1 = Student()   \n",
    "student2 = Student()\n",
    "\n",
    "print(f'student1.tests_taken ➞ \"{student1.tests_taken}\"')\n",
    "student1.take_test(paper1, [\"1A\", \"2D\", \"3D\", \"4A\", \"5A\"])\n",
    "print(f'student1.tests_taken ➞ {student1.tests_taken}')\n",
    "\n",
    "student2.take_test(paper2, [\"1C\", \"2D\", \"3A\", \"4C\"])\n",
    "student2.take_test(paper3, [\"1A\", \"2C\", \"3A\", \"4C\", \"5D\", \"6C\", \"7B\"])\n",
    "print(f'student2.tests_taken ➞ {student2.tests_taken}')"
   ]
  },
  {
   "cell_type": "markdown",
   "id": "66848708",
   "metadata": {},
   "source": [
    "### 3. Due to unforseen circumstances in Suburbia, the trains will be delayed by a further 10 minutes.\n",
    "    Create a function that will help to plan out and manage these delays! Create a function called manage_delays that does\n",
    "    the following:\n",
    "\n",
    "    Parameters will be the train object, a destination and number of minutes the delay is.\n",
    "    Increment to the train object's expected_time by the delay, if the destination given is in the train object's \n",
    "    destinations.\n",
    "    Examples:\n",
    "    trains = [\n",
    "      Train([\"Townsville\", \"Suburbia\", \"Urbantska\"], \"13:04\"),\n",
    "      Train([\"Farmsdale\", \"Suburbia\", \"Lakeside Valley\"], \"13:20\"),\n",
    "      Train([\"Suburbia\", \"Townsville\", \"Lakeside Valley\"], \"13:22\")\n",
    "    ]\n",
    "\n",
    "    for t in trains:\n",
    "        manage_delays(t, \"Lakeside Valley\", 60)\n",
    "\n",
    "    trains[0].expected_time ➞ \"13:04\"\n",
    "    trains[1].expected_time ➞ \"14:20\"\n",
    "    trains[2].expected_time ➞ \"14:22\""
   ]
  },
  {
   "cell_type": "code",
   "execution_count": 6,
   "id": "27ffa457",
   "metadata": {},
   "outputs": [
    {
     "name": "stdout",
     "output_type": "stream",
     "text": [
      "trains[0].expected_time ➞ \"13:04\"\n",
      "trains[1].expected_time ➞ \"14:20\"\n",
      "trains[2].expected_time ➞ \"14:22\"\n"
     ]
    }
   ],
   "source": [
    "class Train:\n",
    "    def __init__(self,destination_list,expected_time):\n",
    "        self.destination_list = destination_list\n",
    "        self.expected_time = expected_time\n",
    "\n",
    "def manage_delays(train_obj,destination_point,delay):\n",
    "    if destination_point in train_obj.destination_list:\n",
    "        ex_time = train_obj.expected_time.split(\":\")\n",
    "        new_ex_time = str((int(ex_time[0])*60+int(ex_time[1])+int(delay))//60)+':'+str((int(ex_time[0])*60+int(ex_time[1])+int(delay))%60)\n",
    "        train_obj.expected_time = new_ex_time\n",
    "\n",
    "trains = [\n",
    "  Train([\"Townsville\", \"Suburbia\", \"Urbantska\"], \"13:04\"),\n",
    "  Train([\"Farmsdale\", \"Suburbia\", \"Lakeside Valley\"], \"13:20\"),\n",
    "  Train([\"Suburbia\", \"Townsville\", \"Lakeside Valley\"], \"13:22\")\n",
    "]\n",
    "\n",
    "for t in trains:\n",
    "    manage_delays(t, \"Lakeside Valley\", 60)\n",
    "        \n",
    "print(f'trains[0].expected_time ➞ \"{trains[0].expected_time}\"')    \n",
    "print(f'trains[1].expected_time ➞ \"{trains[1].expected_time}\"')    \n",
    "print(f'trains[2].expected_time ➞ \"{trains[2].expected_time}\"')    "
   ]
  },
  {
   "cell_type": "markdown",
   "id": "3f23b3db",
   "metadata": {},
   "source": [
    "### 4. Ted works as a computer programmer at Minecraft Inc. His boss has just given him an important assignment to update the code for the minecart tracks by the end of April. However, he has recently had to self-isolate due to Corvid-19 and has left the code for the tracks. BACK AT WORK!! He has the shorthand for the tracks he's supposed to look at, and where the carts are suppost to end up, but not the actual code.\n",
    "    He knows that:\n",
    "\n",
    "    \"-->\" = \"Speed-Up Track\" ⁠— If a minecart interacts with this track, it's velocity increases by 2.67 BPS unless it's at\n",
    "    its maximum speed of 8 BPS.\n",
    "    \"<-->\" = \"Powered Track\" ⁠— If a minecart interacts with this track, it's velocity remains the same.\n",
    "    \"<--\" = \"Slow-Down Track\" ⁠— If a minecart interacts with this track, it's velocity decreases by 2.67 BPS unless it's \n",
    "    velocity equals 0, at which point it stops.\n",
    "    \"---\" = \"Unpowered Track\" ⁠— If a minecart interacts with this track, it's velocity decreases by 1 BPS unless it's \n",
    "    velocity equals 0, at which point it stops.\n",
    "    Help Ted by writing a class for the tracks that interact with the provided Minecart class as shown above. And then \n",
    "    write a function that will take a list of the shorthand tracks and:\n",
    "\n",
    "    If the Minecart reaches the last peice of Track, return True.\n",
    "    Else return the index of the Track where the Minecart stops.\n",
    "    Examples:\n",
    "    mine_run([\"-->\", \"-->\", \"-->\", \"<--\", \"<--\", \"<--\"]) ➞ True\n",
    "    mine_run([\"-->\", \"<--\", \"-->\", \"-->\", \"<-->\", \"---\"]) ➞ 1"
   ]
  },
  {
   "cell_type": "code",
   "execution_count": 7,
   "id": "e20bf400",
   "metadata": {},
   "outputs": [
    {
     "name": "stdout",
     "output_type": "stream",
     "text": [
      "mine_run(['-->', '-->', '-->', '<--', '<--', '<--']) ➞ True\n",
      "mine_run(['-->', '<--', '-->', '-->', '<-->', '---']) ➞ 1\n"
     ]
    }
   ],
   "source": [
    "class minecraft:\n",
    "    def __init__(self,tracks):\n",
    "        self.tracks = tracks\n",
    "        \n",
    "def mine_run(tracks):\n",
    "    mine_vel = 0  \n",
    "    output = 0\n",
    "    for i in range(len(tracks)):\n",
    "        if tracks[i] == '-->':\n",
    "            if mine_vel+2.67 >= 8: mine_vel = 8 \n",
    "            else: mine_vel +=2.67\n",
    "        elif tracks[i] == '<-->': continue\n",
    "        elif tracks[i] == '<--':\n",
    "            if mine_vel-2.67 <= 0: output = True if i == len(tracks)-1 else i; break\n",
    "            else: mine_vel -=2.67\n",
    "        else:\n",
    "            if mine_vel-1 <= 0: output = True if i == len(tracks)-1 else i; break\n",
    "            else: mine_vel -=1        \n",
    "    return output\n",
    "\n",
    "mine_track_1 = minecraft([\"-->\", \"-->\", \"-->\", \"<--\", \"<--\", \"<--\"])\n",
    "print(f'mine_run({mine_track_1.tracks}) ➞ {mine_run(mine_track_1.tracks)}')\n",
    "mine_track_2 = minecraft([\"-->\", \"<--\", \"-->\", \"-->\", \"<-->\", \"---\"])\n",
    "print(f'mine_run({mine_track_2.tracks}) ➞ {mine_run(mine_track_2.tracks)}')"
   ]
  },
  {
   "cell_type": "code",
   "execution_count": null,
   "id": "e1b909ca",
   "metadata": {},
   "outputs": [],
   "source": []
  }
 ],
 "metadata": {
  "kernelspec": {
   "display_name": "Python 3",
   "language": "python",
   "name": "python3"
  },
  "language_info": {
   "codemirror_mode": {
    "name": "ipython",
    "version": 3
   },
   "file_extension": ".py",
   "mimetype": "text/x-python",
   "name": "python",
   "nbconvert_exporter": "python",
   "pygments_lexer": "ipython3",
   "version": "3.8.8"
  }
 },
 "nbformat": 4,
 "nbformat_minor": 5
}
