{
 "cells": [
  {
   "cell_type": "markdown",
   "id": "a5680141",
   "metadata": {},
   "source": [
    "### 1. Write four functions that directly mutate a list:\n",
    "    repeat(lst, n): Repeat lst n times.\n",
    "    add(lst, x): Adds x to the end of the lst.\n",
    "    remove(lst, m, n): Removes all elements between indices m and n inclusive in lst.\n",
    "    concat(lst, x): concatenates lst with x (another list).\n",
    "    Examples:\n",
    "    lst = [1, 2, 3, 4]\n",
    "    repeat(lst, 3) ➞ [1, 2, 3, 4, 1, 2, 3, 4, 1, 2, 3, 4]\n",
    "    add(lst, 1) ➞ [1, 2, 3, 4, 1, 2, 3, 4, 1, 2, 3, 4, 1]\n",
    "    remove(lst, 1, 12) ➞ [1]\n",
    "    concat(lst, [3, 4]) ➞ [1, 3, 4]"
   ]
  },
  {
   "cell_type": "code",
   "execution_count": 1,
   "id": "591aa4af",
   "metadata": {},
   "outputs": [
    {
     "name": "stdout",
     "output_type": "stream",
     "text": [
      "repeat(3) ➞ [1, 2, 3, 4, 1, 2, 3, 4, 1, 2, 3, 4]\n",
      "add(1) ➞ [1, 2, 3, 4, 1, 2, 3, 4, 1, 2, 3, 4, 1]\n",
      "remove(lst, 1, 12) ➞ [1]\n",
      "concat([3, 4]) ➞ [1, 3, 4]\n"
     ]
    }
   ],
   "source": [
    "lst = [1, 2, 3, 4]\n",
    "\n",
    "def repeat(num):\n",
    "    global lst\n",
    "    lst = lst*num\n",
    "    return lst\n",
    "\n",
    "def add(num):\n",
    "    global lst\n",
    "    lst.append(num)\n",
    "    return lst\n",
    "\n",
    "def remove(start,end):\n",
    "    global lst\n",
    "    for i in lst[start:end+1]:\n",
    "        lst.remove(i)\n",
    "    return lst\n",
    "\n",
    "def concat(list1):\n",
    "    global lst\n",
    "    lst = lst+list1\n",
    "    return lst\n",
    "\n",
    "print(f'repeat(3) ➞ {repeat(3)}')\n",
    "print(f'add(1) ➞ {add(1)}')\n",
    "print(f'remove(lst, 1, 12) ➞ {remove(1,12)}')\n",
    "print(f'concat([3, 4]) ➞ {concat([3, 4])}')"
   ]
  },
  {
   "cell_type": "markdown",
   "id": "16c3b846",
   "metadata": {},
   "source": [
    "### 2. The classic game of Mastermind is played on a tray on which the Mastermind conceals a code and the Guesser has 10 tries to guess it. The code is a sequence of 4 (or 6, sometimes more) pegs of different colors. Each guess is a corresponding sequence of 4 (or more) pegs of different colors. A guess is \"correct\" when the color of every peg in the guess exactly matches the corresponding peg in the Mastermind's code.\n",
    "    After each guess by the Guesser, the Mastermind will give a score comprising black & white pegs, not arranged in any \n",
    "    order:\n",
    "\n",
    "    Black peg == guess peg matches the color of a code peg in the same position.\n",
    "    White peg == guess peg matches the color of a code peg in another position.\n",
    "    Create a function that takes two strings, code and guess as arguments, and returns the score in a dictionary.\n",
    "\n",
    "    The code and guess are strings of numeric digits\n",
    "    The color of the pegs are represented by numeric digits\n",
    "    no \"peg\" may be double-scored\n",
    "    Examples:\n",
    "    guess_score(\"1423\", \"5678\") ➞ {\"black\": 0, \"white\": 0}\n",
    "    guess_score(\"1423\", \"2222\") ➞ {\"black\": 1, \"white\": 0}\n",
    "    guess_score(\"1423\", \"1234\") ➞ {\"black\": 1, \"white\": 3}\n",
    "    guess_score(\"1423\", \"2211\") ➞ {\"black\": 0, \"white\": 2}"
   ]
  },
  {
   "cell_type": "code",
   "execution_count": 2,
   "id": "a28b3204",
   "metadata": {},
   "outputs": [
    {
     "name": "stdout",
     "output_type": "stream",
     "text": [
      "guess_score('1423', '5678') ➞ {'black': 0, 'white': 0}\n",
      "guess_score('1423', '2222') ➞ {'black': 1, 'white': 0}\n",
      "guess_score('1423', '1234') ➞ {'black': 1, 'white': 3}\n",
      "guess_score('1423', '2211') ➞ {'black': 0, 'white': 2}\n"
     ]
    }
   ],
   "source": [
    "def guess_score(code,guess):\n",
    "    output = {\"black\":0,\"white\":0}\n",
    "    for i in range(len(code)): \n",
    "        if code[i] == guess[i]:\n",
    "            output['black'] += 1\n",
    "        elif code[i] in guess and i != guess.index(code[i]):\n",
    "            output['white'] += 1\n",
    "    print(f'guess_score{code,guess} ➞ {output}')\n",
    "        \n",
    "guess_score(\"1423\", \"5678\")\n",
    "guess_score(\"1423\", \"2222\")\n",
    "guess_score(\"1423\", \"1234\") \n",
    "guess_score(\"1423\", \"2211\")"
   ]
  },
  {
   "cell_type": "markdown",
   "id": "41c654a6",
   "metadata": {},
   "source": [
    "### 3. Create a function that takes a list lst and a number N and returns a list of two integers from lst whose product equals N.\n",
    "    Examples\n",
    "    two_product([1, 2, -1, 4, 5], 20) ➞ [4, 5]\n",
    "    two_product([1, 2, 3, 4, 5], 10) ➞ [2, 5]\n",
    "    two_product([100, 12, 4, 1, 2], 15) ➞ None"
   ]
  },
  {
   "cell_type": "code",
   "execution_count": 3,
   "id": "6a639c77",
   "metadata": {},
   "outputs": [
    {
     "name": "stdout",
     "output_type": "stream",
     "text": [
      "two_product([1, 2, -1, 4, 5]) ➞ [4, 5]\n",
      "two_product([1, 2, 3, 4, 5]) ➞ [2, 5]\n",
      "two_product([100, 12, 4, 1, 2]) ➞ None\n"
     ]
    }
   ],
   "source": [
    "def two_product(lst,num):\n",
    "    output = None\n",
    "    for i in lst:\n",
    "        for j in lst:\n",
    "            if i*j == num:\n",
    "                output = sorted([i,j])\n",
    "                break\n",
    "    print(f'two_product({lst}) ➞ {output}')\n",
    "    \n",
    "two_product([1, 2, -1, 4, 5], 20)\n",
    "two_product([1, 2, 3, 4, 5], 10)\n",
    "two_product([100, 12, 4, 1, 2], 15)"
   ]
  },
  {
   "cell_type": "markdown",
   "id": "41588119",
   "metadata": {},
   "source": [
    "### 4. In this challenge, sort a list containing a series of dates given as strings. Each date is given in the format DD-MM-YYYY_HH:MM:\n",
    "    \"12-02-2012_13:44\"\n",
    "\n",
    "    The priority of criteria used for sorting will be:\n",
    "    Year\n",
    "    Month\n",
    "    Day\n",
    "    Hours\n",
    "    Minutes\n",
    "    Given a list lst and a string mode, implement a function that returns:\n",
    "\n",
    "    if mode is equal to \"ASC\", the list lst sorted in ascending order.\n",
    "    if mode is equal to \"DSC\", the list lst sorted in descending order.\n",
    "    Examples:\n",
    "\n",
    "    sort_dates([\"10-02-2018_12:30\", \"10-02-2016_12:30\", \"10-02-2018_12:15\"], \"ASC\") ➞ [\"10-02-2016_12:30\", \"10-02-\n",
    "    2018_12:15\", \"10-02-2018_12:30\"]\n",
    "\n",
    "    sort_dates([\"10-02-2018_12:30\", \"10-02-2016_12:30\", \"10-02-2018_12:15\"], \"DSC\") ➞ [\"10-02-2018_12:30\", \"10-02-\n",
    "    2018_12:15\", \"10-02-2016_12:30\"]\n",
    "\n",
    "    sort_dates([\"09-02-2000_10:03\", \"10-02-2000_18:29\", \"01-01-1999_00:55\"], \"ASC\") ➞ [\"01-01-1999_00:55\", \"09-02-\n",
    "    2000_10:03\", \"10-02-2000_18:29\"]"
   ]
  },
  {
   "cell_type": "code",
   "execution_count": 4,
   "id": "77ed3d8e",
   "metadata": {},
   "outputs": [
    {
     "name": "stdout",
     "output_type": "stream",
     "text": [
      "sort_dates(['10-02-2018_12:30', '10-02-2016_12:30', '10-02-2018_12:15'], 'ASC')➞ ['10-02-2016_12:30', '10-02-2018_12:15', '10-02-2018_12:30']\n",
      "sort_dates(['10-02-2018_12:30', '10-02-2016_12:30', '10-02-2018_12:15'], 'DSC')➞ ['10-02-2018_12:30', '10-02-2018_12:15', '10-02-2016_12:30']\n",
      "sort_dates(['09-02-2000_10:03', '10-02-2000_18:29', '01-01-1999_00:55'], 'ASC')➞ ['01-01-1999_00:55', '09-02-2000_10:03', '10-02-2000_18:29']\n"
     ]
    }
   ],
   "source": [
    "from datetime import datetime\n",
    "def sort_dates(lst,sort_by):\n",
    "    lst_cop = lst.copy()\n",
    "    list_unix = []\n",
    "    for i in lst:\n",
    "        list_unix.append(datetime.strptime(i, \"%d-%m-%Y_%H:%M\").timestamp())\n",
    "    list_unix = sorted(list_unix) if sort_by == 'ASC' else sorted(list_unix, reverse=True)\n",
    "    output = []\n",
    "    for i in list_unix:\n",
    "        output.append(datetime.fromtimestamp(i).strftime(\"%d-%m-%Y_%H:%M\"))\n",
    "    print(f'sort_dates{lst,sort_by}➞ {output}')\n",
    "\n",
    "sort_dates([\"10-02-2018_12:30\", \"10-02-2016_12:30\", \"10-02-2018_12:15\"], \"ASC\")\n",
    "sort_dates([\"10-02-2018_12:30\", \"10-02-2016_12:30\", \"10-02-2018_12:15\"], \"DSC\")\n",
    "sort_dates([\"09-02-2000_10:03\", \"10-02-2000_18:29\", \"01-01-1999_00:55\"], \"ASC\")"
   ]
  },
  {
   "cell_type": "markdown",
   "id": "b9ee6fda",
   "metadata": {},
   "source": [
    "### 5. Write a function that selects all words that have all the same vowels (in any order and/or number) as the first word, including the first word.\n",
    "    Examples:\n",
    "    same_vowel_group([\"toe\", \"ocelot\", \"maniac\"]) ➞ [\"toe\", \"ocelot\"]\n",
    "    same_vowel_group([\"many\", \"carriage\", \"emit\", \"apricot\", \"animal\"]) ➞ [\"many\", \"carriage\", \"apricot\", \"animal\"]\n",
    "    same_vowel_group([\"hoops\", \"chuff\", \"bot\", \"bottom\"]) ➞ [\"hoops\", \"bot\", \"bottom\"]"
   ]
  },
  {
   "cell_type": "code",
   "execution_count": 6,
   "id": "ce23f9ca",
   "metadata": {},
   "outputs": [
    {
     "name": "stdout",
     "output_type": "stream",
     "text": [
      "same_vowel_group(['toe', 'ocelot', 'maniac']) ➞ ['toe', 'ocelot']\n",
      "same_vowel_group(['many', 'carriage', 'emit', 'apricot', 'animal']) ➞ ['many', 'carriage', 'apricot', 'animal']\n",
      "same_vowel_group(['hoops', 'chuff', 'bot', 'bottom']) ➞ ['hoops', 'bot', 'bottom']\n"
     ]
    }
   ],
   "source": [
    "def same_vowel_group(lst):\n",
    "    vowels = ['a','e','i','o','u']\n",
    "    first_ele = sorted(set([x for x in lst[0] if x in vowels]))\n",
    "    output = []\n",
    "    for i in range(0,len(lst)):\n",
    "        vowels_in_word = [x for x in lst[i] if x in first_ele]\n",
    "        if sorted(first_ele) == sorted(set(vowels_in_word)):\n",
    "            output.append(lst[i])\n",
    "    print(f'same_vowel_group({lst}) ➞ {output}')\n",
    "    \n",
    "same_vowel_group([\"toe\", \"ocelot\", \"maniac\"])\n",
    "same_vowel_group([\"many\", \"carriage\", \"emit\", \"apricot\", \"animal\"])\n",
    "same_vowel_group([\"hoops\", \"chuff\", \"bot\", \"bottom\"])"
   ]
  },
  {
   "cell_type": "markdown",
   "id": "c9599947",
   "metadata": {},
   "source": [
    "### 6. Create a function that takes a list of more than three numbers and returns the Least Common Multiple (LCM).\n",
    "    Examples:\n",
    "    lcm_of_list([1, 2, 3, 4, 5, 6, 7, 8, 9, 10]) ➞ 2520\n",
    "    lcm_of_list([13, 6, 17, 18, 19, 20, 37]) ➞ 27965340\n",
    "    lcm_of_list([44, 64, 12, 17, 65]) ➞ 2333760"
   ]
  },
  {
   "cell_type": "code",
   "execution_count": 7,
   "id": "c9320d39",
   "metadata": {},
   "outputs": [
    {
     "name": "stdout",
     "output_type": "stream",
     "text": [
      "lcm_of_list([1, 2, 3, 4, 5, 6, 7, 8, 9, 10]) ➞ 2520\n",
      "lcm_of_list([13, 6, 17, 18, 19, 20, 37]) ➞ 27965340\n",
      "lcm_of_list([44, 64, 12, 17, 65]) ➞ 2333760\n"
     ]
    }
   ],
   "source": [
    "import math\n",
    "def lcm_of_list(lst):\n",
    "    output = lst[0]\n",
    "    for i in range(1,len(lst)):\n",
    "        output = (output*lst[i])//math.gcd(output,lst[i])\n",
    "    print(f'lcm_of_list({lst}) ➞ {output}')\n",
    "    \n",
    "lcm_of_list([1, 2, 3, 4, 5, 6, 7, 8, 9, 10])\n",
    "lcm_of_list([13, 6, 17, 18, 19, 20, 37])\n",
    "lcm_of_list([44, 64, 12, 17, 65])"
   ]
  },
  {
   "cell_type": "code",
   "execution_count": null,
   "id": "5e6d9ca5",
   "metadata": {},
   "outputs": [],
   "source": []
  }
 ],
 "metadata": {
  "kernelspec": {
   "display_name": "Python 3",
   "language": "python",
   "name": "python3"
  },
  "language_info": {
   "codemirror_mode": {
    "name": "ipython",
    "version": 3
   },
   "file_extension": ".py",
   "mimetype": "text/x-python",
   "name": "python",
   "nbconvert_exporter": "python",
   "pygments_lexer": "ipython3",
   "version": "3.8.8"
  }
 },
 "nbformat": 4,
 "nbformat_minor": 5
}
