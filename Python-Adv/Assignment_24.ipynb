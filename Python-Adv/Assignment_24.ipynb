{
 "cells": [
  {
   "cell_type": "markdown",
   "id": "d9ba621c",
   "metadata": {},
   "source": [
    "### 1. Implement a class iterator to flatten a nested list of lists of integers. Each list element is either an integer or a list. There can be many levels of nested lists in lists.\n",
    "    The class initializes with a nested list. It also has two methods:\n",
    "\n",
    "    next() returns an integer in the order of appearance.\n",
    "    hasNext() returns True / False regarding if all integers have been retrieved or not.\n",
    "    Write the Class implementation for three required methods.\n",
    "\n",
    "    Examples:\n",
    "\n",
    "    ni, actual = NestedIterator([[1, 1], 2, [1, 1]]), []\n",
    "    while ni.hasNext():\n",
    "        actual.append(ni.next())\n",
    "    actual ➞ [1, 1, 2, 1, 1]\n",
    "\n",
    "    ni, actual = NestedIterator([1, [4, [6]]]), []\n",
    "    while ni.hasNext():\n",
    "        actual.append(ni.next())\n",
    "    actual ➞ [1, 4, 6]\n",
    "\n",
    "    ni, actual = NestedIterator([[[]], []]), []\n",
    "    while ni.hasNext():\n",
    "        actual.append(ni.next()"
   ]
  },
  {
   "cell_type": "code",
   "execution_count": 1,
   "id": "d9dd2c43",
   "metadata": {},
   "outputs": [
    {
     "name": "stdout",
     "output_type": "stream",
     "text": [
      "actual ➞ [1, 1, 2, 1, 1]\n",
      "actual ➞ [1, 4, 6]\n",
      "actual ➞ []\n"
     ]
    }
   ],
   "source": [
    "class NestedIterator:\n",
    "    def __init__(self,lst):\n",
    "        self.list = lst\n",
    "        self.flatten_list = []\n",
    "        self.test(self.list)\n",
    "    \n",
    "    def test(self,lst):\n",
    "        for i in lst:\n",
    "            if isinstance(i,int):\n",
    "                self.flatten_list.append(i)\n",
    "            else:\n",
    "                self.test(i)\n",
    "                \n",
    "    def hasNext(self):\n",
    "        return True if len(self.flatten_list) > 0 else False\n",
    "    \n",
    "    def next(self):\n",
    "        return self.flatten_list.pop(0)\n",
    "    \n",
    "ni, actual = NestedIterator([[1, 1], 2, [1, 1]]), []\n",
    "while ni.hasNext():\n",
    "    actual.append(ni.next())\n",
    "print(f'actual ➞ {actual}')\n",
    "\n",
    "ni, actual = NestedIterator([1, [4, [6]]]), []\n",
    "while ni.hasNext():\n",
    "    actual.append(ni.next())\n",
    "print(f'actual ➞ {actual}')\n",
    "\n",
    "ni, actual = NestedIterator([[[]], []]), []\n",
    "while ni.hasNext():\n",
    "    actual.append(ni.next())\n",
    "print(f'actual ➞ {actual}')"
   ]
  },
  {
   "cell_type": "markdown",
   "id": "c9a91e31",
   "metadata": {},
   "source": [
    "### 2. Given a 3x3 matrix of a completed tic-tac-toe game, create a function that returns whether the game is a win for \"X\", \"O\", or a \"Draw\", where \"X\" and \"O\" represent themselves on the matrix, and \"E\" represents an empty spot.\n",
    "    Examples:\n",
    "    tic_tac_toe([\n",
    "      [\"X\", \"O\", \"X\"],\n",
    "      [\"O\", \"X\",  \"O\"],\n",
    "      [\"O\", \"X\",  \"X\"]\n",
    "    ]) ➞ \"X\"\n",
    "\n",
    "    tic_tac_toe([\n",
    "      [\"O\", \"O\", \"O\"],\n",
    "      [\"O\", \"X\", \"X\"],\n",
    "      [\"E\", \"X\", \"X\"]\n",
    "    ]) ➞ \"O\"\n",
    "\n",
    "    tic_tac_toe([\n",
    "      [\"X\", \"X\", \"O\"],\n",
    "      [\"O\", \"O\", \"X\"],\n",
    "      [\"X\", \"X\", \"O\"]\n",
    "    ]) ➞ \"Draw\""
   ]
  },
  {
   "cell_type": "code",
   "execution_count": 6,
   "id": "9803cef8",
   "metadata": {},
   "outputs": [
    {
     "name": "stdout",
     "output_type": "stream",
     "text": [
      "tic_tac_toe([['X', 'O', 'X'], ['O', 'X', 'O'], ['O', 'X', 'X']]) ➞ \"X\"\n",
      "tic_tac_toe([['O', 'O', 'O'], ['O', 'X', 'X'], ['E', 'X', 'X']]) ➞ \"O\"\n",
      "tic_tac_toe([['X', 'X', 'O'], ['O', 'O', 'X'], ['X', 'X', 'O']]) ➞ \"Draw\"\n",
      "tic_tac_toe([['X', 'X', 'O'], ['X', 'O', 'X'], ['X', 'O', 'O']]) ➞ \"X\"\n",
      "tic_tac_toe([['O', 'O', 'X'], ['O', 'X', 'O'], ['X', 'O', 'O']]) ➞ \"X\"\n"
     ]
    }
   ],
   "source": [
    "def tic_tac_toe(lst1):\n",
    "    output = None  \n",
    "    for k in lst1:\n",
    "        if len(list(set(k))) == 1:\n",
    "            output = list(set(k))[0]\n",
    "            break   \n",
    "    if output == None:\n",
    "        for i in range(len(lst1)):\n",
    "            temp = []\n",
    "            for j in range(len(lst1)): temp.append(lst1[j][i])\n",
    "            if len(list(set(temp))) == 1: output = list(set(temp))[0]\n",
    "    if output == None:\n",
    "        temp = []\n",
    "        for k in [0,1,2]:\n",
    "            temp.append(lst1[k][k])\n",
    "        if len(list(set(temp))) == 1: output = list(set(temp))[0]\n",
    "    if output == None:\n",
    "        temp = []\n",
    "        for i in [0,1,2]:\n",
    "            for j in [0,1,2]:\n",
    "                if sum([i,j]) == 2: temp.append(lst1[i][j])\n",
    "        if len(list(set(temp))) == 1: output = list(set(temp))[0]\n",
    "    if output == None: output = 'Draw'\n",
    "    print(f'tic_tac_toe({lst1}) ➞ \"{output}\"')\n",
    "            \n",
    "tic_tac_toe([[\"X\", \"O\", \"X\"],[\"O\", \"X\", \"O\"],[\"O\", \"X\", \"X\"]])\n",
    "tic_tac_toe([[\"O\", \"O\", \"O\"],[\"O\",\"X\", \"X\"],[\"E\", \"X\", \"X\"]])\n",
    "tic_tac_toe([[\"X\", \"X\", \"O\"],[\"O\", \"O\", \"X\"],[\"X\", \"X\", \"O\"]])\n",
    "tic_tac_toe([[\"X\", \"X\", \"O\"],[\"X\", \"O\", \"X\"],[\"X\", \"O\", \"O\"]])\n",
    "tic_tac_toe([[\"O\", \"O\", \"X\"],[\"O\", \"X\", \"O\"],[\"X\", \"O\", \"O\"]])"
   ]
  },
  {
   "cell_type": "markdown",
   "id": "34b5172e",
   "metadata": {},
   "source": [
    "### 3. Your computer might have been infected by a virus! Create a function that finds the viruses in files and removes them from your computer.\n",
    "    Examples:\n",
    "    remove_virus(\"PC Files: spotifysetup.exe, virus.exe, dog.jpg\") ➞ \"PC Files: spotifysetup.exe, dog.jpg\"\n",
    "    remove_virus(\"PC Files: antivirus.exe, cat.pdf, lethalmalware.exe, dangerousvirus.exe \") ➞ \"PC Files: antivirus.exe, \n",
    "    cat.pdf\" remove_virus(\"PC Files: notvirus.exe, funnycat.gif\") ➞ \"PC Files: notvirus.exe, funnycat.gif\")"
   ]
  },
  {
   "cell_type": "code",
   "execution_count": 7,
   "id": "b0ec63ec",
   "metadata": {},
   "outputs": [
    {
     "name": "stdout",
     "output_type": "stream",
     "text": [
      "remove_virus(PC Files: spotifysetup.exe, virus.exe, dog.jpg) ➞ \"PC Files: spotifysetup.exe, dog.jpg\"\n",
      "remove_virus(PC Files: antivirus.exe, cat.pdf, lethalmalware.exe, dangerousvirus.exe ) ➞ \"PC Files: antivirus.exe, cat.pdf\"\n",
      "remove_virus(PC Files: notvirus.exe, funnycat.gif) ➞ \"PC Files: notvirus.exe, funnycat.gif\"\n"
     ]
    }
   ],
   "source": [
    "import re\n",
    "def remove_virus(string):\n",
    "    in_list = [x.strip() for x in re.split(\", \",string)]\n",
    "    output = []\n",
    "    for i in in_list:\n",
    "        if i not in ['virus.exe','dangerousvirus.exe','lethalmalware.exe']:\n",
    "            output.append(i)\n",
    "    print(f'remove_virus({string}) ➞ \"{\", \".join(output)}\"')\n",
    "    \n",
    "remove_virus(\"PC Files: spotifysetup.exe, virus.exe, dog.jpg\")\n",
    "remove_virus(\"PC Files: antivirus.exe, cat.pdf, lethalmalware.exe, dangerousvirus.exe \")\n",
    "remove_virus(\"PC Files: notvirus.exe, funnycat.gif\")"
   ]
  },
  {
   "cell_type": "markdown",
   "id": "b9d2056b",
   "metadata": {},
   "source": [
    "### 4. In a video game, a meteor will fall toward the main character's home planet. Given the meteor's trajectory as a string in the form y = mx + b and the character's position as a tuple of (x, y), return True if the meteor will hit the character and False if it will not.\n",
    "    Examples:\n",
    "    will_hit(\"y = 2x - 5\", (0, 0)) ➞ False\n",
    "    will_hit(\"y = -4x + 6\", (1, 2)) ➞ True\n",
    "    will_hit(\"y = 2x + 6\", (3, 2)) ➞ False"
   ]
  },
  {
   "cell_type": "code",
   "execution_count": 8,
   "id": "9b13d72d",
   "metadata": {},
   "outputs": [
    {
     "name": "stdout",
     "output_type": "stream",
     "text": [
      "will_hit('y = 2x - 5', (0, 0)) ➞ False\n",
      "will_hit('y = -4x + 6', (1, 2)) ➞ True\n",
      "will_hit('y = 2x + 6', (3, 2)) ➞ False\n"
     ]
    }
   ],
   "source": [
    "def will_hit(in_eq,in_loc):\n",
    "    in_eq_list = in_eq.split(\" \")\n",
    "    temp_list = []\n",
    "    for i in in_eq_list:\n",
    "        if 'x' in i or 'y'in i:\n",
    "            if len(i) == 1:\n",
    "                temp_list.append(i.replace('x',str(in_loc[0]))) if 'x' in i else temp_list.append(i.replace('y',str(in_loc[1])))\n",
    "            else:\n",
    "                temp_list.append(i.replace('x',f'*{in_loc[0]}')) if 'x' in i else temp_list.append(i.replace('y',f'*{in_loc[1]}'))\n",
    "        else:\n",
    "            temp_list.append(\"==\") if i == \"=\" else temp_list.append(i)\n",
    "    print(f'will_hit{in_eq,in_loc} ➞ {eval(\" \".join(temp_list))}')\n",
    "\n",
    "will_hit(\"y = 2x - 5\", (0, 0))\n",
    "will_hit(\"y = -4x + 6\", (1, 2))\n",
    "will_hit(\"y = 2x + 6\", (3, 2))"
   ]
  },
  {
   "cell_type": "code",
   "execution_count": null,
   "id": "9cce6626",
   "metadata": {},
   "outputs": [],
   "source": []
  }
 ],
 "metadata": {
  "kernelspec": {
   "display_name": "Python 3",
   "language": "python",
   "name": "python3"
  },
  "language_info": {
   "codemirror_mode": {
    "name": "ipython",
    "version": 3
   },
   "file_extension": ".py",
   "mimetype": "text/x-python",
   "name": "python",
   "nbconvert_exporter": "python",
   "pygments_lexer": "ipython3",
   "version": "3.8.8"
  }
 },
 "nbformat": 4,
 "nbformat_minor": 5
}
