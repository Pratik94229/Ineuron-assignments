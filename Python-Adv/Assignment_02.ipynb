{
 "cells": [
  {
   "cell_type": "markdown",
   "id": "cd14bd16",
   "metadata": {},
   "source": [
    "### 2. Make a function that encrypts a given input with these steps:\n",
    "    Input: \"apple\"\n",
    "    Step 1: Reverse the input: \"elppa\"\n",
    "    Step 2: Replace all vowels using the following chart:\n",
    "    a => 0\n",
    "    e => 1\n",
    "    i => 2\n",
    "    o => 2\n",
    "    u => 3\n",
    "    # \"1lpp0\"\n",
    "    Step 3: Add \"aca\" to the end of the word: \"1lpp0aca\"\n",
    "    Output: \"1lpp0aca\"\n",
    "    Examples:\n",
    "    encrypt(\"banana\") ➞ \"0n0n0baca\"\n",
    "    encrypt(\"karaca\") ➞ \"0c0r0kaca\"\n",
    "    encrypt(\"burak\") ➞ \"k0r3baca\"\n",
    "    encrypt(\"alpaca\") ➞ \"0c0pl0aca\""
   ]
  },
  {
   "cell_type": "code",
   "execution_count": 1,
   "id": "17064bc2",
   "metadata": {},
   "outputs": [
    {
     "name": "stdout",
     "output_type": "stream",
     "text": [
      "encrypt(banana) ➞ 0n0n0baca\n",
      "encrypt(karaca) ➞ 0c0r0kaca\n",
      "encrypt(burak) ➞ k0r2baca\n",
      "encrypt(alpaca) ➞ 0c0pl0aca\n"
     ]
    }
   ],
   "source": [
    "def encrypt(strg):\n",
    "    vowels = {'a':'0','e':'1','i':'2','o':'2','u':'2'}\n",
    "    out = ''\n",
    "    for i in strg[::-1]:\n",
    "        if i in vowels.keys():\n",
    "            out += vowels[i]\n",
    "        else:\n",
    "            out += i\n",
    "    out += \"aca\"\n",
    "    print(f'encrypt({strg}) ➞ {out}')\n",
    "        \n",
    "encrypt(\"banana\")\n",
    "encrypt(\"karaca\")\n",
    "encrypt(\"burak\")\n",
    "encrypt(\"alpaca\") "
   ]
  },
  {
   "cell_type": "markdown",
   "id": "aba6882f",
   "metadata": {},
   "source": [
    "### 3.Given the month and year as numbers, return whether that month contains a Friday 13th.(i.e You can check Python's datetime module)\n",
    "    Examples:\n",
    "    has_friday_13(3, 2020) ➞ True\n",
    "    has_friday_13(10, 2017) ➞ True\n",
    "    has_friday_13(1, 1985) ➞ False"
   ]
  },
  {
   "cell_type": "code",
   "execution_count": 2,
   "id": "d3e50e68",
   "metadata": {},
   "outputs": [
    {
     "name": "stdout",
     "output_type": "stream",
     "text": [
      "has_friday_13(3, 2020) ➞ True\n",
      "has_friday_13(10, 2017) ➞ True\n",
      "has_friday_13(1, 1985) ➞ False\n"
     ]
    }
   ],
   "source": [
    "import datetime\n",
    "def has_friday_13(month,year):\n",
    "    output = False\n",
    "    if datetime.datetime(year,month,13).strftime('%A') == 'Friday':\n",
    "        output = True\n",
    "    print(f'has_friday_13{month,year} ➞ {output}')\n",
    "\n",
    "has_friday_13(3, 2020)\n",
    "has_friday_13(10, 2017)\n",
    "has_friday_13(1, 1985)"
   ]
  },
  {
   "cell_type": "markdown",
   "id": "04e9f2c6",
   "metadata": {},
   "source": [
    "### 4.Write a regular expression that will help us count how many bad cookies are produced every day. You must use RegEx negative lookbehind.\n",
    "    Examples:\n",
    "    lst = [\"bad cookie\", \"good cookie\", \"bad cookie\", \"good cookie\", \"good cookie\"]\n",
    "    pattern = \"yourregularexpressionhere\"\n",
    "    len(re.findall(pattern, \", \".join(lst))) ➞ 2"
   ]
  },
  {
   "cell_type": "code",
   "execution_count": 3,
   "id": "c7394cd7",
   "metadata": {},
   "outputs": [
    {
     "name": "stdout",
     "output_type": "stream",
     "text": [
      "No of Bad cookies produced per day ➞ 2\n"
     ]
    }
   ],
   "source": [
    "import re\n",
    "lst = [\"bad cookie\", \"good cookie\", \"bad cookie\", \"good cookie\", \"good cookie\"]\n",
    "pattern = r'(?<!good)\\scookie'\n",
    "data = re.findall(pattern,' '.join(lst))\n",
    "print(f'No of Bad cookies produced per day ➞ {len(data)}')"
   ]
  },
  {
   "cell_type": "markdown",
   "id": "2484f29d",
   "metadata": {},
   "source": [
    "### 5.Given a list of words in the singular form, return a set of those words in the plural form if they appear more than once in the list.\n",
    "    Examples:\n",
    "    pluralize([\"cow\", \"pig\", \"cow\", \"cow\"]) ➞ { \"cows\", \"pig\" }\n",
    "    pluralize([\"table\", \"table\", \"table\"]) ➞ { \"tables\" }\n",
    "    pluralize([\"chair\", \"pencil\", \"arm\"]) ➞ { \"chair\", \"pencil\", \"arm\" }"
   ]
  },
  {
   "cell_type": "code",
   "execution_count": 4,
   "id": "0e5ff0d3",
   "metadata": {},
   "outputs": [
    {
     "name": "stdout",
     "output_type": "stream",
     "text": [
      "pluralize(['cow', 'pig', 'cow', 'cow'])  ➞ {'cows', 'pig'}\n",
      "pluralize(['table', 'table', 'table'])  ➞ {'tables'}\n",
      "pluralize(['chair', 'pencil', 'arm'])  ➞ {'arm', 'pencil', 'chair'}\n"
     ]
    }
   ],
   "source": [
    "def pluralize(list1):\n",
    "    out = set()\n",
    "    for i in set(list1):\n",
    "        if list1.count(i) > 1:\n",
    "            out.add(i+'s')\n",
    "        else:\n",
    "            out.add(i)\n",
    "    print(f'pluralize({list1})  ➞ {out}')\n",
    "    \n",
    "pluralize([\"cow\", \"pig\", \"cow\", \"cow\"])\n",
    "pluralize([\"table\", \"table\", \"table\"])\n",
    "pluralize([\"chair\", \"pencil\", \"arm\"]) "
   ]
  },
  {
   "cell_type": "code",
   "execution_count": null,
   "id": "b83cbb9d",
   "metadata": {},
   "outputs": [],
   "source": []
  }
 ],
 "metadata": {
  "kernelspec": {
   "display_name": "Python 3",
   "language": "python",
   "name": "python3"
  },
  "language_info": {
   "codemirror_mode": {
    "name": "ipython",
    "version": 3
   },
   "file_extension": ".py",
   "mimetype": "text/x-python",
   "name": "python",
   "nbconvert_exporter": "python",
   "pygments_lexer": "ipython3",
   "version": "3.8.8"
  }
 },
 "nbformat": 4,
 "nbformat_minor": 5
}
