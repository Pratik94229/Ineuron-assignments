{
 "cells": [
  {
   "cell_type": "markdown",
   "id": "37a4d32c",
   "metadata": {},
   "source": [
    "### 1.Create a function to perform basic arithmetic operations that includes addition, subtraction, multiplication and division on a string number (e.g. \"12 + 24\" or \"23 - 21\" or \"12 // 12\" or \"12 * 21\").\n",
    "    Here, we have 1 followed by a space, operator followed by another space and 2. For the challenge, we are going to have \n",
    "    only two numbers between 1 valid operator. The return value should be a number.\n",
    "    eval() is not allowed. In case of division, whenever the second number equals \"0\" return -1.\n",
    "    For example: \"15 // 0\"  ➞ -1\n",
    "    Examples:\n",
    "    arithmetic_operation(\"12 + 12\") ➞ 24 // 12 + 12 = 24\n",
    "    arithmetic_operation(\"12 - 12\") ➞ 24 // 12 - 12 = 0\n",
    "    arithmetic_operation(\"12 * 12\") ➞ 144 // 12 * 12 = 144\n",
    "    arithmetic_operation(\"12 // 0\") ➞ -1 // 12 / 0 = -1"
   ]
  },
  {
   "cell_type": "code",
   "execution_count": 1,
   "id": "6bce72bd",
   "metadata": {},
   "outputs": [
    {
     "name": "stdout",
     "output_type": "stream",
     "text": [
      "arithmetic_operation(12 + 12) ➞ 24\n",
      "arithmetic_operation(12 - 12) ➞ 0\n",
      "arithmetic_operation(12 * 12) ➞ 144\n",
      "arithmetic_operation(12 // 0) ➞ -1\n"
     ]
    }
   ],
   "source": [
    "import operator\n",
    "\n",
    "oprn = {'+':operator.add,'-':operator.sub,'*':operator.mul,'//':operator.floordiv}\n",
    "\n",
    "def arithmetic_operation(strg):\n",
    "    list2 = strg.split(\" \")\n",
    "    output = oprn[list2[1]](int(list2[0]),int(list2[2])) if int(list2[2]) != 0 else -1\n",
    "    print(f'arithmetic_operation({list2[0]} {list2[1]} {list2[2]}) ➞ {output}')\n",
    "    \n",
    "arithmetic_operation(\"12 + 12\")\n",
    "arithmetic_operation(\"12 - 12\")\n",
    "arithmetic_operation(\"12 * 12\")\n",
    "arithmetic_operation(\"12 // 0\")"
   ]
  },
  {
   "cell_type": "markdown",
   "id": "06bb343c",
   "metadata": {},
   "source": [
    "### 2.Write a function that takes the coordinates of three points in the form of a 2d array and returns the perimeter of the triangle. The given points are the vertices of a triangle on a two-dimensional plane.\n",
    "    Examples:\n",
    "    perimeter( [ [15, 7], [5, 22], [11, 1] ] ) ➞ 47.08\n",
    "    perimeter( [ [0, 0], [0, 1], [1, 0] ] ) ➞ 3.42\n",
    "    perimeter( [ [-10, -10], [10, 10 ], [-10, 10] ] ) ➞ 68.28"
   ]
  },
  {
   "cell_type": "code",
   "execution_count": 2,
   "id": "42d51638",
   "metadata": {},
   "outputs": [
    {
     "name": "stdout",
     "output_type": "stream",
     "text": [
      "perimeter([[15, 7], [5, 22], [11, 1]]) ➞ 47.08\n",
      "perimeter([[0, 0], [0, 1], [1, 0]]) ➞ 3.41\n",
      "perimeter([[-10, -10], [10, 10], [-10, 10]]) ➞ 68.28\n"
     ]
    }
   ],
   "source": [
    "import math\n",
    "\n",
    "def distance(a,b):\n",
    "    return math.sqrt(pow((b[1]-a[1]),2)+pow((b[0]-a[0]),2))\n",
    "\n",
    "def perimeter(array):\n",
    "    perimeter = []\n",
    "    for i in range(len(array)):\n",
    "        if i == len(array)-1:\n",
    "            perimeter.append(distance(array[i],array[0]))\n",
    "        else:\n",
    "            perimeter.append(distance(array[i],array[i+1]))\n",
    "    print(f'perimeter({array}) ➞ {sum(perimeter):.2f}')\n",
    "    \n",
    "perimeter([[15,7],[5,22],[11,1]])\n",
    "perimeter([[0,0],[0,1],[1,0]])\n",
    "perimeter([[-10,-10],[10,10],[-10,10]])"
   ]
  },
  {
   "cell_type": "markdown",
   "id": "1a84dac4",
   "metadata": {},
   "source": [
    "### 3.A city skyline can be represented as a 2-D list with 1s representing buildings. In the example below, the height of the tallest building is 4 (second-most right column).\n",
    "    [[0, 0, 0, 0, 0, 0],\n",
    "    [0, 0, 0, 0, 1, 0],\n",
    "    [0, 0, 1, 0, 1, 0],\n",
    "    [0, 1, 1, 1, 1, 0],\n",
    "    [1, 1, 1, 1, 1, 1]]\n",
    "    Create a function that takes a skyline (2-D list of 0's and 1's) and returns the height of the tallest skyscraper.\n",
    "    Examples:\n",
    "    tallest_skyscraper([[0, 0, 0, 0],[0, 1, 0, 0],[0, 1, 1, 0],[1, 1, 1, 1]]) ➞ 3\n",
    "    tallest_skyscraper([[0, 1, 0, 0],[0, 1, 0, 0],[0, 1, 1, 0],[1, 1, 1, 1]]) ➞ 4\n",
    "    tallest_skyscraper([[0, 0, 0, 0],[0, 0, 0, 0],[1, 1, 1, 0],[1, 1, 1, 1]]) ➞ 2"
   ]
  },
  {
   "cell_type": "code",
   "execution_count": 3,
   "id": "17457857",
   "metadata": {},
   "outputs": [
    {
     "name": "stdout",
     "output_type": "stream",
     "text": [
      "tallest_skyscraper([[0, 0, 0, 0], [0, 1, 0, 0], [0, 1, 1, 0], [1, 1, 1, 1]]) ➞ 3\n",
      "tallest_skyscraper([[0, 1, 0, 0], [0, 1, 0, 0], [0, 1, 1, 0], [1, 1, 1, 1]]) ➞ 4\n",
      "tallest_skyscraper([[0, 0, 0, 0], [0, 0, 0, 0], [1, 1, 1, 0], [1, 1, 1, 1]]) ➞ 2\n"
     ]
    }
   ],
   "source": [
    "def tallest_skyscraper(lst):\n",
    "    out = []\n",
    "    for i in range(len(lst)):\n",
    "        count = 0\n",
    "        for j in range(len(lst[i])):\n",
    "            count += lst[j][i]\n",
    "        out.append(count)\n",
    "    print(f'tallest_skyscraper({lst}) ➞ {max(out)}')\n",
    "        \n",
    "tallest_skyscraper([[0, 0, 0, 0],[0, 1, 0, 0],[0, 1, 1, 0],[1, 1, 1, 1]])\n",
    "tallest_skyscraper([[0, 1, 0, 0],[0, 1, 0, 0],[0, 1, 1, 0],[1, 1, 1, 1]])\n",
    "tallest_skyscraper([[0, 0, 0, 0],[0, 0, 0, 0],[1, 1, 1, 0],[1, 1, 1, 1]])"
   ]
  },
  {
   "cell_type": "markdown",
   "id": "4a1e2939",
   "metadata": {},
   "source": [
    "### 4.A financial institution provides professional services to banks and claims charges from the customers based on the number of man-days provided. Internally, it has set a scheme to motivate and reward staff to meet and exceed targeted billable utilization and revenues by paying a bonus for each day claimed from customers in excess of a threshold target.\n",
    "    This quarterly scheme is calculated with a threshold target of 32 days per quarter, and the incentive payment for each \n",
    "    billable day in excess of such threshold target is shown as follows:\n",
    "\n",
    "    Days                             Bonus  \n",
    "    0 to 32 days                  Zero  \n",
    "    33 to 40 days         SGD$325 per billable day  \n",
    "    41 to 48 days         SGD$550 per billable day  \n",
    "    Greater than 48 days      SGD$600 per billable day\n",
    "\n",
    "    Please note that incentive payment is calculated progressively. As an example, if an employee reached total billable \n",
    "    days of 45 in a quarter, his/her incentive payment is computed as follows:\n",
    "    32*0 + 8*325 + 5*550 = 5350\n",
    "    Write a function to read the billable days of an employee and return the bonus he/she has obtained in that quarter.\n",
    "\n",
    "    Examples:\n",
    "    bonus(15) ➞ 0\n",
    "    bonus(37) ➞ 1625\n",
    "    bonus(50) ➞ 8200"
   ]
  },
  {
   "cell_type": "code",
   "execution_count": 4,
   "id": "d8b4a1bc",
   "metadata": {},
   "outputs": [
    {
     "name": "stdout",
     "output_type": "stream",
     "text": [
      "bonus(15) ➞ 0\n",
      "bonus(44) ➞ 4800\n",
      "bonus(37) ➞ 1625\n",
      "bonus(50) ➞ 8200\n",
      "bonus(60) ➞ 14200\n"
     ]
    }
   ],
   "source": [
    "def bonus(num):\n",
    "    if num > 48:\n",
    "        output = 0+(8*325)+(8*550)+((num-48)*600)\n",
    "    elif num < 48 and num >= 41:\n",
    "        output = 0+(8*325)+((num-41+1)*550)\n",
    "    elif num >33 and num <= 40:\n",
    "        output = 0+((num-33+1)*325)\n",
    "    else:\n",
    "        output = 0\n",
    "    print(f'bonus({num}) ➞ {output}')\n",
    "        \n",
    "bonus(15)\n",
    "bonus(44)\n",
    "bonus(37)\n",
    "bonus(50)\n",
    "bonus(60)"
   ]
  },
  {
   "cell_type": "markdown",
   "id": "4095589d",
   "metadata": {},
   "source": [
    "### 5.A number is said to be Disarium if the sum of its digits raised to their respective positions is the number itself.\n",
    "    Create a function that determines whether a number is a Disarium or not.\n",
    "    Examples:\n",
    "    is_disarium(75) ➞ False\n",
    "#### 7^1 + 5^2 = 7 + 25 = 32\n",
    "    is_disarium(135) ➞ True\n",
    "#### 1^1 + 3^2 + 5^3 = 1 + 9 + 125 = 135\n",
    "    is_disarium(544) ➞ False\n",
    "    is_disarium(518) ➞ True\n",
    "    is_disarium(466) ➞ False\n",
    "    is_disarium(8) ➞ True"
   ]
  },
  {
   "cell_type": "code",
   "execution_count": 5,
   "id": "a4d3d4bb",
   "metadata": {},
   "outputs": [
    {
     "name": "stdout",
     "output_type": "stream",
     "text": [
      "is_disarium(75) ➞ False\n",
      "is_disarium(135) ➞ True\n",
      "is_disarium(544) ➞ False\n",
      "is_disarium(518) ➞ True\n",
      "is_disarium(466) ➞ False\n",
      "is_disarium(8) ➞ True\n"
     ]
    }
   ],
   "source": [
    "def is_disarium(nums):\n",
    "    sum = 0\n",
    "    output = False\n",
    "    for i in range(len(str(nums))):\n",
    "        sum += int(str(nums)[i])**(i+1)\n",
    "    if nums == sum:\n",
    "        output=True\n",
    "    print(f'is_disarium({nums}) ➞ {output}')\n",
    "    \n",
    "is_disarium(75)\n",
    "is_disarium(135)\n",
    "is_disarium(544)\n",
    "is_disarium(518)\n",
    "is_disarium(466)\n",
    "is_disarium(8)"
   ]
  },
  {
   "cell_type": "code",
   "execution_count": null,
   "id": "d9dda76b",
   "metadata": {},
   "outputs": [],
   "source": []
  }
 ],
 "metadata": {
  "kernelspec": {
   "display_name": "Python 3",
   "language": "python",
   "name": "python3"
  },
  "language_info": {
   "codemirror_mode": {
    "name": "ipython",
    "version": 3
   },
   "file_extension": ".py",
   "mimetype": "text/x-python",
   "name": "python",
   "nbconvert_exporter": "python",
   "pygments_lexer": "ipython3",
   "version": "3.8.8"
  }
 },
 "nbformat": 4,
 "nbformat_minor": 5
}
