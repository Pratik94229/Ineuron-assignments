{
 "cells": [
  {
   "cell_type": "markdown",
   "id": "bb836314",
   "metadata": {},
   "source": [
    "### 1. Create a function that takes the width, height and character and returns a picture frame as a 2D list.\n",
    "    Examples:\n",
    "    get_frame(4, 5, \"#\") ➞ [\n",
    "      [\"####\"],\n",
    "      [\"#  #\"],\n",
    "      [\"#  #\"],\n",
    "      [\"#  #\"],\n",
    "      [\"####\"]\n",
    "    ]\n",
    "##### Frame is 4 characters wide and 5 characters tall.\n",
    "\n",
    "    get_frame(10, 3, \"*\") ➞ [\n",
    "      [\"**********\"],\n",
    "      [\"*        *\"],\n",
    "      [\"**********\"]\n",
    "    ]\n",
    "##### Frame is 10 characters and wide and 3 characters tall.\n",
    "\n",
    "    get_frame(2, 5, \"0\") ➞ \"invalid\"\n",
    "##### Frame's width is not more than 2."
   ]
  },
  {
   "cell_type": "code",
   "execution_count": 1,
   "id": "08da28ee",
   "metadata": {},
   "outputs": [
    {
     "name": "stdout",
     "output_type": "stream",
     "text": [
      "['####']\n",
      "['#  #']\n",
      "['#  #']\n",
      "['#  #']\n",
      "['####']\n",
      "['**********']\n",
      "['*        *']\n",
      "['**********']\n",
      "Invalid\n"
     ]
    }
   ],
   "source": [
    "def get_frame(width,height,character):\n",
    "    if width <= 2:\n",
    "        print(\"Invalid\")\n",
    "    else:\n",
    "        out_list = []\n",
    "        for i in range(height):\n",
    "            if i == 0 or i == height-1:\n",
    "                out_list.append([width*character])\n",
    "            else:\n",
    "                out_list.append([character+' '*(width-2)+character])\n",
    "        for j in out_list:\n",
    "            print(j)\n",
    "\n",
    "    \n",
    "get_frame(4, 5, \"#\")\n",
    "get_frame(10, 3, \"*\")\n",
    "get_frame(2, 5, \"0\")"
   ]
  },
  {
   "cell_type": "markdown",
   "id": "4af1780f",
   "metadata": {},
   "source": [
    "### 2. Write three functions:\n",
    "    boolean_and\n",
    "    boolean_or\n",
    "    boolean_xor\n",
    "    These functions should evaluate a list of True and False values, starting from the leftmost element and evaluating \n",
    "    pairwise. Examples:\n",
    "    boolean_and([True, True, False, True]) ➞ False\n",
    "##### [True, True, False, True] => [True, False, True] => [False, True] => False\n",
    "\n",
    "    boolean_or([True, True, False, False]) ➞ True\n",
    "##### [True, True, False, True] => [True, False, False] => [True, False] => True\n",
    "\n",
    "    boolean_xor([True, True, False, False]) ➞ False\n",
    "##### [True, True, False, False] => [False, False, False] => [False, False] => False"
   ]
  },
  {
   "cell_type": "code",
   "execution_count": 2,
   "id": "02ac3595",
   "metadata": {},
   "outputs": [
    {
     "name": "stdout",
     "output_type": "stream",
     "text": [
      "boolean_and([True, True, False, True]) ➞ False\n",
      "boolean_or([True, True, False, False]) ➞ True\n",
      "boolean_xor([True, True, False, False]) ➞ False\n"
     ]
    }
   ],
   "source": [
    "def boolean_and(list1):\n",
    "    lst = list1.copy()\n",
    "    while len(list1) != 1:\n",
    "        x = list1.pop(0)\n",
    "        y = list1.pop(0)\n",
    "        list1.insert(0,(x and y))\n",
    "    print(f'boolean_and({lst}) ➞ {list1[0]}')\n",
    "    \n",
    "def boolean_or(list1):\n",
    "    lst = list1.copy()\n",
    "    while len(list1) != 1:\n",
    "        x = list1.pop(0)\n",
    "        y = list1.pop(0)\n",
    "        list1.insert(0,(x or y))\n",
    "    print(f'boolean_or({lst}) ➞ {list1[0]}')\n",
    "    \n",
    "def boolean_xor(list1):\n",
    "    lst = list1.copy()\n",
    "    while len(list1) != 1:\n",
    "        x = list1.pop(0)\n",
    "        y = list1.pop(0)\n",
    "        list1.insert(0,(x ^ y))\n",
    "    print(f'boolean_xor({lst}) ➞ {list1[0]}')\n",
    "    \n",
    "boolean_and([True, True, False, True])\n",
    "boolean_or([True, True, False, False])\n",
    "boolean_xor([True, True, False, False])"
   ]
  },
  {
   "cell_type": "markdown",
   "id": "07455b78",
   "metadata": {},
   "source": [
    "### 3. Create a function that creates a box based on dimension n.\n",
    "    Examples:\n",
    "    make_box(5) ➞ [\n",
    "      \"#####\",\n",
    "      \"#   #\",\n",
    "      \"#   #\",\n",
    "      \"#   #\",\n",
    "      \"#####\"\n",
    "    ]\n",
    "\n",
    "    make_box(3) ➞ [\n",
    "      \"###\",\n",
    "      \"# #\",\n",
    "      \"###\"\n",
    "    ]\n",
    "\n",
    "    make_box(2) ➞ [\n",
    "      \"##\",\n",
    "      \"##\"\n",
    "    ]\n",
    "\n",
    "    make_box(1) ➞ [\n",
    "      \"#\"\n",
    "    ]"
   ]
  },
  {
   "cell_type": "code",
   "execution_count": 3,
   "id": "a7d97a7e",
   "metadata": {},
   "outputs": [],
   "source": [
    "def make_box(dimension):\n",
    "    output = []\n",
    "    for i in range(dimension):\n",
    "        if i == 0 or i == dimension-1:\n",
    "            output.append('#'*dimension)\n",
    "        else:\n",
    "            output.append('#'+' '*(dimension-2)+'#')\n",
    "    for i in output:\n",
    "        print(i)"
   ]
  },
  {
   "cell_type": "code",
   "execution_count": 4,
   "id": "d1059d2d",
   "metadata": {},
   "outputs": [
    {
     "name": "stdout",
     "output_type": "stream",
     "text": [
      "#####\n",
      "#   #\n",
      "#   #\n",
      "#   #\n",
      "#####\n"
     ]
    }
   ],
   "source": [
    "make_box(5)  "
   ]
  },
  {
   "cell_type": "code",
   "execution_count": 5,
   "id": "7f563277",
   "metadata": {},
   "outputs": [
    {
     "name": "stdout",
     "output_type": "stream",
     "text": [
      "##\n",
      "##\n"
     ]
    }
   ],
   "source": [
    "make_box(2)"
   ]
  },
  {
   "cell_type": "code",
   "execution_count": 6,
   "id": "77f63e57",
   "metadata": {},
   "outputs": [
    {
     "name": "stdout",
     "output_type": "stream",
     "text": [
      "#\n"
     ]
    }
   ],
   "source": [
    "make_box(1)"
   ]
  },
  {
   "cell_type": "markdown",
   "id": "4dd69444",
   "metadata": {},
   "source": [
    "### 4. Given a common phrase, return False if any individual word in the phrase contains duplicate letters. Return True otherwise.\n",
    "    Examples:\n",
    "    no_duplicate_letters(\"Fortune favours the bold.\") ➞ True\n",
    "    no_duplicate_letters(\"You can lead a horse to water, but you can't make him drink.\") ➞ True\n",
    "    no_duplicate_letters(\"Look before you leap.\") ➞ False\n",
    "##### Duplicate letters in \"Look\" and \"before\".\n",
    "    no_duplicate_letters(\"An apple a day keeps the doctor away.\") ➞ False\n",
    "##### Duplicate letters in \"apple\", \"keeps\", \"doctor\", and \"away\"."
   ]
  },
  {
   "cell_type": "code",
   "execution_count": 7,
   "id": "06130a94",
   "metadata": {},
   "outputs": [
    {
     "name": "stdout",
     "output_type": "stream",
     "text": [
      "no_duplicate_letters(Fortune favours the bold.) ➞ True\n",
      "no_duplicate_letters(You can lead a horse to water, but you can't make him drink.) ➞ True\n",
      "no_duplicate_letters(Look before you leap.) ➞ False\n",
      "no_duplicate_letters(An apple a day keeps the doctor away.) ➞ False\n"
     ]
    }
   ],
   "source": [
    "def no_duplicate_letters(string):\n",
    "    output = None\n",
    "    for i in string.split(' '):\n",
    "        if len(i) == len(set(i)):\n",
    "            output = True\n",
    "        else:\n",
    "            output = False\n",
    "            break\n",
    "    print(f'no_duplicate_letters({string}) ➞ {output}')\n",
    "    \n",
    "no_duplicate_letters(\"Fortune favours the bold.\")\n",
    "no_duplicate_letters(\"You can lead a horse to water, but you can't make him drink.\")\n",
    "no_duplicate_letters(\"Look before you leap.\")\n",
    "no_duplicate_letters(\"An apple a day keeps the doctor away.\")"
   ]
  },
  {
   "cell_type": "markdown",
   "id": "0483c2f0",
   "metadata": {},
   "source": [
    "### 5. Write a regular expression that will match the states that voted yes to President Trump's impeachment. You must use RegEx positive lookahead.\n",
    "    Examples:\n",
    "    txt = \"Texas = no, California = yes, Florida = yes, Michigan = no\"\n",
    "    pattern = \"yourregularexpressionhere\"\n",
    "    re.findall(pattern, txt) ➞ [\"California\", \"Florida\"]"
   ]
  },
  {
   "cell_type": "code",
   "execution_count": 8,
   "id": "5c40a376",
   "metadata": {},
   "outputs": [
    {
     "name": "stdout",
     "output_type": "stream",
     "text": [
      "re.findall('\\\\w+(?=\\\\s=\\\\syes*)', 'Texas = no, California = yes, Florida = yes, Michigan = no') ➞ ['California', 'Florida']\n"
     ]
    }
   ],
   "source": [
    "import re\n",
    "txt = \"Texas = no, California = yes, Florida = yes, Michigan = no\"\n",
    "pattern = r'\\w+(?=\\s=\\syes*)'\n",
    "match = re.findall(pattern,txt)\n",
    "print(f're.findall{pattern,txt} ➞ {match}')"
   ]
  },
  {
   "cell_type": "code",
   "execution_count": null,
   "id": "937d0803",
   "metadata": {},
   "outputs": [],
   "source": []
  }
 ],
 "metadata": {
  "kernelspec": {
   "display_name": "Python 3",
   "language": "python",
   "name": "python3"
  },
  "language_info": {
   "codemirror_mode": {
    "name": "ipython",
    "version": 3
   },
   "file_extension": ".py",
   "mimetype": "text/x-python",
   "name": "python",
   "nbconvert_exporter": "python",
   "pygments_lexer": "ipython3",
   "version": "3.8.8"
  }
 },
 "nbformat": 4,
 "nbformat_minor": 5
}
