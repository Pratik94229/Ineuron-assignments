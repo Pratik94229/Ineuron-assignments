{
 "cells": [
  {
   "cell_type": "markdown",
   "id": "3e8d7971",
   "metadata": {},
   "source": [
    "### 1.The PyPDF2.PdfFileReader() function does not receive a string value for the PDF filename. Instead, what do you pass to the function?\n",
    "    first import Py[DF2\n",
    "     First we have to open file in binary read mode then we store it then you call this object as object_name.PdfFileReader then\n",
    "     we  can read the file"
   ]
  },
  {
   "cell_type": "markdown",
   "id": "1a195f3d",
   "metadata": {},
   "source": [
    "### 2. In what modes should the PdfFileReader() and PdfFileWriter() File objects be opened?\n",
    "                PdfFileReader() :- it is used in 'rb' mode i.e. read IN binary mode\n",
    "                \n",
    "                PdfFileWriter() :- it is used in 'wb' mode i.e. write in  binary mode"
   ]
  },
  {
   "cell_type": "markdown",
   "id": "d93d7386",
   "metadata": {},
   "source": [
    "### 3. From a PdfFileReader object, how do you get a Page object for page 5?\n",
    "            getPage() - Method is used to get page\n",
    "            syntax- Pdfreader.getPage()\n",
    "            Pdfreader.getPage(4)  -for getting page 5 due to PyPDF2 uses 0-index from starting of page"
   ]
  },
  {
   "cell_type": "markdown",
   "id": "649339ea",
   "metadata": {},
   "source": [
    "### 4. Which PdfFileReader variable keeps track of the PDF document's page count?\n",
    "\n",
    "        getNumPages() method of PdfFileReader  stores the no pages in a PDF document"
   ]
  },
  {
   "cell_type": "markdown",
   "id": "b377b1d2",
   "metadata": {},
   "source": [
    "### 5. What must you do if the PDF of a PdfFileReader object is encrypted with the password swordfish before you can get Page objects from it?\n",
    "    step 1 -import PyPDF2\n",
    "           load pdf [ PyPDF2.PdfFileReader(open('encrypted.pdf', 'rb')) ] # open and store the file\n",
    "    step 2 - check weather it is encrypted [ pdf.isEncrypted ]    # check file  is encrypted or not\n",
    "    step 3 - if encrypted use [ pdf.decrypt('swordfish') ]        \n",
    "              pageObj = pdfReader.getPage() \n",
    "              \n",
    "                        # try to read the contents/pages of the pdf if password is correct,\n",
    "                        otherwise return following error PyPDF2.utils.PdfReadError: file has not been decrypted"
   ]
  },
  {
   "cell_type": "markdown",
   "id": "a48deb76",
   "metadata": {},
   "source": [
    "### 6. Can you tell me how you rotate a page?\n",
    "        page can be rotated by two ways as follows\n",
    "        rotateClockWise()  :- For Clockwise rotation\n",
    "        rotateCounterClockWise() :- For Counter Clockwise rotation\n",
    "         # passing one integer with 90 deg increament"
   ]
  },
  {
   "cell_type": "markdown",
   "id": "1cd76128",
   "metadata": {},
   "source": [
    "### 7. For the file demo.docx, which method returns a Document object?\n",
    "                docx.Document('demo.docx')"
   ]
  },
  {
   "cell_type": "markdown",
   "id": "52cf60c0",
   "metadata": {},
   "source": [
    "### 8. What is the difference between a Run object and a Paragraph object?\n",
    "       \n",
    "            A document contains multiple paragraphs. \n",
    "            A paragraph begins on an ew line and contains multiple runs.\n",
    "            Runs are contiguous groups of characters within a paragraph"
   ]
  },
  {
   "cell_type": "markdown",
   "id": "7ebed35d",
   "metadata": {},
   "source": [
    "### 9. For a Document object stored in a variable called doc, how do you get a list of paragraph objects?\n",
    "                import docx  # calling doc module\n",
    "                doc = docx.Document('demo.docx')  # open the document by using path\n",
    "                len(doc.paragraphs)  # check list of total paragraph"
   ]
  },
  {
   "cell_type": "markdown",
   "id": "33002eac",
   "metadata": {},
   "source": [
    "### 10. What object has the variables bold, underline, italic, hit, and outline?\n",
    "\n",
    "            Run object has bold, underline, italic, strike, and outline variables."
   ]
  },
  {
   "cell_type": "markdown",
   "id": "283d9948",
   "metadata": {},
   "source": [
    "### 11. What is the difference between False, True, and None for the bold variable?\n",
    "            bold = True   # Enabled\n",
    "            bold = False  # Disable\n",
    "            bold = None   # Defalut  "
   ]
  },
  {
   "cell_type": "markdown",
   "id": "3ab1e10c",
   "metadata": {},
   "source": [
    "### 12. How do you make a new Word document's Document object?\n",
    "\n",
    "        doc = docx.Document()\n",
    "        doc.add_paragraph('rasmi')\n",
    "        doc.save('rout.docx')"
   ]
  },
  {
   "cell_type": "markdown",
   "id": "824d9538",
   "metadata": {},
   "source": [
    "### 13. How do you add a paragraph to a Document object stored in a variable called doc with the text 'Hello, there!'?\n",
    "            doc = docx.Document()     # document stored in a variable\n",
    "            doc.add_paragraph('Hello,there!')  # add paragraph\n",
    "            doc.save('hellothere.docx')  "
   ]
  },
  {
   "cell_type": "markdown",
   "id": "13afdf90",
   "metadata": {},
   "source": [
    "### 14. In Word documents, what integers reflect the different levels of headings?\n",
    "             integers 1 to 4 are for various heading levels \n",
    "                     1 for main heading and  4 is for lowest sub heading"
   ]
  },
  {
   "cell_type": "code",
   "execution_count": null,
   "id": "bda8acf0",
   "metadata": {},
   "outputs": [],
   "source": []
  }
 ],
 "metadata": {
  "kernelspec": {
   "display_name": "Python 3",
   "language": "python",
   "name": "python3"
  },
  "language_info": {
   "codemirror_mode": {
    "name": "ipython",
    "version": 3
   },
   "file_extension": ".py",
   "mimetype": "text/x-python",
   "name": "python",
   "nbconvert_exporter": "python",
   "pygments_lexer": "ipython3",
   "version": "3.8.8"
  }
 },
 "nbformat": 4,
 "nbformat_minor": 5
}
