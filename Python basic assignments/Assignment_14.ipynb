{
 "cells": [
  {
   "cell_type": "markdown",
   "id": "5e5d3cd4",
   "metadata": {},
   "source": [
    "### 1. What does RGBA stand for?\n",
    "        RGBA stands for maximum amount of  Red ,green, blue and alpha\n",
    "        it contain four digit number inside tuple"
   ]
  },
  {
   "cell_type": "markdown",
   "id": "818cfacd",
   "metadata": {},
   "source": [
    "### 2. From the Pillow module, how do you get the RGBA value of 'CornflowerBlue'?\n",
    "        from PIL import ImageColor\n",
    "        ImageColor.getcolor('CornflowerBlue', 'RGBA')"
   ]
  },
  {
   "cell_type": "code",
   "execution_count": 1,
   "id": "2733f41f",
   "metadata": {},
   "outputs": [],
   "source": [
    "from PIL import ImageColor"
   ]
  },
  {
   "cell_type": "code",
   "execution_count": 2,
   "id": "e59300b5",
   "metadata": {},
   "outputs": [
    {
     "data": {
      "text/plain": [
       "(100, 149, 237, 255)"
      ]
     },
     "execution_count": 2,
     "metadata": {},
     "output_type": "execute_result"
    }
   ],
   "source": [
    "ImageColor.getcolor('CornflowerBlue', 'RGBA')"
   ]
  },
  {
   "cell_type": "markdown",
   "id": "bcb324c6",
   "metadata": {},
   "source": [
    "### 3. What is a box tuple, and how does it work?\n",
    "        A box tuple is a tuple value of four integers as follows\n",
    "        the left-edge x-coordinate, the top-edge y-coordinate,\n",
    "        the width, and the height, respectively."
   ]
  },
  {
   "cell_type": "markdown",
   "id": "824b2dc3",
   "metadata": {},
   "source": [
    "### 4. Use your image and load in notebook then, How can you find out the width and height of an Image object?\n",
    "        "
   ]
  },
  {
   "cell_type": "code",
   "execution_count": 3,
   "id": "ad4c57e0",
   "metadata": {},
   "outputs": [
    {
     "name": "stdout",
     "output_type": "stream",
     "text": [
      "Width, Height -> (4000, 2250)\n",
      "Width, Height -> 4000,2250\n",
      "Width, Height -> 4000,2250\n"
     ]
    }
   ],
   "source": [
    "  from PIL import Image\n",
    "pic = Image.open('Pic.jpg')\n",
    "print(f'Width, Height -> {pic.size}') \n",
    "print(f'Width, Height -> {pic.width},{pic.height}') \n",
    "width,height = pic.size\n",
    "print(f'Width, Height -> {width},{height}') "
   ]
  },
  {
   "cell_type": "markdown",
   "id": "103b4443",
   "metadata": {},
   "source": [
    "### 5. What method would you call to get Image object for a 100×100 image, excluding the lower-left quarter of it?\n",
    "            Byusing crop() method"
   ]
  },
  {
   "cell_type": "code",
   "execution_count": 4,
   "id": "9b1bdbf5",
   "metadata": {},
   "outputs": [],
   "source": [
    "from PIL import Image\n",
    "img = Image.open('Pic.jpg')\n",
    "new_img = img.crop((0,50,50,50))"
   ]
  },
  {
   "cell_type": "markdown",
   "id": "fde69a85",
   "metadata": {},
   "source": [
    "### 6. After making changes to an Image object, how could you save it as an image file?¶\n",
    "        imageObj.save('new_name.jpg')"
   ]
  },
  {
   "cell_type": "code",
   "execution_count": 6,
   "id": "86b285d2",
   "metadata": {},
   "outputs": [],
   "source": [
    "from PIL import Image\n",
    "pic = Image.open('pic.jpg')\n",
    "pic.save('pic2.jpg')"
   ]
  },
  {
   "cell_type": "markdown",
   "id": "0297693f",
   "metadata": {},
   "source": [
    "### 7. What module contains Pillow’s shape-drawing code?\n",
    "         Pillows ImageDraw module contains Shape drawing methods"
   ]
  },
  {
   "cell_type": "markdown",
   "id": "6477f4af",
   "metadata": {},
   "source": [
    "### 8. Image objects do not have drawing methods. What kind of object does? How do you get this kind of object?\n",
    "\n",
    "         ImageDraw objects have shape-drawing methods such as point(), line(), or rectangle().\n",
    "         They are returned by passing the Image object to the ImageDraw.Draw() function."
   ]
  },
  {
   "cell_type": "code",
   "execution_count": null,
   "id": "f305413d",
   "metadata": {},
   "outputs": [],
   "source": []
  }
 ],
 "metadata": {
  "kernelspec": {
   "display_name": "Python 3",
   "language": "python",
   "name": "python3"
  },
  "language_info": {
   "codemirror_mode": {
    "name": "ipython",
    "version": 3
   },
   "file_extension": ".py",
   "mimetype": "text/x-python",
   "name": "python",
   "nbconvert_exporter": "python",
   "pygments_lexer": "ipython3",
   "version": "3.8.8"
  }
 },
 "nbformat": 4,
 "nbformat_minor": 5
}
