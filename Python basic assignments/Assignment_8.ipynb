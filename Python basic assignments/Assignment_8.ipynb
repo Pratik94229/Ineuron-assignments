{
 "cells": [
  {
   "cell_type": "markdown",
   "id": "36e66dfc",
   "metadata": {},
   "source": [
    "### 1. Is the Python Standard Library included with PyInputPlus?\n",
    "     PyInputPlus  it is not a part python library for use  we have to install by typing\n",
    "         !pip install PyInputPlus"
   ]
  },
  {
   "cell_type": "markdown",
   "id": "9fec7712",
   "metadata": {},
   "source": [
    "### 2. Why is PyInputPlus often imported as pyip with import pyinputplus?\n",
    "            import PyInputPlus as pyip it is allias name (optional)\n",
    "            for using short name it becomes easire and taking short time during calling moudule"
   ]
  },
  {
   "cell_type": "markdown",
   "id": "c875ca4c",
   "metadata": {},
   "source": [
    "### 3. How do you distinguish between inputInt() and inputFloat()?\n",
    "                inputint()  - here user inputs any number  that return intgers value\n",
    "                inpuntFloat() - here user can input any number number,returns Float values"
   ]
  },
  {
   "cell_type": "markdown",
   "id": "d3b845b0",
   "metadata": {},
   "source": [
    "### 4. Using PyInputPlus, how do you ensure that the user enters a whole number between 0 and 99?\n",
    "         PyInputPlus-in this module contains a function inputInt(), it always return intger values\n",
    "         for getting whole number range in between 0 and 99 we use min and max operation"
   ]
  },
  {
   "cell_type": "markdown",
   "id": "e25eb954",
   "metadata": {},
   "source": [
    "### 5. What is transferred to the keyword arguments allowRegexes and blockRegexes?\n",
    "            we can use allowRegexes and blockRegexes keyword arguments to take list of regular expression strings\n",
    "            to determine what the pyinputplus function will reject or accept valid input.\n",
    "\n"
   ]
  },
  {
   "cell_type": "markdown",
   "id": "651f7035",
   "metadata": {},
   "source": [
    "### 6. If a blank input is entered three times, what does inputStr(limit=3) do?\n",
    "            The function will raise RetryLimitException"
   ]
  },
  {
   "cell_type": "markdown",
   "id": "05beb63b",
   "metadata": {},
   "source": [
    "### 7. If blank input is entered three times, what does inputStr(limit=3, default='hello') do?\n",
    "        it return string value 'hello'"
   ]
  },
  {
   "cell_type": "code",
   "execution_count": null,
   "id": "f2cd2371",
   "metadata": {},
   "outputs": [],
   "source": []
  }
 ],
 "metadata": {
  "kernelspec": {
   "display_name": "Python 3",
   "language": "python",
   "name": "python3"
  },
  "language_info": {
   "codemirror_mode": {
    "name": "ipython",
    "version": 3
   },
   "file_extension": ".py",
   "mimetype": "text/x-python",
   "name": "python",
   "nbconvert_exporter": "python",
   "pygments_lexer": "ipython3",
   "version": "3.8.8"
  }
 },
 "nbformat": 4,
 "nbformat_minor": 5
}
