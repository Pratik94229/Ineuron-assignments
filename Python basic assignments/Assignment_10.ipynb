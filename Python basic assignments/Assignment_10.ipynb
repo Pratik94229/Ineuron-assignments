{
 "cells": [
  {
   "cell_type": "markdown",
   "id": "044c9cd4",
   "metadata": {},
   "source": [
    "### 1. How do you distinguish between shutil.copy() and shutil.copytree()?\n",
    "        shutil.copy() :- it will copy a single file from the source location.\n",
    "  \n",
    "      shutil.copytree() :- it will copy the entire folder from the source location, \n",
    "                           including all the files and folders present within it."
   ]
  },
  {
   "cell_type": "markdown",
   "id": "ee45805e",
   "metadata": {},
   "source": [
    "### 2. What is the name of the feature used to rename files?\n",
    "         os.rename() function is used to rename files  \n",
    "         this function takes two arguments src and dest\n",
    "                     src :- represents the name file/directory which we want to rename\n",
    "                     dest:- represents the new name of the file/direct"
   ]
  },
  {
   "cell_type": "markdown",
   "id": "7222fc84",
   "metadata": {},
   "source": [
    "### 3. How are the delete functions in the send2trash and shutil modules different?\n",
    "            shutil  delete module provides a function name as shutil.rmtree() it delete all file/folder/derectory pemanetly\n",
    "            send2ttrash- it also delete file/ folder but it will send that  file /folder to your computer trash/recyclebin"
   ]
  },
  {
   "cell_type": "code",
   "execution_count": null,
   "id": "e4d38803",
   "metadata": {},
   "outputs": [],
   "source": []
  }
 ],
 "metadata": {
  "kernelspec": {
   "display_name": "Python 3",
   "language": "python",
   "name": "python3"
  },
  "language_info": {
   "codemirror_mode": {
    "name": "ipython",
    "version": 3
   },
   "file_extension": ".py",
   "mimetype": "text/x-python",
   "name": "python",
   "nbconvert_exporter": "python",
   "pygments_lexer": "ipython3",
   "version": "3.8.8"
  }
 },
 "nbformat": 4,
 "nbformat_minor": 5
}
