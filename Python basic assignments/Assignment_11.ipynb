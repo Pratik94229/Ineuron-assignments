{
  "nbformat": 4,
  "nbformat_minor": 0,
  "metadata": {
    "colab": {
      "provenance": [],
      "authorship_tag": "ABX9TyN2IIxoV0aPOJI6hcxN+a/M",
      "include_colab_link": true
    },
    "kernelspec": {
      "name": "python3",
      "display_name": "Python 3"
    },
    "language_info": {
      "name": "python"
    }
  },
  "cells": [
    {
      "cell_type": "markdown",
      "metadata": {
        "id": "view-in-github",
        "colab_type": "text"
      },
      "source": [
        "<a href=\"https://colab.research.google.com/github/Pratik94229/Ineuron-assignments/blob/main/Python%20basic%20assignments/Assignment_11.ipynb\" target=\"_parent\"><img src=\"https://colab.research.google.com/assets/colab-badge.svg\" alt=\"Open In Colab\"/></a>"
      ]
    },
    {
      "cell_type": "markdown",
      "source": [
        "###1. Create an assert statement to throw an AssertionError if the variable spam is a negative integer:"
      ],
      "metadata": {
        "id": "t0cBQ9OOxlBK"
      }
    },
    {
      "cell_type": "code",
      "execution_count": 2,
      "metadata": {
        "colab": {
          "base_uri": "https://localhost:8080/",
          "height": 183
        },
        "id": "B6NN8hNEw_Z6",
        "outputId": "97259fec-223a-4c7e-8466-c8c2fa5fe88e"
      },
      "outputs": [
        {
          "output_type": "error",
          "ename": "AssertionError",
          "evalue": "ignored",
          "traceback": [
            "\u001b[0;31m---------------------------------------------------------------------------\u001b[0m",
            "\u001b[0;31mAssertionError\u001b[0m                            Traceback (most recent call last)",
            "\u001b[0;32m<ipython-input-2-e05958fc8443>\u001b[0m in \u001b[0;36m<cell line: 2>\u001b[0;34m()\u001b[0m\n\u001b[1;32m      1\u001b[0m \u001b[0mspam\u001b[0m\u001b[0;34m=\u001b[0m\u001b[0;34m-\u001b[0m\u001b[0;36m1\u001b[0m\u001b[0;34m\u001b[0m\u001b[0;34m\u001b[0m\u001b[0m\n\u001b[0;32m----> 2\u001b[0;31m \u001b[0;32massert\u001b[0m \u001b[0mspam\u001b[0m \u001b[0;34m>=\u001b[0m \u001b[0;36m0\u001b[0m\u001b[0;34m,\u001b[0m \u001b[0;34m\"spam should be a non-negative integer\"\u001b[0m\u001b[0;34m\u001b[0m\u001b[0;34m\u001b[0m\u001b[0m\n\u001b[0m",
            "\u001b[0;31mAssertionError\u001b[0m: spam should be a non-negative integer"
          ]
        }
      ],
      "source": [
        "spam=-1\n",
        "assert spam >= 0, \"spam should be a non-negative integer\"\n"
      ]
    },
    {
      "cell_type": "markdown",
      "source": [
        "### 2. Write an assert statement that triggers an AssertionError if the variables eggs and bacon contain strings that are the same as each other, even if their cases are different (that is, 'hello' and 'hello' are considered the same, and 'goodbye' and 'GOODbye' are also considered the same)."
      ],
      "metadata": {
        "id": "7SKpiEpGx8uq"
      }
    },
    {
      "cell_type": "code",
      "source": [
        "eggs='Hello'\n",
        "bacon='hello'\n",
        "assert eggs.lower() != bacon.lower(), \"eggs and bacon should have different values\"\n",
        "\n"
      ],
      "metadata": {
        "colab": {
          "base_uri": "https://localhost:8080/",
          "height": 218
        },
        "id": "jjZM3XeBx7-h",
        "outputId": "c78b25f7-c2e5-4ea1-fb26-dd24fb277c0e"
      },
      "execution_count": 5,
      "outputs": [
        {
          "output_type": "error",
          "ename": "AssertionError",
          "evalue": "ignored",
          "traceback": [
            "\u001b[0;31m---------------------------------------------------------------------------\u001b[0m",
            "\u001b[0;31mAssertionError\u001b[0m                            Traceback (most recent call last)",
            "\u001b[0;32m<ipython-input-5-c6feba28ffa2>\u001b[0m in \u001b[0;36m<cell line: 3>\u001b[0;34m()\u001b[0m\n\u001b[1;32m      1\u001b[0m \u001b[0meggs\u001b[0m\u001b[0;34m=\u001b[0m\u001b[0;34m'Hello'\u001b[0m\u001b[0;34m\u001b[0m\u001b[0;34m\u001b[0m\u001b[0m\n\u001b[1;32m      2\u001b[0m \u001b[0mbacon\u001b[0m\u001b[0;34m=\u001b[0m\u001b[0;34m'hello'\u001b[0m\u001b[0;34m\u001b[0m\u001b[0;34m\u001b[0m\u001b[0m\n\u001b[0;32m----> 3\u001b[0;31m \u001b[0;32massert\u001b[0m \u001b[0meggs\u001b[0m\u001b[0;34m.\u001b[0m\u001b[0mlower\u001b[0m\u001b[0;34m(\u001b[0m\u001b[0;34m)\u001b[0m \u001b[0;34m!=\u001b[0m \u001b[0mbacon\u001b[0m\u001b[0;34m.\u001b[0m\u001b[0mlower\u001b[0m\u001b[0;34m(\u001b[0m\u001b[0;34m)\u001b[0m\u001b[0;34m,\u001b[0m \u001b[0;34m\"eggs and bacon should have different values\"\u001b[0m\u001b[0;34m\u001b[0m\u001b[0;34m\u001b[0m\u001b[0m\n\u001b[0m\u001b[1;32m      4\u001b[0m \u001b[0;34m\u001b[0m\u001b[0m\n",
            "\u001b[0;31mAssertionError\u001b[0m: eggs and bacon should have different values"
          ]
        }
      ]
    },
    {
      "cell_type": "markdown",
      "source": [
        "### 3. Create an assert statement that throws an AssertionError every time."
      ],
      "metadata": {
        "id": "KI-dVnmYzQ4g"
      }
    },
    {
      "cell_type": "code",
      "source": [
        "assert False, \"AssertionError triggered\"\n"
      ],
      "metadata": {
        "colab": {
          "base_uri": "https://localhost:8080/",
          "height": 166
        },
        "id": "v3_FVszVyupC",
        "outputId": "49490a7e-af2d-42e5-b9a4-d72ae347ac1e"
      },
      "execution_count": 6,
      "outputs": [
        {
          "output_type": "error",
          "ename": "AssertionError",
          "evalue": "ignored",
          "traceback": [
            "\u001b[0;31m---------------------------------------------------------------------------\u001b[0m",
            "\u001b[0;31mAssertionError\u001b[0m                            Traceback (most recent call last)",
            "\u001b[0;32m<ipython-input-6-52bd4558c5d6>\u001b[0m in \u001b[0;36m<cell line: 1>\u001b[0;34m()\u001b[0m\n\u001b[0;32m----> 1\u001b[0;31m \u001b[0;32massert\u001b[0m \u001b[0;32mFalse\u001b[0m\u001b[0;34m,\u001b[0m \u001b[0;34m\"AssertionError triggered\"\u001b[0m\u001b[0;34m\u001b[0m\u001b[0;34m\u001b[0m\u001b[0m\n\u001b[0m",
            "\u001b[0;31mAssertionError\u001b[0m: AssertionError triggered"
          ]
        }
      ]
    },
    {
      "cell_type": "markdown",
      "source": [
        "### 4. What are the two lines that must be present in your software in order to call logging.debug()?"
      ],
      "metadata": {
        "id": "_RXdIgXQz53y"
      }
    },
    {
      "cell_type": "code",
      "source": [
        "import logging\n",
        "logging.basicConfig(level=logging.DEBUG)\n"
      ],
      "metadata": {
        "id": "LBU64NoEzh5M"
      },
      "execution_count": 7,
      "outputs": []
    },
    {
      "cell_type": "markdown",
      "source": [
        "###5. What are the two lines that your program must have in order to have logging.debug() send a logging message to a file named programLog.txt?"
      ],
      "metadata": {
        "id": "VSVw24ZH0KAt"
      }
    },
    {
      "cell_type": "code",
      "source": [
        "import logging\n",
        "logging.basicConfig(filename='programLog.txt', level=logging.DEBUG)\n"
      ],
      "metadata": {
        "id": "ktvRhY7wzkLj"
      },
      "execution_count": null,
      "outputs": []
    },
    {
      "cell_type": "markdown",
      "source": [
        "##6. What are the five levels of logging?"
      ],
      "metadata": {
        "id": "AVlndZUb0TF4"
      }
    },
    {
      "cell_type": "markdown",
      "source": [
        "  ### The five levels of logging:\n",
        " \n",
        "    1) DEBUG\n",
        "    2) INFO\n",
        "    3) WARNING\n",
        "    4) ERROR\n",
        "    5) CRITICAL"
      ],
      "metadata": {
        "id": "f9v48fiz0g7o"
      }
    },
    {
      "cell_type": "markdown",
      "source": [
        "###7. What line of code would you add to your software to disable all logging messages?"
      ],
      "metadata": {
        "id": "2iUpUk4x1HFF"
      }
    },
    {
      "cell_type": "code",
      "source": [
        "import logging\n",
        "logging.disable(logging.CRITICAL)\n"
      ],
      "metadata": {
        "id": "QBlch1CczkT4"
      },
      "execution_count": null,
      "outputs": []
    },
    {
      "cell_type": "markdown",
      "source": [
        "\n",
        "###8.Why is using logging messages better than using print() to display the same message?"
      ],
      "metadata": {
        "id": "lDap16la012-"
      }
    },
    {
      "cell_type": "markdown",
      "source": [
        "  Using logging messages is better than using print() to display the same message because:\n",
        "\n",
        "  1) Logging messages can be easily disabled or configured to different levels of verbosity.\n",
        "  2) Logging messages can be directed to different outputs (console, file, etc.) without changing the code.\n",
        "  3) Logging messages can provide timestamps, log levels, and additional context information.\n",
        "  4) Logging allows for better organization and filtering of messages.\n",
        "\n",
        "    "
      ],
      "metadata": {
        "id": "qt0A3a9ozxNE"
      }
    },
    {
      "cell_type": "markdown",
      "source": [
        "###9. What are the differences between the Step Over, Step In, and Step Out buttons in the debugger?"
      ],
      "metadata": {
        "id": "EzrafGj01go8"
      }
    },
    {
      "cell_type": "markdown",
      "source": [
        "The differences between the Step Over, Step In, and Step Out buttons in the debugger:\n",
        "\n",
        "  **Step Over:** Executes the current line and moves to the next line in the current function. If the current line contains a function call, it will not step into the called function.\n",
        "\n",
        "  **Step In:** Executes the current line and, if the current line contains a function call, it steps into the called function, allowing you to debug through the function's code.\n",
        "\n",
        "  **Step Out:** Executes the remaining lines of the current function and returns to the calling function.\n",
        "\n",
        "\n",
        "\n"
      ],
      "metadata": {
        "id": "AdDH-p0S1g55"
      }
    },
    {
      "cell_type": "markdown",
      "source": [
        "###10.After you click Continue, when will the debugger stop ?"
      ],
      "metadata": {
        "id": "0B_zdckB2Cok"
      }
    },
    {
      "cell_type": "markdown",
      "source": [
        "After clicking Continue, the debugger will stop when it reaches the next breakpoint or when the program execution completes."
      ],
      "metadata": {
        "id": "3qe9ZJi32Hjx"
      }
    },
    {
      "cell_type": "markdown",
      "source": [
        "###11. What is the concept of a breakpoint?"
      ],
      "metadata": {
        "id": "nbSSXcFz2N00"
      }
    },
    {
      "cell_type": "markdown",
      "source": [
        "A breakpoint is a designated point in the code where the debugger pauses program execution, allowing you to inspect variables, step through the code line by line, and analyze the program's behavior at that specific point."
      ],
      "metadata": {
        "id": "ETPaSty72SJQ"
      }
    }
  ]
}