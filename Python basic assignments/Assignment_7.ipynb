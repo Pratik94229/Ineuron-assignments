{
 "cells": [
  {
   "cell_type": "markdown",
   "id": "81d71a01",
   "metadata": {},
   "source": [
    "### 1. What is the name of the feature responsible for generating Regex objects?\n",
    "        First of all we have to import re- module which contains all the function of the regex function\n",
    "        re.compile() - is used to create regex object"
   ]
  },
  {
   "cell_type": "code",
   "execution_count": 1,
   "id": "22de79cd",
   "metadata": {},
   "outputs": [
    {
     "data": {
      "text/plain": [
       "re.Pattern"
      ]
     },
     "execution_count": 1,
     "metadata": {},
     "output_type": "execute_result"
    }
   ],
   "source": [
    "import re\n",
    "r  = re.compile(\"some_random_pattern\")\n",
    "type(r)\n"
   ]
  },
  {
   "cell_type": "code",
   "execution_count": 2,
   "id": "2fc6eeef",
   "metadata": {},
   "outputs": [
    {
     "name": "stdout",
     "output_type": "stream",
     "text": [
      "re.compile('some_random_pattern')\n"
     ]
    }
   ],
   "source": [
    "print(r)"
   ]
  },
  {
   "cell_type": "markdown",
   "id": "1dc8beb4",
   "metadata": {},
   "source": [
    "### 2. Why do raw strings often appear in Regex objects?\n",
    "\n",
    "        raw strings appear in regex object to avoid escaping backslashes"
   ]
  },
  {
   "cell_type": "markdown",
   "id": "3462b4d7",
   "metadata": {},
   "source": [
    "### 3. What is the return value of the search() method?\n",
    "        search() method  returns patten in a string if pattern present else return None\n",
    "        re.search('patteern' ,'string')"
   ]
  },
  {
   "cell_type": "code",
   "execution_count": 5,
   "id": "a5a88f79",
   "metadata": {},
   "outputs": [
    {
     "name": "stdout",
     "output_type": "stream",
     "text": [
      "output <re.Match object; span=(0, 1), match='i'>\n"
     ]
    }
   ],
   "source": [
    "x= re.search('i','i am fine')\n",
    "print('output',x)"
   ]
  },
  {
   "cell_type": "code",
   "execution_count": 6,
   "id": "f9a4cca5",
   "metadata": {},
   "outputs": [
    {
     "name": "stdout",
     "output_type": "stream",
     "text": [
      "output None\n"
     ]
    }
   ],
   "source": [
    "x= re.search('w','i am fine')\n",
    "print('output',x)"
   ]
  },
  {
   "cell_type": "markdown",
   "id": "8d31f256",
   "metadata": {},
   "source": [
    "### 4. From a Match item, how do you get the actual strings that match the pattern?\n",
    "        By using group()  method we get actual match pattern present inside the string and return in tuple format"
   ]
  },
  {
   "cell_type": "code",
   "execution_count": 9,
   "id": "d453a255",
   "metadata": {},
   "outputs": [
    {
     "name": "stdout",
     "output_type": "stream",
     "text": [
      "matched pattern:-  fine\n"
     ]
    }
   ],
   "source": [
    "import re\n",
    "x= re.search('fine','i am fine')\n",
    "print('matched pattern:- ', x.group())"
   ]
  },
  {
   "cell_type": "markdown",
   "id": "42f8ecf8",
   "metadata": {},
   "source": [
    "### 5. In the regex which created from the r'(\\d\\d\\d)-(\\d\\d\\d-\\d\\d\\d\\d)', what does group zero cover? Group 2?Group1\n",
    "\n",
    "            group(0)  - it covers total matched text i.e (\\d\\d\\d)-(\\d\\d\\d-\\d\\d\\d\\d) \n",
    "            group(1)  - it covers first one matched text i.e (\\d\\d\\d)\n",
    "            group(2) -   it covers 2nd matched text  i.e (\\d\\d\\d-\\d\\d\\d\\d)\n",
    "  "
   ]
  },
  {
   "cell_type": "code",
   "execution_count": 14,
   "id": "20ca9a49",
   "metadata": {},
   "outputs": [
    {
     "name": "stdout",
     "output_type": "stream",
     "text": [
      "output for group(0) :-  231-987-5855\n",
      "output for group(1) :-   231\n",
      "output for group(2) :-  987-5855\n"
     ]
    }
   ],
   "source": [
    "import re\n",
    "phoneNumRegex = re.compile(r'(\\d\\d\\d)-(\\d\\d\\d-\\d\\d\\d\\d)')\n",
    "mo = phoneNumRegex.search('My phone number is 231-987-5855.') \n",
    "print(\"pattern for group(0) :- \" ,mo.group(0))  \n",
    "print(\"pattern for group(1) :-  \",mo.group(1)) \n",
    "print(\"pattern for group(2) :- \" ,mo.group(2))"
   ]
  },
  {
   "cell_type": "markdown",
   "id": "f0174f65",
   "metadata": {},
   "source": [
    "### 6. In standard expression syntax, parentheses and intervals have distinct meanings. How can you tell a regex that you want it to fit real parentheses and periods?\n",
    "\n",
    "        The \\( and \\) escape characters in the raw string passed to re.compile()will match actual parenthesis characters."
   ]
  },
  {
   "cell_type": "code",
   "execution_count": 15,
   "id": "e4f51389",
   "metadata": {},
   "outputs": [
    {
     "name": "stdout",
     "output_type": "stream",
     "text": [
      "(415) 555-4242\n"
     ]
    }
   ],
   "source": [
    "import re\n",
    "phoneNumRegex = re.compile(r'(\\(\\d\\d\\d\\)) (\\d\\d\\d-\\d\\d\\d\\d)')\n",
    "mo = phoneNumRegex.search('My phone number is (415) 555-4242.')\n",
    "print(mo.group())"
   ]
  },
  {
   "cell_type": "markdown",
   "id": "829d5b24",
   "metadata": {},
   "source": [
    "### 7. The findall() method returns a string list or a list of string tuples. What causes it to return one of the two options?\n",
    "\n",
    "        if the regex pattern has no groups then it will return list of string\n",
    "        if the regex pattern has groups then it will return list of string tuple"
   ]
  },
  {
   "cell_type": "code",
   "execution_count": 18,
   "id": "5e60d089",
   "metadata": {},
   "outputs": [
    {
     "data": {
      "text/plain": [
       "[('415', '555', '9999')]"
      ]
     },
     "execution_count": 18,
     "metadata": {},
     "output_type": "execute_result"
    }
   ],
   "source": [
    "phoneNumRegex = re.compile(r'(\\d\\d\\d)-(\\d\\d\\d)-(\\d\\d\\d\\d)') # it  has groups\n",
    "phoneNumRegex.findall('my telephone number is : 415-555-9999 ')"
   ]
  },
  {
   "cell_type": "code",
   "execution_count": 19,
   "id": "94c2bb7b",
   "metadata": {},
   "outputs": [
    {
     "data": {
      "text/plain": [
       "['415-555-9999']"
      ]
     },
     "execution_count": 19,
     "metadata": {},
     "output_type": "execute_result"
    }
   ],
   "source": [
    "phoneNumRegex = re.compile(r'\\d\\d\\d-\\d\\d\\d-\\d\\d\\d\\d') #  it has no groups\n",
    "phoneNumRegex.findall('my telephone number is : 415-555-9999 ')"
   ]
  },
  {
   "cell_type": "markdown",
   "id": "709c57a0",
   "metadata": {},
   "source": [
    "### 8. In standard expressions, what does the | character mean?\n",
    "        In Standard Expressions | means OR operator."
   ]
  },
  {
   "cell_type": "markdown",
   "id": "b6791df7",
   "metadata": {},
   "source": [
    "### 9. In regular expressions, what does the? character stand for?\n",
    "            In regular Expressions, ? characters represents zero or one match of the preceeding group."
   ]
  },
  {
   "cell_type": "markdown",
   "id": "26425c27",
   "metadata": {},
   "source": [
    "### 10.regular expressions, what is the difference between the + and * characters?\n",
    "         In Regular Expressions, * Represents Zero ore more occurances of the preceeding group\n",
    "                                 + represents one or more occurances of the preceeding group."
   ]
  },
  {
   "cell_type": "markdown",
   "id": "94f33611",
   "metadata": {},
   "source": [
    "### 11. What is the difference between {4} and {4,5} in regular expression?\n",
    "                {4} means  its preceeding group should repeat 4 times.\n",
    "                {4,5} means  its preceeding group should repeat mininum 4 times and maximum 5 times inclusively"
   ]
  },
  {
   "cell_type": "markdown",
   "id": "b4ef23eb",
   "metadata": {},
   "source": [
    "### 12. What do you mean by the \\d, \\w, and \\s shorthand character classes signify in regular expressions?\n",
    "            \\d, \\w and \\s these  are special sequences in regular expresssions in python:\n",
    "\n",
    "          1.  \\w – Matches a word character equivalent to [a-zA-Z0-9_]\n",
    "          2.  \\d – Matches digit character equivalent to [0-9]\n",
    "          3.  \\s – Matches whitespace character (space, tab, newline, etc.)"
   ]
  },
  {
   "cell_type": "markdown",
   "id": "51a8fe87",
   "metadata": {},
   "source": [
    "#### 13. What do means by \\D, \\W, and \\S shorthand character classes signify in regular expressions?\n",
    "\n",
    "        \\D, \\W and \\S are special sequences in regular expresssions in python:\n",
    "\n",
    "            1.\\W – Matches any non-alphanumeric character equivalent to [^a-zA-Z0-9_]\n",
    "            2.\\D – Matches any non-digit character, this is equivalent to the set class [^0-9]\n",
    "            3.\\S – Matches any non-whitespace character"
   ]
  },
  {
   "cell_type": "markdown",
   "id": "2f009984",
   "metadata": {},
   "source": [
    "### 14. What is the difference between .*? and .*?\n",
    "\n",
    "        * is a Greedy mode, which returns the longest string that meets the condition.\n",
    "        .*? is a non greedy mode which returns the shortest string that meets the condition."
   ]
  },
  {
   "cell_type": "markdown",
   "id": "fb6f71c5",
   "metadata": {},
   "source": [
    "### 15. What is the syntax for matching both numbers and lowercase letters with a character class?\n",
    "             The Synatax is Either [a-z0-9] or [0-9a-z]"
   ]
  },
  {
   "cell_type": "markdown",
   "id": "aabb062e",
   "metadata": {},
   "source": [
    "### 16. What is the procedure for making a normal expression in regax case insensitive?\n",
    "\n",
    "             We can pass re.IGNORECASE as a flag to make a noraml expression case insensitive\n",
    "             "
   ]
  },
  {
   "cell_type": "markdown",
   "id": "c5975e92",
   "metadata": {},
   "source": [
    "### 17. What does the . character normally match? What does it match if re.DOTALL is passed as 2nd argument in re.compile()?\n",
    "             Dot . character matches everything in input except newline character .\n",
    "             By passing re.DOTALL as a flag to re.compile(), you can make the dot character match all characters,\n",
    "             including the newline character."
   ]
  },
  {
   "cell_type": "markdown",
   "id": "34fcabe7",
   "metadata": {},
   "source": [
    "### 18. If numReg = re.compile(r'\\d+'), what will numRegex.sub('X', '11 drummers, 10 pipers, five rings, 4 hen') return?\n",
    "\n",
    "            The Ouput will be 'X drummers, X pipers, five rings, X hen'"
   ]
  },
  {
   "cell_type": "code",
   "execution_count": 20,
   "id": "a6101e90",
   "metadata": {},
   "outputs": [
    {
     "data": {
      "text/plain": [
       "'X drummers, X pipers, five rings, X hen'"
      ]
     },
     "execution_count": 20,
     "metadata": {},
     "output_type": "execute_result"
    }
   ],
   "source": [
    "import re\n",
    "numReg = re.compile(r'\\d+')\n",
    "numReg.sub('X', '11 drummers, 10 pipers, five rings, 4 hen')"
   ]
  },
  {
   "cell_type": "markdown",
   "id": "cf099461",
   "metadata": {},
   "source": [
    "### 19. What does passing re.VERBOSE as the 2nd argument to re.compile() allow to do?\n",
    "       re.VERBOSE will allow to add whitespace and comments to string passed to re.compile()."
   ]
  },
  {
   "cell_type": "markdown",
   "id": "fde99b03",
   "metadata": {},
   "source": [
    "### 20. How would you write a regex that matche a number with comma for every three digits? It must match the given following:\n",
    "\n",
    " #####       '42'\n",
    " #####       '1,234'\n",
    " #####       '6,368,745'\n",
    " #####        but not the following:\n",
    " ##### '12,34,567' (which has only two digits between the commas)\n",
    " ##### '1234' (which lacks commas)\n",
    "\n"
   ]
  },
  {
   "cell_type": "code",
   "execution_count": 21,
   "id": "1590280a",
   "metadata": {},
   "outputs": [
    {
     "name": "stdout",
     "output_type": "stream",
     "text": [
      "Output: 42 -> <re.Match object; span=(0, 2), match='42'>\n",
      "Output: 1,234 -> <re.Match object; span=(0, 5), match='1,234'>\n",
      "Output: 6,368,745 -> <re.Match object; span=(0, 9), match='6,368,745'>\n",
      "Output: 12,34,567 -> None\n",
      "Output: 1234 -> None\n"
     ]
    }
   ],
   "source": [
    "import re\n",
    "pattern = r'^\\d{1,3}(,\\d{3})*$'\n",
    "pagex = re.compile(pattern)\n",
    "for ele in ['42','1,234', '6,368,745','12,34,567','1234']:\n",
    "    print('Output:',ele, '->', pagex.search(ele))"
   ]
  },
  {
   "cell_type": "markdown",
   "id": "79a10914",
   "metadata": {},
   "source": [
    "### 21. How would you write a regex that matches the full name of someone whose last name is Watanabe? You can assume that the first name that comes before it will always be one word that begins with a capital letter. The regex must match the following:\n",
    "\n",
    "    'Haruto Watanabe'\n",
    "    'Alice Watanabe'\n",
    "    'RoboCop Watanabe'\n",
    "    but not the following:\n",
    "\n",
    "    'haruto Watanabe' (where the first name is not capitalized)\n",
    "    'Mr. Watanabe' (where the preceding word has a nonletter character)\n",
    "    'Watanabe' (which has no first name)\n",
    "    'Haruto watanabe' (where Watanabe is not capitalized)\n",
    "\n"
   ]
  },
  {
   "cell_type": "code",
   "execution_count": 23,
   "id": "3dda1295",
   "metadata": {},
   "outputs": [
    {
     "data": {
      "text/plain": [
       "re.compile(r'[A-Z]{1}[a-z]*\\sWatanabe', re.UNICODE)"
      ]
     },
     "execution_count": 23,
     "metadata": {},
     "output_type": "execute_result"
    }
   ],
   "source": [
    "pattern = r'[A-Z]{1}[a-z]*\\sWatanabe'\n",
    "re.compile(pattern)"
   ]
  },
  {
   "cell_type": "markdown",
   "id": "d1e76417",
   "metadata": {},
   "source": [
    "### 22. How would you write a regex that matches a sentence where the first word is either Alice, Bob, or Carol; the second word is either eats, pets, or throws; the third word is apples, cats, or baseballs; and the sentence ends with a period? This regex should be case-insensitive. It must match the following:\n",
    "\n",
    "    'Alice eats apples.'\n",
    "    'Bob pets cats.'\n",
    "    'Carol throws baseballs.'\n",
    "    'Alice throws Apples.'\n",
    "    'BOB EATS CATS.'\n",
    "    but not the following:\n",
    "\n",
    "    'RoboCop eats apples.'\n",
    "    'ALICE THROWS FOOTBALLS.'\n",
    "    'Carol eats 7 cats.'\n"
   ]
  },
  {
   "cell_type": "code",
   "execution_count": 24,
   "id": "fc162230",
   "metadata": {},
   "outputs": [
    {
     "data": {
      "text/plain": [
       "re.compile(r'(Alice|Bob|Carol)\\s(eats|pets|throws)\\s(apples|cats|baseballs)\\.',\n",
       "re.IGNORECASE|re.UNICODE)"
      ]
     },
     "execution_count": 24,
     "metadata": {},
     "output_type": "execute_result"
    }
   ],
   "source": [
    "re.compile(r'(Alice|Bob|Carol)\\s(eats|pets|throws)\\s(apples|cats|baseballs)\\.', re.IGNORECASE)"
   ]
  },
  {
   "cell_type": "code",
   "execution_count": null,
   "id": "f7a0079b",
   "metadata": {},
   "outputs": [],
   "source": []
  }
 ],
 "metadata": {
  "kernelspec": {
   "display_name": "Python 3",
   "language": "python",
   "name": "python3"
  },
  "language_info": {
   "codemirror_mode": {
    "name": "ipython",
    "version": 3
   },
   "file_extension": ".py",
   "mimetype": "text/x-python",
   "name": "python",
   "nbconvert_exporter": "python",
   "pygments_lexer": "ipython3",
   "version": "3.8.8"
  }
 },
 "nbformat": 4,
 "nbformat_minor": 5
}
