{
 "cells": [
  {
   "cell_type": "markdown",
   "id": "43da8ea6",
   "metadata": {},
   "source": [
    "### 1. What advantages do Excel spreadsheets have over CSV spreadsheets?\n",
    "            The advantages of excel file over csv file as follows\n",
    "              1. Excel files format are better for storing and analysing complex data\n",
    "              2. excel do operations of formating, formula etc. \n",
    "              3. csv file simple flat file,doesnot contain formula,format"
   ]
  },
  {
   "cell_type": "markdown",
   "id": "1b1372f1",
   "metadata": {},
   "source": [
    "### 2. To construct reader and writer , what do you pass to csv.reader() and csv.writer()?\n",
    "        import csv\n",
    "        In csv.reader() we pass file and dialect.\n",
    "        In csv.writer() we pass fileobj and dialect.\n",
    "            "
   ]
  },
  {
   "cell_type": "markdown",
   "id": "76e057fa",
   "metadata": {},
   "source": [
    "### 3. In what modes can File  for readers and writers be opened?\n",
    "         reader object we open file in read mode 'r'\n",
    "         writer object we open file in write mode 'w'."
   ]
  },
  {
   "cell_type": "markdown",
   "id": "b0cf98f9",
   "metadata": {},
   "source": [
    "### 4. Which method outputs a CSV file from a list argument? \n",
    "        writerow() method will be  used for a list argument."
   ]
  },
  {
   "cell_type": "markdown",
   "id": "a1da393d",
   "metadata": {},
   "source": [
    "### 5. What do the keyword arguments delimiter and lineterminator do?\n",
    "         delimiter is the character that appears between cells on a row and used to separate cells\n",
    "         line terminator is the character that comes at the end of a row and used to separate rows or for new line"
   ]
  },
  {
   "cell_type": "markdown",
   "id": "4884c2e7",
   "metadata": {},
   "source": [
    "### 6. What function returns a Python data structure from a string of JSON data?\n",
    "        loads() method takes a string of JSON data and returns a Python data structure"
   ]
  },
  {
   "cell_type": "markdown",
   "id": "852dc045",
   "metadata": {},
   "source": [
    "### 7. What function returns a string of JSON data from a Python data structure?\n",
    "        dumps() method takes a python data structure and returns a string of JSON data"
   ]
  },
  {
   "cell_type": "code",
   "execution_count": null,
   "id": "94b3b5e0",
   "metadata": {},
   "outputs": [],
   "source": []
  }
 ],
 "metadata": {
  "kernelspec": {
   "display_name": "Python 3",
   "language": "python",
   "name": "python3"
  },
  "language_info": {
   "codemirror_mode": {
    "name": "ipython",
    "version": 3
   },
   "file_extension": ".py",
   "mimetype": "text/x-python",
   "name": "python",
   "nbconvert_exporter": "python",
   "pygments_lexer": "ipython3",
   "version": "3.8.8"
  }
 },
 "nbformat": 4,
 "nbformat_minor": 5
}
