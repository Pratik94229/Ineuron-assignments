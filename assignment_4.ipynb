{
 "cells": [
  {
   "cell_type": "code",
   "execution_count": null,
   "id": "51e989c3",
   "metadata": {},
   "outputs": [],
   "source": [
    "'''List of questions\n",
    "1. Write a Python Program to Find the Factorial of a Number? \n",
    "2. Write a Python Program to Display the multiplication Table? \n",
    "3. Write a Python Program to Print the Fibonacci sequence? \n",
    "4. Write a Python Program to Check Armstrong Number? \n",
    "5. Write a Python Program to Find Armstrong Number in an Interval?\n",
    "6. Write a Python Program to Find the Sum of Natural Numbers?'''"
   ]
  },
  {
   "cell_type": "code",
   "execution_count": 1,
   "id": "a0ec5d55",
   "metadata": {},
   "outputs": [
    {
     "name": "stdout",
     "output_type": "stream",
     "text": [
      "Enter number whose factorial needs to be calculated 5\n",
      "Factorial of number is: 120\n"
     ]
    }
   ],
   "source": [
    "N=int(input(\"Enter number whose factorial needs to be calculated \")) \n",
    "j=1 \n",
    "for i in range(1,N+1): \n",
    "    j=j*i\n",
    "print(\"Factorial of number is:\",j)"
   ]
  },
  {
   "cell_type": "code",
   "execution_count": 2,
   "id": "5f917209",
   "metadata": {},
   "outputs": [
    {
     "name": "stdout",
     "output_type": "stream",
     "text": [
      "Enter number whose table needs to be calculated 5\n",
      "5 X 1 = 5\n",
      "5 X 2 = 10\n",
      "5 X 3 = 15\n",
      "5 X 4 = 20\n",
      "5 X 5 = 25\n",
      "5 X 6 = 30\n",
      "5 X 7 = 35\n",
      "5 X 8 = 40\n",
      "5 X 9 = 45\n",
      "5 X 10 = 50\n"
     ]
    }
   ],
   "source": [
    "N=int(input(\"Enter number whose table needs to be calculated \")) \n",
    "j=1 \n",
    "for i in range(1,11): \n",
    "    print(N,\"X\",i,\"=\",N*i)"
   ]
  },
  {
   "cell_type": "code",
   "execution_count": 5,
   "id": "49f3dedb",
   "metadata": {},
   "outputs": [
    {
     "name": "stdout",
     "output_type": "stream",
     "text": [
      "Enter number of terms of fibonacci series which needs to be printed 10\n",
      "[0, 1, 1, 2, 3, 5, 8, 13, 21, 34, 55, 89]\n"
     ]
    }
   ],
   "source": [
    "N=int(input(\"Enter number of terms of fibonacci series which needs to be printed \"))\n",
    "a=0 \n",
    "b=1 \n",
    "l1=[0,1] \n",
    "for i in range(0,N): \n",
    "    c=a+b\n",
    "    l1.append(c) \n",
    "    a=b \n",
    "    b=c\n",
    "print(l1)"
   ]
  },
  {
   "cell_type": "code",
   "execution_count": 11,
   "id": "ec129a88",
   "metadata": {},
   "outputs": [
    {
     "name": "stdout",
     "output_type": "stream",
     "text": [
      "Enter number which needs to be checked for being armstrong no.153\n",
      "No. is armstrong no.\n"
     ]
    }
   ],
   "source": [
    "N=input(\"Enter number which needs to be checked for being armstrong no.\") \n",
    "sum=0 \n",
    "for i in N: \n",
    "    sum=sum+int(i)**len(N)\n",
    "if sum==int(N): \n",
    "    print(\"No. is armstrong no.\")\n",
    "else: \n",
    "    print(\"no. is not armstrong no.\")"
   ]
  },
  {
   "cell_type": "code",
   "execution_count": 14,
   "id": "17326404",
   "metadata": {},
   "outputs": [
    {
     "name": "stdout",
     "output_type": "stream",
     "text": [
      "Enter number upto which armstrong no. needs to be printer 1000\n",
      "0\n",
      "1\n",
      "2\n",
      "3\n",
      "4\n",
      "5\n",
      "6\n",
      "7\n",
      "8\n",
      "9\n",
      "153\n",
      "370\n",
      "370\n",
      "371\n",
      "407\n"
     ]
    }
   ],
   "source": [
    "N=input(\"Enter number upto which armstrong no. needs to be printer \") \n",
    "def is_armstrong(N): \n",
    "    sum=0 \n",
    "    for i in str(N): \n",
    "        sum=sum+int(i)**len(str(N))\n",
    "        if sum==int(N): \n",
    "            print(N)\n",
    "for i in range(0,int(N)): \n",
    "    is_armstrong(i)"
   ]
  },
  {
   "cell_type": "code",
   "execution_count": 15,
   "id": "2cedd10a",
   "metadata": {},
   "outputs": [
    {
     "name": "stdout",
     "output_type": "stream",
     "text": [
      "Enter number of terms of natural no. whose sum needs to be calculated 10\n",
      "sum of first 10 natural number is 55\n"
     ]
    }
   ],
   "source": [
    "N=int(input(\"Enter number of terms of natural no. whose sum needs to be calculated \")) \n",
    "j=0 \n",
    "for i in range(0,N+1): \n",
    "    j=j+i\n",
    "print(\"sum of first\",N,\"natural number is\",j)"
   ]
  },
  {
   "cell_type": "code",
   "execution_count": null,
   "id": "73dfab5d",
   "metadata": {},
   "outputs": [],
   "source": []
  }
 ],
 "metadata": {
  "kernelspec": {
   "display_name": "Python 3 (ipykernel)",
   "language": "python",
   "name": "python3"
  },
  "language_info": {
   "codemirror_mode": {
    "name": "ipython",
    "version": 3
   },
   "file_extension": ".py",
   "mimetype": "text/x-python",
   "name": "python",
   "nbconvert_exporter": "python",
   "pygments_lexer": "ipython3",
   "version": "3.9.12"
  }
 },
 "nbformat": 4,
 "nbformat_minor": 5
}
