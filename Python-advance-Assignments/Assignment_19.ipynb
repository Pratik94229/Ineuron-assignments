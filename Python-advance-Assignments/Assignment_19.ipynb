{
 "cells": [
  {
   "cell_type": "markdown",
   "id": "80a0efa8",
   "metadata": {},
   "source": [
    "### 1. Define the relationship between a class and its instances. Is it a one-to-one or a one-to-many partnership, for example?\n",
    "        Relationship between a class and its instances is a one to many partnership."
   ]
  },
  {
   "cell_type": "markdown",
   "id": "5b6443be",
   "metadata": {},
   "source": [
    "### 2. What kind of data is held only in an instance?\n",
    "        Instance objects contains the Instance variables which are specific to that specific Instance object."
   ]
  },
  {
   "cell_type": "markdown",
   "id": "d86a48fc",
   "metadata": {},
   "source": [
    "### 3. What kind of knowledge is stored in a class?\n",
    "    Class creates a user-defined data structure, which holds its own data members and member functions, \n",
    "    which can be accessed and used by creating an instance of that class. A class is like a blueprint for an object."
   ]
  },
  {
   "cell_type": "markdown",
   "id": "b243b176",
   "metadata": {},
   "source": [
    "### 4. What exactly is a method, and how is it different from a regular function?\n",
    "     The methods with a class can be used to access the insatnce variables of its instance. So,the object's state\n",
    "     can be modified by its method. Function can't access the attributes of an instance of a class or can't\n",
    "     modify the state of the object."
   ]
  },
  {
   "cell_type": "markdown",
   "id": "05afb4d8",
   "metadata": {},
   "source": [
    "### 5. Is inheritance supported in Python, and if so, what is the syntax?\n",
    "    Yes,Python supports inheritance. The Types of Inheritence Supported by Python are:\n",
    "\n",
    "    Simple Inheritence\n",
    "    Multiple Inheritence\n",
    "    Multilevel lInheritence\n",
    "    Hybrid Inheritence\n",
    "    Hierracial Inheritence"
   ]
  },
  {
   "cell_type": "markdown",
   "id": "19a9bca4",
   "metadata": {},
   "source": [
    "### 6. How much encapsulation (making instance or class variables private) does Python support?\n",
    "     Encapsulation describes the idea of wrapping data and the methods that work on data within one unit.\n",
    "     This puts restrictions on accessing variables and methods directly and can prevent the accidental modification \n",
    "     of data. To prevent accidental change, an objects variable can only be changed by an objects method."
   ]
  },
  {
   "cell_type": "markdown",
   "id": "3f212461",
   "metadata": {},
   "source": [
    "### 7. How do you distinguish between a class variable and an instance variable?\n",
    "     The Class Attribute is available to all the instance objects of that class.\n",
    "     Instance Attributes are accessible only to the object or Instance of that class."
   ]
  },
  {
   "cell_type": "markdown",
   "id": "36b40eb9",
   "metadata": {},
   "source": [
    "### 8. When, if ever, can self be included in a class's method definitions?\n",
    "    Yes\n",
    "    self can included in class method definations to access the instance variables inside class methods."
   ]
  },
  {
   "cell_type": "markdown",
   "id": "a5f103bb",
   "metadata": {},
   "source": [
    "### 9. What is the difference between the __add__ and the __radd__ methods ?\n",
    "     Entering __radd__ Python will first try __add__(), and if that returns Not Implemented Python will check\n",
    "     if the right-hand operand implements __radd__, and if it does, it will call __radd__() rather than raising a TypeError"
   ]
  },
  {
   "cell_type": "markdown",
   "id": "468b0cd2",
   "metadata": {},
   "source": [
    "### 10. When is it necessary to use a reflection method? When do you not need it, even though you support the operation in question?\n",
    "     Reflection method we often encounter the requirement that a method in the executing object, or a variable \n",
    "     in the calling object, or a field of the object should be assigned, while the method name or field name\n",
    "     can not be determined when encoding the code, and need to be input in the form of passing strings through parameters."
   ]
  },
  {
   "cell_type": "markdown",
   "id": "34380cb2",
   "metadata": {},
   "source": [
    "### 11. What is the __iadd__ method called?\n",
    "        when we use implementation like a+=b which is a.__iadd__(b)"
   ]
  },
  {
   "cell_type": "markdown",
   "id": "c22c57a8",
   "metadata": {},
   "source": [
    "### 12. Is the _ _init_ _ method inherited by subclasses? What do you do if you need to customize its behavior within a subclass ?\n",
    "     Yes\n",
    "     __init__ method will be inherited by subclasses. if we want to customize its behaviour within \n",
    "     a subclass we can use super() method."
   ]
  },
  {
   "cell_type": "code",
   "execution_count": null,
   "id": "8172a755",
   "metadata": {},
   "outputs": [],
   "source": []
  }
 ],
 "metadata": {
  "kernelspec": {
   "display_name": "Python 3",
   "language": "python",
   "name": "python3"
  },
  "language_info": {
   "codemirror_mode": {
    "name": "ipython",
    "version": 3
   },
   "file_extension": ".py",
   "mimetype": "text/x-python",
   "name": "python",
   "nbconvert_exporter": "python",
   "pygments_lexer": "ipython3",
   "version": "3.8.8"
  }
 },
 "nbformat": 4,
 "nbformat_minor": 5
}
