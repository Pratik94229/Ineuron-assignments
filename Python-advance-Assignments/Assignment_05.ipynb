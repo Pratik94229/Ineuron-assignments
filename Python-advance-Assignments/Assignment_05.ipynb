{
 "cells": [
  {
   "cell_type": "markdown",
   "id": "c384bec4",
   "metadata": {},
   "source": [
    "### 1. What is the meaning of multiple inheritance?\n",
    "    When two or more base classes are used for deriving a new class, it is  called multiple Inheritance"
   ]
  },
  {
   "cell_type": "code",
   "execution_count": 1,
   "id": "197fa420",
   "metadata": {},
   "outputs": [],
   "source": [
    "class Parent_one:\n",
    "    pass\n",
    "class Parent_two:\n",
    "    pass\n",
    "class child(Parent_one,Parent_two):\n",
    "    pass"
   ]
  },
  {
   "cell_type": "markdown",
   "id": "2bf57ecc",
   "metadata": {},
   "source": [
    "### 2. What is the concept of delegation?\n",
    "        Delegation provides a proxy object for any class thay you want on top of the main class. its like a wrapper to \n",
    "        your class so that you can access limited resources of the main class.\n",
    "\n",
    "        it Wraps the object of main class into a smaller object with limited access"
   ]
  },
  {
   "cell_type": "markdown",
   "id": "4f29f878",
   "metadata": {},
   "source": [
    "### 3. What is the concept of composition?\n",
    "       A class refers to one or more other classes by using instances of those classes as a instance variable.\n",
    "       irrespective  of    inheritence in this approach all the parent class members are not inherited into child class,\n",
    "       but only required methods from a class are used by using class instances."
   ]
  },
  {
   "cell_type": "markdown",
   "id": "54dddfc3",
   "metadata": {},
   "source": [
    "### 4. What are bound methods and how do we use them?\n",
    "        If a function is an attribute of class and it is accessed via the instances, they are called bound methods.\n",
    "        A bound method is one that has self as its first argument. Since these are dependent on the instance of classes, \n",
    "        these are also known as instance methods."
   ]
  },
  {
   "cell_type": "markdown",
   "id": "93598014",
   "metadata": {},
   "source": [
    "### 5. What is the purpose of pseudoprivate attributes?\n",
    "     Pseudoprivate attributes are also useful in larger frameworks or tools, both to avoid introducing new method names\n",
    "     that might accidentally hide definitions elsewhere in the class tree and to reduce the chance of internal methods\n",
    "     being replaced by names defined lower in the tree. If a method is intended for use only within a class that may be \n",
    "     mixed into other classes, the double underscore prefix ensures that the method won't interfere with other names in \n",
    "     the tree, especially in multiple-inheritance scenarios"
   ]
  },
  {
   "cell_type": "code",
   "execution_count": null,
   "id": "3ee4b148",
   "metadata": {},
   "outputs": [],
   "source": []
  }
 ],
 "metadata": {
  "kernelspec": {
   "display_name": "Python 3",
   "language": "python",
   "name": "python3"
  },
  "language_info": {
   "codemirror_mode": {
    "name": "ipython",
    "version": 3
   },
   "file_extension": ".py",
   "mimetype": "text/x-python",
   "name": "python",
   "nbconvert_exporter": "python",
   "pygments_lexer": "ipython3",
   "version": "3.8.8"
  }
 },
 "nbformat": 4,
 "nbformat_minor": 5
}
