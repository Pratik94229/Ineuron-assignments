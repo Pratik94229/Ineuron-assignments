{
 "cells": [
  {
   "cell_type": "markdown",
   "id": "7f54abdb",
   "metadata": {},
   "source": [
    "### 1. If you have any, what are your choices for increasing the comparison between different figures on the same graph?\n",
    "     Matplotlib provides a convenient method called subplots for increasing the comparison between different figures\n",
    "     on the same graph. Subplots mean a group of smaller axes (where each axis is a plot) that can exist together within\n",
    "     a single figure."
   ]
  },
  {
   "cell_type": "markdown",
   "id": "ff5ac7a5",
   "metadata": {},
   "source": [
    "### 2. Can you explain the benefit of compound interest over a higher rate of interest that does not compound after reading this chapter?\n",
    "      Compound interest makes a sum of money grow at a faster rate than simple interest,because in addition to earning\n",
    "      returns on the money you invest, you also earn returns on those returns at the end of every compounding period,\n",
    "      which could be daily, monthly, quarterly or annually."
   ]
  },
  {
   "cell_type": "markdown",
   "id": "d868bd90",
   "metadata": {},
   "source": [
    "### 3. What is a histogram, exactly? Name a numpy method for creating such a graph ?\n",
    "     Histogram shows total values of X wrt Y. Which means at any particular position of X, Y value shows\n",
    "     the total number of counts or data below that value of X. \n",
    "     numpy.histogram() is the built in function used. "
   ]
  },
  {
   "cell_type": "markdown",
   "id": "5b5a903b",
   "metadata": {},
   "source": [
    "### 4. If necessary, how do you change the aspect ratios between the X and Y axes ?\n",
    "     We can use `figure(figsize=(20,10))` function inside the `matplot.pyplot` library which we scale down or up the graph."
   ]
  },
  {
   "cell_type": "markdown",
   "id": "18091d18",
   "metadata": {},
   "source": [
    "### 5. Compare and contrast the three types of array multiplication between two numpy arrays: dot product, outer product, and regular multiplication of two numpy arrays ?\n",
    "    In regular multiplication values of same index get multiplied.\n",
    "    In dot product there is row wise multiplication, row of one array with column of second array and so on.\n",
    "    In outer multiplication every element of first array a1 will be multiply by every element of other array a2 "
   ]
  },
  {
   "cell_type": "markdown",
   "id": "0a012fca",
   "metadata": {},
   "source": [
    "### 6. Before you buy a home, which numpy function will you use to measure your monthly mortgage payment ?\n",
    "    np.pmt(rate, nper, pv) function will be using in order to calculate monthly mortgage payment before you purchase\n",
    "                        a house.\n",
    "    rate = The periodic interest rate\n",
    "    nper = The number of payment periods\n",
    "    pv  = The total value of the mortgage loan"
   ]
  },
  {
   "cell_type": "markdown",
   "id": "264d8ec4",
   "metadata": {},
   "source": [
    "### 7. Can string data be stored in numpy arrays? If so, list at least one restriction that applies to this data ?\n",
    "     Yes\n",
    "     An array can store the string. The limitation which imposed on the string data is, whenever we store the\n",
    "     data of string dtype then it should should keep in mind that the string which is having the maximum length \n",
    "     is the limit. "
   ]
  },
  {
   "cell_type": "code",
   "execution_count": null,
   "id": "099b5297",
   "metadata": {},
   "outputs": [],
   "source": []
  }
 ],
 "metadata": {
  "kernelspec": {
   "display_name": "Python 3",
   "language": "python",
   "name": "python3"
  },
  "language_info": {
   "codemirror_mode": {
    "name": "ipython",
    "version": 3
   },
   "file_extension": ".py",
   "mimetype": "text/x-python",
   "name": "python",
   "nbconvert_exporter": "python",
   "pygments_lexer": "ipython3",
   "version": "3.8.8"
  }
 },
 "nbformat": 4,
 "nbformat_minor": 5
}
