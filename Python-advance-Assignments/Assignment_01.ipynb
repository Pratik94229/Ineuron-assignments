{
 "cells": [
  {
   "cell_type": "markdown",
   "id": "10e03738",
   "metadata": {},
   "source": [
    "### 1. What is the purpose of Python's OOP?\n",
    "    1. it helps to a programmer to reduce the complexity of programs by reusing existing modules or functions\n",
    "    2.The concept of programming language is based on class.\n",
    "    3.The main concept of OOPs is to bind the data and the functions that work on that together as a single unit \n",
    "       so that no other part of the code can access this data.\n",
    "    4.Multiple instances of an object can be made."
   ]
  },
  {
   "cell_type": "markdown",
   "id": "df0bbd68",
   "metadata": {},
   "source": [
    "### 2. Where does an inheritance search look for an attribute?\n",
    "     Python searches for an attribute in an upward tree of attributes. it first searches for the attribute \n",
    "     in its instance and then looks in the class it is generated from, to all super classes listed in its class header"
   ]
  },
  {
   "cell_type": "markdown",
   "id": "3514dbd0",
   "metadata": {},
   "source": [
    "### 3. How do you distinguish between a class object and an instance object?\n",
    "    A Class is created once. Many objects are created using a class.\n",
    "    An instance is a single and unique unit of a class\n",
    "    Seperate memory is allocated for each object whenever an object is created. but for a class this doesnot happens"
   ]
  },
  {
   "cell_type": "markdown",
   "id": "21c53e4e",
   "metadata": {},
   "source": [
    "### 4. What makes the first argument in a class’s method function special?\n",
    "    self is the first argument for instance methods. which refers to the object itself\n",
    "    The self-parameter is used in the implementation of the method"
   ]
  },
  {
   "cell_type": "markdown",
   "id": "713d5a20",
   "metadata": {},
   "source": [
    "### 5. What is the purpose of the init method?\n",
    "     The __init__ method is known as an initialiser.\n",
    "     It is used to initialise the instance variable of an object. \n",
    "     "
   ]
  },
  {
   "cell_type": "markdown",
   "id": "73f62563",
   "metadata": {},
   "source": [
    "### 6.What is the process for creating a class instance?\n",
    "    First  create a class,then call the class by its name and pass the arguments to the class, \n",
    "    \n",
    "    Example: my_name = my_class(\"Pratik\",\"T\") \n",
    "    Here my_name is an instance of class my_class with attributes \"Pratik\" and \"T\"."
   ]
  },
  {
   "cell_type": "markdown",
   "id": "eab7002d",
   "metadata": {},
   "source": [
    "### 7. What is the process for creating a class?\n",
    "        class keyword is used to created a class in python.\n",
    "        The syntax class <classname>:\n",
    "\n",
    "       Example: class Vegetable: ➞ this creates a class called Vegetable"
   ]
  },
  {
   "cell_type": "markdown",
   "id": "1909f9d2",
   "metadata": {},
   "source": [
    "### 8. How would you define the superclasses of a class?\n",
    "    Superclass/Parent class is given as a arugment to the child class\n",
    "\n",
    "    Example: class Employee(Person): Here child class Employee inherits attributes and methofs from Superclass/Parent Person"
   ]
  },
  {
   "cell_type": "code",
   "execution_count": null,
   "id": "62a81b3d",
   "metadata": {},
   "outputs": [],
   "source": []
  }
 ],
 "metadata": {
  "kernelspec": {
   "display_name": "Python 3",
   "language": "python",
   "name": "python3"
  },
  "language_info": {
   "codemirror_mode": {
    "name": "ipython",
    "version": 3
   },
   "file_extension": ".py",
   "mimetype": "text/x-python",
   "name": "python",
   "nbconvert_exporter": "python",
   "pygments_lexer": "ipython3",
   "version": "3.8.8"
  }
 },
 "nbformat": 4,
 "nbformat_minor": 5
}
