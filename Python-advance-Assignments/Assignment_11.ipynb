{
 "cells": [
  {
   "cell_type": "markdown",
   "id": "a9337028",
   "metadata": {},
   "source": [
    "### 1. What is the concept of a metaclass?\n",
    "    metaclass defines the behavior of certain classes and their instances.\n",
    "    A class is itself a instance of Metaclass, and any Instance of Class in Python is an Instance of type metaclass.\n",
    "    E.g. Type of of int, str, float, list, tuple and many more is of metaclass type."
   ]
  },
  {
   "cell_type": "markdown",
   "id": "ad927ee2",
   "metadata": {},
   "source": [
    "### 2. What is the best way to declare a class's metaclass?"
   ]
  },
  {
   "cell_type": "code",
   "execution_count": 1,
   "id": "0940b3cd",
   "metadata": {},
   "outputs": [
    {
     "name": "stdout",
     "output_type": "stream",
     "text": [
      "<class 'type'>\n",
      "<class '__main__.meta'>\n"
     ]
    }
   ],
   "source": [
    "class meta(type):\n",
    "    pass\n",
    "class class_meta(metaclass=meta):\n",
    "    pass\n",
    "print(type(meta))\n",
    "print(type(class_meta))"
   ]
  },
  {
   "cell_type": "markdown",
   "id": "416a9195",
   "metadata": {},
   "source": [
    "### 3. How do class decorators overlap with metaclasses for handling classes ?\n",
    "    Anything you can do with a class decorator, you can of course do with a custom metaclasses (just apply the functionality \n",
    "    of the \"decorator function\", i.e., the one that takes a class object and modifies it, in the course of the\n",
    "    metaclass's __new__ or __init__ that make the class object!)."
   ]
  },
  {
   "cell_type": "markdown",
   "id": "1757276e",
   "metadata": {},
   "source": [
    "### 4. How do class decorators overlap with metaclasses for handling instances?\n",
    "    Anything you can do with a class decorator, you can of course do with a custom metaclass (just apply the functionality\n",
    "    of the \"decorator function\", i.e., the one that takes a class object and modifies it, in the course of the\n",
    "    metaclass's __new__ or __init__ that make the class object!)."
   ]
  },
  {
   "cell_type": "code",
   "execution_count": null,
   "id": "00d55de1",
   "metadata": {},
   "outputs": [],
   "source": []
  }
 ],
 "metadata": {
  "kernelspec": {
   "display_name": "Python 3",
   "language": "python",
   "name": "python3"
  },
  "language_info": {
   "codemirror_mode": {
    "name": "ipython",
    "version": 3
   },
   "file_extension": ".py",
   "mimetype": "text/x-python",
   "name": "python",
   "nbconvert_exporter": "python",
   "pygments_lexer": "ipython3",
   "version": "3.8.8"
  }
 },
 "nbformat": 4,
 "nbformat_minor": 5
}
