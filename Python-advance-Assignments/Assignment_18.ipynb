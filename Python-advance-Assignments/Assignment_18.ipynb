{
 "cells": [
  {
   "cell_type": "markdown",
   "id": "c48ad230",
   "metadata": {},
   "source": [
    "### 1. Describe the differences between text and binary files in a single paragraph.\n",
    "        Text files are special subset of binary files that are used to store human readable characters as a rich \n",
    "        text document or plain text document. Text files also store data in sequential bytes but bits in text \n",
    "        file represents characters\n",
    "        \n",
    "        Binary files are those typical files that store data in the form of sequence of bytes grouped into eight bits \n",
    "        or sometimes sixteen bits. These bits represent custom data and such files can store multiple types of data\n",
    "        (images, audio, text, etc) under a single file"
   ]
  },
  {
   "cell_type": "markdown",
   "id": "f9646ff7",
   "metadata": {},
   "source": [
    "### 2. What are some scenarios where using text files will be the better option? When would you like to use binary files instead of text files?\n",
    "         Text files are less prone to get corrupted as any undesired change may just show up once the file is opened and\n",
    "         then can easily be removed. Whereas Use binary files instead of text files for image data"
   ]
  },
  {
   "cell_type": "markdown",
   "id": "0bc05f6a",
   "metadata": {},
   "source": [
    "### 3. What are some of the issues with using binary operations to read and write a Python integer directly to disc?\n",
    "        When we read or write a python integer using binary operations\n",
    "\n",
    "    Binary operations deal with raw data\n",
    "    One needs to identify how many bytes one would read or write"
   ]
  },
  {
   "cell_type": "markdown",
   "id": "51bde30d",
   "metadata": {},
   "source": [
    "### 4. Describe a benefit of using the with keyword instead of explicitly opening a file ?\n",
    "        When a file is opened using the with keyword, if some exceptions occur after opening a file, or at the end\n",
    "        of the file it automatically does the closing of the file. There by not leaving an file in open mode and\n",
    "        there would no need to explicitly close a file."
   ]
  },
  {
   "cell_type": "markdown",
   "id": "04cf8575",
   "metadata": {},
   "source": [
    "### 5. Does Python have the trailing newline while reading a line of text? Does Python append a newline when you write a line of text?\n",
    "            Yes, Python have the trailing newline while reading a line of text. When we write a newline has to\n",
    "            be provided in python excpicitly."
   ]
  },
  {
   "cell_type": "markdown",
   "id": "71a948c9",
   "metadata": {},
   "source": [
    "### 6. What file operations enable for random-access operation?\n",
    "        seek() and tell()"
   ]
  },
  {
   "cell_type": "markdown",
   "id": "c8666c80",
   "metadata": {},
   "source": [
    "### 7. When do you think you'll use the struct package the most?\n",
    "        The struct package is mostly used while converting a common python types into C language types."
   ]
  },
  {
   "cell_type": "markdown",
   "id": "4182ff1c",
   "metadata": {},
   "source": [
    "### 8. When is pickling the best option?\n",
    "        Pickling is best option for creating a new binary file using python."
   ]
  },
  {
   "cell_type": "markdown",
   "id": "b7e7b8ac",
   "metadata": {},
   "source": [
    "### 9. When will it be best to use the shelve package?\n",
    "        Shelve package is used to pickle data but treats the entire file as dictionary."
   ]
  },
  {
   "cell_type": "markdown",
   "id": "5413f859",
   "metadata": {},
   "source": [
    "### 10. What is a special restriction when using the shelve package, as opposed to using other data dictionaries?\n",
    "        Only string data type can be used as key in this special dictionary object, whereas any picklable Python object \n",
    "        can be used as value."
   ]
  },
  {
   "cell_type": "code",
   "execution_count": null,
   "id": "bf323277",
   "metadata": {},
   "outputs": [],
   "source": []
  }
 ],
 "metadata": {
  "kernelspec": {
   "display_name": "Python 3",
   "language": "python",
   "name": "python3"
  },
  "language_info": {
   "codemirror_mode": {
    "name": "ipython",
    "version": 3
   },
   "file_extension": ".py",
   "mimetype": "text/x-python",
   "name": "python",
   "nbconvert_exporter": "python",
   "pygments_lexer": "ipython3",
   "version": "3.8.8"
  }
 },
 "nbformat": 4,
 "nbformat_minor": 5
}
