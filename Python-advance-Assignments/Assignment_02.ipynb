{
 "cells": [
  {
   "cell_type": "markdown",
   "id": "d620b86f",
   "metadata": {},
   "source": [
    "### 1. What is the relationship between classes and modules?\n",
    "    class is used to define a blueprint for a given object\n",
    "    module is used to reuse a given piece of code inside another program.\n",
    "    class can have its own instance\n",
    "    module cannot be instantiated\n",
    "    Modules are simply files with the . py extension containing Python code \n",
    "           that can be imported inside another Python Program. \n",
    "    "
   ]
  },
  {
   "cell_type": "markdown",
   "id": "6de63d98",
   "metadata": {},
   "source": [
    "### 2. How do you make instances and classes?\n",
    "     class instance-   we call a class by its name and pass the arguments \n",
    "     Class-  it is a keyword, keyword is followed by classname and semicolon.\n",
    "    \n",
    "   "
   ]
  },
  {
   "cell_type": "markdown",
   "id": "3b369f7e",
   "metadata": {},
   "source": [
    "### 3. Where and how should be class attributes created?\n",
    "\n",
    "    Class attributes or Class level Attributes belong to the class itself.\n",
    "    these attributes will be shared by all the instances of the class. \n",
    "    Hence these attributes are usually created/defined in the top of class definiation outside all methods."
   ]
  },
  {
   "cell_type": "markdown",
   "id": "fc9e187d",
   "metadata": {},
   "source": [
    "### 4. Where and how are instance attributes created?\n",
    "             Instances attributes are passed to the class when an object of the class is created.\n",
    "             Unlike class attributes, instance attributes are not shared by all objects of the classs.\n",
    "             instead each object maintains its own copy of instance attributes at object level.\n",
    "             whereas incase of class attributes all instances of class refer to a single copy.\n",
    "             Usually instance attributes are defined within the __init__ method of class\n",
    "\n",
    "\n",
    "\n",
    "        class Car:\n",
    "            def __init__(self,color,price,engine):\n",
    "                self.color = color #  instance attributes\n",
    "                self.price = price\n",
    "                self.engine = engine\n",
    "\n",
    "          nano = Car('red', 800000, 'electric')  # instance \n",
    "          creta= Car('merun',1200000, 'petrol')\n",
    "\n"
   ]
  },
  {
   "cell_type": "markdown",
   "id": "66cc9e98",
   "metadata": {},
   "source": [
    "### 5. What does the term \"self\" in a Python class mean?\n",
    "       * it work as a reference to the current object whose method is invoked\n",
    "       * it can also be used to refer any attribute/member variable or instance variable of the current\n",
    "          object from within the instance method. \n",
    "        * The self is used to handle variables."
   ]
  },
  {
   "cell_type": "markdown",
   "id": "900dd054",
   "metadata": {},
   "source": [
    "### 6. How does a Python class handle operator overloading?\n",
    "    Python Classes handle operator overloading by using special methods. these special methods usually\n",
    "    begin and end with __ (double underscore)\n",
    "    \n",
    "    Special methods for operator overloading\n",
    "     +      __add__()\n",
    "     -      __sub__()\n",
    "     *      __mul__()\n",
    "     /       __div__()"
   ]
  },
  {
   "cell_type": "markdown",
   "id": "862206af",
   "metadata": {},
   "source": [
    "### 7. When do you consider allowing operator overloading of your classes?\n",
    "    When we want to have different meaning for the same operator accroding to the context we use operator overloading."
   ]
  },
  {
   "cell_type": "markdown",
   "id": "d42a6643",
   "metadata": {},
   "source": [
    "### 8. What is the most popular form of operator overloading?\n",
    "    The most popular form of operator overloading in python is by special methods .\n",
    "    Which usually beign and end with double underscore __<method name>__.\n",
    "    "
   ]
  },
  {
   "cell_type": "markdown",
   "id": "12203968",
   "metadata": {},
   "source": [
    "### 9. What are the two most important concepts to grasp in order to comprehend Python OOP code?\n",
    "    Classes and objects are the two concepts to comprehend python OOP code as more formally objects are entities \n",
    "    that represent instances of general abstract concept called class\n",
    "\n",
    "    Along with classes and objects the important concepts to grasp are:\n",
    "\n",
    "    Inheritence\n",
    "    Abstraction\n",
    "    Polymorphism\n",
    "    Encapsulation"
   ]
  },
  {
   "cell_type": "code",
   "execution_count": null,
   "id": "6205ee90",
   "metadata": {},
   "outputs": [],
   "source": []
  }
 ],
 "metadata": {
  "kernelspec": {
   "display_name": "Python 3",
   "language": "python",
   "name": "python3"
  },
  "language_info": {
   "codemirror_mode": {
    "name": "ipython",
    "version": 3
   },
   "file_extension": ".py",
   "mimetype": "text/x-python",
   "name": "python",
   "nbconvert_exporter": "python",
   "pygments_lexer": "ipython3",
   "version": "3.8.8"
  }
 },
 "nbformat": 4,
 "nbformat_minor": 5
}
