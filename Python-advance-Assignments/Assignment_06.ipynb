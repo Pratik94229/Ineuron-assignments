{
 "cells": [
  {
   "cell_type": "markdown",
   "id": "7d46fe2d",
   "metadata": {},
   "source": [
    "### 1. Describe three applications for exception processing.\n",
    "     Exception Processing is important to find exceptions that causes the runtime error\n",
    "     Applications are as follows\n",
    "        Checking Appropriate use of input in an application\n",
    "        Checking for Arithmetic exceptions in mathematical executions\n",
    "        Checking File I/O exceptions during File handling\n",
    "        "
   ]
  },
  {
   "cell_type": "markdown",
   "id": "ffbbe970",
   "metadata": {},
   "source": [
    "### 2. What happens if you don't do something extra to treat an exception?\n",
    "     program will be broken during the run time which might lead to a abnormal termination of the program. \n",
    "     Inshort inability of program to handle exceptions will result in crash of program."
   ]
  },
  {
   "cell_type": "markdown",
   "id": "fdc8464c",
   "metadata": {},
   "source": [
    "### 3. What are your options for recovering from an exception in your script?\n",
    "    try and except statements for recovering from an exception in your script."
   ]
  },
  {
   "cell_type": "markdown",
   "id": "70e78d23",
   "metadata": {},
   "source": [
    "### 4. Describe two methods for triggering exceptions in your script ?\n",
    "\n",
    "    1. raise-method triggers an exception if condition provided to it turns out to be True.\n",
    "    2. assert will let the program to continue execution if condition provided to it turns out to be True else exception \n",
    "       will be raised"
   ]
  },
  {
   "cell_type": "markdown",
   "id": "747f34f0",
   "metadata": {},
   "source": [
    "### 5. Identify two methods for specifying actions to be executed at termination time, regardless of whether or not an exception exists.\n",
    "        Two methods are\n",
    "                       else and finally"
   ]
  },
  {
   "cell_type": "code",
   "execution_count": null,
   "id": "36374025",
   "metadata": {},
   "outputs": [],
   "source": []
  }
 ],
 "metadata": {
  "kernelspec": {
   "display_name": "Python 3",
   "language": "python",
   "name": "python3"
  },
  "language_info": {
   "codemirror_mode": {
    "name": "ipython",
    "version": 3
   },
   "file_extension": ".py",
   "mimetype": "text/x-python",
   "name": "python",
   "nbconvert_exporter": "python",
   "pygments_lexer": "ipython3",
   "version": "3.8.8"
  }
 },
 "nbformat": 4,
 "nbformat_minor": 5
}
