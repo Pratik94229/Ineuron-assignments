{
 "cells": [
  {
   "cell_type": "markdown",
   "id": "b82f8776",
   "metadata": {},
   "source": [
    "### 1. Compare and contrast the float and Decimal classes' benefits and drawbacks ?\n",
    "    Both the `float` and `decimal` types store numerical values in Python.\n",
    "\n",
    "    Use `floats` when convenience and speed matter. A float gives you an approximation of the number you declare.\n",
    "\n",
    "    Use `decimals` when precision matters. `Decimals` can suffer from their own precision issues, but generally, \n",
    "    decimals` are more precise than `floats`. The performance difference between `float` and `decimal`,\n",
    "    with Python 3, is not outlandish, and in my experience, the precision benefits of a `decimal` outweigh \n",
    "    the performance benefits of a `float`."
   ]
  },
  {
   "cell_type": "markdown",
   "id": "fe9e7286",
   "metadata": {},
   "source": [
    "### 2. Decimal('1.200') and Decimal('1.2') are two objects to consider. In what sense are these the same object?\n",
    "    Are these just two ways of representing the exact same value, or do they correspond to different internal states ? \n",
    "    Both values are same but internal representation at storage Is different. Precsion  differs, \n",
    "    `Decimal('1.200')` gives internally  `1.200` and  `Decimal('1.2')` gives `1.2`."
   ]
  },
  {
   "cell_type": "markdown",
   "id": "22aa614c",
   "metadata": {},
   "source": [
    "### 3. What happens if the equality of Decimal('1.200') and Decimal('1.2') is checked ?\n",
    "    Both values are checked to be equal , they only differ in precision."
   ]
  },
  {
   "cell_type": "markdown",
   "id": "5dc7aa42",
   "metadata": {},
   "source": [
    "### 4. Why is it preferable to start a Decimal object with a string rather than a floating-point value ?\n",
    "     Floating-point value is converted to Decimal format. Decimal can store float value with absolute precision.\n",
    "     But when float value is given as Decimal object,it first has to be converted from floating point value which \n",
    "     might already have rounding error.\n",
    "\n",
    "     Hence it is preferable to start a Decimal object with a string."
   ]
  },
  {
   "cell_type": "markdown",
   "id": "6ccaa4f9",
   "metadata": {},
   "source": [
    "### 5. In an arithmetic phrase, how simple is it to combine Decimal objects with integers ?\n",
    "         We can do it with use of `Decimal()`"
   ]
  },
  {
   "cell_type": "markdown",
   "id": "cb250d13",
   "metadata": {},
   "source": [
    "### 6. Can Decimal objects and floating-point values be combined easily ?\n",
    "        the floating point has to be converted to a Decimal otherwise get error"
   ]
  },
  {
   "cell_type": "markdown",
   "id": "2a86fd24",
   "metadata": {},
   "source": [
    "### 7. Using the Fraction class but not the Decimal class, give an example of a quantity that can be expressed with absolute precision ?\n",
    "             Value of `0.5` will be represented as `½`."
   ]
  },
  {
   "cell_type": "markdown",
   "id": "d50ccfe8",
   "metadata": {},
   "source": [
    "### 8.Consider the following two fraction objects: Fraction(1, 2) and Fraction(1, 2). (5, 10). Is the internal state of these two objects the same? Why do you think that is ?\n",
    "         Both will be reduced to `1/2`"
   ]
  },
  {
   "cell_type": "markdown",
   "id": "ee52215e",
   "metadata": {},
   "source": [
    "### 9. How do the Fraction class and the integer type (int) relate to each other? Containment or inheritance ?\n",
    "    Fraction class and integer type(int) are related in form of a container.It contains two ints, \n",
    "    one the numerator and the other the denominator"
   ]
  },
  {
   "cell_type": "code",
   "execution_count": null,
   "id": "3fe5a6ab",
   "metadata": {},
   "outputs": [],
   "source": []
  }
 ],
 "metadata": {
  "kernelspec": {
   "display_name": "Python 3",
   "language": "python",
   "name": "python3"
  },
  "language_info": {
   "codemirror_mode": {
    "name": "ipython",
    "version": 3
   },
   "file_extension": ".py",
   "mimetype": "text/x-python",
   "name": "python",
   "nbconvert_exporter": "python",
   "pygments_lexer": "ipython3",
   "version": "3.8.8"
  }
 },
 "nbformat": 4,
 "nbformat_minor": 5
}
