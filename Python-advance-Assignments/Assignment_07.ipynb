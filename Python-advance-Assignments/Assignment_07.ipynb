{
 "cells": [
  {
   "cell_type": "markdown",
   "id": "684d26ac",
   "metadata": {},
   "source": [
    "### 1. What is the purpose of the try statement?\n",
    "    The purpose of try blocks to allow you to try to perform and action and then if an exception occurs, catch the exception and     deal with it gracefully rather than crashing."
   ]
  },
  {
   "cell_type": "code",
   "execution_count": 2,
   "id": "520c55ed",
   "metadata": {},
   "outputs": [
    {
     "name": "stdout",
     "output_type": "stream",
     "text": [
      "Division by Zero is Not Possible\n"
     ]
    }
   ],
   "source": [
    "try:\n",
    "    print(3/0)\n",
    "except ZeroDivisionError:\n",
    "    print('Division by Zero is Not Possible')"
   ]
  },
  {
   "cell_type": "markdown",
   "id": "19f22dcd",
   "metadata": {},
   "source": [
    "### 2. What are the two most popular try statement variations?\n",
    "         try statement variations are:\n",
    "\n",
    "                    try,except\n",
    "                    try,except,finally\n",
    "                    try,except,finally,else"
   ]
  },
  {
   "cell_type": "markdown",
   "id": "004465c0",
   "metadata": {},
   "source": [
    "### 3. What is the purpose of the raise statement?\n",
    "        The raise keyword is used to raise an exception.\n",
    "        You can define what kind of error to raise, and the text to print to the user"
   ]
  },
  {
   "cell_type": "markdown",
   "id": "32f562a8",
   "metadata": {},
   "source": [
    "### 4. What does the assert statement do, and what other statement is it like?\n",
    "    it check if the conditions return true or not. \n",
    "    If it is true, the program does nothing and moves to the next line of code. \n",
    "    if it's false, the program stops and throws an Assertion error."
   ]
  },
  {
   "cell_type": "markdown",
   "id": "9da40e50",
   "metadata": {},
   "source": [
    "### 5. What is the purpose of the with/as argument, and what other statement is it like?\n",
    "         with/as statement simplifies use of file handling in python.\n",
    "         When we use a with statement for file reading, there is no need for programmer to explicitly takecare of \n",
    "         activities like resource deallocation and file closing by using file.close() method. \n",
    "         with statement itself ensures proper acquisition and release of resources. this avoids triggering of exceptions \n",
    "         if file  closing is unknowingly forgotten in the code execution.\n",
    "\n",
    "               \\"
   ]
  },
  {
   "cell_type": "code",
   "execution_count": null,
   "id": "aab7834d",
   "metadata": {},
   "outputs": [],
   "source": []
  }
 ],
 "metadata": {
  "kernelspec": {
   "display_name": "Python 3",
   "language": "python",
   "name": "python3"
  },
  "language_info": {
   "codemirror_mode": {
    "name": "ipython",
    "version": 3
   },
   "file_extension": ".py",
   "mimetype": "text/x-python",
   "name": "python",
   "nbconvert_exporter": "python",
   "pygments_lexer": "ipython3",
   "version": "3.8.8"
  }
 },
 "nbformat": 4,
 "nbformat_minor": 5
}
