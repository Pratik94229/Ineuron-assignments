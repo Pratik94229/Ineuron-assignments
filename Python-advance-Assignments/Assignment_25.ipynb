{
 "cells": [
  {
   "cell_type": "markdown",
   "id": "a973adae",
   "metadata": {},
   "source": [
    "### 1. What is the distinction between a numpy array and a pandas data frame? Is there a way to convert between the two if there is ?\n",
    "     Numpy Ndarray provides a lot of convenient and optimized methods for performing several mathematical operations\n",
    "     on vectors.\n",
    "\n",
    "    Pandas Dataframe is an in-memory 2-dimensional tabular representation of data. In simpler words,\n",
    "\n",
    "    Conversion : `Dataframe=pandas.DataFrame(array)`"
   ]
  },
  {
   "cell_type": "markdown",
   "id": "d3891a49",
   "metadata": {},
   "source": [
    "### 2. Identify some of the plotting techniques that are used to produce a stock-market chart ?\n",
    "     Bar chart, Line Chart are used for plotting. "
   ]
  },
  {
   "cell_type": "markdown",
   "id": "6666cdfa",
   "metadata": {},
   "source": [
    "### 3. Why is it essential to print a legend on a stock market chart ?\n",
    "      Legend will help comparison between different stocks, so will be essential on a stock market chart"
   ]
  },
  {
   "cell_type": "markdown",
   "id": "7c16a474",
   "metadata": {},
   "source": [
    "### 4. What is the best way to limit the length of a pandas data frame to less than a year ?\n",
    "     We can use start and end parameters for that. In start we write the date from where we are starting and at the end \n",
    "     we write the end date. SO within this span we can restric the duration.Also we can use the parameters like periods\n",
    "     for how much times we need the duration and we can also use the frequency parameter."
   ]
  },
  {
   "cell_type": "markdown",
   "id": "92e6c512",
   "metadata": {},
   "source": [
    "### 5. What is the definition of a 180-day moving average ?\n",
    "    The 180-day moving average is represented as a line on charts and represents the average price over the past 180 days\n",
    "    The moving average can give traders a sense regarding whether the trend is up or down, while also identifying \n",
    "    potential support or resistance areas."
   ]
  },
  {
   "cell_type": "code",
   "execution_count": null,
   "id": "8e099e8c",
   "metadata": {},
   "outputs": [],
   "source": []
  }
 ],
 "metadata": {
  "kernelspec": {
   "display_name": "Python 3",
   "language": "python",
   "name": "python3"
  },
  "language_info": {
   "codemirror_mode": {
    "name": "ipython",
    "version": 3
   },
   "file_extension": ".py",
   "mimetype": "text/x-python",
   "name": "python",
   "nbconvert_exporter": "python",
   "pygments_lexer": "ipython3",
   "version": "3.8.8"
  }
 },
 "nbformat": 4,
 "nbformat_minor": 5
}
