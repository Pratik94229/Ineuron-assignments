{
 "cells": [
  {
   "cell_type": "markdown",
   "id": "dd4465cb",
   "metadata": {},
   "source": [
    "### 1. Which two operator overloading methods can you use in your classes to support iteration?\n",
    "        __iter__ and __next__ are the operator overloading methods in python that support iteration \n",
    "        \n",
    "        The __iter__ returns the iterator object and is implicitly called at the start of loops.\n",
    "        The __next__ method returns the next value, "
   ]
  },
  {
   "cell_type": "markdown",
   "id": "c9759705",
   "metadata": {},
   "source": [
    "### 2. In what contexts do the two operator overloading methods manage printing?\n",
    "        __str__ and __repr__ are two operator overloading methods that manage printing."
   ]
  },
  {
   "cell_type": "markdown",
   "id": "8d6a083b",
   "metadata": {},
   "source": [
    "### 3. In a class, how do you intercept slice operations?\n",
    "      __getitem__ method is used for intercept slice operation. This slice method is provided with \n",
    "      start integer number, stop integer number and step integer number.\n",
    "\n",
    "      __getitem__(slice(start,stop,step))"
   ]
  },
  {
   "cell_type": "markdown",
   "id": "573ecf47",
   "metadata": {},
   "source": [
    "### 4. In a class, how do you capture in-place addition?\n",
    "        a+=b is in-place addition operation. \n",
    "        In this in-place addition a itself will store the value of addition. \n",
    "        \n",
    "         __iadd__ method is used for this in-place operation"
   ]
  },
  {
   "cell_type": "markdown",
   "id": "7488f8f7",
   "metadata": {},
   "source": [
    "### 5. When is it appropriate to use operator overloading?\n",
    "    when we want to use an operator other than its normal operation to have different meaning according to the \n",
    "    context required in user defined function."
   ]
  },
  {
   "cell_type": "code",
   "execution_count": 2,
   "id": "ab0cd9df",
   "metadata": {},
   "outputs": [
    {
     "name": "stdout",
     "output_type": "stream",
     "text": [
      "Total Number of Pages -> 150\n"
     ]
    }
   ],
   "source": [
    "class Book:\n",
    "    def __init__(self,pages):\n",
    "        self.pages = pages\n",
    "    def __add__(self,other):\n",
    "        return self.pages+other.pages\n",
    "b1 = Book(50)\n",
    "b2 = Book(100)\n",
    "print(f'Total Number of Pages -> {b1+b2}')"
   ]
  },
  {
   "cell_type": "code",
   "execution_count": null,
   "id": "efa0c050",
   "metadata": {},
   "outputs": [],
   "source": []
  }
 ],
 "metadata": {
  "kernelspec": {
   "display_name": "Python 3",
   "language": "python",
   "name": "python3"
  },
  "language_info": {
   "codemirror_mode": {
    "name": "ipython",
    "version": 3
   },
   "file_extension": ".py",
   "mimetype": "text/x-python",
   "name": "python",
   "nbconvert_exporter": "python",
   "pygments_lexer": "ipython3",
   "version": "3.8.8"
  }
 },
 "nbformat": 4,
 "nbformat_minor": 5
}
