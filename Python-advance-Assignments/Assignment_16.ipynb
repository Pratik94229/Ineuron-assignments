{
 "cells": [
  {
   "cell_type": "markdown",
   "id": "a02cc117",
   "metadata": {},
   "source": [
    "### 1. What is the benefit of regular expressions?\n",
    "        it also known as regex or regexp\n",
    "        it is used to match strings of text such as particular characters, words, or patterns of character"
   ]
  },
  {
   "cell_type": "markdown",
   "id": "c8038634",
   "metadata": {},
   "source": [
    "### 2. Describe the difference between the effects of \"(ab)c+\" and \"a(bc)+\" Which of these, if any, is the unqualified pattern \"abc+\"?\n",
    "    Both (ab)c+ and a(bc)+ are valid patterns.\n",
    "     (ab)c+  ab is group \n",
    "     a(bc)+  bc is a group."
   ]
  },
  {
   "cell_type": "markdown",
   "id": "53d9c27f",
   "metadata": {},
   "source": [
    "### 3. How much do you need to use the following sentence while using regular expressions?\n",
    "####        import re\n",
    "\n",
    "     import re statement always has to be imported before using regular expressions."
   ]
  },
  {
   "cell_type": "markdown",
   "id": "65b6722b",
   "metadata": {},
   "source": [
    "### 4. Which characters have special significance in square brackets when expressing a range, and under what circumstances?\n",
    "        The Characters **`.`,`*`,`?`,`^`**,or,**`()`**, have a special signiface when used with square brackets.\n",
    "        They need not be be explicitly escaped by **`\\`** as in case of pattern texts in a raw string."
   ]
  },
  {
   "cell_type": "markdown",
   "id": "6d00975a",
   "metadata": {},
   "source": [
    "### 5. How does compiling a regular-expression object benefit you?\n",
    "    We can Combine a regular expression pattern into pattern Objects.Which can be used for pattern matching.\n",
    "    it also helps to search a pattern again without rewritting it."
   ]
  },
  {
   "cell_type": "markdown",
   "id": "c85ac1b9",
   "metadata": {},
   "source": [
    "### 6. What are some examples of how to use the match object returned by re.match and re.search?\n",
    "            re.match() function of re in Python will search the regular expression pattern at the beginning of the string\n",
    "                       and return the first occurrence\n",
    "            re.match(), it  check all lines of the input string ,returns a match object when the pattern is found \n",
    "                       and “null” if the pattern is not found          "
   ]
  },
  {
   "cell_type": "code",
   "execution_count": 1,
   "id": "fddbc22c",
   "metadata": {},
   "outputs": [
    {
     "name": "stdout",
     "output_type": "stream",
     "text": [
      "None\n",
      "None\n",
      "<re.Match object; span=(0, 7), match='Ineuron'>\n",
      "<re.Match object; span=(0, 7), match='Ineuron'>\n"
     ]
    }
   ],
   "source": [
    "import re\n",
    "Substring ='Ineuron' \n",
    "String1 ='We are learning regex and this is very useful for string matching' \n",
    "String2 ='Ineuron We are learning regex and this is very useful for string matching'\n",
    "print(re.search(Substring, String1, re.IGNORECASE))\n",
    "print(re.match(Substring, String1, re.IGNORECASE))\n",
    "print(re.search(Substring, String2, re.IGNORECASE))\n",
    "print(re.match(Substring, String2, re.IGNORECASE))"
   ]
  },
  {
   "cell_type": "markdown",
   "id": "16a36cd0",
   "metadata": {},
   "source": [
    "### 7. What is the difference between using a vertical bar (|) as an alteration and using square brackets as a character set?\n",
    "    Using Character set in square Brackets searches for all the character set in the square bracket and if match is found, \n",
    "      returns it."
   ]
  },
  {
   "cell_type": "markdown",
   "id": "c220562f",
   "metadata": {},
   "source": [
    "### 8. In regular-expression search patterns, why is it necessary to use the raw-string indicator (r)? In replacement strings?\n",
    "     Raw Strings are used in the regular-expression search patterns, so that blackslashes donot have to be escaped."
   ]
  },
  {
   "cell_type": "code",
   "execution_count": null,
   "id": "4cd97802",
   "metadata": {},
   "outputs": [],
   "source": []
  },
  {
   "cell_type": "code",
   "execution_count": null,
   "id": "9888a001",
   "metadata": {},
   "outputs": [],
   "source": []
  }
 ],
 "metadata": {
  "kernelspec": {
   "display_name": "Python 3",
   "language": "python",
   "name": "python3"
  },
  "language_info": {
   "codemirror_mode": {
    "name": "ipython",
    "version": 3
   },
   "file_extension": ".py",
   "mimetype": "text/x-python",
   "name": "python",
   "nbconvert_exporter": "python",
   "pygments_lexer": "ipython3",
   "version": "3.8.8"
  }
 },
 "nbformat": 4,
 "nbformat_minor": 5
}
