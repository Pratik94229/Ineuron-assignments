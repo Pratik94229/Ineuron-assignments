{
 "cells": [
  {
   "cell_type": "markdown",
   "id": "7a77ce94",
   "metadata": {},
   "source": [
    "### 1. What are the two latest user-defined exception constraints in Python 3.X?\n",
    "        raise and assert are the two latest user-defined exception constraints in Python 3.X"
   ]
  },
  {
   "cell_type": "markdown",
   "id": "09fe7076",
   "metadata": {},
   "source": [
    "### 2. How are class-based exceptions that have been raised matched to handlers?\n",
    "       In python, Users can define custom exceptions by creating a new class. This exception class has to be derived, \n",
    "       either directly or indirectly from built-in Exception class. This new exception class like other exceptions can be \n",
    "       raised using the raise statement with an optional error message."
   ]
  },
  {
   "cell_type": "markdown",
   "id": "d156f67b",
   "metadata": {},
   "source": [
    "\n",
    "### 3. Describe two methods for attaching context information to exception artefacts ?\n",
    "    The process() method of LoggerAdapter is where the contextual information is added to the logging output. \n",
    "    its passes the message and keyword arguments of the logging call, and it passes back modified versions of \n",
    "    these to use in the call to the underlying logger.\n",
    "\n",
    "    exception(), Logs a messgae with level ERROR on this logger. The arguments are interpreted as for debug().\n",
    "     Exception info is added to the logging message."
   ]
  },
  {
   "cell_type": "markdown",
   "id": "ad59bc05",
   "metadata": {},
   "source": [
    "### 4. Describe two methods for specifying the text of an exception object's error message ?\n",
    "       Two methods are\n",
    "                   raise and assert \n",
    "                   \n",
    "       Raise :-it helps in forcing exception as per need of programmer and logic.\n",
    "       assert :- This statement takes a Boolean Condition output of which if True, further program executes. \n",
    "                 if output of assert statement is False it raises an Assertion Error."
   ]
  },
  {
   "cell_type": "markdown",
   "id": "030810ab",
   "metadata": {},
   "source": [
    "### 5. Why do you no longer use string-based exceptions?\n",
    "     String-based Exceptions doesn't inherit from Exceptions. so plain exceptions catch all exceptions and not only system."
   ]
  },
  {
   "cell_type": "code",
   "execution_count": null,
   "id": "22da4c44",
   "metadata": {},
   "outputs": [],
   "source": []
  }
 ],
 "metadata": {
  "kernelspec": {
   "display_name": "Python 3",
   "language": "python",
   "name": "python3"
  },
  "language_info": {
   "codemirror_mode": {
    "name": "ipython",
    "version": 3
   },
   "file_extension": ".py",
   "mimetype": "text/x-python",
   "name": "python",
   "nbconvert_exporter": "python",
   "pygments_lexer": "ipython3",
   "version": "3.8.8"
  }
 },
 "nbformat": 4,
 "nbformat_minor": 5
}
