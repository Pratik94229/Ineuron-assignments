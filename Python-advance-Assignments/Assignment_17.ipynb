{
 "cells": [
  {
   "cell_type": "markdown",
   "id": "eb4e0761",
   "metadata": {},
   "source": [
    "### 1. Explain the difference between greedy and non-greedy syntax with visual terms in as few words as possible. What is the bare minimum effort required to transform a greedy pattern into a non-greedy one? What characters or characters can you introduce or change?\n",
    "        The Greedy Match will try to match as many repetitions of the quantified pattern as possible \n",
    "        The Non Greedy Match will try to match as few repetitions of the quantified pattern as possible"
   ]
  },
  {
   "cell_type": "code",
   "execution_count": 1,
   "id": "5cb72f0e",
   "metadata": {},
   "outputs": [
    {
     "name": "stdout",
     "output_type": "stream",
     "text": [
      "['aaaaa', '']\n",
      "['', 'a', '', 'a', '', 'a', '', 'a', '', 'a', '', 'a', '']\n"
     ]
    }
   ],
   "source": [
    "import re\n",
    "print(re.findall(\"a*\", \"aaaaa\")) # Greedy Match Synatx\n",
    "print(re.findall(\"a*?\", \"aaaaaa\")) # Non Greddy Syntax"
   ]
  },
  {
   "cell_type": "markdown",
   "id": "7a505dda",
   "metadata": {},
   "source": [
    "### 2. When exactly does greedy versus non-greedy make a difference? What if you're looking for a non-greedy match but the only one available is greedy?\n",
    "        The Greedy Match will try to match as many repetitions of the quantified pattern as possible\n",
    "        The Non Greedy Match will try to match as few repetitions of the quantified pattern as possible. \n",
    "        If only Non Greedy Match is available, we can use other filtering or pattern matching methods of regex \n",
    "        and further identify the required pattern."
   ]
  },
  {
   "cell_type": "markdown",
   "id": "7f7c0fb5",
   "metadata": {},
   "source": [
    "### 3. In a simple match of a string, which looks only for one match and does not do any replacement, is the use of a nontagged group likely to make any practical difference?\n",
    "        The Non Tagged Group will not make any diffrence"
   ]
  },
  {
   "cell_type": "code",
   "execution_count": 2,
   "id": "b7d0c7b4",
   "metadata": {},
   "outputs": [
    {
     "name": "stdout",
     "output_type": "stream",
     "text": [
      "Phone number found    234\n",
      "Phone number found    234\n"
     ]
    }
   ],
   "source": [
    "import re\n",
    "phoneNumRegex = re.compile(r'\\d\\d\\d')\n",
    "num = phoneNumRegex.search('My number is 234-567-8901.')\n",
    "print(f'Phone number found    {num.group()}') # Non Tagged group\n",
    "print(f'Phone number found    {num.group(0)}') # Tagged Group"
   ]
  },
  {
   "cell_type": "markdown",
   "id": "d201d48c",
   "metadata": {},
   "source": [
    "### 4. Describe a scenario in which using a nontagged category would have a significant impact on the program's outcomes ?\n",
    "        Here in the below Code Snippet . decimal is not tagged or captured. It will useful in scenarios \n",
    "        where the separator of value in a string is of no use and we need to capture only the values."
   ]
  },
  {
   "cell_type": "code",
   "execution_count": 3,
   "id": "d4a3340b",
   "metadata": {},
   "outputs": [
    {
     "data": {
      "text/plain": [
       "('453', '456')"
      ]
     },
     "execution_count": 3,
     "metadata": {},
     "output_type": "execute_result"
    }
   ],
   "source": [
    "import re\n",
    "text='453.456'\n",
    "pattern=r'(\\d+)(?:.)(\\d+)'\n",
    "regobj=re.compile(pattern)\n",
    "matobj=regobj.search(text)\n",
    "matobj.groups()"
   ]
  },
  {
   "cell_type": "markdown",
   "id": "68ae40bf",
   "metadata": {},
   "source": [
    "### 5. Unlike a normal regex pattern, a look-ahead condition does not consume the characters it examines. Describe a situation in which this could make a difference in the results of your programme ?\n",
    "        While counting the number of multiple lines or mutiple sentence in a string the positive\n",
    "        look ahead makes a difference, without which we wont get the correct count of lines or sentences in a string."
   ]
  },
  {
   "cell_type": "markdown",
   "id": "2ffff690",
   "metadata": {},
   "source": [
    "### 6. In standard expressions, what is the difference between positive look-ahead and negative look-ahead ?\n",
    "        Lookahead allows to add a condition for “what follows”.Lookbehind is similar, but it looks behind. \n",
    "        That is, it allows to match a pattern only if there’s something before it."
   ]
  },
  {
   "cell_type": "markdown",
   "id": "62fd1cda",
   "metadata": {},
   "source": [
    "### 7. What is the benefit of referring to groups by name rather than by number in a standard expression?\n",
    "        Referring to groups by name rather than by number in a standard expression helps to keep the code clear and \n",
    "        easy to understand."
   ]
  },
  {
   "cell_type": "markdown",
   "id": "3bdc0018",
   "metadata": {},
   "source": [
    "### 8. Can you identify repeated items within a target string using named groups, as in \"The cow jumped over the moon\"?\n",
    "        "
   ]
  },
  {
   "cell_type": "code",
   "execution_count": 4,
   "id": "6d02c0c4",
   "metadata": {},
   "outputs": [
    {
     "data": {
      "text/plain": [
       "['The', 'the']"
      ]
     },
     "execution_count": 4,
     "metadata": {},
     "output_type": "execute_result"
    }
   ],
   "source": [
    "import re\n",
    "text = \"The cow jumped over the moon\"\n",
    "regobj=re.compile(r'(?P<w1>The)',re.I)\n",
    "regobj.findall(text)"
   ]
  },
  {
   "cell_type": "markdown",
   "id": "24e308a9",
   "metadata": {},
   "source": [
    "### 9. When parsing a string, what is at least one thing that the Scanner interface does for you that the re.findall feature does not ?\n",
    "            re.findall() module is used to search for all occurrences that match a given pattern. \n",
    "            re.search() will only return the first occurrence that matches the specified pattern.\n",
    "            re.findall() will iterate over all the lines of the file and will return all non-overlapping matches \n",
    "            pattern in a single step."
   ]
  },
  {
   "cell_type": "markdown",
   "id": "269ef367",
   "metadata": {},
   "source": [
    "### 10. Does a scanner object have to be named scanner?\n",
    "     Yes, It may have any name."
   ]
  },
  {
   "cell_type": "code",
   "execution_count": null,
   "id": "9c905a08",
   "metadata": {},
   "outputs": [],
   "source": []
  }
 ],
 "metadata": {
  "kernelspec": {
   "display_name": "Python 3",
   "language": "python",
   "name": "python3"
  },
  "language_info": {
   "codemirror_mode": {
    "name": "ipython",
    "version": 3
   },
   "file_extension": ".py",
   "mimetype": "text/x-python",
   "name": "python",
   "nbconvert_exporter": "python",
   "pygments_lexer": "ipython3",
   "version": "3.8.8"
  }
 },
 "nbformat": 4,
 "nbformat_minor": 5
}
