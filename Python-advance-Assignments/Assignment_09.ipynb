{
 "cells": [
  {
   "cell_type": "markdown",
   "id": "8b80d125",
   "metadata": {},
   "source": [
    "### 1. In Python 3.X, what are the names and functions of string object types?\n",
    "    capitalize()\tConverts the first character to upper case\n",
    "    casefold()\tConverts string into lower case\n",
    "    center()\tReturns a centered string\n",
    "    count()\tReturns the number of times a specified value occurs in a string\n",
    "    encode()\tReturns an encoded version of the string\n",
    "    endswith()\tReturns true if the string ends with the specified value\n",
    "    expandtabs()\tSets the tab size of the string\n",
    "    find()\tSearches the string for a specified value and returns the position of where it was found\n",
    "    format()\tFormats specified values in a string\n",
    "    format_map()\tFormats specified values in a string\n",
    "    index()\tSearches the string for a specified value and returns the position of where it was found\n",
    "    isalnum()\tReturns True if all characters in the string are alphanumeric\n",
    "    isalpha()\tReturns True if all characters in the string are in the alphabet\n",
    "    isascii()\tReturns True if all characters in the string are ascii characters\n",
    "    isdecimal()\tReturns True if all characters in the string are decimals\n",
    "    isdigit()\tReturns True if all characters in the string are digits\n",
    "    isidentifier()\tReturns True if the string is an identifier\n",
    "    islower()\tReturns True if all characters in the string are lower case\n",
    "    isnumeric()\tReturns True if all characters in the string are numeric\n",
    "    isprintable()\tReturns True if all characters in the string are printable\n",
    "    isspace()\tReturns True if all characters in the string are whitespaces\n",
    "    istitle()\tReturns True if the string follows the rules of a title\n",
    "    isupper()\tReturns True if all characters in the string are upper case\n",
    "    join()\tConverts the elements of an iterable into a string\n",
    "    ljust()\tReturns a left justified version of the string\n",
    "    lower()\tConverts a string into lower case\n",
    "    lstrip()\tReturns a left trim version of the string\n",
    "    maketrans()\tReturns a translation table to be used in translations\n",
    "    partition()\tReturns a tuple where the string is parted into three parts\n",
    "    replace()\tReturns a string where a specified value is replaced with a specified value\n",
    "    rfind()\tSearches the string for a specified value and returns the last position of where it was found\n",
    "    rindex()\tSearches the string for a specified value and returns the last position of where it was found\n",
    "    rjust()\tReturns a right justified version of the string\n",
    "    rpartition()\tReturns a tuple where the string is parted into three parts\n",
    "    rsplit()\tSplits the string at the specified separator, and returns a list\n",
    "    rstrip()\tReturns a right trim version of the string\n",
    "    split()\tSplits the string at the specified separator, and returns a list\n",
    "    splitlines()\tSplits the string at line breaks and returns a list\n",
    "    startswith()\tReturns true if the string starts with the specified value\n",
    "    strip()\tReturns a trimmed version of the string\n",
    "    swapcase()\tSwaps cases, lower case becomes upper case and vice versa\n",
    "    title()\tConverts the first character of each word to upper case\n",
    "    translate()\tReturns a translated string\n",
    "    upper()\tConverts a string into upper case\n",
    "    zfill()\tFills the string with a specified number of 0 values at the beginning"
   ]
  },
  {
   "cell_type": "markdown",
   "id": "3995ce56",
   "metadata": {},
   "source": [
    "### 2. How do the string forms in Python 3.X vary in terms of operations?\n",
    "         In Python3 default format of strings is Unicode Whereas in Pyton2 we need to explicitly mention\n",
    "         Unicode value using u"
   ]
  },
  {
   "cell_type": "markdown",
   "id": "d8b1268e",
   "metadata": {},
   "source": [
    "### 3. In Python 3.X, how do you put non-ASCII Unicode characters in a string?\n",
    "        unidecode() method from unidecode library can be used to put non-ASCII Unicode Characters in a string."
   ]
  },
  {
   "cell_type": "code",
   "execution_count": 1,
   "id": "cf5df8bc",
   "metadata": {},
   "outputs": [
    {
     "ename": "ModuleNotFoundError",
     "evalue": "No module named 'unidecode'",
     "output_type": "error",
     "traceback": [
      "\u001b[1;31m---------------------------------------------------------------------------\u001b[0m",
      "\u001b[1;31mModuleNotFoundError\u001b[0m                       Traceback (most recent call last)",
      "\u001b[1;32m<ipython-input-1-f767477ae683>\u001b[0m in \u001b[0;36m<module>\u001b[1;34m\u001b[0m\n\u001b[1;32m----> 1\u001b[1;33m \u001b[1;32mfrom\u001b[0m \u001b[0munidecode\u001b[0m \u001b[1;32mimport\u001b[0m \u001b[0munidecode\u001b[0m\u001b[1;33m\u001b[0m\u001b[1;33m\u001b[0m\u001b[0m\n\u001b[0m\u001b[0;32m      2\u001b[0m \u001b[0mprint\u001b[0m\u001b[1;33m(\u001b[0m\u001b[0munidecode\u001b[0m\u001b[1;33m(\u001b[0m\u001b[1;34mu'ko\\u017eu\\u0161\\u010dek'\u001b[0m\u001b[1;33m)\u001b[0m\u001b[1;33m)\u001b[0m\u001b[1;33m\u001b[0m\u001b[1;33m\u001b[0m\u001b[0m\n\u001b[0;32m      3\u001b[0m \u001b[0mprint\u001b[0m\u001b[1;33m(\u001b[0m\u001b[0munidecode\u001b[0m\u001b[1;33m(\u001b[0m\u001b[1;34m\"आप नीचे अपनी भाषा और इनपुट उपकरण चुनें और लिखना आरंभ करें\"\u001b[0m\u001b[1;33m)\u001b[0m\u001b[1;33m)\u001b[0m\u001b[1;33m\u001b[0m\u001b[1;33m\u001b[0m\u001b[0m\n\u001b[0;32m      4\u001b[0m \u001b[0mprint\u001b[0m\u001b[1;33m(\u001b[0m\u001b[0munidecode\u001b[0m\u001b[1;33m(\u001b[0m\u001b[1;34m\"谢谢你\"\u001b[0m\u001b[1;33m)\u001b[0m\u001b[1;33m)\u001b[0m\u001b[1;33m\u001b[0m\u001b[1;33m\u001b[0m\u001b[0m\n\u001b[0;32m      5\u001b[0m \u001b[0mprint\u001b[0m\u001b[1;33m(\u001b[0m\u001b[0munidecode\u001b[0m\u001b[1;33m(\u001b[0m\u001b[1;34m\"ありがとう。\"\u001b[0m\u001b[1;33m)\u001b[0m\u001b[1;33m)\u001b[0m\u001b[1;33m\u001b[0m\u001b[1;33m\u001b[0m\u001b[0m\n",
      "\u001b[1;31mModuleNotFoundError\u001b[0m: No module named 'unidecode'"
     ]
    }
   ],
   "source": [
    "from unidecode import unidecode\n",
    "print(unidecode(u'ko\\u017eu\\u0161\\u010dek'))\n",
    "print(unidecode(\"आप नीचे अपनी भाषा और इनपुट उपकरण चुनें और लिखना आरंभ करें\"))\n",
    "print(unidecode(\"谢谢你\"))\n",
    "print(unidecode(\"ありがとう。\"))\n",
    "print(unidecode(\"улыбаться Владимир Путин\"))"
   ]
  },
  {
   "cell_type": "markdown",
   "id": "5fac995a",
   "metadata": {},
   "source": [
    "### 4. In Python 3.X, what are the key differences between text-mode and binary-mode files?\n",
    "    When a file is opened in text mode, reading its data automatically decodes its content (as per the platform default or \n",
    "    as per provided encoding), and returns it as a str; writing operation takes a str, and automatically encodes it before \n",
    "    transferring to the file. Text mode files also support universal end-of-line translation, and encoding specification \n",
    "    arguments.\n",
    "\n",
    "    When a file is opened in binary mode by adding a b to the mode string argument in the open() call, reading its data \n",
    "    does not decode it in any way, and simply returns its content raw and unchanged, as a bytes object; writing takes a\n",
    "    bytes object and transfers it to the file unchanged. Binary-mode files also accept a bytearray object for the content to be written to the file.\n",
    "        "
   ]
  },
  {
   "cell_type": "markdown",
   "id": "70db2ac1",
   "metadata": {},
   "source": [
    "### 5. How can you interpret a Unicode text file containing text encoded in a different encoding than your platform's default?\n",
    "\n",
    "    encode() and decode() method can be used to you interpret a Unicode text file containing text encoded \n",
    "    in a different encoding than your platform's default, by default encoding parameter is UTF-8"
   ]
  },
  {
   "cell_type": "markdown",
   "id": "a6de62e1",
   "metadata": {},
   "source": [
    "### 6. What is the best way to make a Unicode text file in a particular encoding format?\n",
    "        str.encode() and file.write() to make a Unicode text file in a particular encoding format\n",
    "        \n",
    "        Call str.encode(encoding) with encoding set to utf8 to encode str.\n",
    "        Call open(file, mode) to open a file with mode set to wb . wb writes to files in binary mode \n",
    "        Call file.write(data) to write data to the file"
   ]
  },
  {
   "cell_type": "markdown",
   "id": "df6dd5f3",
   "metadata": {},
   "source": [
    "### 7. What qualifies ASCII text as a form of Unicode text?\n",
    "      Unicode represents most written languages in the world. ASCII has its equivalent in Unicode.\n",
    "      The difference between ASCII and Unicode is that ASCII represents lowercase letters (a-z), uppercase letters (A-Z), \n",
    "      digits (0–9) and symbols such as punctuation marks while Unicode represents letters of English, Arabic, \n",
    "      Greek etc. mathematical symbols, historical scripts, emoji covering a wide range of characters than ASCII."
   ]
  },
  {
   "cell_type": "markdown",
   "id": "d3d5ed8b",
   "metadata": {},
   "source": [
    "### 8. How much of an effect does the change in string types in Python 3.X have on your code?\n",
    "         Python 3 stores strings as Unicode by default whereas Python 2 requires you to mark a string with a u if you \n",
    "         want to store it as Unicode. Unicode strings are more versatile than ASCII strings,\n",
    "         which are the Python 3.X default,as they can store letters from foreign languages as\n",
    "         well as emoji and the standard Roman letters and numerals."
   ]
  },
  {
   "cell_type": "code",
   "execution_count": null,
   "id": "c410cdc8",
   "metadata": {},
   "outputs": [],
   "source": []
  }
 ],
 "metadata": {
  "kernelspec": {
   "display_name": "Python 3",
   "language": "python",
   "name": "python3"
  },
  "language_info": {
   "codemirror_mode": {
    "name": "ipython",
    "version": 3
   },
   "file_extension": ".py",
   "mimetype": "text/x-python",
   "name": "python",
   "nbconvert_exporter": "python",
   "pygments_lexer": "ipython3",
   "version": "3.8.8"
  }
 },
 "nbformat": 4,
 "nbformat_minor": 5
}
