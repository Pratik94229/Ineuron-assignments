{
 "cells": [
  {
   "cell_type": "markdown",
   "id": "0730f89a",
   "metadata": {},
   "source": [
    "### 1. What are the new features added in Python 3.8 version?\n",
    "    The walrus operator - This will enable you to assign values to a variable as part of an expression. \n",
    "                       The major benefit of this is it saves you some lines of code when you want to use\n",
    "    yield and return statements do not require parentheses to return multiple values.\n",
    "    reversed() now works with dict\n",
    "    New syntax warnings"
   ]
  },
  {
   "cell_type": "markdown",
   "id": "0bfe9f78",
   "metadata": {},
   "source": [
    "### 2. What is monkey patching in Python?\n",
    "        monkey patching is a technique to add, modify, or suppress the default behavior of a piece of code \n",
    "        at runtime without changing its original source code"
   ]
  },
  {
   "cell_type": "markdown",
   "id": "93fa6be8",
   "metadata": {},
   "source": [
    "### 3. What is the difference between a shallow copy and deep copy?\n",
    "            Shallow Copy  - it reflects changes made to the new/copied object in the original object\n",
    "                           it stores the copy of the original object and points the references to the objects.\n",
    "                           \n",
    "           Deep copy - it doesn’t reflect changes made to the new/copied object in the original object.\n",
    "                       it stores the copy of the original object and recursively copies the objects as well."
   ]
  },
  {
   "cell_type": "markdown",
   "id": "1bfe361a",
   "metadata": {},
   "source": [
    "### 4. What is the maximum possible length of an identifier?\n",
    "            In Python, the highest possible length of an identifier is 79 characters.\n",
    "            \n",
    "\n",
    "        Python, particularly when combined with identifiers, is case-sensitive.\n",
    "        When writing or using identifiers in Python, it has a maximum of 79 characters.\n",
    "        Unlikely, Python gives the identifiers unlimited length.\n",
    "        However, the layout of PEP-8 prevents the user from breaking the rules and includes a 79-character limit."
   ]
  },
  {
   "cell_type": "markdown",
   "id": "1e63e3db",
   "metadata": {},
   "source": [
    "### 5. What is generator comprehension?\n",
    "            A generator comprehension is a single-line specification for defining a generator in Python.\n",
    "            The syntax (<expression> for <var> in <iterable> [if <condition>])\n",
    "\n",
    "        It is absolutely essential to learn this syntax in order to write simple and readable code.\n",
    "        Generator comprehension uses round bracket unlike square bracket in list comprehension.\n",
    "                        "
   ]
  },
  {
   "cell_type": "code",
   "execution_count": null,
   "id": "e660ff09",
   "metadata": {},
   "outputs": [],
   "source": []
  }
 ],
 "metadata": {
  "kernelspec": {
   "display_name": "Python 3",
   "language": "python",
   "name": "python3"
  },
  "language_info": {
   "codemirror_mode": {
    "name": "ipython",
    "version": 3
   },
   "file_extension": ".py",
   "mimetype": "text/x-python",
   "name": "python",
   "nbconvert_exporter": "python",
   "pygments_lexer": "ipython3",
   "version": "3.8.8"
  }
 },
 "nbformat": 4,
 "nbformat_minor": 5
}
