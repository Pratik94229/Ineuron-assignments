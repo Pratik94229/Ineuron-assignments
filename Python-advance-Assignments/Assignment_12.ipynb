{
 "cells": [
  {
   "cell_type": "markdown",
   "id": "ee5a8e19",
   "metadata": {},
   "source": [
    "### 1. Does assigning a value to a string's indexed character violate Python's string immutability ?\n",
    "        No due to strings are immutable"
   ]
  },
  {
   "cell_type": "markdown",
   "id": "8bbeefdd",
   "metadata": {},
   "source": [
    "### 2. Does using the += operator to concatenate strings violate Python's string immutability? Why or why not ?\n",
    "        += operator is used to concatenate strings, it does not violate Python’s string immutability Property. \n",
    "        Because doing so new creates a new association with data and variable. ."
   ]
  },
  {
   "cell_type": "markdown",
   "id": "c78efc8b",
   "metadata": {},
   "source": [
    "### 3. In Python, how many different ways are there to index a character?\n",
    "            there are two ways \n",
    "                            positive indexing - Starts from zero &  left to right\n",
    "                            Negativeindexing - starts from right to left"
   ]
  },
  {
   "cell_type": "code",
   "execution_count": 1,
   "id": "5b6967e0",
   "metadata": {},
   "outputs": [],
   "source": [
    "a= 'rasmikant'"
   ]
  },
  {
   "cell_type": "code",
   "execution_count": 2,
   "id": "1a206f5e",
   "metadata": {},
   "outputs": [
    {
     "data": {
      "text/plain": [
       "'a'"
      ]
     },
     "execution_count": 2,
     "metadata": {},
     "output_type": "execute_result"
    }
   ],
   "source": [
    "a[1]"
   ]
  },
  {
   "cell_type": "code",
   "execution_count": 3,
   "id": "c179732d",
   "metadata": {},
   "outputs": [
    {
     "data": {
      "text/plain": [
       "'t'"
      ]
     },
     "execution_count": 3,
     "metadata": {},
     "output_type": "execute_result"
    }
   ],
   "source": [
    "a[-1]"
   ]
  },
  {
   "cell_type": "markdown",
   "id": "344ab4a1",
   "metadata": {},
   "source": [
    "### 4. What is the relationship between indexing and slicing?\n",
    "    indexing is used to obtaining individual element while slicing for sequence of elements."
   ]
  },
  {
   "cell_type": "code",
   "execution_count": 5,
   "id": "29933293",
   "metadata": {},
   "outputs": [
    {
     "name": "stdout",
     "output_type": "stream",
     "text": [
      "e u o\n",
      "Neuron Fu\n"
     ]
    }
   ],
   "source": [
    "r = \"iNeuron Full Stack Data Science\"\n",
    "print(r[2],r[3],r[5]) # Indexing\n",
    "print(r[1:10]) # Slicing"
   ]
  },
  {
   "cell_type": "markdown",
   "id": "3b096f1b",
   "metadata": {},
   "source": [
    "### 5. What is an indexed character's exact data type? What is the data form of a slicing-generated substring?\n",
    "        both have same data type - string"
   ]
  },
  {
   "cell_type": "code",
   "execution_count": 6,
   "id": "160b2fd4",
   "metadata": {},
   "outputs": [
    {
     "data": {
      "text/plain": [
       "str"
      ]
     },
     "execution_count": 6,
     "metadata": {},
     "output_type": "execute_result"
    }
   ],
   "source": [
    "type(r[2])"
   ]
  },
  {
   "cell_type": "code",
   "execution_count": 7,
   "id": "9a796ded",
   "metadata": {},
   "outputs": [
    {
     "data": {
      "text/plain": [
       "str"
      ]
     },
     "execution_count": 7,
     "metadata": {},
     "output_type": "execute_result"
    }
   ],
   "source": [
    "type(r[1:10])"
   ]
  },
  {
   "cell_type": "markdown",
   "id": "663765ed",
   "metadata": {},
   "source": [
    "### 6. What is the relationship between string and character \"types\" in Python?\n",
    "        Object that contains sequence of character datatypes are called String."
   ]
  },
  {
   "cell_type": "markdown",
   "id": "d5bca5b7",
   "metadata": {},
   "source": [
    "### 7. Identify at least two operators & one method that allow you to combine one or more smaller strings to create a larger string ?\n",
    "         +, += and * allow to combine one or more smaller strings to create a larger string. \n",
    "         join() method joins element of iterable type like list and tuple to get a combined string"
   ]
  },
  {
   "cell_type": "markdown",
   "id": "ae2d159a",
   "metadata": {},
   "source": [
    "### 8. What is the benefit of first checking the target string with in or not in before using the index method to find a substring ?\n",
    "    To  avoid raising of ValueError, find a substring just helps confirming availability of substring "
   ]
  },
  {
   "cell_type": "markdown",
   "id": "5adf38b0",
   "metadata": {},
   "source": [
    "### 9. Which operators and built-in string methods produce simple Boolean (true/false) results?\n",
    "    in\n",
    "    not\n",
    "    isalpha()\n",
    "    isalnum()\n",
    "    isdecimal()\n",
    "    isdigit()\n",
    "    isnumeric()\n",
    "    isprintable()\n",
    "    isspace()"
   ]
  },
  {
   "cell_type": "code",
   "execution_count": null,
   "id": "d7fa42d5",
   "metadata": {},
   "outputs": [],
   "source": []
  }
 ],
 "metadata": {
  "kernelspec": {
   "display_name": "Python 3",
   "language": "python",
   "name": "python3"
  },
  "language_info": {
   "codemirror_mode": {
    "name": "ipython",
    "version": 3
   },
   "file_extension": ".py",
   "mimetype": "text/x-python",
   "name": "python",
   "nbconvert_exporter": "python",
   "pygments_lexer": "ipython3",
   "version": "3.8.8"
  }
 },
 "nbformat": 4,
 "nbformat_minor": 5
}
