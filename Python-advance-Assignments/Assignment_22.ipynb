{
 "cells": [
  {
   "cell_type": "markdown",
   "id": "cc58d845",
   "metadata": {},
   "source": [
    "### 1. What are the benefits of the built-in array package, if any?\n",
    "    Arrays represent multiple data items of the same type using a single name, the elements can be accessed randomly \n",
    "    by using the index number. Arrays allocate memory in contiguous memory locations for all its elements. \n",
    "    Hence there is no need of extra memory being allocated in case of arrays.\n",
    "    This avoids memory overflow or shortage of memory in arrays."
   ]
  },
  {
   "cell_type": "markdown",
   "id": "573a4412",
   "metadata": {},
   "source": [
    "### 2. What are some of the array package's limitations ?\n",
    "    Once declared the size of the array cannot be modified. The memory which is allocated to it cannot be increased \n",
    "    or decreased.\n",
    "\n",
    "    Insertion and deletion are quite difficult in an array as the elements are stored in consecutive memory locations \n",
    "    and the shifting operation is costly."
   ]
  },
  {
   "cell_type": "markdown",
   "id": "783c4a0c",
   "metadata": {},
   "source": [
    "### 3. Describe the main differences between the array and numpy packages ?\n",
    "     The array package doesn't provide any  numerical calculation \n",
    "     while NumPy give you a wide variety of numerical operations.\n",
    "\n",
    "    An array is a single dimensional entity which hold the numerical data, \n",
    "    while numpy can have more than 1 dimension.\n",
    "\n",
    "    array, item can be accessed by its index position \n",
    "    while in numpy item is accessed by its column and row index, "
   ]
  },
  {
   "cell_type": "markdown",
   "id": "af9998f9",
   "metadata": {},
   "source": [
    "### 4. Explain the distinctions between the empty, ones, and zeros functions ?\n",
    "    Empty function:` it is a function that does not contain any statement within its body. If you try to write \n",
    "    a function definition without any statement in python ,it will return an error. \n",
    "    To avoid this, we use pass statement.  \n",
    "\n",
    "    Ones:   This function returns a new array of given shape and data type, where the element’s value is 1.  \n",
    "\n",
    "    Zeros:  This function returns a new array of given shape and data type, where the element’s value is 0."
   ]
  },
  {
   "cell_type": "markdown",
   "id": "97fec00a",
   "metadata": {},
   "source": [
    "### 5. In the fromfunction function, which is used to construct new arrays, what is the role of the callable argument ?\n",
    "     Its function is to execute the function over each coordinate and the resulting array. \n",
    "     The function is called with N parameters, where N is the rank of shape. \n",
    "     Each parameter represents the coordinates of the array varying along a specific axis. "
   ]
  },
  {
   "cell_type": "markdown",
   "id": "9e46cb9c",
   "metadata": {},
   "source": [
    "### 6. What happens when a numpy array is combined with a single-value operand (a scalar, such as an int or a floating-point value) through addition, as in the expression A + n ?\n",
    "    If any scaler value such as integer is added to the numpy array then all the elements inside the array\n",
    "    will add that value in it. "
   ]
  },
  {
   "cell_type": "markdown",
   "id": "3ec7c6f4",
   "metadata": {},
   "source": [
    "### 7. Can array-to-scalar operations use combined operation-assign operators (such as += or *=)? What is the outcome ?¶\n",
    "         It will carry out provided operation on all elements of array. "
   ]
  },
  {
   "cell_type": "markdown",
   "id": "f6a801e0",
   "metadata": {},
   "source": [
    "### 8. Does a numpy array contain fixed-length strings? What happens if you allocate a longer string to one of these arrays ?\n",
    "     Yes\n",
    "     The dtype of any numpy array containing string values is the maximum length of any string present in the array.\n",
    "     Once set, it will only be able to store new string having length not more than the maximum length at the time \n",
    "     of the creation. If we try to reassign some another string value having length greater than the maximum length \n",
    "     of the existing elements, it simply discards all the values beyond the maximum length accept upto those values\n",
    "     which are under the limit."
   ]
  },
  {
   "cell_type": "markdown",
   "id": "13fc930a",
   "metadata": {},
   "source": [
    "### 9. What happens when you combine two numpy arrays using an operation like addition (+) or multiplication (*)? What are the conditions for combining two numpy arrays ?¶\n",
    "     It will simply add or multiply element to element at same position"
   ]
  },
  {
   "cell_type": "markdown",
   "id": "f16dac44",
   "metadata": {},
   "source": [
    "### 10. What is the best way to use a Boolean array to mask another array ?\n",
    "     Using `masked_where` of numpy package"
   ]
  },
  {
   "cell_type": "markdown",
   "id": "31fca24d",
   "metadata": {},
   "source": [
    "### 11. What are three different ways to get the standard deviation of a wide collection of data using both standard Python and its packages? Sort the three of them by how quickly they execute ?\n",
    "    np.std and math package can be used individually. "
   ]
  },
  {
   "cell_type": "markdown",
   "id": "c448cfbf",
   "metadata": {},
   "source": [
    "### 12. What is the dimensionality of a Boolean mask-generated array ?\n",
    "      It will have same dimensionality as input array."
   ]
  },
  {
   "cell_type": "code",
   "execution_count": null,
   "id": "f8dfac10",
   "metadata": {},
   "outputs": [],
   "source": []
  }
 ],
 "metadata": {
  "kernelspec": {
   "display_name": "Python 3",
   "language": "python",
   "name": "python3"
  },
  "language_info": {
   "codemirror_mode": {
    "name": "ipython",
    "version": 3
   },
   "file_extension": ".py",
   "mimetype": "text/x-python",
   "name": "python",
   "nbconvert_exporter": "python",
   "pygments_lexer": "ipython3",
   "version": "3.8.8"
  }
 },
 "nbformat": 4,
 "nbformat_minor": 5
}
