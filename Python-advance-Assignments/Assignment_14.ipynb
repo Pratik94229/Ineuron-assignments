{
 "cells": [
  {
   "cell_type": "markdown",
   "id": "3e1a1c15",
   "metadata": {},
   "source": [
    "### 1. Is an assignment operator like += only for show? Is it possible that it would lead to faster results at the runtime ?\n",
    "        A=A+1 evaluates to finding A, adding 1 to it. Then storing the value again in variable A. \n",
    "        This expression makes Python to look for memory holder of a twice.\n",
    "        But A+=1 simply means value of A is to incremented by 1. As memory address has to be identified once,\n",
    "        += leads to faster operation."
   ]
  },
  {
   "cell_type": "markdown",
   "id": "32fbb25c",
   "metadata": {},
   "source": [
    "### 2. What is the smallest no of statements you'd have to write in most programming languages to replace the Python expr a, b = a + b, a ?\n",
    "         Minimum number of lines required to write above code in languages other Python will be 4,\n",
    "         two line  for assigning initial values for variables a and b, \n",
    "         two line for reassignment i.e. a=a+b and b=a."
   ]
  },
  {
   "cell_type": "markdown",
   "id": "d9207a78",
   "metadata": {},
   "source": [
    "### 3. In Python, what is the most effective way to set a list of 100 integers to 0?"
   ]
  },
  {
   "cell_type": "code",
   "execution_count": 1,
   "id": "9aa85524",
   "metadata": {},
   "outputs": [
    {
     "name": "stdout",
     "output_type": "stream",
     "text": [
      "[0, 0, 0, 0, 0, 0, 0, 0, 0, 0, 0, 0, 0, 0, 0, 0, 0, 0, 0, 0, 0, 0, 0, 0, 0, 0, 0, 0, 0, 0, 0, 0, 0, 0, 0, 0, 0, 0, 0, 0, 0, 0, 0, 0, 0, 0, 0, 0, 0, 0, 0, 0, 0, 0, 0, 0, 0, 0, 0, 0, 0, 0, 0, 0, 0, 0, 0, 0, 0, 0, 0, 0, 0, 0, 0, 0, 0, 0, 0, 0, 0, 0, 0, 0, 0, 0, 0, 0, 0, 0, 0, 0, 0, 0, 0, 0, 0, 0, 0, 0]\n",
      "[0, 0, 0, 0, 0, 0, 0, 0, 0, 0, 0, 0, 0, 0, 0, 0, 0, 0, 0, 0, 0, 0, 0, 0, 0, 0, 0, 0, 0, 0, 0, 0, 0, 0, 0, 0, 0, 0, 0, 0, 0, 0, 0, 0, 0, 0, 0, 0, 0, 0, 0, 0, 0, 0, 0, 0, 0, 0, 0, 0, 0, 0, 0, 0, 0, 0, 0, 0, 0, 0, 0, 0, 0, 0, 0, 0, 0, 0, 0, 0, 0, 0, 0, 0, 0, 0, 0, 0, 0, 0, 0, 0, 0, 0, 0, 0, 0, 0, 0, 0]\n"
     ]
    }
   ],
   "source": [
    "list_zero=[0]*100\n",
    "print(list_zero)\n",
    "\n",
    "zero_list = [0 for x in range(100)]\n",
    "print(zero_list)"
   ]
  },
  {
   "cell_type": "markdown",
   "id": "0936f244",
   "metadata": {},
   "source": [
    "### 4. What is the most effective way to initialise a list of 99 integers that repeats the sequence 1, 2, 3? S If necessary, show step-by-step instructions on how to accomplish this."
   ]
  },
  {
   "cell_type": "code",
   "execution_count": 3,
   "id": "ac69b590",
   "metadata": {},
   "outputs": [],
   "source": [
    "list = [1,2,3]*33\n"
   ]
  },
  {
   "cell_type": "code",
   "execution_count": 5,
   "id": "b519f159",
   "metadata": {},
   "outputs": [
    {
     "name": "stdout",
     "output_type": "stream",
     "text": [
      "[1, 2, 3, 1, 2, 3, 1, 2, 3, 1, 2, 3, 1, 2, 3, 1, 2, 3, 1, 2, 3, 1, 2, 3, 1, 2, 3, 1, 2, 3, 1, 2, 3, 1, 2, 3, 1, 2, 3, 1, 2, 3, 1, 2, 3, 1, 2, 3, 1, 2, 3, 1, 2, 3, 1, 2, 3, 1, 2, 3, 1, 2, 3, 1, 2, 3, 1, 2, 3, 1, 2, 3, 1, 2, 3, 1, 2, 3, 1, 2, 3, 1, 2, 3, 1, 2, 3, 1, 2, 3, 1, 2, 3, 1, 2, 3, 1, 2, 3]\n"
     ]
    }
   ],
   "source": [
    "print(list)"
   ]
  },
  {
   "cell_type": "markdown",
   "id": "30b9c562",
   "metadata": {},
   "source": [
    "### 5. If you're using IDLE to run a Python application, explain how to print a multidimensional list as efficiently?"
   ]
  },
  {
   "cell_type": "code",
   "execution_count": 7,
   "id": "daccab01",
   "metadata": {},
   "outputs": [
    {
     "name": "stdout",
     "output_type": "stream",
     "text": [
      "1 2 3 4 5 6 10 11 23 45 "
     ]
    }
   ],
   "source": [
    "list_eff = [[1,2],[3,4],[5,6],[10,11],[23,45]] \n",
    "for x in range(len(list_eff)):\n",
    "    for y in range(len(list_eff[x])):\n",
    "         print(list_eff[x][y],end=\" \")\n",
    "       "
   ]
  },
  {
   "cell_type": "markdown",
   "id": "0c0a7a2f",
   "metadata": {},
   "source": [
    "### 6. Is it possible to use list comprehension with a string? If so, how can you go about doing it?\n",
    "        yes possible"
   ]
  },
  {
   "cell_type": "code",
   "execution_count": 8,
   "id": "71628271",
   "metadata": {},
   "outputs": [
    {
     "name": "stdout",
     "output_type": "stream",
     "text": [
      "['F', 'u', 'l', 'l', 's', 't', 'a', 'c', 'k', ' ', 'd', 'a', 't', 'a']\n"
     ]
    }
   ],
   "source": [
    "list_str = [i for i in 'Fullstack data']\n",
    "print(list_str)"
   ]
  },
  {
   "cell_type": "markdown",
   "id": "f7a51763",
   "metadata": {},
   "source": [
    "### 7. From the command line, how do you get support with a user-written Python programme? Is this possible from inside IDLE?\n",
    "    Get support with a user-written Python Programme: Start a command prompt (Windows) or terminal window (Linux/Mac). \n",
    "    If the current working directory is the same as the location in which you saved the file,\n",
    "    you can simply specify the filename as a command-line argument to the Python interpreter."
   ]
  },
  {
   "cell_type": "markdown",
   "id": "d99a5b8e",
   "metadata": {},
   "source": [
    "### 8. Functions are said to be “first-class objects” in Python but not in most other languages, such as C++ or Java. What can you do in Python with a function (callable object) that you can't do in C or C++?\n",
    "\n",
    "        A function is an instance of the Object type.\n",
    "        You can store the function in a variable.\n",
    "        You can pass the function as a parameter to another function.\n",
    "        You can return the function from a function.\n"
   ]
  },
  {
   "cell_type": "markdown",
   "id": "700bcbbd",
   "metadata": {},
   "source": [
    "### 9. How do you distinguish between a wrapper, a wrapped feature, and a decorator?\n",
    "            Wrappers Around the functions are known as Decorators."
   ]
  },
  {
   "cell_type": "markdown",
   "id": "c6c00067",
   "metadata": {},
   "source": [
    "### 10. If a function is a generator function, what does it return?\n",
    "       it  returns  an iterator object with a sequence of values"
   ]
  },
  {
   "cell_type": "markdown",
   "id": "75e7a242",
   "metadata": {},
   "source": [
    "### 11. What is the one improvement that must be made to a function in order for it to become a generator function in the Python language?\n",
    "    uses yield keyword to return values instead of return keyword."
   ]
  },
  {
   "cell_type": "markdown",
   "id": "bf077e8b",
   "metadata": {},
   "source": [
    "### 12. Identify at least one benefit of generators ?\n",
    "     A generator object is a Python iterator\n",
    "     Generators can also be looped over like a regular list."
   ]
  },
  {
   "cell_type": "code",
   "execution_count": null,
   "id": "b8b87ea8",
   "metadata": {},
   "outputs": [],
   "source": []
  }
 ],
 "metadata": {
  "kernelspec": {
   "display_name": "Python 3",
   "language": "python",
   "name": "python3"
  },
  "language_info": {
   "codemirror_mode": {
    "name": "ipython",
    "version": 3
   },
   "file_extension": ".py",
   "mimetype": "text/x-python",
   "name": "python",
   "nbconvert_exporter": "python",
   "pygments_lexer": "ipython3",
   "version": "3.8.8"
  }
 },
 "nbformat": 4,
 "nbformat_minor": 5
}
