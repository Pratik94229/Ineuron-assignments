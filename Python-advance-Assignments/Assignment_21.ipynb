{
 "cells": [
  {
   "cell_type": "markdown",
   "id": "3d35859c",
   "metadata": {},
   "source": [
    "### 1. What is a probability distribution, exactly? If the values are meant to be random, how can you predict them at all ?\n",
    "    A probability distribution describes how a random variable is distributed.\n",
    "\n",
    "    It tells us which values a random variable is most likely to take on and which values are less likely. \n",
    "    Based on the previous data and the occurences of the random event, we can predict the outcome in terms \n",
    "    of probabilities. "
   ]
  },
  {
   "cell_type": "markdown",
   "id": "e231b7d7",
   "metadata": {},
   "source": [
    "### 2. Is there a distinction between true random numbers and pseudo-random numbers, if there is one? Why are the latter considered “good enough”?\n",
    "    True Random Numbers are true physical values while pseudo-random numbers are generated internally by a program .\n",
    "    Latter is considered good enough as they have sort of uniform distribution. "
   ]
  },
  {
   "cell_type": "markdown",
   "id": "3b880f89",
   "metadata": {},
   "source": [
    "### 3. What are the two main factors that influence the behaviour of a \"normal\" probability distribution ?\n",
    "    Normal Probability Distribution are influenced by two factors mean and the variance."
   ]
  },
  {
   "cell_type": "markdown",
   "id": "fcd6b1c6",
   "metadata": {},
   "source": [
    "### 4. Provide a real-life example of a normal distribution ?\n",
    "    A Real-life example of a normal distribution are heights or blood pressure measurements"
   ]
  },
  {
   "cell_type": "markdown",
   "id": "4df01eb5",
   "metadata": {},
   "source": [
    "### 5. In the short term, how can you expect a probability distribution to behave? What do you think will happen as the number of trials grows ?\n",
    "        Variance will decrease with number of trials"
   ]
  },
  {
   "cell_type": "markdown",
   "id": "5a5172fc",
   "metadata": {},
   "source": [
    "### 6. What kind of object can be shuffled by using random.shuffle ?\n",
    "        lists (`list`), strings (`str`) and tuples (`tuple`) objects can be shuffled by using `random.shuffle`."
   ]
  },
  {
   "cell_type": "markdown",
   "id": "2c63955f",
   "metadata": {},
   "source": [
    "### 7. Describe the math package's general categories of functions ?\n",
    "     Trigonometric functions, Quadratic functions ,Exponential functions, Hyperbolic functions,\n",
    "     Periodic functions, Arithmetic functions ,Logarithimic functions , Conversions to Integer"
   ]
  },
  {
   "cell_type": "markdown",
   "id": "b19a1d00",
   "metadata": {},
   "source": [
    "### 8. What is the relationship between exponentiation and logarithms ?\n",
    "    Exponentiation and logarithms are inverse of each other."
   ]
  },
  {
   "cell_type": "markdown",
   "id": "6f37a7b1",
   "metadata": {},
   "source": [
    "### 9. What are the three logarithmic functions that Python supports ?\n",
    "    log2(x)  - logarithmic value of x to base 2\n",
    "    log10(x) - logarithmic value of x to base 10 \n",
    "    log1p(a) - This function is used to compute logarithm(1+a) "
   ]
  },
  {
   "cell_type": "code",
   "execution_count": null,
   "id": "376ab58c",
   "metadata": {},
   "outputs": [],
   "source": []
  }
 ],
 "metadata": {
  "kernelspec": {
   "display_name": "Python 3",
   "language": "python",
   "name": "python3"
  },
  "language_info": {
   "codemirror_mode": {
    "name": "ipython",
    "version": 3
   },
   "file_extension": ".py",
   "mimetype": "text/x-python",
   "name": "python",
   "nbconvert_exporter": "python",
   "pygments_lexer": "ipython3",
   "version": "3.8.8"
  }
 },
 "nbformat": 4,
 "nbformat_minor": 5
}
