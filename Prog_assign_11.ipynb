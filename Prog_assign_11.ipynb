{
 "cells": [
  {
   "cell_type": "code",
   "execution_count": 2,
   "id": "7a766488",
   "metadata": {},
   "outputs": [
    {
     "name": "stdout",
     "output_type": "stream",
     "text": [
      "Enter the string: Write a Python program to find words which are greater than given length k\n",
      "Enter the length of the string: 4\n",
      "Words greater than length 4 are ['Write', 'Python', 'program', 'words', 'which', 'greater', 'given', 'length']\n"
     ]
    }
   ],
   "source": [
    "#1. Write a Python program to find words which are greater than given length k?\n",
    "def Len_Str():\n",
    "    list=[]\n",
    "    string = input(\"Enter the string: \")\n",
    "    kth_length = int(input('Enter the length of the string: '))\n",
    "    for i in string.split(\" \"):\n",
    "        if len(i) > kth_length:\n",
    "            list.append(i)\n",
    "    print(\"Words greater than length\",kth_length,\"are\",list)        \n",
    "Len_Str()"
   ]
  },
  {
   "cell_type": "code",
   "execution_count": 3,
   "id": "cb9f3498",
   "metadata": {},
   "outputs": [
    {
     "name": "stdout",
     "output_type": "stream",
     "text": [
      "Enter the string : Hello World\n",
      "Enter the index of character to be removed : 4\n",
      "Entered string :  Hello World\n",
      "String formed by removing i'th character :  Hell World\n"
     ]
    }
   ],
   "source": [
    "#2. Write a Python program for removing i-th character from a string?\n",
    "Str = input('Enter the string : ')\n",
    "i = int(input('Enter the index of character to be removed : '))\n",
    "\n",
    "# removing character at the specified index\n",
    "New_Str = Str.replace(Str[i], \"\", 1)\n",
    "\n",
    "print (\"Entered string : \",Str)\n",
    "print (\"String formed by removing i'th character : \",New_Str)"
   ]
  },
  {
   "cell_type": "code",
   "execution_count": 1,
   "id": "a75256ea",
   "metadata": {},
   "outputs": [
    {
     "name": "stdout",
     "output_type": "stream",
     "text": [
      "Enter the string: Welcome to India\n",
      "String after split: ['Welcome', 'to', 'India']\n",
      "String after join: Welcome to India\n"
     ]
    }
   ],
   "source": [
    "#3. Write a Python program to split and join a string?\n",
    "str = input('Enter the string: ')\n",
    "print(\"String after split:\",str.split(' '))\n",
    "print(\"String after join:\",' '.join(str.split(' ')))   \n",
    "\n",
    "\n",
    "\n"
   ]
  },
  {
   "cell_type": "code",
   "execution_count": 2,
   "id": "fd7100d2",
   "metadata": {},
   "outputs": [
    {
     "name": "stdout",
     "output_type": "stream",
     "text": [
      "Enter the binary string : 10103223\n",
      "The String is not binary string\n"
     ]
    }
   ],
   "source": [
    "#4. Write a Python to check if a given string is binary string or not?\n",
    "str =  input('Enter the binary string : ')\n",
    "def check_binary(str):\n",
    "    count=0\n",
    "    for i in str :\n",
    "        if(i == '0' or i == '1'):\n",
    "            count=count+1\n",
    "            if (count==len(str)):\n",
    "                return 1\n",
    "            continue\n",
    "    else :\n",
    "        return 0\n",
    "if(check_binary(str)):\n",
    "    print(\"The String is binary string\")\n",
    "else:\n",
    "    print(\"The String is not binary string\")"
   ]
  },
  {
   "cell_type": "code",
   "execution_count": 3,
   "id": "d3cdfd06",
   "metadata": {},
   "outputs": [
    {
     "name": "stdout",
     "output_type": "stream",
     "text": [
      "Enter first stringPython program to find uncommon words from two Strings\n",
      "Enter second stringPython to find all duplicate characters in string\n",
      "Uncomman words between two strings are: {'string', 'Strings', 'two', 'from', 'duplicate', 'in', 'words', 'all', 'characters', 'program', 'uncommon'}\n"
     ]
    }
   ],
   "source": [
    "#5. Write a Python program to find uncommon words from two Strings?\n",
    "str1=set(input(\"Enter first string\").split(' '))\n",
    "str2=set(input(\"Enter second string\").split(' '))\n",
    "print(\"Uncomman words between two strings are:\",str1.union(str2).difference(str1.intersection(str2)))\n",
    "        \n",
    "        \n",
    "        \n",
    "\n"
   ]
  },
  {
   "cell_type": "code",
   "execution_count": 4,
   "id": "7981c28c",
   "metadata": {},
   "outputs": [
    {
     "name": "stdout",
     "output_type": "stream",
     "text": [
      "Enter the string: Python to find all duplicate characters in string\n",
      "{'n', 'o', 'd', 'i', 't', 'c', 's', ' ', 'a', 'e', 'h', 'l', 'r'}\n"
     ]
    }
   ],
   "source": [
    "#6. Write a Python to find all duplicate characters in string?\n",
    "str= input('Enter the string: ')\n",
    "list = []\n",
    "for i in str:\n",
    "    if (str.count(i)>1):\n",
    "        list.append(i)\n",
    "print(set(list))"
   ]
  },
  {
   "cell_type": "code",
   "execution_count": 1,
   "id": "38955456",
   "metadata": {},
   "outputs": [
    {
     "name": "stdout",
     "output_type": "stream",
     "text": [
      "Enter the string: Does string contains any special character ?\n",
      "Given string contains special character\n"
     ]
    }
   ],
   "source": [
    "#7. Write a Python Program to check if a string contains any special character?\n",
    "def check_Special_Char():\n",
    "    spl_char = '[@_!#$%^&*()<>?/\\|}{~:]'\n",
    "    str= input('Enter the string: ')\n",
    "    count = 0\n",
    "    char_list = []\n",
    "    for i in str:\n",
    "        if i in spl_char:\n",
    "            return 1\n",
    "        elif count==len(str):\n",
    "            return 0\n",
    "        else:\n",
    "            count=count+1\n",
    "\n",
    "if(check_Special_Char()):\n",
    "    print(\"Given string contains special character\")\n",
    "else:\n",
    "    print(\"Given string does not contains any special character\")\n",
    "\n",
    "            "
   ]
  },
  {
   "cell_type": "code",
   "execution_count": null,
   "id": "f0c3b2ef",
   "metadata": {},
   "outputs": [],
   "source": []
  },
  {
   "cell_type": "code",
   "execution_count": null,
   "id": "c0843adf",
   "metadata": {},
   "outputs": [],
   "source": []
  }
 ],
 "metadata": {
  "kernelspec": {
   "display_name": "Python 3 (ipykernel)",
   "language": "python",
   "name": "python3"
  },
  "language_info": {
   "codemirror_mode": {
    "name": "ipython",
    "version": 3
   },
   "file_extension": ".py",
   "mimetype": "text/x-python",
   "name": "python",
   "nbconvert_exporter": "python",
   "pygments_lexer": "ipython3",
   "version": "3.9.12"
  }
 },
 "nbformat": 4,
 "nbformat_minor": 5
}
