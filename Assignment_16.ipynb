{
 "cells": [
  {
   "cell_type": "markdown",
   "id": "faaa4c31",
   "metadata": {},
   "source": [
    "### 1.Write a function that stutters a word as if someone is struggling to read it. The first two letters are repeated twice with an ellipsis ... and space after each, and then the word is pronounced with a question mark ?\n",
    "    Examples: stutter(\"incredible\") ➞ \"in... in... incredible?\"\n",
    "    stutter(\"enthusiastic\") ➞ \"en... en... enthusiastic?\"\n",
    "    stutter(\"outstanding\") ➞ \"ou... ou... outstanding?\"\n",
    "\n",
    "    Hint :- Assume all input is in lower case and at least two characters long."
   ]
  },
  {
   "cell_type": "code",
   "execution_count": 1,
   "id": "272cfd2d",
   "metadata": {},
   "outputs": [
    {
     "name": "stdout",
     "output_type": "stream",
     "text": [
      "-> in... in... incredible?\n",
      "-> en... en... enthusiastic?\n",
      "-> ou... ou... outstanding?\n"
     ]
    }
   ],
   "source": [
    "def stutter(word):\n",
    "    print('->',(2*(word[:2]+'... '))+word+'?')\n",
    "stutter(\"incredible\")\n",
    "stutter(\"enthusiastic\")\n",
    "stutter(\"outstanding\")    "
   ]
  },
  {
   "cell_type": "markdown",
   "id": "a709fba0",
   "metadata": {},
   "source": [
    "### 2.Create a function that takes an angle in radians and returns the corresponding angle in degrees rounded to one decimal place ?\n",
    "    Examples: radians_to_degrees(1) ➞ 57.3\n",
    "    radians_to_degrees(20) ➞ 1145.9\n",
    "    radians_to_degrees(50) ➞ 2864.8"
   ]
  },
  {
   "cell_type": "code",
   "execution_count": 2,
   "id": "90923481",
   "metadata": {},
   "outputs": [
    {
     "name": "stdout",
     "output_type": "stream",
     "text": [
      "Enter the angle in Radians: 1\n",
      "1 radian(s) ➞ 57.3 degrees\n",
      "Enter the angle in Radians: 20\n",
      "20 radian(s) ➞ 1145.9 degrees\n",
      "Enter the angle in Radians: 50\n",
      "50 radian(s) ➞ 2864.8 degrees\n"
     ]
    }
   ],
   "source": [
    "import math\n",
    "def radian_to_degree():\n",
    "    in_num = int(input('Enter the angle in Radians: '))\n",
    "    out_num = (180/math.pi)*in_num\n",
    "    print(f'{in_num} radian(s) ➞ {out_num:.1f} degrees')\n",
    "\n",
    "for x in range(3):\n",
    "    radian_to_degree()"
   ]
  },
  {
   "cell_type": "markdown",
   "id": "4c056bcb",
   "metadata": {},
   "source": [
    "### 3.In this challenge, establish if a given integer num is a Curzon number. If 1 plus 2 elevated to num is exactly divisible by 1 plus 2 multiplied by num, then num is a Curzon number. Given a non-negative integer num, implement a function that returns True if num is a Curzon number, or False otherwise.\n",
    "    Examples: is_curzon(5) ➞ True\n",
    "        # 2 ** 5 + 1 = 33\n",
    "        # 2 * 5 + 1 = 11\n",
    "        # 33 is a multiple of 11\n",
    "    is_curzon(10) ➞ False\n",
    "        # 2 ** 10 + 1 = 1025\n",
    "        # 2 * 10 + 1 = 21\n",
    "        # 1025 is not a multiple of 21\n",
    "    is_curzon(14) ➞ True\n",
    "        # 2 ** 14 + 1 = 16385\n",
    "        # 2 * 14 + 1 = 29\n",
    "        # 16385 is a multiple of 29"
   ]
  },
  {
   "cell_type": "code",
   "execution_count": 3,
   "id": "a21ea28a",
   "metadata": {},
   "outputs": [],
   "source": [
    "def is_curzon(n):\n",
    "    a = pow(2,n)+1\n",
    "    b = (2*n)+1\n",
    "    return a%b==0"
   ]
  },
  {
   "cell_type": "code",
   "execution_count": 4,
   "id": "49df46d4",
   "metadata": {},
   "outputs": [
    {
     "data": {
      "text/plain": [
       "True"
      ]
     },
     "execution_count": 4,
     "metadata": {},
     "output_type": "execute_result"
    }
   ],
   "source": [
    "is_curzon(5)"
   ]
  },
  {
   "cell_type": "code",
   "execution_count": 5,
   "id": "d7923ebd",
   "metadata": {},
   "outputs": [
    {
     "data": {
      "text/plain": [
       "False"
      ]
     },
     "execution_count": 5,
     "metadata": {},
     "output_type": "execute_result"
    }
   ],
   "source": [
    "is_curzon(10)"
   ]
  },
  {
   "cell_type": "code",
   "execution_count": 6,
   "id": "20864362",
   "metadata": {},
   "outputs": [
    {
     "data": {
      "text/plain": [
       "True"
      ]
     },
     "execution_count": 6,
     "metadata": {},
     "output_type": "execute_result"
    }
   ],
   "source": [
    "is_curzon(14)"
   ]
  },
  {
   "cell_type": "markdown",
   "id": "171f5cb9",
   "metadata": {},
   "source": [
    "### 4.Given the side length x find the area of a hexagon ?\n",
    "    Examples: area_of_hexagon(1) ➞ 2.6\n",
    "    area_of_hexagon(2) ➞ 10.4\n",
    "    area_of_hexagon(3) ➞ 23.4"
   ]
  },
  {
   "cell_type": "code",
   "execution_count": 7,
   "id": "770c7525",
   "metadata": {},
   "outputs": [],
   "source": [
    "def area_of_hexagon(side_length):\n",
    "    area = (3*1.73*side_length*side_length)/2\n",
    "    print(area)"
   ]
  },
  {
   "cell_type": "code",
   "execution_count": 8,
   "id": "e5b41ace",
   "metadata": {},
   "outputs": [
    {
     "name": "stdout",
     "output_type": "stream",
     "text": [
      "2.5949999999999998\n"
     ]
    }
   ],
   "source": [
    "area_of_hexagon(1)"
   ]
  },
  {
   "cell_type": "code",
   "execution_count": 9,
   "id": "eac3d0b7",
   "metadata": {},
   "outputs": [
    {
     "name": "stdout",
     "output_type": "stream",
     "text": [
      "10.379999999999999\n"
     ]
    }
   ],
   "source": [
    "area_of_hexagon(2)"
   ]
  },
  {
   "cell_type": "code",
   "execution_count": 10,
   "id": "cd0db14b",
   "metadata": {},
   "outputs": [
    {
     "name": "stdout",
     "output_type": "stream",
     "text": [
      "23.354999999999997\n"
     ]
    }
   ],
   "source": [
    "area_of_hexagon(3)"
   ]
  },
  {
   "cell_type": "markdown",
   "id": "2641981b",
   "metadata": {},
   "source": [
    "### 5.Create a function that returns a base-2 (binary) representation of a base-10 (decimal) string number. To convert is simple:\n",
    "    ((2) means base-2 and (10) means base-10)\n",
    "    010101001(2) = 1 + 8 + 32 + 128.\n",
    "    Going from right to left, the value of the most right bit is 1, now from that every bit to the left will be x2 the value, \n",
    "    value of an 8 bit binary numbers are (256, 128, 64, 32, 16, 8, 4, 2, 1).\n",
    "    Examples:\n",
    "    binary(1) ➞ \"1\"\n",
    "        # 1* 1 = 1\n",
    "    binary(5) ➞ \"101\"\n",
    "    # 1 1 + 1 4 = 5\n",
    "    binary(10) ➞ \"1010\"\n",
    "        # 1 2 + 1 8 = 10"
   ]
  },
  {
   "cell_type": "code",
   "execution_count": 11,
   "id": "b94f4e8e",
   "metadata": {},
   "outputs": [],
   "source": [
    "def binary(n):\n",
    "    return bin(n).replace(\"0b\",\"\")"
   ]
  },
  {
   "cell_type": "code",
   "execution_count": 12,
   "id": "e00dca9b",
   "metadata": {},
   "outputs": [
    {
     "data": {
      "text/plain": [
       "'1010'"
      ]
     },
     "execution_count": 12,
     "metadata": {},
     "output_type": "execute_result"
    }
   ],
   "source": [
    "binary(10)"
   ]
  },
  {
   "cell_type": "code",
   "execution_count": 13,
   "id": "13ad91b3",
   "metadata": {},
   "outputs": [
    {
     "data": {
      "text/plain": [
       "'101'"
      ]
     },
     "execution_count": 13,
     "metadata": {},
     "output_type": "execute_result"
    }
   ],
   "source": [
    "binary(5)"
   ]
  },
  {
   "cell_type": "code",
   "execution_count": 14,
   "id": "2a772a6a",
   "metadata": {},
   "outputs": [
    {
     "data": {
      "text/plain": [
       "'1'"
      ]
     },
     "execution_count": 14,
     "metadata": {},
     "output_type": "execute_result"
    }
   ],
   "source": [
    "binary(1)"
   ]
  },
  {
   "cell_type": "code",
   "execution_count": null,
   "id": "afb9c1ee",
   "metadata": {},
   "outputs": [],
   "source": []
  }
 ],
 "metadata": {
  "kernelspec": {
   "display_name": "Python 3",
   "language": "python",
   "name": "python3"
  },
  "language_info": {
   "codemirror_mode": {
    "name": "ipython",
    "version": 3
   },
   "file_extension": ".py",
   "mimetype": "text/x-python",
   "name": "python",
   "nbconvert_exporter": "python",
   "pygments_lexer": "ipython3",
   "version": "3.8.8"
  }
 },
 "nbformat": 4,
 "nbformat_minor": 5
}
