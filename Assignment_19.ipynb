{
 "cells": [
  {
   "cell_type": "markdown",
   "id": "5bf7a4c1",
   "metadata": {},
   "source": [
    "### 1.Create a function that takes a string and returns a string in which each character is repeated once.\n",
    "    Examples:\n",
    "    double_char(\"String\") ➞ \"SSttrriinngg\"\n",
    "    double_char(\"Hello World!\") ➞ \"HHeelllloo WWoorrlldd!!\"\n",
    "    doublechar(\"1234!_\") ➞ \"11223344!!__\""
   ]
  },
  {
   "cell_type": "code",
   "execution_count": 1,
   "id": "731910eb",
   "metadata": {},
   "outputs": [],
   "source": [
    "def double_char(string):\n",
    "    return ''.join([i*2 for i in string])"
   ]
  },
  {
   "cell_type": "code",
   "execution_count": 2,
   "id": "d4d8e79f",
   "metadata": {},
   "outputs": [
    {
     "data": {
      "text/plain": [
       "'SSttrriinngg'"
      ]
     },
     "execution_count": 2,
     "metadata": {},
     "output_type": "execute_result"
    }
   ],
   "source": [
    "double_char(\"String\")"
   ]
  },
  {
   "cell_type": "code",
   "execution_count": 3,
   "id": "75bd760f",
   "metadata": {},
   "outputs": [
    {
     "data": {
      "text/plain": [
       "'HHeelllloo  WWoorrlldd!!'"
      ]
     },
     "execution_count": 3,
     "metadata": {},
     "output_type": "execute_result"
    }
   ],
   "source": [
    "double_char(\"Hello World!\")"
   ]
  },
  {
   "cell_type": "code",
   "execution_count": 5,
   "id": "c5c65bce",
   "metadata": {},
   "outputs": [
    {
     "data": {
      "text/plain": [
       "'11223344!!__'"
      ]
     },
     "execution_count": 5,
     "metadata": {},
     "output_type": "execute_result"
    }
   ],
   "source": [
    "double_char(\"1234!_\")"
   ]
  },
  {
   "cell_type": "markdown",
   "id": "f2186bd8",
   "metadata": {},
   "source": [
    "### 2.Create a function that reverses a boolean value and returns the string \"boolean expected\" if another variable type is given.\n",
    "    Examples:\n",
    "    reverse(True) ➞ False\n",
    "    reverse(False) ➞ True\n",
    "    reverse(0) ➞ \"boolean expected\"\n",
    "    reverse(None) ➞ \"boolean expected\""
   ]
  },
  {
   "cell_type": "code",
   "execution_count": 6,
   "id": "b963c219",
   "metadata": {},
   "outputs": [],
   "source": [
    "def reverse(bool_value):\n",
    "    if type(bool_value)==bool:\n",
    "        return not bool_value\n",
    "    return \"boolean excepted\""
   ]
  },
  {
   "cell_type": "code",
   "execution_count": 7,
   "id": "90056bf2",
   "metadata": {},
   "outputs": [
    {
     "data": {
      "text/plain": [
       "False"
      ]
     },
     "execution_count": 7,
     "metadata": {},
     "output_type": "execute_result"
    }
   ],
   "source": [
    "reverse(True)"
   ]
  },
  {
   "cell_type": "code",
   "execution_count": 8,
   "id": "29028990",
   "metadata": {},
   "outputs": [
    {
     "data": {
      "text/plain": [
       "True"
      ]
     },
     "execution_count": 8,
     "metadata": {},
     "output_type": "execute_result"
    }
   ],
   "source": [
    "reverse(False)"
   ]
  },
  {
   "cell_type": "code",
   "execution_count": 9,
   "id": "1f43bb71",
   "metadata": {},
   "outputs": [
    {
     "data": {
      "text/plain": [
       "'boolean excepted'"
      ]
     },
     "execution_count": 9,
     "metadata": {},
     "output_type": "execute_result"
    }
   ],
   "source": [
    "reverse(0)"
   ]
  },
  {
   "cell_type": "code",
   "execution_count": 10,
   "id": "ef3a6643",
   "metadata": {},
   "outputs": [
    {
     "data": {
      "text/plain": [
       "'boolean excepted'"
      ]
     },
     "execution_count": 10,
     "metadata": {},
     "output_type": "execute_result"
    }
   ],
   "source": [
    "reverse(None)"
   ]
  },
  {
   "cell_type": "markdown",
   "id": "e9377104",
   "metadata": {},
   "source": [
    "### 3. Create a function that returns the thickness (in meters) of a piece of paper after folding it n number of times. The paper starts off with a thickness of 0.5mm.\n",
    "    Examples:\n",
    "    num_layers(1) ➞ \"0.001m\"\n",
    "   ##### Paper folded once is 1mm (equal to 0.001m)\n",
    "    num_layers(4) ➞ \"0.008m\"\n",
    "   ##### Paper folded 4 times is 8mm (equal to 0.008m)\n",
    "    num_layers(21) ➞ \"1048.576m\"\n",
    "   ##### Paper folded 21 times is 1048576mm (equal to 1048.576m)"
   ]
  },
  {
   "cell_type": "code",
   "execution_count": 11,
   "id": "b9e6c164",
   "metadata": {},
   "outputs": [],
   "source": [
    "def num_layers(n):\n",
    "    thickness = 0.5\n",
    "    for i in range(n):\n",
    "        thickness *= 2\n",
    "    \n",
    "    return str(thickness / 1000)+'m'"
   ]
  },
  {
   "cell_type": "code",
   "execution_count": 12,
   "id": "0066ee1f",
   "metadata": {},
   "outputs": [
    {
     "data": {
      "text/plain": [
       "'0.001m'"
      ]
     },
     "execution_count": 12,
     "metadata": {},
     "output_type": "execute_result"
    }
   ],
   "source": [
    "num_layers(1)"
   ]
  },
  {
   "cell_type": "code",
   "execution_count": 13,
   "id": "de022371",
   "metadata": {},
   "outputs": [
    {
     "data": {
      "text/plain": [
       "'0.008m'"
      ]
     },
     "execution_count": 13,
     "metadata": {},
     "output_type": "execute_result"
    }
   ],
   "source": [
    "num_layers(4)"
   ]
  },
  {
   "cell_type": "code",
   "execution_count": 14,
   "id": "3bf04f6a",
   "metadata": {},
   "outputs": [
    {
     "data": {
      "text/plain": [
       "'1048.576m'"
      ]
     },
     "execution_count": 14,
     "metadata": {},
     "output_type": "execute_result"
    }
   ],
   "source": [
    "num_layers(21)"
   ]
  },
  {
   "cell_type": "markdown",
   "id": "06be3499",
   "metadata": {},
   "source": [
    "### 4.Create a function that takes a single string as argument and returns an ordered list containing the indices of all capital letters in the string.\n",
    "    Examples:\n",
    "    index_of_caps(\"eDaBiT\") ➞ [1, 3, 5]\n",
    "    index_of_caps(\"eQuINoX\") ➞ [1, 3, 4, 6]\n",
    "    index_of_caps(\"determine\") ➞ []\n",
    "    index_of_caps(\"STRIKE\") ➞ [0, 1, 2, 3, 4, 5]\n",
    "    index_of_caps(\"sUn\") ➞ [1]"
   ]
  },
  {
   "cell_type": "code",
   "execution_count": 15,
   "id": "fb58bdd2",
   "metadata": {},
   "outputs": [],
   "source": [
    "def index_of_caps(string):\n",
    "    l = []\n",
    "    for i in range(len(string)):\n",
    "        if string[i].isupper():\n",
    "            l.append(i)\n",
    "    return l"
   ]
  },
  {
   "cell_type": "code",
   "execution_count": 16,
   "id": "a5f9202d",
   "metadata": {},
   "outputs": [
    {
     "data": {
      "text/plain": [
       "[1, 3, 5]"
      ]
     },
     "execution_count": 16,
     "metadata": {},
     "output_type": "execute_result"
    }
   ],
   "source": [
    "index_of_caps(\"eDaBiT\")"
   ]
  },
  {
   "cell_type": "code",
   "execution_count": 17,
   "id": "1f4789c6",
   "metadata": {},
   "outputs": [
    {
     "data": {
      "text/plain": [
       "[1, 3, 4, 6]"
      ]
     },
     "execution_count": 17,
     "metadata": {},
     "output_type": "execute_result"
    }
   ],
   "source": [
    "index_of_caps(\"eQuINoX\")"
   ]
  },
  {
   "cell_type": "code",
   "execution_count": 18,
   "id": "196eab72",
   "metadata": {},
   "outputs": [
    {
     "data": {
      "text/plain": [
       "[]"
      ]
     },
     "execution_count": 18,
     "metadata": {},
     "output_type": "execute_result"
    }
   ],
   "source": [
    "index_of_caps(\"determine\")"
   ]
  },
  {
   "cell_type": "code",
   "execution_count": 19,
   "id": "3093dea3",
   "metadata": {},
   "outputs": [
    {
     "data": {
      "text/plain": [
       "[0, 1, 2, 3, 4, 5]"
      ]
     },
     "execution_count": 19,
     "metadata": {},
     "output_type": "execute_result"
    }
   ],
   "source": [
    "index_of_caps(\"STRIKE\")"
   ]
  },
  {
   "cell_type": "code",
   "execution_count": 20,
   "id": "17a9a2c4",
   "metadata": {},
   "outputs": [
    {
     "data": {
      "text/plain": [
       "[1]"
      ]
     },
     "execution_count": 20,
     "metadata": {},
     "output_type": "execute_result"
    }
   ],
   "source": [
    "index_of_caps(\"sUn\")"
   ]
  },
  {
   "cell_type": "markdown",
   "id": "377d94d6",
   "metadata": {},
   "source": [
    "### 5.Using list comprehensions, create a function that finds all even numbers from 1 to the given number.\n",
    "    Examples:\n",
    "    find_even_nums(8) ➞ [2, 4, 6, 8]\n",
    "    find_even_nums(4) ➞ [2, 4]\n",
    "    find_even_nums(2) ➞ [2]"
   ]
  },
  {
   "cell_type": "code",
   "execution_count": 21,
   "id": "53dcc0f3",
   "metadata": {},
   "outputs": [
    {
     "name": "stdout",
     "output_type": "stream",
     "text": [
      "Output ➞ [2, 4, 6, 8]\n",
      "Output ➞ [2, 4]\n",
      "Output ➞ [2]\n"
     ]
    }
   ],
   "source": [
    "def find_even_nums(in_num):\n",
    "    out_list = [i for i in range(1,in_num+1) if i%2 == 0]\n",
    "    print(f'Output ➞ {out_list}')\n",
    "    \n",
    "find_even_nums(8)\n",
    "find_even_nums(4)\n",
    "find_even_nums(2)"
   ]
  },
  {
   "cell_type": "code",
   "execution_count": null,
   "id": "95640f70",
   "metadata": {},
   "outputs": [],
   "source": []
  }
 ],
 "metadata": {
  "kernelspec": {
   "display_name": "Python 3",
   "language": "python",
   "name": "python3"
  },
  "language_info": {
   "codemirror_mode": {
    "name": "ipython",
    "version": 3
   },
   "file_extension": ".py",
   "mimetype": "text/x-python",
   "name": "python",
   "nbconvert_exporter": "python",
   "pygments_lexer": "ipython3",
   "version": "3.8.8"
  }
 },
 "nbformat": 4,
 "nbformat_minor": 5
}
