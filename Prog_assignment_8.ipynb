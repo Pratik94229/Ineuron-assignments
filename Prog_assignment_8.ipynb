{
 "cells": [
  {
   "cell_type": "code",
   "execution_count": 1,
   "id": "077fb019",
   "metadata": {},
   "outputs": [
    {
     "name": "stdout",
     "output_type": "stream",
     "text": [
      "Matrix A= [[4 0]\n",
      " [7 2]]\n",
      "Matrix B= [[9 9]\n",
      " [7 8]]\n",
      "Sum of matrix= [[13  9]\n",
      " [14 10]]\n"
     ]
    }
   ],
   "source": [
    "#1. Write a Python Program to Add Two Matrices?\n",
    "import numpy as np\n",
    "a=np.random.randint(10,size=(2, 2))\n",
    "b=np.random.randint(10,size=(2, 2))\n",
    "c=np.add(a,b)\n",
    "print(\"Matrix A=\",a)\n",
    "print(\"Matrix B=\",b)\n",
    "print(\"Sum of matrix=\",c)"
   ]
  },
  {
   "cell_type": "code",
   "execution_count": 2,
   "id": "9f0a1ec5",
   "metadata": {},
   "outputs": [
    {
     "name": "stdout",
     "output_type": "stream",
     "text": [
      "Matrix A= [[7 9]\n",
      " [4 1]]\n",
      "Matrix B= [[3 5]\n",
      " [4 3]]\n",
      "Matrix multiplication= [[57 62]\n",
      " [16 23]]\n"
     ]
    }
   ],
   "source": [
    "#2. Write a Python Program to Multiply Two Matrices?\n",
    "import numpy as np\n",
    "a=np.random.randint(10,size=(2, 2))\n",
    "b=np.random.randint(10,size=(2, 2))\n",
    "print(\"Matrix A=\",a)\n",
    "print(\"Matrix B=\",b)\n",
    "print(\"Matrix multiplication=\",np.dot(a,b))\n"
   ]
  },
  {
   "cell_type": "code",
   "execution_count": 3,
   "id": "bd5278d4",
   "metadata": {},
   "outputs": [
    {
     "name": "stdout",
     "output_type": "stream",
     "text": [
      "Matrix A= [[6 2]\n",
      " [1 2]]\n",
      "Transpose of Matrix A= [[6 1]\n",
      " [2 2]]\n"
     ]
    }
   ],
   "source": [
    "#3. Write a Python Program to Transpose a Matrix?\n",
    "a=np.random.randint(10,size=(2, 2))\n",
    "b=a.transpose()\n",
    "print(\"Matrix A=\",a)\n",
    "print(\"Transpose of Matrix A=\",b)\n"
   ]
  },
  {
   "cell_type": "code",
   "execution_count": 4,
   "id": "2000e7f3",
   "metadata": {},
   "outputs": [
    {
     "name": "stdout",
     "output_type": "stream",
     "text": [
      "Enter words which are to be sortedPython Program to Sort Words in Alphabetic Order\n",
      "alphabetic in order program python sort to words\n"
     ]
    }
   ],
   "source": [
    "#4. Write a Python Program to Sort Words in Alphabetic Order?\n",
    "\n",
    "def sort_word(S):\n",
    "    w = S.split(\" \") #converts input into list of single words\n",
    "    for i in range(len(w)):\n",
    "        w[i] = w[i].lower()\n",
    "    S = sorted(w)\n",
    "    print(' '.join(S))\n",
    "          \n",
    "S=input(\"Enter words which are to be sorted\")\n",
    "sort_word(S)\n"
   ]
  },
  {
   "cell_type": "code",
   "execution_count": 5,
   "id": "96c4a770",
   "metadata": {},
   "outputs": [
    {
     "name": "stdout",
     "output_type": "stream",
     "text": [
      "hi what is the weather like\n"
     ]
    }
   ],
   "source": [
    "#5. Write a Python Program to Remove Punctuation From a String?\n",
    "import string as st\n",
    "\n",
    "original_string = '!hi. wh?at is the weat[h]er lik?e.'\n",
    "\n",
    "for character in st.punctuation:\n",
    "    original_string = original_string.replace(character, '') #replaces character with blank\n",
    "\n",
    "print(original_string)\n"
   ]
  },
  {
   "cell_type": "code",
   "execution_count": null,
   "id": "b11e18ea",
   "metadata": {},
   "outputs": [],
   "source": []
  }
 ],
 "metadata": {
  "kernelspec": {
   "display_name": "Python 3 (ipykernel)",
   "language": "python",
   "name": "python3"
  },
  "language_info": {
   "codemirror_mode": {
    "name": "ipython",
    "version": 3
   },
   "file_extension": ".py",
   "mimetype": "text/x-python",
   "name": "python",
   "nbconvert_exporter": "python",
   "pygments_lexer": "ipython3",
   "version": "3.9.12"
  }
 },
 "nbformat": 4,
 "nbformat_minor": 5
}
