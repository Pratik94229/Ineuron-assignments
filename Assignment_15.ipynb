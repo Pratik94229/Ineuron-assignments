{
 "cells": [
  {
   "cell_type": "markdown",
   "id": "3f84329c",
   "metadata": {},
   "source": [
    "### 1. Please write a program using generator to print the numbers which can be divisible by 5 and 7 between 0 and n in comma separated form while n is input by console ?\n",
    "    Example:\n",
    "    If the following n is given as input to the program: 100\n",
    "    Then, the output of the program should be: 0,35,70"
   ]
  },
  {
   "cell_type": "code",
   "execution_count": 1,
   "id": "5728a3c7",
   "metadata": {},
   "outputs": [
    {
     "name": "stdout",
     "output_type": "stream",
     "text": [
      "0,35,70,"
     ]
    }
   ],
   "source": [
    "def generator(n):\n",
    "    for i in range(n+1):\n",
    "        if i%5==0 and i%7==0:\n",
    "            yield i\n",
    "for j in generator(100):\n",
    "    print(j,end=',')"
   ]
  },
  {
   "cell_type": "markdown",
   "id": "8270ff11",
   "metadata": {},
   "source": [
    "### 2.Please write a program using generator to print the even numbers between 0 and n in comma separated form while n is input by console ?\n",
    "    Example:\n",
    "    If the following n is given as input to the program: 10\n",
    "    Then, the output of the program should be: 0,2,4,6,8,10"
   ]
  },
  {
   "cell_type": "code",
   "execution_count": 3,
   "id": "3e63bfe0",
   "metadata": {},
   "outputs": [
    {
     "name": "stdout",
     "output_type": "stream",
     "text": [
      "0,2,4,6,8,10,"
     ]
    }
   ],
   "source": [
    "def generator(n):\n",
    "    for i in range(n+1):\n",
    "        if i%2==0:\n",
    "            yield i\n",
    "for j in generator(10):\n",
    "    print(j,end =\",\")\n",
    "    "
   ]
  },
  {
   "cell_type": "markdown",
   "id": "3be41005",
   "metadata": {},
   "source": [
    "### 3.The Fibonacci Sequence is computed based on the following formula below, Please write a program using list comprehension to print the Fibonacci Sequence in comma separated form with a given n input by console ?\n",
    "    f(n)=0 if n=0\n",
    "    f(n)=1 if n=1\n",
    "    f(n)=f(n-1)+f(n-2) if n>1"
   ]
  },
  {
   "cell_type": "code",
   "execution_count": 4,
   "id": "7ecbecd1",
   "metadata": {},
   "outputs": [
    {
     "name": "stdout",
     "output_type": "stream",
     "text": [
      "[0, 1, 1, 2, 3, 5, 8, 13, 21, 34, 55, 89, 144, 233, 377, 610, 987, 1597, 2584, 4181]\n"
     ]
    }
   ],
   "source": [
    "def genFibonaci(in_num):\n",
    "    if in_num == 0:\n",
    "        return 0\n",
    "    elif in_num == 1:\n",
    "        return 1\n",
    "    else:\n",
    "        return genFibonaci(in_num-1)+genFibonaci(in_num-2)\n",
    "    \n",
    "print([genFibonaci(x) for x in range(20)])"
   ]
  },
  {
   "cell_type": "markdown",
   "id": "a8f48b54",
   "metadata": {},
   "source": [
    "### 4.Assuming that we have some email addresses in the \"username@companyname.com\" format, please write program to print the user name of a given email address. Both user names and company names are composed of letters only ?\n",
    "    Example:\n",
    "    If the following email address is given as input to the program: john@google.com\n",
    "    Then, the output of the program should be: john"
   ]
  },
  {
   "cell_type": "code",
   "execution_count": 6,
   "id": "51290725",
   "metadata": {},
   "outputs": [
    {
     "name": "stdout",
     "output_type": "stream",
     "text": [
      "john\n"
     ]
    }
   ],
   "source": [
    "def username(email):\n",
    "    print(email.split(\"@\")[0])\n",
    "    \n",
    "username(\"john@google.com\")"
   ]
  },
  {
   "cell_type": "markdown",
   "id": "efadd8ab",
   "metadata": {},
   "source": [
    "### 5.Define a class named Shape and its subclass Square. The Square class has an init function which takes a length as argument. Both classes have a area function which can print the area of the shape where Shape's area is 0 by default."
   ]
  },
  {
   "cell_type": "code",
   "execution_count": 7,
   "id": "bc9b05d7",
   "metadata": {},
   "outputs": [],
   "source": [
    "class shape:\n",
    "    def __init__(self):\n",
    "        pass\n",
    "    def area(self):\n",
    "        return 0\n",
    "class square(shape):\n",
    "    def __init__(self,length = 0):\n",
    "        shape.__init__(self)\n",
    "        self.length = length\n",
    "    \n",
    "    def area(self):\n",
    "        return self.length*self.length\n",
    "    "
   ]
  },
  {
   "cell_type": "code",
   "execution_count": 8,
   "id": "c89d42b0",
   "metadata": {},
   "outputs": [
    {
     "data": {
      "text/plain": [
       "100"
      ]
     },
     "execution_count": 8,
     "metadata": {},
     "output_type": "execute_result"
    }
   ],
   "source": [
    "a = square(10)\n",
    "a.area()"
   ]
  },
  {
   "cell_type": "code",
   "execution_count": 9,
   "id": "81e727ce",
   "metadata": {},
   "outputs": [
    {
     "data": {
      "text/plain": [
       "0"
      ]
     },
     "execution_count": 9,
     "metadata": {},
     "output_type": "execute_result"
    }
   ],
   "source": [
    "square().area()"
   ]
  },
  {
   "cell_type": "code",
   "execution_count": null,
   "id": "8faedaa8",
   "metadata": {},
   "outputs": [],
   "source": []
  }
 ],
 "metadata": {
  "kernelspec": {
   "display_name": "Python 3",
   "language": "python",
   "name": "python3"
  },
  "language_info": {
   "codemirror_mode": {
    "name": "ipython",
    "version": 3
   },
   "file_extension": ".py",
   "mimetype": "text/x-python",
   "name": "python",
   "nbconvert_exporter": "python",
   "pygments_lexer": "ipython3",
   "version": "3.8.8"
  }
 },
 "nbformat": 4,
 "nbformat_minor": 5
}
