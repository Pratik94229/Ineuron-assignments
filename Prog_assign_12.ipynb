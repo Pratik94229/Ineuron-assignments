{
 "cells": [
  {
   "cell_type": "code",
   "execution_count": 1,
   "id": "61c25bdc",
   "metadata": {},
   "outputs": [
    {
     "name": "stdout",
     "output_type": "stream",
     "text": [
      "Original values in dictionary: ['ineuron', 'courses', 'college', 'courses', 'assignment']\n",
      "Unique values in dictionary {'courses', 'ineuron', 'assignment', 'college'}\n"
     ]
    }
   ],
   "source": [
    "#1. Write a Python program to Extract Unique values dictionary values?\n",
    "test_list = [{1:\"ineuron\", 2: 'courses'}, {1: 'college', 2: 'courses'}, {1: 'assignment'}]\n",
    "unique=[]\n",
    "for i in test_list:\n",
    "    for j in i.values():\n",
    "        unique.append(j)\n",
    "print(\"Original values in dictionary:\",unique)        \n",
    "print(\"Unique values in dictionary\",set(unique))        \n",
    "        \n",
    "        "
   ]
  },
  {
   "cell_type": "code",
   "execution_count": 2,
   "id": "fcee5821",
   "metadata": {},
   "outputs": [
    {
     "name": "stdout",
     "output_type": "stream",
     "text": [
      "24\n"
     ]
    }
   ],
   "source": [
    "#2. Write a Python program to find the sum of all items in a dictionary?\n",
    "l = [[1,2,3,4] , (2,3,4,5,6) , (3,4,5,6,7) , set([23,4,5,45,4,4,5,45,45,4,5]) , {'k1' :\"sudh\" , \"k2\" : \"ineuron\",\"k3\":\n",
    "            \"kumar\" , 3:6 , 7:8} , [\"ineuron\" , \"data science \"]]\n",
    "sum=0\n",
    "for i in l:\n",
    "    if(type(i)==dict):\n",
    "        for j in i.keys():\n",
    "            if(type(j)==int):\n",
    "                sum=sum+j\n",
    "        for j in i.values():        \n",
    "            if(type(j)==int):\n",
    "                sum=sum+j\n",
    "print(sum)               "
   ]
  },
  {
   "cell_type": "code",
   "execution_count": 3,
   "id": "eef70b84",
   "metadata": {},
   "outputs": [
    {
     "name": "stdout",
     "output_type": "stream",
     "text": [
      "{'apple': 2, 'orange': 3, 'tangerine': 5, 'cashew': 3, 'almond': 4, 'pistachio': 6}\n"
     ]
    }
   ],
   "source": [
    "#3. Write a Python program to Merging two Dictionaries?\n",
    "fruits = {\"apple\": 2, \"orange\" : 3, \"tangerine\": 5}\n",
    "dry_fruits = {\"cashew\": 3, \"almond\": 4, \"pistachio\": 6}\n",
    "fruits.update(dry_fruits)#merging dry_fruits into fruits\n",
    "print(fruits)"
   ]
  },
  {
   "cell_type": "code",
   "execution_count": 4,
   "id": "0eb05ead",
   "metadata": {},
   "outputs": [
    {
     "name": "stdout",
     "output_type": "stream",
     "text": [
      "{'a': 1, 'd': [1, 2, 3], 'c_a': 2, 'c_b_x': 5, 'c_b_y': 10}\n"
     ]
    }
   ],
   "source": [
    "#4. Write a Python program to convert key-values list to flat dictionary?\n",
    "import pandas as pd\n",
    "\n",
    "d = {'a': 1,\n",
    "     'c': {'a': 2, 'b': {'x': 5, 'y' : 10}},\n",
    "     'd': [1, 2, 3]}\n",
    "\n",
    "df = pd.json_normalize(d, sep='_')\n",
    "print(df.to_dict(orient='records')[0])\n",
    "                \n"
   ]
  },
  {
   "cell_type": "code",
   "execution_count": 6,
   "id": "1a4b70f0",
   "metadata": {},
   "outputs": [
    {
     "name": "stdout",
     "output_type": "stream",
     "text": [
      "Initial Ordered dictionary: OrderedDict([('apple', 2), ('orange', 3), ('tangerine', 5)])\n",
      "Resultant Dictionary :  OrderedDict([('cashew', '1'), ('apple', 2), ('orange', 3), ('tangerine', 5)])\n"
     ]
    }
   ],
   "source": [
    "#5. Write a Python program to insertion at the beginning in OrderedDict?\n",
    "from collections import OrderedDict\n",
    "fruits = {\"apple\": 2, \"orange\" : 3, \"tangerine\": 5}\n",
    "ordered_dict = OrderedDict(fruits) # initialising ordered_dict \n",
    "print(\"Initial Ordered dictionary:\",ordered_dict)\n",
    "# inserting items in starting of dict\n",
    "ordered_dict.update({\"cashew\":'1'})\n",
    "ordered_dict.move_to_end('cashew', last = False)\n",
    " \n",
    "# print result\n",
    "print (\"Resultant Dictionary : \",ordered_dict)\n",
    "    \n",
    "\n",
    "\n"
   ]
  },
  {
   "cell_type": "code",
   "execution_count": 5,
   "id": "38401d42",
   "metadata": {},
   "outputs": [
    {
     "name": "stdout",
     "output_type": "stream",
     "text": [
      "Is order of character present in input ? true\n"
     ]
    }
   ],
   "source": [
    "#6. Write a Python program to check order of character in string using OrderedDict()?\n",
    "\n",
    "from collections import OrderedDict \n",
    "def checkOrder(input, pattern): \n",
    "    dict = OrderedDict.fromkeys(input)   # create empty OrderedDict like{'a': None,'b': None, 'c': None} \n",
    "  \n",
    "    # traverse generated OrderedDict parallel with \n",
    "    # pattern string to check if order of characters is same\n",
    "    ptrlen = 0\n",
    "    for key in dict.keys(): \n",
    "        if (key == pattern[ptrlen]): \n",
    "            ptrlen = ptrlen + 1\n",
    "          \n",
    "        # check if we have traverse complete \n",
    "        # pattern string \n",
    "        if (ptrlen == (len(pattern))): \n",
    "            return 'true'\n",
    "  \n",
    "    # if we come out from for loop that means \n",
    "    # order was mismatched \n",
    "    return 'false'\n",
    "input = 'engineers rock'\n",
    "pattern = 'ers'\n",
    "print (\"Is order of character present in input ?\",checkOrder(input,pattern))\n",
    "  \n",
    "    "
   ]
  },
  {
   "cell_type": "code",
   "execution_count": 10,
   "id": "aa3802c3",
   "metadata": {},
   "outputs": [
    {
     "name": "stdout",
     "output_type": "stream",
     "text": [
      "8 14 21 32 "
     ]
    }
   ],
   "source": [
    "#7. Write a Python program to sort Python Dictionaries by Key or Value?\n",
    "dict={21:'apple',32:'banana',14:'dry_fruits',8:'black_current'}\n",
    "def sort_dict(dict):\n",
    "    for i in sorted(dict.keys()):\n",
    "        print(i, end=' ')\n",
    "sort_dict(dict)\n",
    " \n",
    " \n"
   ]
  },
  {
   "cell_type": "code",
   "execution_count": null,
   "id": "527ca664",
   "metadata": {},
   "outputs": [],
   "source": []
  }
 ],
 "metadata": {
  "kernelspec": {
   "display_name": "Python 3 (ipykernel)",
   "language": "python",
   "name": "python3"
  },
  "language_info": {
   "codemirror_mode": {
    "name": "ipython",
    "version": 3
   },
   "file_extension": ".py",
   "mimetype": "text/x-python",
   "name": "python",
   "nbconvert_exporter": "python",
   "pygments_lexer": "ipython3",
   "version": "3.9.12"
  }
 },
 "nbformat": 4,
 "nbformat_minor": 5
}
