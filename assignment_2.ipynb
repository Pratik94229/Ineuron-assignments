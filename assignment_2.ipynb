{
 "cells": [
  {
   "cell_type": "code",
   "execution_count": 1,
   "id": "aefcbcc8",
   "metadata": {},
   "outputs": [
    {
     "name": "stdout",
     "output_type": "stream",
     "text": [
      "Enter distance in kilometer20\n",
      "Enter distance equals: 12.4 miles\n"
     ]
    }
   ],
   "source": [
    "#1. Write a Python program to convert kilometers to miles?\n",
    "Km=float(input(\"Enter distance in kilometer\"))\n",
    "print(\"Enter distance equals:\",Km*0.62,\"miles\")"
   ]
  },
  {
   "cell_type": "code",
   "execution_count": 2,
   "id": "281367db",
   "metadata": {},
   "outputs": [
    {
     "name": "stdout",
     "output_type": "stream",
     "text": [
      "Enter temprature in degree celsius37\n",
      "37.0 degree Celsius is equal to 98.6 degree Fahrenheit\n"
     ]
    }
   ],
   "source": [
    "#2. Write a Python program to convert Celsius to Fahrenheit?\n",
    "celsius=float(input(\"Enter temprature in degree celsius\"))\n",
    "fahrenheit = (celsius * 1.8) + 32\n",
    "print('%0.1f degree Celsius is equal to %0.1f degree Fahrenheit' %(celsius,fahrenheit))"
   ]
  },
  {
   "cell_type": "code",
   "execution_count": 3,
   "id": "cfbcf25d",
   "metadata": {},
   "outputs": [
    {
     "name": "stdout",
     "output_type": "stream",
     "text": [
      "Enter Year: 2022\n",
      "Enter Month: 11\n",
      "   November 2022\n",
      "Mo Tu We Th Fr Sa Su\n",
      "    1  2  3  4  5  6\n",
      " 7  8  9 10 11 12 13\n",
      "14 15 16 17 18 19 20\n",
      "21 22 23 24 25 26 27\n",
      "28 29 30\n",
      "\n"
     ]
    }
   ],
   "source": [
    "#3. Write a Python program to display calendar?\n",
    "import calendar\n",
    "year = int(input(\"Enter Year: \"))\n",
    "month = int(input(\"Enter Month: \"))\n",
    "# printing Calendar\n",
    "print(calendar.month(year, month))"
   ]
  },
  {
   "cell_type": "code",
   "execution_count": 4,
   "id": "4f1f997d",
   "metadata": {},
   "outputs": [
    {
     "name": "stdout",
     "output_type": "stream",
     "text": [
      "Enter the value of a: 1\n",
      "Enter the value of b: 6\n",
      "Enter the value of c: 9\n",
      "Two equal and real roots are -3.00 and -3.00\n"
     ]
    }
   ],
   "source": [
    "#4. Write a Python program to solve quadratic equation?\n",
    "import math  \n",
    "a = int(input('Enter the value of a: '))\n",
    "b = int(input('Enter the value of b: '))\n",
    "c = int(input('Enter the value of c: '))\n",
    "\n",
    "dis = (b**2) - (4*a*c)\n",
    "\n",
    "# checking condition for discriminant\n",
    "if(dis > 0):\n",
    "    root1 = (-b + math.sqrt(dis) / (2 * a))\n",
    "    root2 = (-b - math.sqrt(dis) / (2 * a))\n",
    "    print(\"Two distinct real roots are %.2f and %.2f\" %(root1, root2))\n",
    "\n",
    "elif(dis == 0):\n",
    "    root1 = root2 = -b / (2 * a)\n",
    "    print(\"Two equal and real roots are %.2f and %.2f\" %(root1, root2))\n",
    "\n",
    "elif(dis < 0): #condition for imaginary roots\n",
    "    root1 = root2 = -b / (2 * a)\n",
    "    imaginary = math.sqrt(-dis) / (2 * a)\n",
    "    print(\"Two distinct complex roots are %.2f+%.2f and %.2f-%.2f\" \n",
    "                          %(root1, imaginary, root2, imaginary))"
   ]
  },
  {
   "cell_type": "code",
   "execution_count": 5,
   "id": "994cec47",
   "metadata": {},
   "outputs": [
    {
     "name": "stdout",
     "output_type": "stream",
     "text": [
      "Enter value of first variable: 3\n",
      "Enter value of second variable: 4\n",
      "After swapping: \n",
      "Value of First Varibale x is: 4\n",
      "Value of second variable y is: 3\n"
     ]
    }
   ],
   "source": [
    "#5. Write a Python program to swap two variables without temp variable?\n",
    "x=int(input(\"Enter value of first variable: \"))\n",
    "y=int(input(\"Enter value of second variable: \"))\n",
    "x=x+y\n",
    "y=x-y\n",
    "x=x-y\n",
    "print(\"After swapping: \")\n",
    "print(\"Value of First Varibale x is:\",x)\n",
    "print(\"Value of second variable y is:\",y)"
   ]
  },
  {
   "cell_type": "code",
   "execution_count": null,
   "id": "3631a6e7",
   "metadata": {},
   "outputs": [],
   "source": []
  }
 ],
 "metadata": {
  "kernelspec": {
   "display_name": "Python 3 (ipykernel)",
   "language": "python",
   "name": "python3"
  },
  "language_info": {
   "codemirror_mode": {
    "name": "ipython",
    "version": 3
   },
   "file_extension": ".py",
   "mimetype": "text/x-python",
   "name": "python",
   "nbconvert_exporter": "python",
   "pygments_lexer": "ipython3",
   "version": "3.9.12"
  }
 },
 "nbformat": 4,
 "nbformat_minor": 5
}
