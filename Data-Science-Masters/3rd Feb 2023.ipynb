{
 "cells": [
  {
   "cell_type": "markdown",
   "id": "93adfb7d-4b8c-4551-a06c-6ffc6aa7584d",
   "metadata": {
    "tags": []
   },
   "source": [
    "## 3rd Feb Assignment"
   ]
  },
  {
   "cell_type": "markdown",
   "id": "3becb597-68bc-4760-8078-d5cba151e664",
   "metadata": {
    "jp-MarkdownHeadingCollapsed": true,
    "tags": []
   },
   "source": [
    "```\n",
    "Q1. Which keyword is used to create a function? Create a function to return a list of odd numbers in the range of 1 to 25.\n",
    "\n",
    "Ans. 'def' keyword is used to create a fuction.\n",
    "```"
   ]
  },
  {
   "cell_type": "code",
   "execution_count": 1,
   "id": "a601bd0d-6a6f-4d37-9a55-55493db2d0fd",
   "metadata": {},
   "outputs": [],
   "source": [
    "def odd_num():\n",
    "    odds = []\n",
    "    for i in range(1,26):\n",
    "        if i%2 != 0:\n",
    "            odds.append(i)\n",
    "    return odds"
   ]
  },
  {
   "cell_type": "code",
   "execution_count": 2,
   "id": "48cf4a6e-b855-4b2f-9459-bd07de2c1189",
   "metadata": {},
   "outputs": [
    {
     "data": {
      "text/plain": [
       "[1, 3, 5, 7, 9, 11, 13, 15, 17, 19, 21, 23, 25]"
      ]
     },
     "execution_count": 2,
     "metadata": {},
     "output_type": "execute_result"
    }
   ],
   "source": [
    "odd_num()"
   ]
  },
  {
   "cell_type": "markdown",
   "id": "b0d1ffdf-3408-4d7b-9c99-41f59f307e09",
   "metadata": {},
   "source": [
    "---"
   ]
  },
  {
   "cell_type": "markdown",
   "id": "2dcd856f-d1ab-4a93-8993-b8579b4ecfd8",
   "metadata": {},
   "source": [
    "```\n",
    "Q2. Why *args and **kwargs is used in some functions? Create a function each for *args and **kwargs to demonstrate their use.\n",
    "\n",
    "Ans. *args and **kwargs are used in functions to pass a variable number of arguments to the function.\n",
    "\n",
    "*args is used to send a non-keyworded variable length argument list to the function. It allows the function to receive a dynamic number of non-keyword arguments, and these arguments are packed into a tuple.\n",
    "\n",
    "**kwargs allows a keyworded, variable-length argument list. It passes keyworded variable length of arguments to a function. The arguments are passed in the form of key-value pairs and packed into a dictionary.\n",
    "```"
   ]
  },
  {
   "cell_type": "code",
   "execution_count": 3,
   "id": "25111269-006a-4e2f-9e76-79505cabc58a",
   "metadata": {},
   "outputs": [],
   "source": [
    "# Example\n",
    "\n",
    "def test_func(*args, **kwargs):\n",
    "    print(\"This is a test function\")\n",
    "    print(\"Non-keyworded arguments:\", args)\n",
    "    print(\"Keyworded arguments:\", kwargs)"
   ]
  },
  {
   "cell_type": "code",
   "execution_count": 4,
   "id": "e642ab32-658a-4470-b985-2b5cb352bec1",
   "metadata": {},
   "outputs": [
    {
     "name": "stdout",
     "output_type": "stream",
     "text": [
      "This is a test function\n",
      "Non-keyworded arguments: (1, 2, 3, 4, 5)\n",
      "Keyworded arguments: {'name': 'Yogesh', 'age': 21}\n"
     ]
    }
   ],
   "source": [
    "# Call the function with non-keyworded and keyworded arguments\n",
    "\n",
    "test_func(1, 2, 3, 4, 5, name=\"Yogesh\", age=21)"
   ]
  },
  {
   "cell_type": "markdown",
   "id": "76276f5c-fe5f-46b7-85d3-212c04d9e636",
   "metadata": {},
   "source": [
    "---"
   ]
  },
  {
   "cell_type": "markdown",
   "id": "036566d3-e4dd-4954-bf06-e9ba18ad9aaf",
   "metadata": {},
   "source": [
    "```\n",
    "Q3. What is an iterator in python? Name the method used to initialise the iterator object and the method used for iteration. Use these methods to print the first five elements of the given list [2, 4, 6, 8, 10, 12, 14, 16, 18, 20].\n",
    "\n",
    "Ans. An iterator in Python is an object that implements the iterator protocol. It must define two methods: __iter__() and __next__(). __iter__() returns the iterator object itself and the __next__() method returns the next item from the sequence of elements.\n",
    "\n",
    "Here's an example of how you can use the iter() method to initialize the iterator object and the next() method to iterate over the elements:\n",
    "```"
   ]
  },
  {
   "cell_type": "code",
   "execution_count": 5,
   "id": "1ace8b03-6855-4ee7-ad33-82d733b21b70",
   "metadata": {},
   "outputs": [
    {
     "name": "stdout",
     "output_type": "stream",
     "text": [
      "2\n",
      "4\n",
      "6\n",
      "8\n",
      "10\n"
     ]
    }
   ],
   "source": [
    "l = [2, 4, 6, 8, 10, 12, 14, 16, 18, 20]\n",
    "it = iter(l)\n",
    "\n",
    "for i in range(5):\n",
    "    print(next(it))"
   ]
  },
  {
   "cell_type": "markdown",
   "id": "3b0b1495-963c-4f92-96f0-f2b3b8030c18",
   "metadata": {},
   "source": [
    "---"
   ]
  },
  {
   "cell_type": "markdown",
   "id": "4dc46d51-ea10-42b9-b168-3277c0a36f16",
   "metadata": {},
   "source": [
    "```\n",
    "Q4. What is a generator function in python? Why yield keyword is used? Give an example of a generator function.\n",
    "\n",
    "Ans. A generator function in Python is a special type of function that returns a generator iterator. It uses the yield keyword instead of return to return multiple values one at a time, instead of all at once.\n",
    "\n",
    "The yield keyword is used to return a value from the generator function and pause its execution. When the function is called again, it resumes execution immediately after the yield statement. This allows the generator function to generate an iterable sequence of values, which can be iterated over in a for loop or using the next() method.\n",
    "\n",
    "Here's an example of a generator function that generates the sequence of numbers from 0 to n:\n",
    "```"
   ]
  },
  {
   "cell_type": "code",
   "execution_count": 6,
   "id": "f4e3844c-7e17-4c03-a8d1-e9a8b1855f30",
   "metadata": {},
   "outputs": [],
   "source": [
    "def generator_function(n):\n",
    "    i = 0\n",
    "    while i < n:\n",
    "        yield i\n",
    "        i += 1"
   ]
  },
  {
   "cell_type": "code",
   "execution_count": 7,
   "id": "cd038251-76fe-422d-939e-d44b433b27b9",
   "metadata": {},
   "outputs": [
    {
     "name": "stdout",
     "output_type": "stream",
     "text": [
      "0\n",
      "1\n",
      "2\n",
      "3\n",
      "4\n"
     ]
    }
   ],
   "source": [
    "gen = generator_function(5)\n",
    "for i in gen:\n",
    "    print(i)"
   ]
  },
  {
   "cell_type": "markdown",
   "id": "7a10dc29-c728-4398-a078-d89afec45824",
   "metadata": {},
   "source": [
    "---"
   ]
  },
  {
   "cell_type": "markdown",
   "id": "c1156fa9-2e5d-4029-924e-c8585da4af50",
   "metadata": {},
   "source": [
    "```\n",
    "Q5. Create a generator function for prime numbers less than 1000. Use the next() method to print the first 20 prime numbers.\n",
    "```"
   ]
  },
  {
   "cell_type": "code",
   "execution_count": 8,
   "id": "47f2edb1-82ce-401e-a1c9-a629114f603f",
   "metadata": {},
   "outputs": [],
   "source": [
    "# Q5 Answer\n",
    "def prime_number():\n",
    "    for n in range(1,1000):\n",
    "        for i in range(2,n):\n",
    "            if(n%i==0):\n",
    "                break\n",
    "        else:\n",
    "            yield n     "
   ]
  },
  {
   "cell_type": "code",
   "execution_count": 9,
   "id": "f5525b24-b6ab-4501-a1db-9fbcc21f5227",
   "metadata": {},
   "outputs": [
    {
     "name": "stdout",
     "output_type": "stream",
     "text": [
      "1\n",
      "2\n",
      "3\n",
      "5\n",
      "7\n",
      "11\n",
      "13\n",
      "17\n",
      "19\n",
      "23\n",
      "29\n",
      "31\n",
      "37\n",
      "41\n",
      "43\n",
      "47\n",
      "53\n",
      "59\n",
      "61\n",
      "67\n",
      "71\n"
     ]
    }
   ],
   "source": [
    "prime_gen = prime_number()\n",
    "for i in range(21):\n",
    "    print(next(prime_gen))"
   ]
  },
  {
   "cell_type": "markdown",
   "id": "e59ee13d-717f-409c-af57-3bb78e7f4305",
   "metadata": {},
   "source": [
    "---"
   ]
  },
  {
   "cell_type": "markdown",
   "id": "5da20c55-3e5f-4876-9d03-688a8703ee2d",
   "metadata": {},
   "source": [
    "```\n",
    "Q6. Write a python program to print the first 10 Fibonacci numbers using a while loop.\n",
    "```"
   ]
  },
  {
   "cell_type": "code",
   "execution_count": 10,
   "id": "7d40465a-2d22-4c27-a3cd-0d21481e9f51",
   "metadata": {},
   "outputs": [
    {
     "name": "stdout",
     "output_type": "stream",
     "text": [
      "0\n",
      "1\n",
      "1\n",
      "2\n",
      "3\n",
      "5\n",
      "8\n",
      "13\n",
      "21\n",
      "34\n"
     ]
    }
   ],
   "source": [
    "# Q6 Answer\n",
    "number = 10 ## Hard Coded, Given in the Question\n",
    "a,b = 0,1\n",
    "counter = 0\n",
    "while counter < number :\n",
    "    print(a)\n",
    "    a,b = b, a + b\n",
    "    counter +=1"
   ]
  },
  {
   "cell_type": "markdown",
   "id": "84ce3ffc-2d3b-41a3-af52-dcb6880d2deb",
   "metadata": {},
   "source": [
    "---"
   ]
  },
  {
   "cell_type": "markdown",
   "id": "f16a33a3-74ec-4a1c-9f69-0246f3059cdd",
   "metadata": {},
   "source": [
    "```\n",
    "Q7. Write a List Comprehension to iterate through the given string: ‘pwskills’. Expected output: ['p', 'w', 's', 'k', 'i', 'l', 'l', 's']\n",
    "```"
   ]
  },
  {
   "cell_type": "code",
   "execution_count": 11,
   "id": "eb7819df-cca6-41e0-a13b-c87b4d9678ff",
   "metadata": {},
   "outputs": [
    {
     "data": {
      "text/plain": [
       "['p', 'w', 's', 'k', 'i', 'l', 'l', 's']"
      ]
     },
     "execution_count": 11,
     "metadata": {},
     "output_type": "execute_result"
    }
   ],
   "source": [
    "# Q7 Answer\n",
    "[i for i in 'pwskills']"
   ]
  },
  {
   "cell_type": "markdown",
   "id": "c42d0d57-a6c3-4bf7-877d-7c2a60be82f2",
   "metadata": {},
   "source": [
    "---"
   ]
  },
  {
   "cell_type": "markdown",
   "id": "45f4dfbe-a93a-4347-8b32-5c44c856f7e8",
   "metadata": {},
   "source": [
    "```\n",
    "Q8. Write a python program to check whether a given number is Palindrome or not using a while loop.\n",
    "```"
   ]
  },
  {
   "cell_type": "code",
   "execution_count": 12,
   "id": "05ebdc70-b9b6-4238-b851-29bd2aace2e9",
   "metadata": {},
   "outputs": [
    {
     "name": "stdin",
     "output_type": "stream",
     "text": [
      "Enter a number to check for Palindrome 545\n"
     ]
    },
    {
     "name": "stdout",
     "output_type": "stream",
     "text": [
      "Palindrome!\n"
     ]
    }
   ],
   "source": [
    "# Q8 Answer\n",
    "number = int(input(\"Enter a number to check for Palindrome\"))\n",
    "number1 = str(number)\n",
    "length = len(number1)\n",
    "reverse = \"\"\n",
    "while( length > 0):\n",
    "    reverse = reverse + number1[length-1] \n",
    "    length -= 1\n",
    "if number1 == reverse:\n",
    "    print (\"Palindrome!\")\n",
    "else:\n",
    "    print (\"Not a Palindrome!\")"
   ]
  },
  {
   "cell_type": "markdown",
   "id": "ccfa18e0-ee64-4572-9cca-af38258a4e16",
   "metadata": {},
   "source": [
    "---"
   ]
  },
  {
   "cell_type": "markdown",
   "id": "477ac92e-cb3a-42a7-b2fe-f748ac115fda",
   "metadata": {},
   "source": [
    "```\n",
    "Q9. Write a code to print odd numbers from 1 to 100 using list comprehension.\n",
    "\n",
    "Note: Use a list comprehension to create a list from 1 to 100 and use another List comprehension to filter\n",
    "out odd numbers.\n",
    "```"
   ]
  },
  {
   "cell_type": "code",
   "execution_count": 13,
   "id": "f4179350-0ce2-40d7-b101-4885e9f6096b",
   "metadata": {},
   "outputs": [
    {
     "name": "stdout",
     "output_type": "stream",
     "text": [
      "[1, 3, 5, 7, 9, 11, 13, 15, 17, 19, 21, 23, 25, 27, 29, 31, 33, 35, 37, 39, 41, 43, 45, 47, 49, 51, 53, 55, 57, 59, 61, 63, 65, 67, 69, 71, 73, 75, 77, 79, 81, 83, 85, 87, 89, 91, 93, 95, 97, 99]\n"
     ]
    }
   ],
   "source": [
    "# Q9 Answer\n",
    "# First Way\n",
    "odd_numbers = [i for i in range(1,101) if i%2 != 0]\n",
    "print(odd_numbers)"
   ]
  },
  {
   "cell_type": "code",
   "execution_count": 14,
   "id": "5bb85529-e19e-46f4-b1ad-97764126ef75",
   "metadata": {},
   "outputs": [
    {
     "name": "stdout",
     "output_type": "stream",
     "text": [
      "[1, 3, 5, 7, 9, 11, 13, 15, 17, 19, 21, 23, 25, 27, 29, 31, 33, 35, 37, 39, 41, 43, 45, 47, 49, 51, 53, 55, 57, 59, 61, 63, 65, 67, 69, 71, 73, 75, 77, 79, 81, 83, 85, 87, 89, 91, 93, 95, 97, 99]\n"
     ]
    }
   ],
   "source": [
    "# Alternate Way\n",
    "odd_number = [j for j in [i for i in range(1,101)] if i%2 != 0]\n",
    "print(odd_numbers)"
   ]
  },
  {
   "cell_type": "markdown",
   "id": "e40f7303-a07a-4b03-b914-eb5f57d54fad",
   "metadata": {},
   "source": [
    "---"
   ]
  }
 ],
 "metadata": {
  "kernelspec": {
   "display_name": "Python 3 (ipykernel)",
   "language": "python",
   "name": "python3"
  },
  "language_info": {
   "codemirror_mode": {
    "name": "ipython",
    "version": 3
   },
   "file_extension": ".py",
   "mimetype": "text/x-python",
   "name": "python",
   "nbconvert_exporter": "python",
   "pygments_lexer": "ipython3",
   "version": "3.10.8"
  }
 },
 "nbformat": 4,
 "nbformat_minor": 5
}
