{
 "cells": [
  {
   "cell_type": "markdown",
   "id": "52ca4b80-75b0-42fc-847b-c16ec434a5c8",
   "metadata": {
    "tags": []
   },
   "source": [
    "## 6th Feb Assignment"
   ]
  },
  {
   "cell_type": "markdown",
   "id": "3becb597-68bc-4760-8078-d5cba151e664",
   "metadata": {
    "tags": []
   },
   "source": [
    "```\n",
    "Q1. Create a function which will take a list as an argument and return the product of all the numbers\n",
    "after creating a flat list.\n",
    "\n",
    "Use the below-given list as an argument for your function.\n",
    "\n",
    "list1 = [1,2,3,4, [44,55,66, True], False, (34,56,78,89,34), {1,2,3,3,2,1}, {1:34, \"key2\": [55, 67, 78, 89], 4: (45,\n",
    "22, 61, 34)}, [56, 'data science'], 'Machine Learning']\n",
    "\n",
    "Note: you must extract numeric keys and values of the dictionary also.\n",
    "```"
   ]
  },
  {
   "cell_type": "markdown",
   "id": "98f85a86-6388-4f78-99cf-c77289482b5e",
   "metadata": {},
   "source": [
    "Q1 Answer"
   ]
  },
  {
   "cell_type": "code",
   "execution_count": 1,
   "id": "7993c2d8-0344-4aec-adc1-00ffdb22980d",
   "metadata": {},
   "outputs": [
    {
     "name": "stdout",
     "output_type": "stream",
     "text": [
      "689118639831180913138973540352000\n"
     ]
    }
   ],
   "source": [
    "def flatten_and_multiply(lst):\n",
    "    flat_list = []\n",
    "    def flatten(lst):\n",
    "        for item in lst:\n",
    "            if isinstance(item, (int, float)):\n",
    "                flat_list.append(item)\n",
    "            elif isinstance(item, (list, tuple)):\n",
    "                flatten(item)\n",
    "            elif isinstance(item, dict):\n",
    "                for key, value in item.items():\n",
    "                    if isinstance(key, (int, float)):\n",
    "                        flat_list.append(key)\n",
    "                    if isinstance(value, (int, float)):\n",
    "                        flat_list.append(value)\n",
    "                    if isinstance(value, (list, tuple)):\n",
    "                        flatten(value)\n",
    "    flatten(lst)\n",
    "    # print(flat_list)\n",
    "    result = 1\n",
    "    for item in flat_list:\n",
    "        if type(item)==int:\n",
    "            result *= item\n",
    "    return result\n",
    "\n",
    "list1 = [1,2,3,4, [44,55,66, True], False, (34,56,78,89,34), {1,2,3,3,2,1}, {1:34, \"key2\": [55, 67, 78, 89], 4: (45, 22, 61, 34)}, [56, 'data science'], 'Machine Learning']\n",
    "print(flatten_and_multiply(list1))     "
   ]
  },
  {
   "cell_type": "markdown",
   "id": "b0d1ffdf-3408-4d7b-9c99-41f59f307e09",
   "metadata": {},
   "source": [
    "---"
   ]
  },
  {
   "cell_type": "markdown",
   "id": "2dcd856f-d1ab-4a93-8993-b8579b4ecfd8",
   "metadata": {
    "tags": []
   },
   "source": [
    "```\n",
    "Q2. Write a python program for encrypting a message sent to you by your friend. The logic of encryption\n",
    "should be such that, for a the output should be z. For b, the output should be y. For c, the output should\n",
    "be x respectively. Also, the whitespace should be replaced with a dollar sign. Keep the punctuation\n",
    "marks unchanged.\n",
    "\n",
    "Input Sentence: I want to become a Data Scientist.\n",
    "\n",
    "Encrypt the above input sentence using the program you just created.\n",
    "\n",
    "Note: Convert the given input sentence into lowercase before encrypting. The final output should be\n",
    "lowercase.\n",
    "\n",
    "Ans.\n",
    "```"
   ]
  },
  {
   "cell_type": "code",
   "execution_count": 2,
   "id": "f6779a35-60aa-4df4-bc2e-baecca9a91ef",
   "metadata": {},
   "outputs": [
    {
     "name": "stdout",
     "output_type": "stream",
     "text": [
      "Original String I want to become a Data Scientist.\n",
      "Encrypted Message is  r@dzmg@gl@yvxlnv@z@wzgz@hxrvmgrhg.\n"
     ]
    }
   ],
   "source": [
    "strings = \"I want to become a Data Scientist.\"\n",
    "print(\"Original String\",strings)\n",
    "string1 = strings.lower()\n",
    "import string\n",
    "alphabets = list(string.ascii_lowercase)\n",
    "count = 0\n",
    "length = len(alphabets)\n",
    "enc = []\n",
    "for i in string1:\n",
    "    if i == \" \":\n",
    "        enc.append(\"@\")\n",
    "    elif i.isalpha()== True:\n",
    "        for j in range(0,26):\n",
    "            if i == alphabets[j]:\n",
    "                enc.append(alphabets[length - j-1])\n",
    "            else:\n",
    "                continue\n",
    "    else :\n",
    "        enc.append(i)\n",
    "print(\"Encrypted Message is \", \"\".join(enc))"
   ]
  },
  {
   "cell_type": "markdown",
   "id": "76276f5c-fe5f-46b7-85d3-212c04d9e636",
   "metadata": {},
   "source": [
    "---"
   ]
  }
 ],
 "metadata": {
  "kernelspec": {
   "display_name": "Python 3 (ipykernel)",
   "language": "python",
   "name": "python3"
  },
  "language_info": {
   "codemirror_mode": {
    "name": "ipython",
    "version": 3
   },
   "file_extension": ".py",
   "mimetype": "text/x-python",
   "name": "python",
   "nbconvert_exporter": "python",
   "pygments_lexer": "ipython3",
   "version": "3.10.8"
  }
 },
 "nbformat": 4,
 "nbformat_minor": 5
}
