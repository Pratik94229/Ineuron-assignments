{
 "cells": [
  {
   "cell_type": "markdown",
   "id": "ff2d04cf-c1ae-4585-981d-6eb6a8bba703",
   "metadata": {
    "tags": []
   },
   "source": [
    "## 7th March Assignment\n",
    "### Statistics Basic - 2"
   ]
  },
  {
   "cell_type": "markdown",
   "id": "717b8989-4fef-4346-b1a5-dd0839a5ef06",
   "metadata": {},
   "source": [
    "---"
   ]
  },
  {
   "cell_type": "markdown",
   "id": "3becb597-68bc-4760-8078-d5cba151e664",
   "metadata": {},
   "source": [
    "```\n",
    "Q1. What are the three measures of central tendency?\n",
    "\n",
    "Ans.The three measures of central tendency commonly used in statistics are:\n",
    "\n",
    "1. Mean: The mean, or average, is calculated by summing up all the values in a dataset and dividing the sum by the total number of values. It represents the balance point of the distribution and is sensitive to extreme values.\n",
    "\n",
    "2. Median: The median is the middle value in a dataset when it is ordered from lowest to highest. If the dataset has an odd number of values, the median is the middle value. If the dataset has an even number of values, the median is the average of the two middle values. The median is less affected by extreme values compared to the mean and is often used with skewed distributions.\n",
    "\n",
    "3. Mode: The mode is the most frequently occurring value in a dataset. It represents the value that appears with the highest frequency. A dataset can have one mode (unimodal), two modes (bimodal), or more than two modes (multimodal). Unlike the mean and median, the mode can be used with both numerical and categorical data.\n",
    "\n",
    "These measures provide different perspectives on the central tendency of a dataset and help describe the typical or central value around which the data is distributed.\n",
    "```"
   ]
  },
  {
   "cell_type": "markdown",
   "id": "b0d1ffdf-3408-4d7b-9c99-41f59f307e09",
   "metadata": {},
   "source": [
    "---"
   ]
  },
  {
   "cell_type": "markdown",
   "id": "2dcd856f-d1ab-4a93-8993-b8579b4ecfd8",
   "metadata": {},
   "source": [
    "```\n",
    "Q2. What is the difference between the mean, median, and mode? How are they used to measure the central tendency of a dataset?\n",
    "\n",
    "Ans. The mean, median, and mode are three different measures used to describe the central tendency of a dataset. Here's how they differ and how they are used:\n",
    "\n",
    "Mean:\n",
    "The mean is the average of all the values in a dataset. It is calculated by summing up all the values and dividing the sum by the total number of values. The mean takes into account every value in the dataset and is affected by extreme values, or outliers. It is commonly used when the data is normally distributed or when there are no extreme values. For example, if you have a dataset of exam scores, the mean would give you the average score of all the students.\n",
    "\n",
    "Median:\n",
    "The median is the middle value in a dataset when the values are arranged in ascending or descending order. If the dataset has an odd number of values, the median is simply the middle value. If the dataset has an even number of values, the median is the average of the two middle values. The median is not influenced by extreme values and is often used when the data is skewed or contains outliers. For example, if you have a dataset of salaries in a company, the median would give you the salary at the midpoint, which is less affected by extremely high or low salaries.\n",
    "\n",
    "Mode:\n",
    "The mode is the value that appears most frequently in a dataset. It represents the peak or highest point of the distribution. A dataset can have one mode (unimodal), two modes (bimodal), or more than two modes (multimodal). The mode is especially useful for categorical or discrete data where specific values occur more frequently. For example, if you have a dataset of favorite colors, the mode would give you the color that most people prefer.\n",
    "\n",
    "In summary, the mean represents the average of all values, the median represents the middle value, and the mode represents the most frequently occurring value. These measures provide different perspectives on the central tendency of a dataset and are used depending on the nature of the data, the presence of outliers, and the research or analysis objectives.\n",
    "```"
   ]
  },
  {
   "cell_type": "markdown",
   "id": "76276f5c-fe5f-46b7-85d3-212c04d9e636",
   "metadata": {},
   "source": [
    "---"
   ]
  },
  {
   "cell_type": "markdown",
   "id": "036566d3-e4dd-4954-bf06-e9ba18ad9aaf",
   "metadata": {},
   "source": [
    "```\n",
    "Q3. Measure the three measures of central tendency for the given height data:\n",
    "\n",
    "[178,177,176,177,178.2,178,175,179,180,175,178.9,176.2,177,172.5,178,176.5]\n",
    "\n",
    "Ans.\n",
    "```"
   ]
  },
  {
   "cell_type": "code",
   "execution_count": 1,
   "id": "d8363aa6-930a-4d99-b663-d90b6ca50ad3",
   "metadata": {},
   "outputs": [],
   "source": [
    "data = [178,177,176,177,178.2,178,175,179,180,175,178.9,176.2,177,172.5,178,176.5]"
   ]
  },
  {
   "cell_type": "code",
   "execution_count": 2,
   "id": "33f38114-1b78-48e4-a997-0674128d8efd",
   "metadata": {},
   "outputs": [],
   "source": [
    "import numpy as np\n",
    "from scipy import stats as st"
   ]
  },
  {
   "cell_type": "code",
   "execution_count": 3,
   "id": "2ba76a26-729c-4f61-a7bf-afb23ac1c13b",
   "metadata": {},
   "outputs": [],
   "source": [
    "Mean = np.mean(data)\n",
    "Median = np.median(data)\n",
    "Mode = st.mode(data, keepdims= False)"
   ]
  },
  {
   "cell_type": "code",
   "execution_count": 4,
   "id": "55fe7b7b-0b4d-4bb9-b889-f68ba6a6bb82",
   "metadata": {
    "tags": []
   },
   "outputs": [
    {
     "name": "stdout",
     "output_type": "stream",
     "text": [
      "The Mean of the given height data is 177.01875\n",
      "The Median of the given height data is 177.0\n",
      "The Mode of the given height data is 177.0\n"
     ]
    }
   ],
   "source": [
    "print(\"The Mean of the given height data is\", Mean)\n",
    "print(\"The Median of the given height data is\", Median)\n",
    "print(\"The Mode of the given height data is\", Mode[0])"
   ]
  },
  {
   "cell_type": "markdown",
   "id": "3b0b1495-963c-4f92-96f0-f2b3b8030c18",
   "metadata": {},
   "source": [
    "---"
   ]
  },
  {
   "cell_type": "markdown",
   "id": "4dc46d51-ea10-42b9-b168-3277c0a36f16",
   "metadata": {},
   "source": [
    "```\n",
    "Q4. Find the standard deviation for the given data:\n",
    "\n",
    "[178,177,176,177,178.2,178,175,179,180,175,178.9,176.2,177,172.5,178,176.5]\n",
    "\n",
    "Ans.\n",
    "```"
   ]
  },
  {
   "cell_type": "code",
   "execution_count": 5,
   "id": "f4034d79-84b1-402d-bad5-18d328d97004",
   "metadata": {},
   "outputs": [],
   "source": [
    "data = [178,177,176,177,178.2,178,175,179,180,175,178.9,176.2,177,172.5,178,176.5]"
   ]
  },
  {
   "cell_type": "code",
   "execution_count": 6,
   "id": "19be11a7-9132-4bde-af54-a742a894e771",
   "metadata": {},
   "outputs": [
    {
     "name": "stdout",
     "output_type": "stream",
     "text": [
      "The Standard Deviation of the given height data is 1.7885814036548633\n"
     ]
    }
   ],
   "source": [
    "std =np.std(data)\n",
    "print(\"The Standard Deviation of the given height data is\", std)"
   ]
  },
  {
   "cell_type": "markdown",
   "id": "7a10dc29-c728-4398-a078-d89afec45824",
   "metadata": {},
   "source": [
    "---"
   ]
  },
  {
   "cell_type": "markdown",
   "id": "c1156fa9-2e5d-4029-924e-c8585da4af50",
   "metadata": {},
   "source": [
    "```\n",
    "Q5. How are measures of dispersion such as range, variance, and standard deviation used to describe the spread of a dataset? Provide an example.\n",
    "\n",
    "Ans. Measures of dispersion, such as range, variance, and standard deviation, are used to describe the spread or variability of a dataset. They provide information about how the data points are dispersed or scattered around the measures of central tendency. Here's how these measures are used:\n",
    "\n",
    "Range:\n",
    "The range is the simplest measure of dispersion and represents the difference between the maximum and minimum values in a dataset. It provides an idea of the total extent or spread of the data. However, it only considers two extreme values and may not capture the full picture of variability within the dataset. For example, if you have a dataset of daily temperatures for a week, the range would give you the difference between the highest and lowest temperatures recorded.\n",
    "\n",
    "Variance:\n",
    "The variance measures the average squared deviation from the mean. It calculates the average of the squared differences between each data point and the mean. A larger variance indicates greater variability or spread in the data, while a smaller variance indicates less variability. However, the variance is in squared units, which may not be easily interpretable. For example, if you have a dataset of test scores, the variance would quantify how much the individual scores deviate from the average score.\n",
    "\n",
    "Standard Deviation:\n",
    "The standard deviation is the square root of the variance. It is a widely used measure of dispersion that provides information about the average deviation from the mean. The standard deviation is in the same unit as the original data, making it more interpretable than variance. A larger standard deviation indicates a greater spread of data points, while a smaller standard deviation indicates a narrower spread. For example, if you have a dataset of weights of individuals, the standard deviation would describe how much the individual weights deviate from the average weight.\n",
    "\n",
    "In summary, measures of dispersion such as range, variance, and standard deviation provide information about the spread or variability of data points around the central tendency. They help to quantify the degree of dispersion within a dataset, enabling comparisons of variability between different datasets or subsets of data.\n",
    "```"
   ]
  },
  {
   "cell_type": "markdown",
   "id": "e59ee13d-717f-409c-af57-3bb78e7f4305",
   "metadata": {},
   "source": [
    "---"
   ]
  },
  {
   "cell_type": "markdown",
   "id": "5da20c55-3e5f-4876-9d03-688a8703ee2d",
   "metadata": {},
   "source": [
    "```\n",
    "Q6. What is a Venn diagram?\n",
    "\n",
    "Ans. A Venn diagram is a graphical representation used to illustrate the relationships between different sets or groups of objects. It consists of overlapping circles or other shapes, where each circle represents a set, and the overlapping regions represent the elements that belong to multiple sets. The purpose of a Venn diagram is to visually depict the commonalities and differences between the sets being compared.\n",
    "\n",
    "The key features of a Venn diagram are as follows:\n",
    "\n",
    "1. Sets: Each circle in a Venn diagram represents a set or category of objects. The circles are typically labeled with the name or description of the set they represent.\n",
    "\n",
    "2. Elements: The objects or items that belong to a particular set are represented as points or dots within the respective circle. Elements that are not present in a specific set are outside the corresponding circle.\n",
    "\n",
    "3. Overlapping Regions: When two or more circles overlap in a Venn diagram, the overlapping region represents the elements that are shared or common to those sets. The size of the overlapping region indicates the degree of overlap or intersection between the sets.\n",
    "\n",
    "Venn diagrams are commonly used in various fields, including mathematics, logic, statistics, and data analysis, to visualize relationships, set intersections, and logical operations such as union, intersection, and complement. They provide a clear and intuitive way to understand the relationships and similarities between different sets of data or concepts.\n",
    "```"
   ]
  },
  {
   "cell_type": "markdown",
   "id": "84ce3ffc-2d3b-41a3-af52-dcb6880d2deb",
   "metadata": {},
   "source": [
    "---"
   ]
  },
  {
   "cell_type": "markdown",
   "id": "f16a33a3-74ec-4a1c-9f69-0246f3059cdd",
   "metadata": {},
   "source": [
    "```\n",
    "Q7. For the two given sets A = (2,3,4,5,6,7) & B = (0,2,6,8,10). Find:\n",
    "\n",
    "(i) A ∩ B\n",
    "\n",
    "(ii) A ∪ B\n",
    "\n",
    "Ans. (i) A ∩ B = (2, 6)\n",
    "    (ii) A ∪ B = (0, 2, 3, 4, 5, 6, 7, 8, 10)\n",
    "```"
   ]
  },
  {
   "cell_type": "markdown",
   "id": "4cd568f4-5457-44a1-a448-74e19518cae1",
   "metadata": {},
   "source": [
    "---"
   ]
  },
  {
   "cell_type": "markdown",
   "id": "45f4dfbe-a93a-4347-8b32-5c44c856f7e8",
   "metadata": {},
   "source": [
    "```\n",
    "Q8. What do you understand about skewness in data?\n",
    "\n",
    "Ans. Skewness in data refers to the asymmetry or lack of symmetry in the distribution of values. It is a measure of the degree to which a dataset deviates from a symmetrical, bell-shaped distribution (also known as a normal distribution). Skewness provides insights into the shape and characteristics of the data distribution.\n",
    "\n",
    "There are three types of skewness:\n",
    "\n",
    "1. Positive Skewness (Right-skewed): In a positively skewed distribution, the tail on the right side of the distribution is longer or extends further than the left side. This means that the majority of the data is concentrated towards the left side, while a few extreme values pull the mean towards the right. The mean is typically greater than the median in a positively skewed distribution.\n",
    "\n",
    "2. Negative Skewness (Left-skewed): In a negatively skewed distribution, the tail on the left side is longer or extends further than the right side. The majority of the data is concentrated towards the right side, while a few extreme values drag the mean towards the left. The mean is typically smaller than the median in a negatively skewed distribution.\n",
    "\n",
    "3. Zero Skewness: A distribution is considered to have zero skewness (or be symmetric) if it is perfectly balanced and exhibits no skew. In such cases, the mean, median, and mode coincide at the center of the distribution.\n",
    "\n",
    "Skewness is an important measure as it helps in understanding the nature of the data distribution and its potential impact on statistical analysis. Skewness can affect the choice of appropriate statistical techniques, as some methods assume a normal distribution. Additionally, skewness can provide insights into outliers or extreme values present in the data. Analyzing skewness allows researchers and analysts to make informed decisions regarding data transformations, model selection, or potential biases in the data.\n",
    "```"
   ]
  },
  {
   "cell_type": "markdown",
   "id": "c42d0d57-a6c3-4bf7-877d-7c2a60be82f2",
   "metadata": {},
   "source": [
    "---"
   ]
  },
  {
   "cell_type": "markdown",
   "id": "477ac92e-cb3a-42a7-b2fe-f748ac115fda",
   "metadata": {},
   "source": [
    "```\n",
    "Q9. If a data is right skewed then what will be the position of median with respect to mean?\n",
    "\n",
    "Ans. In a right-skewed distribution, the median will typically be less than the mean.\n",
    "\n",
    "Since a right-skewed distribution has a longer tail on the right side, it means that there are some larger values pulling the mean towards the right. Consequently, the mean will be shifted towards the right, making it greater than the median.\n",
    "```"
   ]
  },
  {
   "cell_type": "markdown",
   "id": "fe6c9a87-d4fb-4551-8da9-fe3c2e0504b6",
   "metadata": {},
   "source": [
    "---"
   ]
  },
  {
   "cell_type": "markdown",
   "id": "a46cec7f-63c3-4a50-9025-03d6840ea693",
   "metadata": {},
   "source": [
    "```\n",
    "Q10. Explain the difference between covariance and correlation. How are these measures used in statistical analysis?\n",
    "\n",
    "Ans. Covariance and correlation are both measures used to quantify the relationship between two variables in statistical analysis. While they are related concepts, they differ in terms of their interpretation and scale.\n",
    "\n",
    "Covariance:\n",
    "Covariance measures the degree to which two variables vary together. It indicates the direction and magnitude of the linear relationship between two variables. A positive covariance indicates a positive relationship, meaning that when one variable increases, the other tends to increase as well. A negative covariance indicates a negative relationship, implying that when one variable increases, the other tends to decrease. A covariance of zero suggests no linear relationship between the variables.\n",
    "\n",
    "However, covariance alone does not provide a standardized measure and is influenced by the units of measurement of the variables. Therefore, it is difficult to compare covariances across different datasets or variables.\n",
    "\n",
    "Correlation:\n",
    "Correlation is a standardized measure that quantifies the strength and direction of the linear relationship between two variables. It is calculated by dividing the covariance by the product of the standard deviations of the variables. The resulting correlation coefficient ranges between -1 and 1.\n",
    "\n",
    "A correlation coefficient of +1 indicates a perfect positive linear relationship, meaning that as one variable increases, the other increases in a linear fashion. A correlation coefficient of -1 indicates a perfect negative linear relationship, implying that as one variable increases, the other decreases in a linear fashion. A correlation coefficient of 0 indicates no linear relationship between the variables.\n",
    "\n",
    "The advantage of correlation over covariance is that it provides a standardized measure, allowing for easier interpretation and comparison across different datasets or variables. Correlation coefficients allow for quantitative comparisons of the strength and direction of relationships between variables.\n",
    "\n",
    "Both covariance and correlation are used in statistical analysis for various purposes, including:\n",
    "\n",
    "1. Relationship Assessment: Covariance and correlation help determine the strength and nature of the relationship between two variables. They provide insights into how changes in one variable are related to changes in another.\n",
    "\n",
    "2. Variable Selection: Covariance and correlation can be used to identify the most relevant variables for further analysis. Variables with strong relationships can be considered for inclusion in models or further investigation.\n",
    "\n",
    "3. Data Exploration: These measures aid in exploring patterns and dependencies between variables, assisting in understanding the underlying structure of the data.\n",
    "\n",
    "4. Model Building: Covariance and correlation are used to assess the relationship between independent and dependent variables in regression analysis or other predictive modeling techniques.\n",
    "\n",
    "In summary, covariance quantifies the degree to which two variables vary together, while correlation provides a standardized measure of the strength and direction of the linear relationship between two variables. Both measures are valuable tools in statistical analysis for understanding relationships and making informed decisions.\n",
    "```"
   ]
  },
  {
   "cell_type": "markdown",
   "id": "c1c73c2d-0a32-4188-a3dd-68544de4a085",
   "metadata": {},
   "source": [
    "---"
   ]
  },
  {
   "cell_type": "markdown",
   "id": "0049e49d-c738-480c-93be-d50aca4f4c78",
   "metadata": {},
   "source": [
    "```\n",
    "Q11. What is the formula for calculating the sample mean? Provide an example calculation for a dataset.\n",
    "\n",
    "Ans. The formula for calculating the sample mean, denoted as x̄ (pronounced \"x-bar\"), is:\n",
    "\n",
    "x̄ = (x₁ + x₂ + x₃ + ... + xₙ) / n\n",
    "\n",
    "where x₁, x₂, x₃, ..., xₙ are the individual data points in the dataset, and n is the total number of data points in the sample.\n",
    "\n",
    "Let's work through an example calculation:\n",
    "\n",
    "Suppose we have a dataset of exam scores: 85, 90, 78, 92, and 88.\n",
    "\n",
    "To calculate the sample mean, we sum up all the scores and divide by the total number of scores, which is 5 in this case:\n",
    "\n",
    "x̄ = (85 + 90 + 78 + 92 + 88) / 5\n",
    "\n",
    "x̄ = 433 / 5\n",
    "\n",
    "x̄ = 86.6\n",
    "\n",
    "Therefore, the sample mean of the dataset is 86.6.\n",
    "```"
   ]
  },
  {
   "cell_type": "markdown",
   "id": "21673f2c-3e4f-482d-8adf-0856855c8a15",
   "metadata": {},
   "source": [
    "---"
   ]
  },
  {
   "cell_type": "markdown",
   "id": "17a0d7bb-b8e9-40a2-96d5-32c95fbbc8fa",
   "metadata": {},
   "source": [
    "```\n",
    "Q12. For a normal distribution data what is the relationship between its measure of central tendency?\n",
    "\n",
    "Ans. For a normal distribution, the mean, median, and mode are all equal. In other words, the measures of central tendency coincide and have the same value.\n",
    "\n",
    "This property holds true because a normal distribution is symmetric around its mean. The mean represents the balance point of the distribution, and the median represents the middle value. Since the normal distribution is symmetric, the mean and median are located at the exact same position.\n",
    "\n",
    "Additionally, in a perfectly symmetrical normal distribution, there is only one mode, which is also equal to the mean and median. However, it's worth noting that in practice, normal distributions may exhibit slight deviations from perfect symmetry, and multiple modes can occur in cases of multimodal distributions.\n",
    "\n",
    "Overall, for a truly normal distribution, the mean, median, and mode will all have the same value, emphasizing the central tendency of the data.\n",
    "```"
   ]
  },
  {
   "cell_type": "markdown",
   "id": "c87dc2ec-41cd-48e1-8a03-4be58271f311",
   "metadata": {},
   "source": [
    "---"
   ]
  },
  {
   "cell_type": "markdown",
   "id": "b238cdaf-9dfe-4465-9b2d-53caadea87c2",
   "metadata": {},
   "source": [
    "```\n",
    "Q13. How is covariance different from correlation?\n",
    "\n",
    "Ans. Covariance and correlation are both measures that describe the relationship between two variables, but they differ in several key aspects:\n",
    "\n",
    "1. Interpretation:\n",
    "\n",
    "Covariance measures the degree to which two variables vary together. It indicates the direction and magnitude of the linear relationship between the variables. However, covariance alone does not provide a standardized measure, making it difficult to interpret or compare across different datasets or variables.\n",
    "\n",
    "Correlation, on the other hand, is a standardized measure that quantifies the strength and direction of the linear relationship between two variables. It ranges between -1 and 1, where a correlation coefficient of +1 indicates a perfect positive linear relationship, -1 indicates a perfect negative linear relationship, and 0 indicates no linear relationship.\n",
    "\n",
    "2. Scale:\n",
    "\n",
    "Covariance is affected by the units of measurement of the variables, which makes it challenging to compare covariances between different datasets or variables. It is dependent on the scale of the variables being measured.\n",
    "\n",
    "Correlation, however, is a unitless measure that standardizes the relationship between variables. It allows for easier interpretation and comparison across different datasets or variables, as it is not influenced by the scale of the variables.\n",
    "\n",
    "3. Range and Interpretation:\n",
    "\n",
    "Covariance can take any value, positive or negative, depending on the direction of the relationship between the variables. A positive covariance indicates a positive relationship, a negative covariance indicates a negative relationship, and zero covariance suggests no linear relationship.\n",
    "\n",
    "Correlation coefficients range from -1 to 1, providing a standardized interpretation of the strength and direction of the relationship. A correlation coefficient of +1 indicates a perfect positive linear relationship, -1 indicates a perfect negative linear relationship, and 0 indicates no linear relationship.\n",
    "\n",
    "4. Applicability:\n",
    "\n",
    "Covariance is primarily used to measure the linear relationship between variables. It can be used in descriptive statistics or in calculating certain statistical quantities like variances and regression coefficients.\n",
    "\n",
    "Correlation, while also measuring the linear relationship, is more commonly used in statistical analysis, hypothesis testing, and predictive modeling. It provides a standardized measure that is widely applicable in various fields.\n",
    "\n",
    "In summary, covariance measures the linear relationship between variables but lacks standardization and is influenced by the units of measurement. Correlation, on the other hand, provides a standardized measure of the strength and direction of the linear relationship, allowing for easier interpretation and comparison across different datasets or variables.\n",
    "```"
   ]
  },
  {
   "cell_type": "markdown",
   "id": "83425887-9752-471f-bf67-bc099eee5670",
   "metadata": {},
   "source": [
    "---"
   ]
  },
  {
   "cell_type": "markdown",
   "id": "6a6e2568-ba25-4723-8eb3-00b02a86a8b1",
   "metadata": {},
   "source": [
    "```\n",
    "Q14. How do outliers affect measures of central tendency and dispersion? Provide an example.\n",
    "\n",
    "Ans. Outliers can have a significant impact on measures of central tendency and dispersion, leading to distortions in their values. Here's how outliers affect these measures:\n",
    "\n",
    "Measures of Central Tendency:\n",
    "\n",
    "1. Mean: Outliers can pull the mean towards their extreme values. If an outlier has a value much higher or lower than the other data points, it can significantly affect the overall average, causing the mean to be biased and no longer representative of the majority of the data.\n",
    "\n",
    "2. Median: Outliers have a minimal effect on the median. The median represents the middle value when the data is sorted in ascending or descending order. Since outliers are extreme values that are not representative of the majority of the data, they do not substantially impact the median.\n",
    "\n",
    "3. Mode: Outliers do not affect the mode since the mode represents the most frequently occurring value(s) in the dataset. Outliers, being extreme values, are typically not part of the mode.\n",
    "\n",
    "Example: Consider a dataset of incomes of a group of individuals: $30,000, $40,000, $45,000, $50,000, $60,000, and $10,000,000. The last value, $10,000,000, is an outlier representing an exceptionally high income.\n",
    "\n",
    "    -Mean: When calculating the mean, the outlier significantly influences the result. The sum of the incomes is $10,225,000, and dividing it by 6 gives a mean of approximately $1,704,167. The presence of the outlier drastically increases the mean, making it an inaccurate representation of the majority of the data.\n",
    "\n",
    "    -Median: When determining the median, the outlier has little effect. Sorting the incomes in ascending order gives $30,000, $40,000, $45,000, $50,000, $60,000, and $10,000,000. The middle value is $50,000, which remains the same with or without the outlier.\n",
    "\n",
    "Measures of Dispersion:\n",
    "\n",
    "1. Range: Outliers affect the range by increasing its value. Since the range is calculated as the difference between the maximum and minimum values in a dataset, an outlier with an extreme value can widen the range.\n",
    "\n",
    "2. Variance and Standard Deviation: Outliers can substantially impact variance and standard deviation. These measures are based on the squared differences from the mean. Outliers, being far from the mean, can increase the sum of squared differences, leading to higher variance and standard deviation values.\n",
    "\n",
    "Example: Using the same income dataset, the presence of the outlier, $10,000,000, increases both the variance and standard deviation. Without the outlier, the variance is approximately $68,055,556, and the standard deviation is around $8,246. With the outlier, the variance increases to approximately $31,635,356,944, and the standard deviation becomes approximately $177,852.\n",
    "\n",
    "In summary, outliers can distort measures of central tendency and dispersion. They can significantly affect the mean and measures based on the mean, such as variance and standard deviation. However, the median and mode are less influenced by outliers, making them more robust measures in the presence of extreme values.\n",
    "```"
   ]
  },
  {
   "cell_type": "markdown",
   "id": "e1392c3d-d015-4495-a661-59ee9e5a8307",
   "metadata": {},
   "source": [
    "---"
   ]
  }
 ],
 "metadata": {
  "kernelspec": {
   "display_name": "Python 3 (ipykernel)",
   "language": "python",
   "name": "python3"
  },
  "language_info": {
   "codemirror_mode": {
    "name": "ipython",
    "version": 3
   },
   "file_extension": ".py",
   "mimetype": "text/x-python",
   "name": "python",
   "nbconvert_exporter": "python",
   "pygments_lexer": "ipython3",
   "version": "3.10.8"
  }
 },
 "nbformat": 4,
 "nbformat_minor": 5
}
