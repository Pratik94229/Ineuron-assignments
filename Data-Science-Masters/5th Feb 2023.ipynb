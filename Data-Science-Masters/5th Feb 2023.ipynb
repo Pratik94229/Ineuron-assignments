{
 "cells": [
  {
   "cell_type": "markdown",
   "id": "b936c9cc-c7b5-4f2b-8b4f-0a16d7be499a",
   "metadata": {
    "tags": []
   },
   "source": [
    "## 5th Feb Assignment"
   ]
  },
  {
   "cell_type": "markdown",
   "id": "3becb597-68bc-4760-8078-d5cba151e664",
   "metadata": {},
   "source": [
    "```\n",
    "Q1. Explain Class and Object with respect to Object-Oriented Programming. Give a suitable example.\n",
    "\n",
    "Ans. Class is a blueprint or a template for creating objects (instances of a class). It defines a set of attributes (properties) and behaviors (methods) that are common to all objects of that class. In object-oriented programming, a class encapsulates the data and the functions that operate on that data.\n",
    "\n",
    "An Object, on the other hand, is an instance of a class. It represents a specific entity with its own property values and methods. Objects are instances of classes, created at runtime.\n",
    "\n",
    "For example, consider a \"Person\" class. The class can have properties like name, age, and address. The methods can include things like \"introduce\" which prints out the person's name and other details. Each instance of the \"Person\" class represents a unique person, with its own property values. So, you can create multiple objects of the class, such as \"Yogesh\", \"Gaurav\", etc. each with its own values for the properties.\n",
    "\n",
    "Class: Person\n",
    "\n",
    "Properties: name, age, address\n",
    "Methods: introduce()\n",
    "Objects: Yogesh, Gaurav (instances of Person class)\n",
    "```"
   ]
  },
  {
   "cell_type": "markdown",
   "id": "b0d1ffdf-3408-4d7b-9c99-41f59f307e09",
   "metadata": {},
   "source": [
    "---"
   ]
  },
  {
   "cell_type": "markdown",
   "id": "2dcd856f-d1ab-4a93-8993-b8579b4ecfd8",
   "metadata": {},
   "source": [
    "```\n",
    "Q2. Name the four pillars of OOPs.\n",
    "\n",
    "Ans.The four pillars of Object-Oriented Programming (OOP) are:\n",
    "\n",
    "Abstraction: This refers to the process of hiding the implementation details of an object and exposing only the necessary information to the users.\n",
    "\n",
    "Encapsulation: This refers to the wrapping of data (properties) and functions (methods) into a single unit or object. It ensures that the internal representation of an object is hidden from the outside world and can only be accessed through a well-defined interface.\n",
    "\n",
    "Inheritance: This refers to the ability of a new class to inherit the properties and behaviors of an existing class. The new class is called a subclass or derived class, and the existing class is called a superclass or base class.\n",
    "\n",
    "Polymorphism: This refers to the ability of objects to take on multiple forms. In OOP, polymorphism is achieved through method overriding and method overloading. It allows objects of different classes to be treated as objects of the same class, enabling code reusability and making the code more flexible and easier to maintain.\n",
    "```"
   ]
  },
  {
   "cell_type": "markdown",
   "id": "76276f5c-fe5f-46b7-85d3-212c04d9e636",
   "metadata": {},
   "source": [
    "---"
   ]
  },
  {
   "cell_type": "markdown",
   "id": "036566d3-e4dd-4954-bf06-e9ba18ad9aaf",
   "metadata": {},
   "source": [
    "```\n",
    "Q3. Explain why the __init__() function is used. Give a suitable example.\n",
    "\n",
    "Ans. The __init__() function is a special method in Python classes, also known as the constructor method. It is automatically called when an object of the class is created. The primary purpose of the __init__() function is to initialize the object's attributes or properties with the values passed as arguments when the object is created.\n",
    "\n",
    "For example, consider a class named Person. A person has certain attributes like name, age, and address. When an object of the class is created, the __init__() method is automatically called, allowing us to set the values of these attributes at the time of object creation.\n",
    "\n",
    "Here's an example implementation:\n",
    "```"
   ]
  },
  {
   "cell_type": "code",
   "execution_count": 1,
   "id": "fdcf827f-7e06-487c-83b6-089cc08b52ee",
   "metadata": {},
   "outputs": [
    {
     "name": "stdout",
     "output_type": "stream",
     "text": [
      "John\n",
      "30\n",
      "123 Main St.\n"
     ]
    }
   ],
   "source": [
    "class Person:\n",
    "    def __init__(self, name, age, address):\n",
    "        self.name = name\n",
    "        self.age = age\n",
    "        self.address = address\n",
    "\n",
    "person = Person(\"John\", 30, \"123 Main St.\")\n",
    "\n",
    "print(person.name)\n",
    "print(person.age)\n",
    "print(person.address)"
   ]
  },
  {
   "cell_type": "markdown",
   "id": "6e2896a3-2f73-456e-ba0d-b0fd92425c3c",
   "metadata": {},
   "source": [
    "In this example, the __init__() method takes three arguments (name, age, and address) and sets their values as the attributes of the Person object. The values are then accessed and printed using the dot notation."
   ]
  },
  {
   "cell_type": "markdown",
   "id": "3b0b1495-963c-4f92-96f0-f2b3b8030c18",
   "metadata": {},
   "source": [
    "---"
   ]
  },
  {
   "cell_type": "markdown",
   "id": "4dc46d51-ea10-42b9-b168-3277c0a36f16",
   "metadata": {},
   "source": [
    "```\n",
    "Q4. Why self is used in OOPs?\n",
    "\n",
    "Ans. self represents the instance of the class. By using the “self”  we can access the attributes and methods of the class in python. It binds the attributes with the given arguments.\n",
    "\n",
    "The reason we need to use self. is because Python does not use the @ syntax to refer to instance attributes. Python decided to do methods in a way that makes the instance to which the method belongs be passed automatically, but not received automatically: the first parameter of methods is the instance the method is called on.\n",
    "\n",
    "In more clear way you can say that self has following Characteristic-\n",
    "\n",
    "1. self is always pointing to Current Object.\n",
    "2. self is the first argument to be passed in Constructor and Instance Method.\n",
    "-  self must be provided as a First parameter to the Instance method and constructor. If you don’t provide it, it will cause an error.\n",
    "3. self is a convention and not a Python keyword.\n",
    "-  self is parameter in Instance Method and user can use another parameter name in place of it. But it is advisable to use self because it increases the readability of code, and it is also a good programming practice.\n",
    "\n",
    "```"
   ]
  },
  {
   "cell_type": "markdown",
   "id": "7a10dc29-c728-4398-a078-d89afec45824",
   "metadata": {},
   "source": [
    "---"
   ]
  },
  {
   "cell_type": "markdown",
   "id": "c1156fa9-2e5d-4029-924e-c8585da4af50",
   "metadata": {
    "tags": []
   },
   "source": [
    "```\n",
    "Q5. What is inheritance? Give an example for each type of inheritance.\n",
    "\n",
    "Ans. Inheritance is a mechanism in object-oriented programming that allows you to create a new class that is a modified version of an existing class. The new class is called the subclass or derived class, and the existing class is called the superclass or base class. The subclass inherits the attributes and behaviors of the superclass, and can add new attributes or override the inherited behaviors.\n",
    "\n",
    "There are several types of inheritance, including:\n",
    "```"
   ]
  },
  {
   "cell_type": "markdown",
   "id": "d3c64d55-3813-47fa-8956-0ae285569c72",
   "metadata": {},
   "source": [
    "```\n",
    "1. Single inheritance: A subclass inherits from a single base class.\n",
    "```"
   ]
  },
  {
   "cell_type": "code",
   "execution_count": 2,
   "id": "9fb0b5e2-96fa-4155-b6f8-a3ce5722b3ea",
   "metadata": {},
   "outputs": [
    {
     "name": "stdout",
     "output_type": "stream",
     "text": [
      "Woof\n"
     ]
    }
   ],
   "source": [
    "class Animal:\n",
    "    def __init__(self, name):\n",
    "        self.name = name\n",
    "\n",
    "    def make_sound(self):\n",
    "        print(\"Some animal sound\")\n",
    "\n",
    "class Dog(Animal):\n",
    "    def make_sound(self):\n",
    "        print(\"Woof\")\n",
    "\n",
    "dog = Dog(\"Fido\")\n",
    "dog.make_sound()"
   ]
  },
  {
   "cell_type": "markdown",
   "id": "6a9205d7-f82c-4305-99c5-4025006d74d7",
   "metadata": {},
   "source": [
    "```\n",
    "In this example, the Dog class inherits from the Animal class and overrides the make_sound method to print \"Woof\".\n",
    "```"
   ]
  },
  {
   "cell_type": "markdown",
   "id": "33652f9a-68e2-40b6-a80b-6da9bc690430",
   "metadata": {},
   "source": [
    "```\n",
    "2. Multiple inheritance: A subclass inherits from multiple base classes.\n",
    "```"
   ]
  },
  {
   "cell_type": "code",
   "execution_count": 3,
   "id": "765cabc4-c6ea-42de-b211-07c2d9f9b2b2",
   "metadata": {},
   "outputs": [
    {
     "name": "stdout",
     "output_type": "stream",
     "text": [
      "Some mammal sound\n",
      "Swimming\n"
     ]
    }
   ],
   "source": [
    "class Mammal:\n",
    "    def __init__(self, name):\n",
    "        self.name = name\n",
    "    \n",
    "    def make_sound(self):\n",
    "        print(\"Some mammal sound\")\n",
    "\n",
    "class Fish:\n",
    "    def swim(self):\n",
    "        print(\"Swimming\")\n",
    "\n",
    "class Dolphin(Mammal, Fish):\n",
    "    pass\n",
    "\n",
    "dolphin = Dolphin(\"Flipper\")\n",
    "dolphin.make_sound()\n",
    "dolphin.swim()"
   ]
  },
  {
   "cell_type": "markdown",
   "id": "877b29e0-b9ba-4262-a230-ae3bcd59f090",
   "metadata": {},
   "source": [
    "```\n",
    "In this example, the Dolphin class inherits from both the Mammal and Fish classes.\n",
    "```"
   ]
  },
  {
   "cell_type": "markdown",
   "id": "e88db615-da3a-4a8b-86bb-25c907a2031e",
   "metadata": {},
   "source": [
    "```\n",
    "3. Multi-level inheritance: A subclass inherits from a base class, which in turn inherits from another base class.\n",
    "```"
   ]
  },
  {
   "cell_type": "code",
   "execution_count": 4,
   "id": "8ef39b14-2058-482e-bed7-ac6680bd8722",
   "metadata": {},
   "outputs": [
    {
     "name": "stdout",
     "output_type": "stream",
     "text": [
      "Woof\n"
     ]
    }
   ],
   "source": [
    "class Animal:\n",
    "    def __init__(self, name):\n",
    "        self.name = name\n",
    "\n",
    "class Mammal(Animal):\n",
    "    def make_sound(self):\n",
    "        print(\"Some mammal sound\")\n",
    "\n",
    "class Dog(Mammal):\n",
    "    def make_sound(self):\n",
    "        print(\"Woof\")\n",
    "\n",
    "dog = Dog(\"Fido\")\n",
    "dog.make_sound()"
   ]
  },
  {
   "cell_type": "markdown",
   "id": "e8f8eab1-cb53-4aba-9e7f-43bbf0d72b09",
   "metadata": {},
   "source": [
    "```\n",
    "In this example, the Dog class inherits from the Mammal class, which in turn inherits from the Animal class.\n",
    "```"
   ]
  },
  {
   "cell_type": "markdown",
   "id": "947797f6-2e67-4eea-bdad-893958bc3fd0",
   "metadata": {},
   "source": [
    "```\n",
    "4. Hierarchical inheritance: Multiple subclasses inherit from a single base class.\n",
    "```"
   ]
  },
  {
   "cell_type": "code",
   "execution_count": 5,
   "id": "7d319f59-5868-4a52-967f-6a5932a4b512",
   "metadata": {},
   "outputs": [
    {
     "name": "stdout",
     "output_type": "stream",
     "text": [
      "Woof\n",
      "Meow\n"
     ]
    }
   ],
   "source": [
    "class Animal:\n",
    "    def __init__(self, name):\n",
    "        self.name = name\n",
    "\n",
    "class Dog(Animal):\n",
    "    def make_sound(self):\n",
    "        print(\"Woof\")\n",
    "\n",
    "class Cat(Animal):\n",
    "    def make_sound(self):\n",
    "        print(\"Meow\")\n",
    "\n",
    "dog = Dog(\"Fido\")\n",
    "dog.make_sound()\n",
    "\n",
    "cat = Cat(\"Fluffy\")\n",
    "cat.make_sound()"
   ]
  },
  {
   "cell_type": "markdown",
   "id": "afdcdd93-d6cc-4418-82c8-21ce188d1591",
   "metadata": {},
   "source": [
    "```\n",
    "In this example, the Dog and Cat classes both inherit from the Animal class.\n",
    "```"
   ]
  },
  {
   "cell_type": "markdown",
   "id": "7a4e205b-dcfe-4990-9de6-b6e38063834f",
   "metadata": {},
   "source": [
    "```\n",
    "4. Hybrid inheritance: A combination of more than one type of inheritance, typically single and multiple inheritance.\n",
    "```"
   ]
  },
  {
   "cell_type": "code",
   "execution_count": 6,
   "id": "c7341f80-b02c-400f-a641-896e31c6bb5d",
   "metadata": {},
   "outputs": [
    {
     "name": "stdout",
     "output_type": "stream",
     "text": [
      "Some mammal sound\n",
      "Swimming\n"
     ]
    }
   ],
   "source": [
    "class Animal:\n",
    "    def __init__(self, name):\n",
    "        self.name = name\n",
    "\n",
    "class Mammal(Animal):\n",
    "    def make_sound(self):\n",
    "        print(\"Some mammal sound\")\n",
    "\n",
    "class Fish:\n",
    "    def swim(self):\n",
    "        print(\"Swimming\")\n",
    "\n",
    "class Dolphin(Mammal, Fish):\n",
    "    pass\n",
    "\n",
    "dolphin = Dolphin(\"Flipper\")\n",
    "dolphin.make_sound()\n",
    "dolphin.swim() "
   ]
  },
  {
   "cell_type": "markdown",
   "id": "bfbcad63-a97c-4ca4-962d-1762a5975506",
   "metadata": {},
   "source": [
    "```\n",
    "In this example, the Dolphin class inherits from the Mammal class through single inheritance and the Fish class through multiple inheritance.\n",
    "```"
   ]
  },
  {
   "cell_type": "markdown",
   "id": "dc2d32cf-8ed4-4799-a2e1-8f1149a8461b",
   "metadata": {},
   "source": [
    "---"
   ]
  }
 ],
 "metadata": {
  "kernelspec": {
   "display_name": "Python 3 (ipykernel)",
   "language": "python",
   "name": "python3"
  },
  "language_info": {
   "codemirror_mode": {
    "name": "ipython",
    "version": 3
   },
   "file_extension": ".py",
   "mimetype": "text/x-python",
   "name": "python",
   "nbconvert_exporter": "python",
   "pygments_lexer": "ipython3",
   "version": "3.10.8"
  }
 },
 "nbformat": 4,
 "nbformat_minor": 5
}
