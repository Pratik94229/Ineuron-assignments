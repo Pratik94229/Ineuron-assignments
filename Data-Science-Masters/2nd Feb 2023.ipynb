{
 "cells": [
  {
   "cell_type": "markdown",
   "id": "3becb597-68bc-4760-8078-d5cba151e664",
   "metadata": {},
   "source": [
    "```\n",
    "Q1. Explain with an example each when to use a for loop and a while loop.\n",
    "\n",
    "Ans. For loops are used when you want to iterate over a sequence (like a list, tuple, or string) or other iterable object and execute a block of code for each item in the sequence.\n",
    "```"
   ]
  },
  {
   "cell_type": "code",
   "execution_count": 1,
   "id": "7a533cde-cc4b-4053-8d98-5795f4ff54de",
   "metadata": {},
   "outputs": [
    {
     "name": "stdout",
     "output_type": "stream",
     "text": [
      "apple\n",
      "banana\n",
      "cherry\n"
     ]
    }
   ],
   "source": [
    "# Example:\n",
    "\n",
    "fruits = ['apple', 'banana', 'cherry']\n",
    "for fruit in fruits:\n",
    "    print(fruit)"
   ]
  },
  {
   "cell_type": "markdown",
   "id": "a0f114b7-7899-4d1b-b3e1-5d5e106b3cf6",
   "metadata": {},
   "source": [
    "```\n",
    "While loops, on the other hand, are used when you want to repeatedly execute a block of code as long as a given condition is met.\n",
    "```"
   ]
  },
  {
   "cell_type": "code",
   "execution_count": 2,
   "id": "23876266-4ae1-4cd9-927f-67c9e543abc6",
   "metadata": {},
   "outputs": [
    {
     "name": "stdout",
     "output_type": "stream",
     "text": [
      "0\n",
      "1\n",
      "2\n",
      "3\n",
      "4\n"
     ]
    }
   ],
   "source": [
    "# Example:\n",
    "\n",
    "count = 0\n",
    "while count < 5:\n",
    "    print(count)\n",
    "    count += 1"
   ]
  },
  {
   "cell_type": "markdown",
   "id": "b0d1ffdf-3408-4d7b-9c99-41f59f307e09",
   "metadata": {},
   "source": [
    "---"
   ]
  },
  {
   "cell_type": "markdown",
   "id": "2dcd856f-d1ab-4a93-8993-b8579b4ecfd8",
   "metadata": {},
   "source": [
    "```\n",
    "Q2. Write a python program to print the sum and product of the first 10 natural numbers using for and while loop.\n",
    "```"
   ]
  },
  {
   "cell_type": "code",
   "execution_count": 3,
   "id": "e5ff2f91-a307-43b7-a1b4-b94f846ffd92",
   "metadata": {},
   "outputs": [
    {
     "name": "stdout",
     "output_type": "stream",
     "text": [
      "Using For Loop\n",
      "Sum of first 10 natural numbers is 55\n",
      "Product of first 10 natural numbers is 3628800\n"
     ]
    }
   ],
   "source": [
    "# Q2 Answer\n",
    "\n",
    "## For Loop\n",
    "\n",
    "sum = 0\n",
    "product = 1\n",
    "for i in list(range(1,11)):\n",
    "    sum = sum + i\n",
    "    product = product * i\n",
    "print(\"Using For Loop\")\n",
    "print(\"Sum of first 10 natural numbers is\",sum)\n",
    "print(\"Product of first 10 natural numbers is\",product)"
   ]
  },
  {
   "cell_type": "code",
   "execution_count": 4,
   "id": "8e776a4a-01c8-44bf-849d-284b2ec0e33e",
   "metadata": {},
   "outputs": [
    {
     "name": "stdout",
     "output_type": "stream",
     "text": [
      "Using While Loop\n",
      "Sum of first 10 natural numbers is 55\n",
      "Product of first 10 natural numbers is 3628800\n"
     ]
    }
   ],
   "source": [
    "## While Loop\n",
    "\n",
    "count = 1\n",
    "sum = 0\n",
    "product = 1\n",
    "while(count<11):\n",
    "    sum = sum + count\n",
    "    product = product * count\n",
    "    count += 1\n",
    "print(\"Using While Loop\")\n",
    "print(\"Sum of first 10 natural numbers is\",sum)\n",
    "print(\"Product of first 10 natural numbers is\",product)"
   ]
  },
  {
   "cell_type": "markdown",
   "id": "76276f5c-fe5f-46b7-85d3-212c04d9e636",
   "metadata": {},
   "source": [
    "---"
   ]
  },
  {
   "cell_type": "markdown",
   "id": "036566d3-e4dd-4954-bf06-e9ba18ad9aaf",
   "metadata": {},
   "source": [
    "```\n",
    "Q3. Create a python program to compute the electricity bill for a household.\n",
    "\n",
    "The per-unit charges in rupees are as follows: For the first 100 units, the user will be charged Rs. 4.5 per\n",
    "unit, for the next 100 units, the user will be charged Rs. 6 per unit, and for the next 100 units, the user will\n",
    "be charged Rs. 10 per unit, After 300 units and above the user will be charged Rs. 20 per unit.\n",
    "\n",
    "You are required to take the units of electricity consumed in a month from the user as input.\n",
    "\n",
    "Your program must pass this test case: when the unit of electricity consumed by the user in a month is\n",
    "310, the total electricity bill should be 2250.\n",
    "```"
   ]
  },
  {
   "cell_type": "markdown",
   "id": "16e32f77-48ba-49c1-978f-c9080174ad7e",
   "metadata": {},
   "source": [
    "```\n",
    "Q3. Answer\n",
    "```\n",
    "| Units     | Charges (in Rs)(Per Unit)|\n",
    "| --------- | ------------------------ |\n",
    "| 0-100     | 4.5                      |\n",
    "| 101-200   | 6                        |\n",
    "| 201-300   | 10                       |\n",
    "| >300      | 20                       |"
   ]
  },
  {
   "cell_type": "code",
   "execution_count": 5,
   "id": "fec43bfb-3591-482b-b757-22ce1d6aaff1",
   "metadata": {},
   "outputs": [
    {
     "name": "stdin",
     "output_type": "stream",
     "text": [
      "Enter the total units consumed:  310\n"
     ]
    },
    {
     "name": "stdout",
     "output_type": "stream",
     "text": [
      "The total bill amount is: Rs. 2250.00\n"
     ]
    }
   ],
   "source": [
    "## Using If Else Elif Statments\n",
    "\n",
    "total_units = int(input(\"Enter the total units consumed: \"))\n",
    "if total_units >0 and total_units <=100:\n",
    "    bill = total_units*4.5\n",
    "elif total_units >100 and total_units <=200:\n",
    "    bill = (total_units-100)*6 + (100)*4.5 \n",
    "elif total_units >200 and total_units <=300:\n",
    "    bill = (total_units-200)*10 + (100*6) + (100*4.5)\n",
    "elif total_units >300:\n",
    "    bill = (total_units-300)*20 + (100*10) + (100*6) + (100*4.5)\n",
    "else:\n",
    "    print(\"Invalid Input\")\n",
    "print(\"The total bill amount is: Rs. %.2f\" % bill)"
   ]
  },
  {
   "cell_type": "markdown",
   "id": "3b0b1495-963c-4f92-96f0-f2b3b8030c18",
   "metadata": {},
   "source": [
    "---"
   ]
  },
  {
   "cell_type": "markdown",
   "id": "4dc46d51-ea10-42b9-b168-3277c0a36f16",
   "metadata": {},
   "source": [
    "```\n",
    "Q4. Create a list of numbers from 1 to 100. Use for loop and while loop to calculate the cube of each\n",
    "number and if the cube of that number is divisible by 4 or 5 then append that number in a list and print\n",
    "that list.\n",
    "```"
   ]
  },
  {
   "cell_type": "code",
   "execution_count": 5,
   "id": "1b54cbe7-e45e-4ffd-97ad-118fcf6267d4",
   "metadata": {},
   "outputs": [
    {
     "name": "stdout",
     "output_type": "stream",
     "text": [
      "List of numbers those cubes are divisible by either 4 or 5 are [2, 4, 5, 6, 8, 10, 12, 14, 15, 16, 18, 20, 22, 24, 25, 26, 28, 30, 32, 34, 35, 36, 38, 40, 42, 44, 45, 46, 48, 50, 52, 54, 55, 56, 58, 60, 62, 64, 65, 66, 68, 70, 72, 74, 75, 76, 78, 80, 82, 84, 85, 86, 88, 90, 92, 94, 95, 96, 98, 100]\n"
     ]
    }
   ],
   "source": [
    "## Q4 Answer\n",
    "\n",
    "## For Loop\n",
    "\n",
    "l  = list(range(1,101))\n",
    "l2 = []\n",
    "for i in l:\n",
    "    cube = i**3\n",
    "    if cube%4 == 0 or cube%5 == 0:\n",
    "       l2.append(i)\n",
    "print(\"List of numbers those cubes are divisible by either 4 or 5 are\",l2)"
   ]
  },
  {
   "cell_type": "code",
   "execution_count": 9,
   "id": "191cc0c5-b391-4ffa-8b77-08bbb861a62e",
   "metadata": {},
   "outputs": [
    {
     "name": "stdout",
     "output_type": "stream",
     "text": [
      "List of numbers those cubes are divisible by either 4 or 5 are [2, 4, 5, 6, 8, 10, 12, 14, 15, 16, 18, 20, 22, 24, 25, 26, 28, 30, 32, 34, 35, 36, 38, 40, 42, 44, 45, 46, 48, 50, 52, 54, 55, 56, 58, 60, 62, 64, 65, 66, 68, 70, 72, 74, 75, 76, 78, 80, 82, 84, 85, 86, 88, 90, 92, 94, 95, 96, 98, 100]\n"
     ]
    }
   ],
   "source": [
    "## While Loop\n",
    "\n",
    "count = 1\n",
    "l = []\n",
    "while(count <=100):\n",
    "    cube = count**3\n",
    "    if cube%4 == 0 or cube%5 == 0:\n",
    "        l.append(count)\n",
    "    count +=1\n",
    "print(\"List of numbers those cubes are divisible by either 4 or 5 are\",l)"
   ]
  },
  {
   "cell_type": "markdown",
   "id": "7a10dc29-c728-4398-a078-d89afec45824",
   "metadata": {},
   "source": [
    "---"
   ]
  },
  {
   "cell_type": "markdown",
   "id": "c1156fa9-2e5d-4029-924e-c8585da4af50",
   "metadata": {},
   "source": [
    "```\n",
    "Q5. Write a program to filter count vowels in the below-given string.\n",
    "\n",
    "string = \"I want to become a data scientist\"\n",
    "```"
   ]
  },
  {
   "cell_type": "code",
   "execution_count": 15,
   "id": "44feb44e-35c5-4f23-8407-a7dcfd4fa33b",
   "metadata": {},
   "outputs": [
    {
     "name": "stdout",
     "output_type": "stream",
     "text": [
      "Number of Vowels in Given String is : 12\n"
     ]
    }
   ],
   "source": [
    "## Q5 Answer\n",
    "## Given\n",
    "string = \"I want to become a data scientist\"\n",
    "vowels = ('aeiou')\n",
    "count = 0\n",
    "for i in string.lower():\n",
    "    if i in vowels:\n",
    "        count += 1\n",
    "print(\"Number of Vowels in Given String is :\",count)"
   ]
  },
  {
   "cell_type": "markdown",
   "id": "e59ee13d-717f-409c-af57-3bb78e7f4305",
   "metadata": {},
   "source": [
    "---"
   ]
  }
 ],
 "metadata": {
  "kernelspec": {
   "display_name": "Python 3 (ipykernel)",
   "language": "python",
   "name": "python3"
  },
  "language_info": {
   "codemirror_mode": {
    "name": "ipython",
    "version": 3
   },
   "file_extension": ".py",
   "mimetype": "text/x-python",
   "name": "python",
   "nbconvert_exporter": "python",
   "pygments_lexer": "ipython3",
   "version": "3.10.8"
  }
 },
 "nbformat": 4,
 "nbformat_minor": 5
}
