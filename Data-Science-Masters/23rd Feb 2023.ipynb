{
 "cells": [
  {
   "cell_type": "markdown",
   "id": "ff2d04cf-c1ae-4585-981d-6eb6a8bba703",
   "metadata": {},
   "source": [
    "## 23rd Feb Assignment\n",
    "### Pandas Basic"
   ]
  },
  {
   "cell_type": "markdown",
   "id": "3becb597-68bc-4760-8078-d5cba151e664",
   "metadata": {},
   "source": [
    "```\n",
    "Q1. Create a Pandas Series that contains the following data: 4, 8, 15, 16, 23, and 42. Then, print the series.\n",
    "\n",
    "Ans.\n",
    "```"
   ]
  },
  {
   "cell_type": "code",
   "execution_count": 1,
   "id": "ad8ec528-fd02-4e20-9025-3f0255fbcdc3",
   "metadata": {},
   "outputs": [],
   "source": [
    "# pip install pandas"
   ]
  },
  {
   "cell_type": "code",
   "execution_count": 2,
   "id": "d1273871-ef9f-4d7c-b5e1-c71cb6070768",
   "metadata": {},
   "outputs": [
    {
     "name": "stdout",
     "output_type": "stream",
     "text": [
      "0     4\n",
      "1     8\n",
      "2    15\n",
      "3    16\n",
      "4    23\n",
      "5    42\n",
      "dtype: int64\n"
     ]
    }
   ],
   "source": [
    "import pandas as pd\n",
    "data = [4, 8, 15, 16, 23, 42]\n",
    "s1 = pd.Series(data)\n",
    "print(s1)"
   ]
  },
  {
   "cell_type": "code",
   "execution_count": 3,
   "id": "33316d1b-e60c-4827-ae1d-184f2b3ef14f",
   "metadata": {},
   "outputs": [
    {
     "name": "stdout",
     "output_type": "stream",
     "text": [
      "0     4\n",
      "1     8\n",
      "2    15\n",
      "3    16\n",
      "4    23\n",
      "5    42\n",
      "dtype: int64\n"
     ]
    }
   ],
   "source": [
    "data = [4, 8, 15, 16, 23, 42]\n",
    "s1 = pd.Series(data)\n",
    "print(s1)"
   ]
  },
  {
   "cell_type": "code",
   "execution_count": 4,
   "id": "a9cf3013-2f36-4034-9e11-3a0919f7590d",
   "metadata": {},
   "outputs": [
    {
     "data": {
      "text/plain": [
       "pandas.core.series.Series"
      ]
     },
     "execution_count": 4,
     "metadata": {},
     "output_type": "execute_result"
    }
   ],
   "source": [
    "type(s1)"
   ]
  },
  {
   "cell_type": "code",
   "execution_count": 5,
   "id": "bdc366f3-ce16-44f9-a894-030df2f89421",
   "metadata": {},
   "outputs": [
    {
     "name": "stdout",
     "output_type": "stream",
     "text": [
      "0     4\n",
      "1     8\n",
      "2    15\n",
      "3    16\n",
      "4    23\n",
      "5    42\n",
      "dtype: int64\n"
     ]
    }
   ],
   "source": [
    "# Alternatively\n",
    "s2 = pd.Series([4, 8, 15, 16, 23, 42])\n",
    "print(s2)"
   ]
  },
  {
   "cell_type": "code",
   "execution_count": 6,
   "id": "1498ae1c-8e65-4a11-b666-a616b2582721",
   "metadata": {},
   "outputs": [
    {
     "data": {
      "text/plain": [
       "pandas.core.series.Series"
      ]
     },
     "execution_count": 6,
     "metadata": {},
     "output_type": "execute_result"
    }
   ],
   "source": [
    "type(s2)"
   ]
  },
  {
   "cell_type": "markdown",
   "id": "b0d1ffdf-3408-4d7b-9c99-41f59f307e09",
   "metadata": {},
   "source": [
    "---"
   ]
  },
  {
   "cell_type": "markdown",
   "id": "2dcd856f-d1ab-4a93-8993-b8579b4ecfd8",
   "metadata": {},
   "source": [
    "```\n",
    "Q2. Create a variable of list type containing 10 elements in it, and apply pandas.Series function on the variable print it. \n",
    "\n",
    "Ans.\n",
    "```"
   ]
  },
  {
   "cell_type": "code",
   "execution_count": 7,
   "id": "3b20f041-0252-464c-bee5-dc120b7b89cd",
   "metadata": {},
   "outputs": [],
   "source": [
    "l1 = [1,2,3,4,5,6,7,8,9,0]"
   ]
  },
  {
   "cell_type": "code",
   "execution_count": 8,
   "id": "013780d1-f78f-4620-b6ce-ae0dd1a1fe66",
   "metadata": {},
   "outputs": [
    {
     "name": "stdout",
     "output_type": "stream",
     "text": [
      "0    1\n",
      "1    2\n",
      "2    3\n",
      "3    4\n",
      "4    5\n",
      "5    6\n",
      "6    7\n",
      "7    8\n",
      "8    9\n",
      "9    0\n",
      "dtype: int64\n"
     ]
    }
   ],
   "source": [
    "s3 = pd.Series(l1)\n",
    "print(s3)"
   ]
  },
  {
   "cell_type": "markdown",
   "id": "76276f5c-fe5f-46b7-85d3-212c04d9e636",
   "metadata": {},
   "source": [
    "---"
   ]
  },
  {
   "cell_type": "markdown",
   "id": "036566d3-e4dd-4954-bf06-e9ba18ad9aaf",
   "metadata": {},
   "source": [
    "```\n",
    "Q3. Create a Pandas DataFrame that contains the following data:\n",
    "```\n",
    "|Name  | Age  |Gender|\n",
    "| ---  | ---- |------|\n",
    "|Alice | 25\t  |Female|\n",
    "|Bob   | 30   |Male  |\n",
    "|Claire| 27   |Female|\n",
    "```\n",
    "Then, print the DataFrame.\n",
    "```\n",
    "```\n",
    "Ans.\n",
    "```"
   ]
  },
  {
   "cell_type": "code",
   "execution_count": 9,
   "id": "82dcc437-8cf5-46b6-b202-f3c84bce4d77",
   "metadata": {},
   "outputs": [
    {
     "name": "stdout",
     "output_type": "stream",
     "text": [
      "   Name  Age  Gender\n",
      "0   420   50  Female\n",
      "1   380   40    Male\n",
      "2   390   45  Female\n"
     ]
    }
   ],
   "source": [
    "data = {\n",
    "  \"Name\": [420, 380, 390],\n",
    "  \"Age\": [50, 40, 45],\n",
    "  \"Gender\":[\"Female\",\"Male\",\"Female\"]}\n",
    "df1 = pd.DataFrame(data)\n",
    "print(df1)"
   ]
  },
  {
   "cell_type": "markdown",
   "id": "3b0b1495-963c-4f92-96f0-f2b3b8030c18",
   "metadata": {},
   "source": [
    "---"
   ]
  },
  {
   "cell_type": "markdown",
   "id": "4dc46d51-ea10-42b9-b168-3277c0a36f16",
   "metadata": {},
   "source": [
    "```\n",
    "Q4. What is ‘DataFrame’ in pandas and how is it different from pandas.series? Explain with an example.\n",
    "\n",
    "Ans. In pandas, a DataFrame is a 2-dimensional labeled data structure with columns of potentially different types. It is similar to a table in a relational database or a spreadsheet. A pandas DataFrame can be thought of as a collection of pandas Series objects, where each Series represents a column in the DataFrame.\n",
    "\n",
    "On the other hand, a pandas Series is a one-dimensional labeled array that can hold data of any type (integer, float, string, etc.). Each element in a pandas Series is assigned a unique label or index. A Series can be thought of as a single column in a DataFrame.\n",
    "\n",
    "Here is an example to illustrate the difference between a DataFrame and a Series:\n",
    "```\n",
    "```python\n",
    "import pandas as pd\n",
    "\n",
    "# Create a pandas Series object\n",
    "fruits = pd.Series(['Apple', 'Banana', 'Cherry', 'Durian'])\n",
    "\n",
    "# Create a pandas DataFrame object\n",
    "df = pd.DataFrame({'Fruit': fruits, 'Color': ['Red', 'Yellow', 'Red', 'Green'], 'Price': [1.0, 0.5, 2.0, 3.0]})\n",
    "\n",
    "print('Fruits Series:')\n",
    "print(fruits)\n",
    "print('\\nDataFrame:')\n",
    "print(df)\n",
    "```\n",
    "Output :\n",
    "```vbnet\n",
    "Fruits Series:\n",
    "0     Apple\n",
    "1    Banana\n",
    "2    Cherry\n",
    "3    Durian\n",
    "dtype: object\n",
    "\n",
    "DataFrame:\n",
    "    Fruit   Color  Price\n",
    "0   Apple     Red    1.0\n",
    "1  Banana  Yellow    0.5\n",
    "2  Cherry     Red    2.0\n",
    "3  Durian   Green    3.0\n",
    "```\n",
    "```\n",
    "In the example above, we first create a pandas Series called \"fruits\" that contains four elements. We then create a pandas DataFrame called \"df\" using a Python dictionary that contains three key-value pairs. Each key represents a column name, and the corresponding value is a list that contains the data for that column. The resulting DataFrame has three columns: \"fruits\", \"count\", and \"price\".\n",
    "\n",
    "In summary, the key difference between a Series and a DataFrame in pandas is that a Series represents a single column of data with row labels, while a DataFrame represents a two-dimensional table of data with columns and row labels.\n",
    "```"
   ]
  },
  {
   "cell_type": "markdown",
   "id": "7a10dc29-c728-4398-a078-d89afec45824",
   "metadata": {},
   "source": [
    "---"
   ]
  },
  {
   "cell_type": "markdown",
   "id": "c1156fa9-2e5d-4029-924e-c8585da4af50",
   "metadata": {},
   "source": [
    "```\n",
    "Q5. What are some common functions you can use to manipulate data in a Pandas DataFrame? Can you give an example of when you might use one of these functions?\n",
    "\n",
    "Ans. There are several functions in Pandas that are commonly used to manipulate data in a DataFrame. Here are a few examples:\n",
    "\n",
    "1. drop(): This function is used to drop rows or columns from a DataFrame. For example, if we have a DataFrame with a column that we don't need, we can drop it like this:\n",
    "```\n",
    "```python\n",
    "df.drop('column_name', axis=1, inplace=True)\n",
    "```\n",
    "```\n",
    "2. groupby(): This function is used to group data in a DataFrame based on a specific column or columns. We can then apply an aggregate function, such as mean(), sum(), or count(), to the groups. For example, if we have a DataFrame with sales data for different regions, we can group the data by region and calculate the total sales for each region like this:\n",
    "```\n",
    "```python\n",
    "df.groupby('region')['sales'].sum()\n",
    "```\n",
    "```\n",
    "3. merge(): This function is used to merge two DataFrames based on a common column. For example, if we have two DataFrames with customer data and order data, we can merge them based on the customer ID like this:\n",
    "```\n",
    "```python\n",
    "\n",
    "merged_df = pd.merge(customer_df, order_df, on='customer_id')\n",
    "```\n",
    "```\n",
    "4. apply(): This function is used to apply a function to each row or column in a DataFrame. For example, if we have a DataFrame with customer data and we want to calculate the age of each customer based on their birth year, we can use apply() like this:\n",
    "\n",
    "```\n",
    "```python\n",
    "\n",
    "def calculate_age(row):\n",
    "    return 2023 - row['birth_year']\n",
    "    \n",
    "df['age'] = df.apply(calculate_age, axis=1)\n",
    "```\n",
    "```\n",
    "These are just a few examples of the many functions available in Pandas for manipulating data in a DataFrame. These functions can be very useful when cleaning and transforming data, performing calculations, and preparing data for analysis.\n",
    "```"
   ]
  },
  {
   "cell_type": "markdown",
   "id": "e59ee13d-717f-409c-af57-3bb78e7f4305",
   "metadata": {},
   "source": [
    "---"
   ]
  },
  {
   "cell_type": "markdown",
   "id": "5da20c55-3e5f-4876-9d03-688a8703ee2d",
   "metadata": {},
   "source": [
    "```\n",
    "Q6. Which of the following is mutable in nature Series, DataFrame, Panel?\n",
    "\n",
    "Ans. In Pandas, both Series and DataFrame are mutable in nature, meaning that we can modify their values, add or remove rows or columns, and perform other operations that change their contents.\n",
    "\n",
    "However, Panel is considered a deprecated data structure in the latest version of Pandas, and it is recommended to use MultiIndex instead. MultiIndex is also mutable like Series and DataFrame.\n",
    "```"
   ]
  },
  {
   "cell_type": "markdown",
   "id": "84ce3ffc-2d3b-41a3-af52-dcb6880d2deb",
   "metadata": {},
   "source": [
    "---"
   ]
  },
  {
   "cell_type": "markdown",
   "id": "f16a33a3-74ec-4a1c-9f69-0246f3059cdd",
   "metadata": {},
   "source": [
    "```\n",
    "Q7. Create a DataFrame using multiple Series. Explain with an example.\n",
    "\n",
    "Ans. To create a DataFrame using multiple Series in Pandas, we can pass a dictionary of Series to the pd.DataFrame() constructor. Each key in the dictionary represents a column name, and the corresponding value is a Series object that contains the data for that column.\n",
    "\n",
    "Here's an example of how to create a DataFrame using multiple Series in Pandas:\n",
    "```\n",
    "```python\n",
    "import pandas as pd\n",
    "\n",
    "# create three Series objects\n",
    "names = pd.Series(['Alice', 'Bob', 'Charlie', 'Dave'])\n",
    "ages = pd.Series([25, 30, 35, 40])\n",
    "salaries = pd.Series([50000, 60000, 70000, 80000])\n",
    "\n",
    "# create a dictionary of Series\n",
    "data = {'Name': names, 'Age': ages, 'Salary': salaries}\n",
    "\n",
    "# create a DataFrame using the dictionary of Series\n",
    "df = pd.DataFrame(data)\n",
    "\n",
    "# print the resulting DataFrame\n",
    "print(df)\n",
    "```\n",
    "```\n",
    "In this example, we first create three Series objects called names, ages, and salaries that contain the data for the \"Name\", \"Age\", and \"Salary\" columns of our DataFrame. We then create a dictionary called data that maps each column name to its corresponding Series. Finally, we create a DataFrame using the pd.DataFrame() constructor and pass the data dictionary as an argument. The resulting DataFrame has three columns: \"Name\", \"Age\", and \"Salary\", with the corresponding data from the three Series objects.\n",
    "```"
   ]
  },
  {
   "cell_type": "markdown",
   "id": "c42d0d57-a6c3-4bf7-877d-7c2a60be82f2",
   "metadata": {},
   "source": [
    "---"
   ]
  }
 ],
 "metadata": {
  "kernelspec": {
   "display_name": "Python 3 (ipykernel)",
   "language": "python",
   "name": "python3"
  },
  "language_info": {
   "codemirror_mode": {
    "name": "ipython",
    "version": 3
   },
   "file_extension": ".py",
   "mimetype": "text/x-python",
   "name": "python",
   "nbconvert_exporter": "python",
   "pygments_lexer": "ipython3",
   "version": "3.10.8"
  }
 },
 "nbformat": 4,
 "nbformat_minor": 5
}
