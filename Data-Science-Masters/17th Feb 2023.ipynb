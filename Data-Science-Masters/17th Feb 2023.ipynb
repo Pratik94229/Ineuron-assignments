{
 "cells": [
  {
   "cell_type": "markdown",
   "id": "ff2d04cf-c1ae-4585-981d-6eb6a8bba703",
   "metadata": {},
   "source": [
    "## 17th Feb Assignment"
   ]
  },
  {
   "cell_type": "markdown",
   "id": "3becb597-68bc-4760-8078-d5cba151e664",
   "metadata": {},
   "source": [
    "```\n",
    "Q1. What is MongoDB? Explain non-relational databases in short. In which scenarios it is preferred to use MongoDB over SQL databases?\n",
    "\n",
    "Ans. MongoDB is a popular document-oriented NoSQL database that provides a flexible, scalable, and high-performance solution for storing and managing data. Unlike traditional SQL databases, MongoDB uses a document data model, where data is stored in JSON-like documents that can be nested and have varying structures. This allows for more flexible and dynamic data storage, and makes it well-suited for handling semi-structured and unstructured data.\n",
    "\n",
    "Non-relational databases, or NoSQL databases, are databases that do not use the traditional relational model for storing data. Instead, they use a variety of models, such as document-oriented, key-value, column-family, or graph-based, to store data in a more flexible and scalable manner. NoSQL databases are designed to handle large amounts of data, and provide better scalability and performance than traditional SQL databases for certain use cases.\n",
    "\n",
    "MongoDB is preferred over SQL databases in scenarios where:\n",
    "\n",
    "- Data is unstructured or semi-structured, such as in social media feeds, product catalogs, or sensor data\n",
    "- There is a need for flexible schema design, where fields can be added or removed dynamically without requiring a schema change\n",
    "- There is a need for horizontal scalability, where data can be distributed across multiple servers to handle large workloads\n",
    "- There is a need for high availability and fault tolerance, where data can be replicated across multiple nodes to ensure continuous availability even in the event of a node failure\n",
    "- There is a need for real-time data processing and analytics, where data can be analyzed and processed in real-time as it is collected\n",
    "\n",
    "Overall, MongoDB is a powerful database solution for handling semi-structured and unstructured data, and provides a flexible and scalable alternative to traditional SQL databases for certain use cases.\n",
    "```"
   ]
  },
  {
   "cell_type": "markdown",
   "id": "b0d1ffdf-3408-4d7b-9c99-41f59f307e09",
   "metadata": {},
   "source": [
    "---"
   ]
  },
  {
   "cell_type": "markdown",
   "id": "2dcd856f-d1ab-4a93-8993-b8579b4ecfd8",
   "metadata": {},
   "source": [
    "```\n",
    "Q2. State and Explain the features of MongoDB.\n",
    "\n",
    "Ans. MongoDB is a document-oriented NoSQL database that provides a number of powerful features for storing, managing, and querying data. Some of the key features of MongoDB include:\n",
    "\n",
    "1. Flexible Data Model: MongoDB uses a document data model that allows for flexible and dynamic schema design. Data is stored in JSON-like documents that can be nested and have varying structures, making it well-suited for handling semi-structured and unstructured data.\n",
    "\n",
    "2. Scalability and Performance: MongoDB is designed to handle large-scale data processing and provides automatic sharding and replication features to distribute data across multiple nodes and ensure high availability and fault tolerance. This makes it well-suited for handling large workloads and real-time data processing.\n",
    "\n",
    "3. Rich Query Language: MongoDB provides a powerful and flexible query language that supports a wide range of query operations, including filtering, sorting, grouping, and aggregation. This allows for complex queries and data processing tasks to be performed on large datasets.\n",
    "\n",
    "4. Indexing and Aggregation: MongoDB provides indexing and aggregation features that can significantly improve query performance and enable real-time analytics. Indexing can be used to speed up query execution, while aggregation can be used to summarize and group data for analysis.\n",
    "\n",
    "5. Multi-Cloud Compatibility: MongoDB is designed to work well in cloud-based environments and can be easily deployed on a variety of cloud platforms, including AWS, Azure, and Google Cloud.\n",
    "\n",
    "6. Community and Support: MongoDB has a large and active community of users and developers, and provides extensive documentation, tutorials, and support resources for users.\n",
    "\n",
    "Overall, MongoDB provides a flexible and powerful database solution that is well-suited for handling semi-structured and unstructured data, real-time analytics, and large-scale data processing tasks.\n",
    "```"
   ]
  },
  {
   "cell_type": "markdown",
   "id": "76276f5c-fe5f-46b7-85d3-212c04d9e636",
   "metadata": {},
   "source": [
    "---"
   ]
  },
  {
   "cell_type": "markdown",
   "id": "036566d3-e4dd-4954-bf06-e9ba18ad9aaf",
   "metadata": {},
   "source": [
    "```\n",
    "Q3. Write a code to connect MongoDB to Python. Also, create a database and a collection in MongoDB.\n",
    "Ans.\n",
    "```\n",
    "```python\n",
    "\n",
    "pip install pymongo\n",
    "\n",
    "import pymongo\n",
    "\n",
    "# establish a connection to the MongoDB server\n",
    "client = pymongo.MongoClient(\"mongodb://localhost:27017/\")\n",
    "\n",
    "# create a new database called \"mydatabase\"\n",
    "mydb = client[\"mydatabase\"]\n",
    "\n",
    "# create a new collection called \"customers\" in the \"mydatabase\" database\n",
    "mycol = mydb[\"customers\"]\n",
    "```"
   ]
  },
  {
   "cell_type": "markdown",
   "id": "3b0b1495-963c-4f92-96f0-f2b3b8030c18",
   "metadata": {},
   "source": [
    "---"
   ]
  },
  {
   "cell_type": "markdown",
   "id": "4dc46d51-ea10-42b9-b168-3277c0a36f16",
   "metadata": {
    "tags": []
   },
   "source": [
    "```\n",
    "Q4. Using the database and the collection created in question number 3, write a code to insert one record, and insert many records. Use the find() and find_one() methods to print the inserted record.\n",
    "\n",
    "Ans. \n",
    "```\n",
    "### **One Record** \n",
    "\n",
    "```python\n",
    "from pymongo import MongoClient\n",
    "\n",
    "# Connect to the local MongoDB server\n",
    "client = MongoClient()\n",
    "\n",
    "# Access the \"mydatabase\" database\n",
    "db = client.mydatabase\n",
    "\n",
    "# Access the \"customers\" collection\n",
    "collection = db.customers\n",
    "\n",
    "# Insert one record\n",
    "record = {\n",
    "    \"name\": \"Yogesh Kumar Lalwani\",\n",
    "    \"email\": \"yogesh@gmail.com\",\n",
    "    \"age\": 21,\n",
    "    \"city\": \"Dhamtari\"\n",
    "}\n",
    "result = collection.insert_one(record)\n",
    "\n",
    "# Print the inserted record\n",
    "print(collection.find_one({\"_id\": result.inserted_id}))\n",
    "```\n",
    "### **Multiple Records** \n",
    "```python\n",
    "from pymongo import MongoClient\n",
    "\n",
    "# Connect to the local MongoDB server\n",
    "client = MongoClient()\n",
    "\n",
    "# Access the \"mydatabase\" database\n",
    "from pymongo import MongoClient\n",
    "\n",
    "# Connect to the local MongoDB server\n",
    "client = MongoClient()\n",
    "\n",
    "# Access the \"mydatabase\" database\n",
    "db = client.mydatabase\n",
    "\n",
    "# Access the \"customers\" collection\n",
    "collection = db.customers\n",
    "\n",
    "# Insert multiple records\n",
    "records = [\n",
    "    {\n",
    "        \"name\": \"Yogesh Kumar Lalwani\",\n",
    "        \"email\": \"yogesh@gmail.com\",\n",
    "        \"age\": 21,\n",
    "        \"city\": \"Dhamtari\"\n",
    "    },\n",
    "    {\n",
    "        \"name\": \"Sudh\",\n",
    "        \"email\": \"sudh@gmail.com\",\n",
    "        \"age\": 35,\n",
    "        \"city\": \"Mumbai\"\n",
    "    }\n",
    "]\n",
    "result = collection.insert_many(records)\n",
    "\n",
    "# Print the inserted records\n",
    "for record in collection.find({\"_id\": {\"$in\": result.inserted_ids}}):\n",
    "    print(record)\n",
    "\n",
    "```"
   ]
  },
  {
   "cell_type": "markdown",
   "id": "7a10dc29-c728-4398-a078-d89afec45824",
   "metadata": {},
   "source": [
    "---"
   ]
  },
  {
   "cell_type": "markdown",
   "id": "c1156fa9-2e5d-4029-924e-c8585da4af50",
   "metadata": {},
   "source": [
    "```\n",
    "Q5. Explain how you can use the find() method to query the MongoDB database. Write a simple code to demonstrate this.\n",
    "\n",
    "Ans. The find() method is used to query the MongoDB database and retrieve documents from a collection that match a specified set of criteria. The method returns a cursor object that we can use to iterate over the matched documents.\n",
    "\n",
    "Here's an example code snippet that demonstrates how to use the find() method to query a MongoDB database:\n",
    "```\n",
    "```python\n",
    "from pymongo import MongoClient\n",
    "\n",
    "# Connect to the local MongoDB server\n",
    "client = MongoClient()\n",
    "\n",
    "# Access the \"mydatabase\" database\n",
    "db = client.mydatabase\n",
    "\n",
    "# Access the \"customers\" collection\n",
    "collection = db.customers\n",
    "\n",
    "# Find all documents in the collection\n",
    "cursor = collection.find()\n",
    "\n",
    "# Iterate over the cursor to print the matched documents\n",
    "for document in cursor:\n",
    "    print(document)\n",
    "```\n",
    "```\n",
    "In this example, we first connect to the MongoDB server using the MongoClient() class. Then, we access the mydatabase database and the customers collection using the db.customers syntax.\n",
    "\n",
    "Next, we use the find() method without any arguments to retrieve all the documents in the collection. This returns a cursor object, which we can use to iterate over the matched documents.\n",
    "\n",
    "Finally, we iterate over the cursor using a for loop and print each document. Each document is returned as a Python dictionary, with the keys being the field names and the values being the field values.\n",
    "\n",
    "We can also use the find() method to retrieve only the documents that match a specific set of criteria. For example, we can use the following code snippet to retrieve all documents where the city field is set to \"Dhamtari\":\n",
    "```\n",
    "```python\n",
    "# Find documents where the \"city\" field is \"New York\"\n",
    "cursor = collection.find({\"city\": \"Dhamtari\"})\n",
    "\n",
    "# Iterate over the cursor to print the matched documents\n",
    "for document in cursor:\n",
    "    print(document)\n",
    "```\n",
    "```\n",
    "In this example, we pass a dictionary to the find() method with the key \"city\" and the value \"Dhamtari\". This retrieves all documents where the city field is set to \"Dhamtari\". The rest of the code is the same as before.\n",
    "```"
   ]
  },
  {
   "cell_type": "markdown",
   "id": "e59ee13d-717f-409c-af57-3bb78e7f4305",
   "metadata": {},
   "source": [
    "---"
   ]
  },
  {
   "cell_type": "markdown",
   "id": "5da20c55-3e5f-4876-9d03-688a8703ee2d",
   "metadata": {},
   "source": [
    "```\n",
    "Q6. Explain the sort() method. Give an example to demonstrate sorting in MongoDB.\n",
    "\n",
    "Ans. The sort() method is used to sort the results of a query in MongoDB. It takes one or more fields as arguments and sorts the documents in the result set in ascending or descending order based on those fields.\n",
    "\n",
    "The sort() method takes one or more arguments in the form of a dictionary. The keys of the dictionary are the fields to sort by, and the values are either pymongo.ASCENDING (for ascending order) or pymongo.DESCENDING (for descending order).\n",
    "\n",
    "Here's an example to demonstrate sorting in MongoDB using the sort() method:\n",
    "```\n",
    "```python\n",
    "from pymongo import MongoClient\n",
    "\n",
    "# Connect to the local MongoDB server\n",
    "client = MongoClient()\n",
    "\n",
    "# Access the \"mydatabase\" database\n",
    "db = client.mydatabase\n",
    "\n",
    "# Access the \"customers\" collection\n",
    "collection = db.customers\n",
    "\n",
    "# Sort the documents by age in descending order\n",
    "cursor = collection.find().sort(\"age\", pymongo.DESCENDING)\n",
    "\n",
    "# Iterate over the cursor to print the matched documents\n",
    "for document in cursor:\n",
    "    print(document)\n",
    "```\n",
    "```\n",
    "In this example, we first connect to the MongoDB server using the MongoClient() class. Then, we access the mydatabase database and the customers collection using the db.customers syntax.\n",
    "\n",
    "Next, we use the find() method without any arguments to retrieve all the documents in the collection. We then chain the sort() method to the end of the query, passing the \"age\" field and the pymongo.DESCENDING constant as arguments. This sorts the documents by the age field in descending order.\n",
    "\n",
    "Finally, we iterate over the cursor using a for loop and print each document. Since we've sorted the documents by age in descending order, the documents will be printed in order from oldest to youngest.\n",
    "\n",
    "Note that we can also sort on multiple fields by passing a dictionary with multiple keys and values to the sort() method. For example, we can sort first by the city field in ascending order, and then by the age field in descending order like this:\n",
    "```\n",
    "```python\n",
    "# Sort the documents by city in ascending order, and then by age in descending order\n",
    "cursor = collection.find().sort([(\"city\", pymongo.ASCENDING), (\"age\", pymongo.DESCENDING)])\n",
    "```"
   ]
  },
  {
   "cell_type": "markdown",
   "id": "84ce3ffc-2d3b-41a3-af52-dcb6880d2deb",
   "metadata": {},
   "source": [
    "---"
   ]
  },
  {
   "cell_type": "markdown",
   "id": "f16a33a3-74ec-4a1c-9f69-0246f3059cdd",
   "metadata": {},
   "source": [
    "```\n",
    "Q7. Explain why delete_one(), delete_many(), and drop() is used.\n",
    "\n",
    "Ans. In MongoDB, the delete_one() and delete_many() methods are used to remove documents from a collection, while the drop() method is used to remove an entire collection from a database.\n",
    "\n",
    "The delete_one() method deletes the first document that matches a specified set of criteria. If multiple documents match the criteria, only the first one encountered in the collection will be deleted.\n",
    "\n",
    "The delete_many() method deletes all documents that match a specified set of criteria. This method can be used to delete multiple documents in a single operation.\n",
    "\n",
    "The drop() method removes an entire collection from a database. This is a destructive operation that permanently deletes all documents in the collection, as well as the indexes associated with the collection. The drop() method should be used with caution, as it cannot be undone and will result in the loss of all data in the collection.\n",
    "\n",
    "These methods are useful for managing the data in a MongoDB database. For example, you might use delete_one() to remove a specific document from a collection, or delete_many() to remove all documents that match a certain criteria. The drop() method might be used if you need to completely delete a collection and all its data.\n",
    "\n",
    "It is important to use these methods with care, as they can permanently delete data from a database. You should always take appropriate precautions, such as backing up data before performing any destructive operations.\n",
    "```"
   ]
  },
  {
   "cell_type": "markdown",
   "id": "c42d0d57-a6c3-4bf7-877d-7c2a60be82f2",
   "metadata": {},
   "source": [
    "---"
   ]
  }
 ],
 "metadata": {
  "kernelspec": {
   "display_name": "Python 3 (ipykernel)",
   "language": "python",
   "name": "python3"
  },
  "language_info": {
   "codemirror_mode": {
    "name": "ipython",
    "version": 3
   },
   "file_extension": ".py",
   "mimetype": "text/x-python",
   "name": "python",
   "nbconvert_exporter": "python",
   "pygments_lexer": "ipython3",
   "version": "3.10.8"
  }
 },
 "nbformat": 4,
 "nbformat_minor": 5
}
