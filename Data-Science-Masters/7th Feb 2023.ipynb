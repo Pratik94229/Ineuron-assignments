{
 "cells": [
  {
   "cell_type": "markdown",
   "id": "52ca4b80-75b0-42fc-847b-c16ec434a5c8",
   "metadata": {
    "tags": []
   },
   "source": [
    "## 7th Feb Assignment"
   ]
  },
  {
   "cell_type": "markdown",
   "id": "3becb597-68bc-4760-8078-d5cba151e664",
   "metadata": {},
   "source": [
    "```\n",
    "Q1. You are writing code for a company. The requirement of the company is that you create a python function that will check whether the password entered by the user is correct or not. The function should take the password as input and return the string “Valid Password” if the entered password follows the below-given password guidelines else it should return “Invalid Password”. \n",
    "\n",
    "Note: 1. The Password should contain at least two uppercase letters and at least two lowercase letters.\n",
    "2. The Password should contain at least a number and three special characters.\n",
    "3. The length of the password should be 10 characters long. \n",
    "```"
   ]
  },
  {
   "cell_type": "code",
   "execution_count": 1,
   "id": "77af0379-058b-480e-b206-d485cb8c7766",
   "metadata": {},
   "outputs": [],
   "source": [
    "def password_check(string):\n",
    "    length = len(string)\n",
    "    uppercase = 0\n",
    "    lowercase = 0\n",
    "    special_character = 0\n",
    "    number = 0\n",
    "    from string import punctuation\n",
    "    punct = str(punctuation)\n",
    "    for i in string:\n",
    "        if i.isupper():\n",
    "            uppercase += 1\n",
    "        elif i.islower():\n",
    "            lowercase += 1\n",
    "        elif i.isnumeric():\n",
    "            number += 1 \n",
    "        elif punct.find(i) >= 0:\n",
    "            special_character += 1\n",
    "    if length == 10 and uppercase >=2 and lowercase >=2 and number >= 1 and special_character >= 3:\n",
    "        return \"Valid Password\"\n",
    "    else :\n",
    "        return \"Invalid Password\""
   ]
  },
  {
   "cell_type": "code",
   "execution_count": 2,
   "id": "3c4d59ce-0da1-4a97-9b58-4ca3c4ecdb50",
   "metadata": {},
   "outputs": [
    {
     "name": "stdin",
     "output_type": "stream",
     "text": [
      "Enter your password HEllo@12$!\n"
     ]
    },
    {
     "data": {
      "text/plain": [
       "'Valid Password'"
      ]
     },
     "execution_count": 2,
     "metadata": {},
     "output_type": "execute_result"
    }
   ],
   "source": [
    "string = input(\"Enter your password\")\n",
    "password_check(string)"
   ]
  },
  {
   "cell_type": "markdown",
   "id": "b0d1ffdf-3408-4d7b-9c99-41f59f307e09",
   "metadata": {},
   "source": [
    "---"
   ]
  },
  {
   "cell_type": "markdown",
   "id": "2dcd856f-d1ab-4a93-8993-b8579b4ecfd8",
   "metadata": {},
   "source": [
    "```\n",
    "Q2. Solve the below-given questions using at least one of the following: \n",
    "\n",
    "1. Lambda function\n",
    "2. Filter function\n",
    "3. Map function\n",
    "4. List Comprehension\n",
    "\n",
    "-  Check if the string starts with a particular letter.\n",
    "-  Check if the string is numeric. \n",
    "-  Sort a list of tuples having fruit names and their quantity. [(\"mango\",99),(\"orange\",80), (\"grapes\", 1000)] \n",
    "-  Find the squares of numbers from 1 to 10. \n",
    "-  Find the cube root of numbers from 1 to 10. \n",
    "-  Check if a given number is even. \n",
    "-  Filter odd numbers from the given list.\n",
    "   [1,2,3,4,5,6,7,8,9,10] \n",
    "-  Sort a list of integers into positive and negative integers lists.\n",
    "   [1,2,3,4,5,6,-1,-2,-3,-4,-5,0] \n",
    "```"
   ]
  },
  {
   "cell_type": "markdown",
   "id": "35412bad-0eb5-4cd8-b98e-876952fbc033",
   "metadata": {},
   "source": [
    "Q2. Answer"
   ]
  },
  {
   "cell_type": "markdown",
   "id": "d62cee7d-c0ee-405d-bfd7-57ae4df53271",
   "metadata": {},
   "source": [
    "```\n",
    "-  Check if the string starts with a particular letter. \n",
    "```"
   ]
  },
  {
   "cell_type": "code",
   "execution_count": 3,
   "id": "9f376ae8-867a-438d-94d7-073849c9282c",
   "metadata": {},
   "outputs": [],
   "source": [
    "Stringcheck = lambda string : True if string.lower().startswith('y') == True else False"
   ]
  },
  {
   "cell_type": "code",
   "execution_count": 4,
   "id": "a53a22e5-e0bf-479f-a8d8-d3a7499075b9",
   "metadata": {},
   "outputs": [
    {
     "data": {
      "text/plain": [
       "True"
      ]
     },
     "execution_count": 4,
     "metadata": {},
     "output_type": "execute_result"
    }
   ],
   "source": [
    "Stringcheck (\"Yogesh\")"
   ]
  },
  {
   "cell_type": "markdown",
   "id": "8b266b38-2b39-4a1d-982f-09a639335288",
   "metadata": {},
   "source": [
    "```\n",
    "-  Check if the string is numeric.\n",
    "```"
   ]
  },
  {
   "cell_type": "code",
   "execution_count": 5,
   "id": "39376001-e3ea-41b6-9efc-fb539eb9e463",
   "metadata": {},
   "outputs": [],
   "source": [
    "Numbercheck = lambda string : True if string.isnumeric() == True else False"
   ]
  },
  {
   "cell_type": "code",
   "execution_count": 6,
   "id": "8e03f607-2517-4077-98f3-cfc5d871f24d",
   "metadata": {},
   "outputs": [
    {
     "data": {
      "text/plain": [
       "True"
      ]
     },
     "execution_count": 6,
     "metadata": {},
     "output_type": "execute_result"
    }
   ],
   "source": [
    "Numbercheck(\"123\")"
   ]
  },
  {
   "cell_type": "markdown",
   "id": "63827463-8314-42d4-9aae-34878171e205",
   "metadata": {},
   "source": [
    "```\n",
    "-  Sort a list of tuples having fruit names and their quantity. [(\"mango\",99),(\"orange\",80), (\"grapes\", 1000)] \n",
    "```"
   ]
  },
  {
   "cell_type": "code",
   "execution_count": 7,
   "id": "b17580ce-915c-43b0-adaa-8821392be533",
   "metadata": {},
   "outputs": [
    {
     "name": "stdout",
     "output_type": "stream",
     "text": [
      "[('orange', 80), ('mango', 99), ('grapes', 1000)]\n"
     ]
    }
   ],
   "source": [
    "l= [(\"mango\",99),(\"orange\",80), (\"grapes\", 1000)]\n",
    "sort = sorted(l, key=lambda x: x[1])\n",
    "print(sort)"
   ]
  },
  {
   "cell_type": "markdown",
   "id": "ccb5783c-6cf1-47d0-9adc-a18df93a20b0",
   "metadata": {},
   "source": [
    "```\n",
    "Find the squares of numbers from 1 to 10. \n",
    "```"
   ]
  },
  {
   "cell_type": "code",
   "execution_count": 8,
   "id": "4b3ca219-55d7-4ba9-a0a1-b660efe5bf7a",
   "metadata": {},
   "outputs": [
    {
     "data": {
      "text/plain": [
       "[1, 4, 9, 16, 25, 36, 49, 64, 81, 100]"
      ]
     },
     "execution_count": 8,
     "metadata": {},
     "output_type": "execute_result"
    }
   ],
   "source": [
    "[i**2 for i in range(1,11)]"
   ]
  },
  {
   "cell_type": "markdown",
   "id": "d8210173-9525-4bf8-82f0-bcaed8648bec",
   "metadata": {},
   "source": [
    "```\n",
    "-  Find the cube root of numbers from 1 to 10. \n",
    "```"
   ]
  },
  {
   "cell_type": "code",
   "execution_count": 9,
   "id": "733250a8-ed50-4c55-9db0-e300f820ddee",
   "metadata": {},
   "outputs": [
    {
     "data": {
      "text/plain": [
       "[1.0,\n",
       " 1.2599210498948732,\n",
       " 1.4422495703074083,\n",
       " 1.5874010519681994,\n",
       " 1.7099759466766968,\n",
       " 1.8171205928321397,\n",
       " 1.912931182772389,\n",
       " 2.0,\n",
       " 2.080083823051904,\n",
       " 2.154434690031884]"
      ]
     },
     "execution_count": 9,
     "metadata": {},
     "output_type": "execute_result"
    }
   ],
   "source": [
    "[i**(1/3) for i in range(1,11)]"
   ]
  },
  {
   "cell_type": "code",
   "execution_count": 10,
   "id": "e8f47af5-9a90-4f7b-a3f4-2ca06b89bf0b",
   "metadata": {},
   "outputs": [
    {
     "data": {
      "text/plain": [
       "[1.0,\n",
       " 1.2599210498948734,\n",
       " 1.4422495703074083,\n",
       " 1.5874010519681996,\n",
       " 1.7099759466766968,\n",
       " 1.8171205928321394,\n",
       " 1.9129311827723894,\n",
       " 2.0,\n",
       " 2.080083823051904,\n",
       " 2.1544346900318834]"
      ]
     },
     "execution_count": 10,
     "metadata": {},
     "output_type": "execute_result"
    }
   ],
   "source": [
    "# Alternative Method (Using Numpy)\n",
    "import numpy as np\n",
    "[np.cbrt(i) for i in range(1,11)]"
   ]
  },
  {
   "cell_type": "markdown",
   "id": "874585b4-10dd-4e80-8fac-294abe637cfe",
   "metadata": {},
   "source": [
    "```\n",
    "-  Check if a given number is even. \n",
    "```"
   ]
  },
  {
   "cell_type": "code",
   "execution_count": 11,
   "id": "a8d301de-d514-4ff1-af2e-8a573a5c89b0",
   "metadata": {},
   "outputs": [],
   "source": [
    "checkeven = lambda n : \"Even\" if n%2 == 0 else \"Not Even\""
   ]
  },
  {
   "cell_type": "code",
   "execution_count": 12,
   "id": "740ea1a4-8825-4462-b249-3215a672ccab",
   "metadata": {},
   "outputs": [
    {
     "data": {
      "text/plain": [
       "'Even'"
      ]
     },
     "execution_count": 12,
     "metadata": {},
     "output_type": "execute_result"
    }
   ],
   "source": [
    "checkeven(2222)"
   ]
  },
  {
   "cell_type": "markdown",
   "id": "fa0983f4-5182-4749-bca6-daa899accad6",
   "metadata": {},
   "source": [
    "```\n",
    "Filter odd numbers from the given list.\n",
    "[1,2,3,4,5,6,7,8,9,10] \n",
    "```"
   ]
  },
  {
   "cell_type": "code",
   "execution_count": 13,
   "id": "319b3a1e-c818-4f3c-bb79-1033d7ff3be0",
   "metadata": {},
   "outputs": [
    {
     "data": {
      "text/plain": [
       "[1, 3, 5, 7, 9]"
      ]
     },
     "execution_count": 13,
     "metadata": {},
     "output_type": "execute_result"
    }
   ],
   "source": [
    "l = [1,2,3,4,5,6,7,8,9,10] \n",
    "[i for i in l if i%2 != 0]"
   ]
  },
  {
   "cell_type": "markdown",
   "id": "939595af-36c6-441b-9465-05f0072a110a",
   "metadata": {},
   "source": [
    "```\n",
    "-  Sort a list of integers into positive and negative integers lists.\n",
    "   [1,2,3,4,5,6,-1,-2,-3,-4,-5,0] \n",
    "```"
   ]
  },
  {
   "cell_type": "code",
   "execution_count": 14,
   "id": "c29c0731-5eb5-42cc-ad3f-128fd7512976",
   "metadata": {},
   "outputs": [
    {
     "name": "stdout",
     "output_type": "stream",
     "text": [
      "Positive Integers : [1, 2, 3, 4, 5, 6]\n",
      "Negative Integers : [-1, -2, -3, -4, -5]\n"
     ]
    }
   ],
   "source": [
    "# Note : Zero is neither positive nor negative\n",
    "\n",
    "l = [1,2,3,4,5,6,-1,-2,-3,-4,-5,0]\n",
    "\n",
    "positive_list = list(filter(lambda x : x>0,l))\n",
    "negative_list = list(filter(lambda x : x<0,l))\n",
    "print (\"Positive Integers :\",positive_list)\n",
    "print (\"Negative Integers :\",negative_list)\n"
   ]
  },
  {
   "cell_type": "markdown",
   "id": "76276f5c-fe5f-46b7-85d3-212c04d9e636",
   "metadata": {},
   "source": [
    "---"
   ]
  }
 ],
 "metadata": {
  "kernelspec": {
   "display_name": "Python 3 (ipykernel)",
   "language": "python",
   "name": "python3"
  },
  "language_info": {
   "codemirror_mode": {
    "name": "ipython",
    "version": 3
   },
   "file_extension": ".py",
   "mimetype": "text/x-python",
   "name": "python",
   "nbconvert_exporter": "python",
   "pygments_lexer": "ipython3",
   "version": "3.10.8"
  }
 },
 "nbformat": 4,
 "nbformat_minor": 5
}
