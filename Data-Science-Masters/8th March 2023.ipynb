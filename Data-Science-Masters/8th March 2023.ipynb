{
 "cells": [
  {
   "cell_type": "markdown",
   "id": "ff2d04cf-c1ae-4585-981d-6eb6a8bba703",
   "metadata": {
    "tags": []
   },
   "source": [
    "## 8th March Assignment\n",
    "### Statistics Advance - 1"
   ]
  },
  {
   "cell_type": "markdown",
   "id": "717b8989-4fef-4346-b1a5-dd0839a5ef06",
   "metadata": {},
   "source": [
    "---"
   ]
  },
  {
   "cell_type": "markdown",
   "id": "3becb597-68bc-4760-8078-d5cba151e664",
   "metadata": {},
   "source": [
    "```\n",
    "Q1. What is the Probability density function?\n",
    "\n",
    "Ans. The Probability Density Function (PDF) is a concept in statistics and probability theory that describes the probability distribution of a continuous random variable. It is often denoted as f(x) or p(x) and represents the likelihood of observing a specific value or range of values for the random variable.\n",
    "\n",
    "The PDF provides a way to understand the relative likelihood of different outcomes within the range of the random variable. Unlike discrete random variables, which have a probability mass function (PMF) that assigns probabilities to individual values, continuous random variables have an infinite number of possible values within a given range. The PDF captures the relative likelihood of each possible value or range of values.\n",
    "\n",
    "The PDF is defined such that the probability of the random variable falling within a specific interval is equal to the area under the curve of the PDF over that interval. In other words, the PDF integrates to 1 over the entire range of the random variable.\n",
    "\n",
    "Mathematically, the PDF is often defined using calculus as the derivative of the cumulative distribution function (CDF) of the random variable. The CDF represents the probability that the random variable takes on a value less than or equal to a given value. Taking the derivative of the CDF yields the PDF.\n",
    "\n",
    "The PDF is a fundamental concept in probability and statistics, and it is used in various applications such as hypothesis testing, estimation, and modeling of continuous random variables.\n",
    "```"
   ]
  },
  {
   "cell_type": "markdown",
   "id": "b0d1ffdf-3408-4d7b-9c99-41f59f307e09",
   "metadata": {},
   "source": [
    "---"
   ]
  },
  {
   "cell_type": "markdown",
   "id": "2dcd856f-d1ab-4a93-8993-b8579b4ecfd8",
   "metadata": {},
   "source": [
    "```\n",
    "Q2. What are the types of Probability distribution?\n",
    "\n",
    "Ans. There are several types of probability distributions, each with its own characteristics and applications. Here are some commonly encountered probability distributions:\n",
    "\n",
    "1. Uniform Distribution: This distribution represents outcomes that are equally likely within a given range. The probability density is constant over the range.\n",
    "\n",
    "2. Normal Distribution (Gaussian Distribution): The normal distribution is a bell-shaped curve that is symmetric around its mean. It is widely used due to the central limit theorem and describes many natural phenomena.\n",
    "\n",
    "3. Binomial Distribution: The binomial distribution models the number of successes in a fixed number of independent Bernoulli trials, where each trial has the same probability of success.\n",
    "\n",
    "4. Poisson Distribution: The Poisson distribution models the number of events that occur in a fixed interval of time or space when the events occur independently and at a constant average rate.\n",
    "\n",
    "5. Exponential Distribution: The exponential distribution models the time between events in a Poisson process, where events occur continuously and independently at a constant average rate.\n",
    "\n",
    "6. Gamma Distribution: The gamma distribution is a versatile distribution that generalizes both the exponential and chi-squared distributions. It is often used to model waiting times and durations.\n",
    "\n",
    "7. Chi-Squared Distribution: The chi-squared distribution arises in the context of testing hypotheses about the variance of a normally distributed population.\n",
    "\n",
    "8. Student's t-Distribution: The t-distribution is used for inference on small sample sizes when the population standard deviation is unknown. It is commonly used in hypothesis testing and confidence interval estimation.\n",
    "\n",
    "9. F-Distribution: The F-distribution arises in the context of comparing variances of two or more populations. It is commonly used in analysis of variance (ANOVA) and regression analysis.\n",
    "\n",
    "These are just a few examples of probability distributions, and there are many more distributions with specific characteristics and applications. The choice of distribution depends on the nature of the data and the problem at hand.\n",
    "```"
   ]
  },
  {
   "cell_type": "markdown",
   "id": "76276f5c-fe5f-46b7-85d3-212c04d9e636",
   "metadata": {},
   "source": [
    "---"
   ]
  },
  {
   "cell_type": "markdown",
   "id": "036566d3-e4dd-4954-bf06-e9ba18ad9aaf",
   "metadata": {},
   "source": [
    "```\n",
    "Q3. Write a Python function to calculate the probability density function of a normal distribution with given mean and standard deviation at a given point.\n",
    "\n",
    "Ans.\n",
    "```"
   ]
  },
  {
   "cell_type": "code",
   "execution_count": 1,
   "id": "7692a185-b65c-452c-ab4d-012d062661bf",
   "metadata": {},
   "outputs": [],
   "source": [
    "import math\n",
    "def normal_pdf(x, mean, std_dev):\n",
    "    coefficient = 1 / (std_dev * math.sqrt(2 * math.pi))\n",
    "    exponent = -(1/2) * ((x - mean) / std_dev) ** 2\n",
    "    pdf = coefficient * math.exp(exponent)\n",
    "    return pdf\n"
   ]
  },
  {
   "cell_type": "code",
   "execution_count": 2,
   "id": "6cb89f4f-aee5-4062-bb23-a92d7cbc6e61",
   "metadata": {},
   "outputs": [
    {
     "name": "stdout",
     "output_type": "stream",
     "text": [
      "The PDF value at x=1.5 is: 0.12951759566589174\n"
     ]
    }
   ],
   "source": [
    "mean = 0\n",
    "std_dev = 1\n",
    "x = 1.5\n",
    "\n",
    "pdf_value = normal_pdf(x, mean, std_dev)\n",
    "print(f\"The PDF value at x={x} is: {pdf_value}\")\n"
   ]
  },
  {
   "cell_type": "markdown",
   "id": "3b0b1495-963c-4f92-96f0-f2b3b8030c18",
   "metadata": {},
   "source": [
    "---"
   ]
  },
  {
   "cell_type": "markdown",
   "id": "4dc46d51-ea10-42b9-b168-3277c0a36f16",
   "metadata": {},
   "source": [
    "```\n",
    "Q4. What are the properties of Binomial distribution? Give two examples of events where binomial distribution can be applied.\n",
    "\n",
    "Ans. The Binomial distribution has several key properties:\n",
    "\n",
    "1. Fixed Number of Trials: The Binomial distribution models a fixed number of independent trials or experiments, denoted by 'n'. Each trial can have one of two outcomes, typically referred to as success (S) or failure (F).\n",
    "\n",
    "2. Independent Trials: The trials are assumed to be independent of each other, meaning the outcome of one trial does not influence the outcome of another.\n",
    "\n",
    "3. Constant Probability: The probability of success, denoted by 'p', remains constant for each trial. Similarly, the probability of failure, denoted by 'q', is equal to 1 - p.\n",
    "\n",
    "4. Discrete Distribution: The Binomial distribution is a discrete probability distribution, as it deals with a finite number of discrete outcomes (0, 1, 2, ..., n).\n",
    "\n",
    "5. Probability Mass Function (PMF): The probability mass function of the Binomial distribution calculates the probability of obtaining a specific number of successes 'k' in 'n' trials.\n",
    "\n",
    "Examples of events where the Binomial distribution can be applied:\n",
    "\n",
    "1. Coin Flips: Consider a scenario where you flip a fair coin multiple times and count the number of heads obtained. Each flip can be considered as a trial, and the outcome of interest is the number of heads obtained in a fixed number of coin flips.\n",
    "\n",
    "2. Quality Control: Suppose a manufacturing process produces items with a certain defect rate. We can model the probability of finding a specific number of defective items in a random sample of a fixed size. For instance, determining the probability of obtaining three defective items in a sample of ten items can be modeled using the Binomial distribution.\n",
    "\n",
    "These examples demonstrate situations where a fixed number of independent trials with two possible outcomes are of interest, making the Binomial distribution applicable for analyzing and predicting probabilities associated with such events.\n",
    "```"
   ]
  },
  {
   "cell_type": "markdown",
   "id": "7a10dc29-c728-4398-a078-d89afec45824",
   "metadata": {},
   "source": [
    "---"
   ]
  },
  {
   "cell_type": "markdown",
   "id": "c1156fa9-2e5d-4029-924e-c8585da4af50",
   "metadata": {},
   "source": [
    "```\n",
    "Q5. Generate a random sample of size 1000 from a binomial distribution with probability of success 0.4 and plot a histogram of the results using matplotlib.\n",
    "\n",
    "Ans.\n",
    "```"
   ]
  },
  {
   "cell_type": "code",
   "execution_count": 3,
   "id": "5e2b9d1e-540f-48e1-a716-e664de92db97",
   "metadata": {},
   "outputs": [
    {
     "data": {
      "image/png": "[encoded data removed]",
      "text/plain": [
       "<Figure size 640x480 with 1 Axes>"
      ]
     },
     "metadata": {},
     "output_type": "display_data"
    }
   ],
   "source": [
    "import numpy as np\n",
    "import matplotlib.pyplot as plt\n",
    "\n",
    "# Set the parameters\n",
    "sample_size = 1000\n",
    "prob_success = 0.4\n",
    "\n",
    "# Generate random sample from binomial distribution\n",
    "sample = np.random.binomial(1, prob_success, size=sample_size)\n",
    "\n",
    "# Plot histogram\n",
    "plt.hist(sample, bins=2, alpha=0.75)\n",
    "plt.xlabel('Success or Failure')\n",
    "plt.ylabel('Frequency')\n",
    "plt.title('Histogram of Random Sample from Binomial Distribution')\n",
    "plt.xticks([0, 1], ['Failure', 'Success'])\n",
    "plt.show(\"svg\")"
   ]
  },
  {
   "cell_type": "markdown",
   "id": "e59ee13d-717f-409c-af57-3bb78e7f4305",
   "metadata": {},
   "source": [
    "---"
   ]
  },
  {
   "cell_type": "markdown",
   "id": "5da20c55-3e5f-4876-9d03-688a8703ee2d",
   "metadata": {},
   "source": [
    "```\n",
    "Q6. Write a Python function to calculate the cumulative distribution function of a Poisson distribution with given mean at a given point.\n",
    "\n",
    "Ans.\n",
    "```"
   ]
  },
  {
   "cell_type": "code",
   "execution_count": 4,
   "id": "d146fcb0-1217-42a4-907f-d38b68cd1df5",
   "metadata": {},
   "outputs": [],
   "source": [
    "import math\n",
    "def poisson_cdf(k, mean):\n",
    "    cdf = 0\n",
    "    for i in range(k + 1):\n",
    "        cdf += math.exp(-mean) * (mean ** i) / math.factorial(i)\n",
    "    return cdf"
   ]
  },
  {
   "cell_type": "code",
   "execution_count": 5,
   "id": "f4cb2698-3bd6-4855-8c43-996890f4357d",
   "metadata": {},
   "outputs": [
    {
     "name": "stdout",
     "output_type": "stream",
     "text": [
      "The CDF value at k=5 is: 0.9160820579686966\n"
     ]
    }
   ],
   "source": [
    "mean = 3\n",
    "k = 5\n",
    "\n",
    "cdf_value = poisson_cdf(k, mean)\n",
    "print(f\"The CDF value at k={k} is: {cdf_value}\")"
   ]
  },
  {
   "cell_type": "markdown",
   "id": "84ce3ffc-2d3b-41a3-af52-dcb6880d2deb",
   "metadata": {},
   "source": [
    "---"
   ]
  },
  {
   "cell_type": "markdown",
   "id": "f16a33a3-74ec-4a1c-9f69-0246f3059cdd",
   "metadata": {},
   "source": [
    "```\n",
    "Q7. How Binomial distribution different from Poisson distribution?\n",
    "\n",
    "Ans. The Binomial distribution and the Poisson distribution are both probability distributions commonly used to model events with discrete outcomes. However, they differ in several aspects:\n",
    "\n",
    "1. Number of Trials: The Binomial distribution models the number of successes in a fixed number of independent trials, denoted by 'n'. Each trial can have one of two outcomes, typically referred to as success (S) or failure (F). In contrast, the Poisson distribution models the number of events that occur in a fixed interval of time or space, without specifying the number of trials.\n",
    "\n",
    "2. Probability of Success: In the Binomial distribution, the probability of success, denoted by 'p', remains constant for each trial. In the Poisson distribution, the parameter 'λ' represents the average rate at which events occur in a given interval, and it remains constant. However, instead of specifying the probability of success, the Poisson distribution focuses on the average rate of event occurrence.\n",
    "\n",
    "3. Nature of Outcomes: The Binomial distribution deals with discrete outcomes, where the random variable takes on integer values (0, 1, 2, ..., n). The Poisson distribution also deals with discrete outcomes, but it allows for a potentially unbounded range of non-negative integer values (0, 1, 2, ...).\n",
    "\n",
    "4. Assumptions: The Binomial distribution assumes that the trials are independent, and the probability of success is constant across trials. The Poisson distribution assumes that the events occur independently, and the average rate of event occurrence remains constant.\n",
    "\n",
    "5. Approximation: In certain cases, the Poisson distribution can be used as an approximation for the Binomial distribution when the number of trials is large (n → ∞) and the probability of success is small (p → 0). This approximation is known as the Poisson approximation to the Binomial distribution.\n",
    "\n",
    "6. Skewness: The Binomial distribution can be either positively or negatively skewed, depending on the values of 'n' and 'p'. The Poisson distribution, on the other hand, is generally positively skewed.\n",
    "\n",
    "In summary, the Binomial distribution is used to model a fixed number of independent trials with two outcomes, whereas the Poisson distribution models the number of events that occur in a fixed interval of time or space. The Poisson distribution focuses on the average rate of event occurrence, while the Binomial distribution focuses on the number of successes in a fixed number of trials.\n",
    "```"
   ]
  },
  {
   "cell_type": "markdown",
   "id": "4cd568f4-5457-44a1-a448-74e19518cae1",
   "metadata": {},
   "source": [
    "---"
   ]
  },
  {
   "cell_type": "markdown",
   "id": "45f4dfbe-a93a-4347-8b32-5c44c856f7e8",
   "metadata": {},
   "source": [
    "```\n",
    "Q8. Generate a random sample of size 1000 from a Poisson distribution with mean 5 and calculate the sample mean and variance.\n",
    "\n",
    "Ans.\n",
    "```"
   ]
  },
  {
   "cell_type": "code",
   "execution_count": 6,
   "id": "b06fe2fd-ee4b-4a5e-a09f-b285739c275f",
   "metadata": {},
   "outputs": [],
   "source": [
    "import numpy as np\n",
    "import matplotlib.pyplot as plt\n",
    "\n",
    "# Set the parameters\n",
    "mean = 5\n",
    "sample_size = 1000\n",
    "# Generate random sample from binomial distribution\n",
    "sample = np.random.poisson(lam = mean, size =sample_size)\n"
   ]
  },
  {
   "cell_type": "code",
   "execution_count": 7,
   "id": "587802f0-fcc9-4729-ac2a-efae4f22e762",
   "metadata": {},
   "outputs": [
    {
     "name": "stdout",
     "output_type": "stream",
     "text": [
      "Variance of sample is 5\n",
      "Mean of sample is 4\n"
     ]
    }
   ],
   "source": [
    "# Importing Statistics module\n",
    "import statistics\n",
    "print(\"Variance of sample is % s\"%(statistics.variance(sample)))\n",
    "print(f\"Mean of sample is {statistics.mean(sample)}\")"
   ]
  },
  {
   "cell_type": "markdown",
   "id": "c42d0d57-a6c3-4bf7-877d-7c2a60be82f2",
   "metadata": {},
   "source": [
    "---"
   ]
  },
  {
   "cell_type": "markdown",
   "id": "477ac92e-cb3a-42a7-b2fe-f748ac115fda",
   "metadata": {},
   "source": [
    "```\n",
    "Q9. How mean and variance are related in Binomial distribution and Poisson distribution?\n",
    "\n",
    "Ans. In both the Binomial distribution and the Poisson distribution, the mean and variance are related, but the nature of this relationship differs between the two distributions.\n",
    "\n",
    "For the Binomial distribution:\n",
    "\n",
    "- Mean: The mean of a Binomial distribution with parameters 'n' (number of trials) and 'p' (probability of success) is given by μ = n * p.\n",
    "\n",
    "- Variance: The variance of a Binomial distribution with parameters 'n' and 'p' is given by σ^2 = n * p * (1 - p).\n",
    "\n",
    "In the Binomial distribution, the variance is dependent on both the number of trials and the probability of success. As the number of trials increases or the probability of success deviates further away from 0.5, the variance tends to increase. The shape of the Binomial distribution can range from symmetric (when p = 0.5) to skewed (when p ≠ 0.5).\n",
    "\n",
    "For the Poisson distribution:\n",
    "\n",
    "- Mean: The mean of a Poisson distribution is denoted by λ (lambda) and represents the average rate at which events occur.\n",
    "\n",
    "- Variance: The variance of a Poisson distribution is also equal to λ.\n",
    "\n",
    "In the Poisson distribution, the variance is equal to the mean. This property is known as equidispersion, indicating that the variance is not dependent on any other parameters. In other words, the spread of the Poisson distribution is solely determined by the average rate at which events occur. The Poisson distribution is often used to model rare events where the mean and variance are approximately equal.\n",
    "\n",
    "To summarize, in the Binomial distribution, the variance depends on both the number of trials and the probability of success, whereas in the Poisson distribution, the variance is equal to the mean.\n",
    "```"
   ]
  },
  {
   "cell_type": "markdown",
   "id": "fe6c9a87-d4fb-4551-8da9-fe3c2e0504b6",
   "metadata": {},
   "source": [
    "---"
   ]
  },
  {
   "cell_type": "markdown",
   "id": "a46cec7f-63c3-4a50-9025-03d6840ea693",
   "metadata": {},
   "source": [
    "```\n",
    "Q10. In normal distribution with respect to mean position, where does the least frequent data appear?\n",
    "\n",
    "Ans. In a normal distribution, the least frequent data appears in the tails of the distribution, farthest away from the mean.\n",
    "\n",
    "The normal distribution is a symmetric bell-shaped curve, with the mean (μ) located at the center. The curve gradually decreases in height as it moves away from the mean in both directions. The inflection points, where the curvature changes, occur at a distance of one standard deviation (σ) from the mean.\n",
    "\n",
    "The least frequent data points appear in the tails of the distribution, which are the regions that are located far from the mean. These data points have values that are either significantly smaller or significantly larger than the mean. The tails of the normal distribution represent extreme or rare events.\n",
    "\n",
    "As you move further into the tails, the frequency of data points decreases rapidly. This is due to the nature of the normal distribution, where the probabilities of extreme values decrease exponentially as you move away from the mean.\n",
    "\n",
    "It's important to note that the exact position of the least frequent data points in the tails depends on the standard deviation and the specific cutoffs used to define the tails. However, in a standard normal distribution (with mean 0 and standard deviation 1), the least frequent data points are located in the farthest ends of the distribution, corresponding to extreme values in either the positive or negative direction.\n",
    "```"
   ]
  },
  {
   "cell_type": "markdown",
   "id": "c1c73c2d-0a32-4188-a3dd-68544de4a085",
   "metadata": {},
   "source": [
    "---"
   ]
  }
 ],
 "metadata": {
  "kernelspec": {
   "display_name": "Python 3 (ipykernel)",
   "language": "python",
   "name": "python3"
  },
  "language_info": {
   "codemirror_mode": {
    "name": "ipython",
    "version": 3
   },
   "file_extension": ".py",
   "mimetype": "text/x-python",
   "name": "python",
   "nbconvert_exporter": "python",
   "pygments_lexer": "ipython3",
   "version": "3.10.8"
  }
 },
 "nbformat": 4,
 "nbformat_minor": 5
}
