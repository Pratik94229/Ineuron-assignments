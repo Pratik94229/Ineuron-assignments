{
 "cells": [
  {
   "cell_type": "markdown",
   "id": "ff2d04cf-c1ae-4585-981d-6eb6a8bba703",
   "metadata": {},
   "source": [
    "## 18th Feb Assignment"
   ]
  },
  {
   "cell_type": "markdown",
   "id": "3becb597-68bc-4760-8078-d5cba151e664",
   "metadata": {},
   "source": [
    "```\n",
    "Q1. What is an API? Give an example, where an API is used in real life.\n",
    "\n",
    "Ans. An API (Application Programming Interface) is a set of routines, protocols, and tools for building software applications. APIs specify how software components should interact, allowing developers to access services and data from other applications. \n",
    "\n",
    "An example of an API in real life is the Google Maps API, which enables developers to embed Google Maps into their own websites and applications. This allows users to view maps directly within the application, as opposed to having to visit the Google Maps website.\n",
    "```"
   ]
  },
  {
   "cell_type": "markdown",
   "id": "b0d1ffdf-3408-4d7b-9c99-41f59f307e09",
   "metadata": {},
   "source": [
    "---"
   ]
  },
  {
   "cell_type": "markdown",
   "id": "2dcd856f-d1ab-4a93-8993-b8579b4ecfd8",
   "metadata": {},
   "source": [
    "```\n",
    "Q2. Give advantages and disadvantages of using API.\n",
    "\n",
    "Ans.\n",
    "Advantages: \n",
    "1. APIs allow developers to access and utilize services provided by other applications, as well as allowing them to customize their own applications.\n",
    "2. APIs are often faster and more efficient than other integration methods such as file transfer or manual data entry.\n",
    "3. APIs can help to reduce development time and costs, as they are already built, tested and documented.\n",
    "4. APIs provide a secure and stable connection between two applications, ensuring that data is transmitted properly and securely.\n",
    "5. APIs are often well documented and provide detailed instructions on how to use them, making them easier to learn and use.\n",
    "\n",
    "Disadvantages: \n",
    "1. APIs can be complex to use and require a certain level of technical knowledge.\n",
    "2. APIs can be unreliable, as they can sometimes fail without notice or be subject to downtime.\n",
    "3. APIs may be subject to rate limits or other restrictions which can limit the amount of data that can be accessed or manipulated.\n",
    "4. APIs can be expensive to use, as some providers may charge for access or require a subscription.\n",
    "5. APIs can be vulnerable to security threats, as they provide a direct connection between two applications.\n",
    "```"
   ]
  },
  {
   "cell_type": "markdown",
   "id": "76276f5c-fe5f-46b7-85d3-212c04d9e636",
   "metadata": {},
   "source": [
    "---"
   ]
  },
  {
   "cell_type": "markdown",
   "id": "036566d3-e4dd-4954-bf06-e9ba18ad9aaf",
   "metadata": {},
   "source": [
    "```\n",
    "Q3. What is a Web API? Differentiate between API and Web API.\n",
    "\n",
    "Ans. \n",
    "A Web API is an application programming interface (API) that is used to access data and services from a web server. It is a set of routines, protocols, and tools for building software applications. Web APIs allow developers to access and manipulate data on a web server as if they were a user interacting with the web site itself.\n",
    "\n",
    "The main difference between an API and a Web API is that an API is a set of functions and procedures that allow one application to access the services of another application, while a Web API is a set of protocols and tools used to build web applications. An API allows two applications to communicate with each other, while a Web API allows applications to access data and services from a web server.\n",
    "```"
   ]
  },
  {
   "cell_type": "markdown",
   "id": "3b0b1495-963c-4f92-96f0-f2b3b8030c18",
   "metadata": {},
   "source": [
    "---"
   ]
  },
  {
   "cell_type": "markdown",
   "id": "4dc46d51-ea10-42b9-b168-3277c0a36f16",
   "metadata": {},
   "source": [
    "```\n",
    "Q4. Explain REST and SOAP Architecture. Mention shortcomings of SOAP.\n",
    "\n",
    "Ans. REST (Representational State Transfer) is an architectural style for designing distributed systems, based on the use of HTTP protocol for communication between a client and a server. It is stateless, meaning that the server does not keep any state information about the client. It is resource-oriented, meaning that the server provides resources which the client can retrieve, create, update and delete. The main idea behind REST is that the server should only provide an interface for the client to interact with, without any business logic.\n",
    "\n",
    "SOAP (Simple Object Access Protocol) is a messaging protocol used for exchanging structured information between two or more applications. It uses XML as its main language for describing data and operations, and uses HTTP as its transport protocol. SOAP defines a set of rules for sending and receiving messages, as well as defining a set of operations that can be performed.\n",
    "\n",
    "The main shortcoming of SOAP is that it is complex and difficult to debug. It also requires more overhead for data transfer, since it uses XML for describing data. Additionally, SOAP does not support caching, which may lead to performance issues.\n",
    "```"
   ]
  },
  {
   "cell_type": "markdown",
   "id": "7a10dc29-c728-4398-a078-d89afec45824",
   "metadata": {},
   "source": [
    "---"
   ]
  },
  {
   "cell_type": "markdown",
   "id": "c1156fa9-2e5d-4029-924e-c8585da4af50",
   "metadata": {},
   "source": [
    "```\n",
    "Q5. Differentiate between REST and SOAP.\n",
    "\n",
    "Ans.  \n",
    "\n",
    "REST (Representational State Transfer)\n",
    "- An architectural style for client-server communication\n",
    "- It is based on the HTTP protocol and uses simple URLs\n",
    "- It allows for the exchange of data between two entities over the Internet\n",
    "- It is not a protocol, but an architectural approach\n",
    "\n",
    "SOAP (Simple Object Access Protocol)\n",
    "- A protocol for exchanging data between two entities\n",
    "- It is based on XML, and uses WSDL to define operations and data\n",
    "- It requires a specific set of rules for communication between entities\n",
    "- It is a protocol, and requires specific tools for implementation\n",
    "```"
   ]
  },
  {
   "cell_type": "markdown",
   "id": "e59ee13d-717f-409c-af57-3bb78e7f4305",
   "metadata": {},
   "source": [
    "---"
   ]
  }
 ],
 "metadata": {
  "kernelspec": {
   "display_name": "Python 3 (ipykernel)",
   "language": "python",
   "name": "python3"
  },
  "language_info": {
   "codemirror_mode": {
    "name": "ipython",
    "version": 3
   },
   "file_extension": ".py",
   "mimetype": "text/x-python",
   "name": "python",
   "nbconvert_exporter": "python",
   "pygments_lexer": "ipython3",
   "version": "3.10.8"
  }
 },
 "nbformat": 4,
 "nbformat_minor": 5
}
