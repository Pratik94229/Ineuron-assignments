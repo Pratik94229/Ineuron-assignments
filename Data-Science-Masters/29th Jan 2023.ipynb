{
 "cells": [
  {
   "cell_type": "markdown",
   "id": "50460ad0-1e01-427b-8ac1-96a7dd40c860",
   "metadata": {},
   "source": [
    "```\n",
    "Q1. Who developed Python Programming Language?\n",
    "\n",
    "Ans. Guido van Rossum developed Python Programming Language.\n",
    "```"
   ]
  },
  {
   "cell_type": "markdown",
   "id": "7f10456b-c642-4f75-abef-d9225ca93b94",
   "metadata": {
    "tags": []
   },
   "source": [
    "---"
   ]
  },
  {
   "cell_type": "markdown",
   "id": "e08a564f-4088-4a35-a7fc-12c771da4050",
   "metadata": {},
   "source": [
    "```\n",
    "Q2. Which type of Programming does Python support?\n",
    "\n",
    "Ans. Python is a multi-paradigm programming language. Object-oriented programming and structured programming are fully supported, and many of their features support functional programming and aspect-oriented programming (including metaprogramming and metaobjects).\n",
    "```"
   ]
  },
  {
   "cell_type": "markdown",
   "id": "ccb807eb-d30d-4000-aa0a-71aa33a2d64e",
   "metadata": {
    "tags": []
   },
   "source": [
    "---"
   ]
  },
  {
   "cell_type": "markdown",
   "id": "cab972c4-acbb-43b5-82d4-415a37fd4bb4",
   "metadata": {},
   "source": [
    "```\n",
    "Q3. Is Python case sensitive when dealing with identifiers?\n",
    "\n",
    "Ans. Yes, Python is a case-sensitive language, i.e., it treats uppercase and lowercase characters differently. This applies to identifiers too. Easebuzz ID: E230201ZKLXPHW---\n",
    "```"
   ]
  },
  {
   "cell_type": "markdown",
   "id": "068a9267-6a58-470b-b57b-c1bd8017983a",
   "metadata": {
    "tags": []
   },
   "source": [
    "---"
   ]
  },
  {
   "cell_type": "markdown",
   "id": "1c9dcd60-1f67-485e-8527-9c31823625bf",
   "metadata": {},
   "source": [
    "```\n",
    "Q4. What is the correct extension of the Python file?\n",
    "\n",
    "Ans. The file extensions for Python are-\n",
    "\n",
    "1. .pyz\n",
    "2. .pyd\n",
    "3. .pyw\n",
    "4. .pyo\n",
    "5. .pyc\n",
    "6. .pyi\n",
    "7. .py\n",
    "```"
   ]
  },
  {
   "cell_type": "markdown",
   "id": "4a0b049f-0532-41dd-b1c4-cd8858a1004d",
   "metadata": {
    "tags": []
   },
   "source": [
    "---"
   ]
  },
  {
   "cell_type": "markdown",
   "id": "88bdf31d-9c2f-46e3-8396-f8781b2e7d06",
   "metadata": {},
   "source": [
    "```\n",
    "Q5. Is Python code compiled or interpreted?\n",
    "\n",
    "Ans. Python is both compiled as well as an interpreted language, which means when we run a python code, it is first compiled and then interpreted line by line but the compilation part is hidden from the programmer. The compile part gets deleted as soon as the code gets executed in Python so that the programmer doesn’t get onto unnecessary complexity.\n",
    "```"
   ]
  },
  {
   "cell_type": "markdown",
   "id": "04429653-bcd6-40d7-8b25-8b11b0cb9caf",
   "metadata": {
    "tags": []
   },
   "source": [
    "---"
   ]
  },
  {
   "cell_type": "markdown",
   "id": "40895774-740d-48c1-87c4-c584f7b8e01a",
   "metadata": {},
   "source": [
    "```\n",
    "Q6. Name a few blocks of code used to define In Python language?\n",
    "\n",
    "Ans. In Python, there are several blocks of code that are used to define different structures, including:\n",
    "\n",
    "1. Functions: Functions are blocks of code that perform a specific task and can be called multiple times in a program. They are defined using the \"def\" keyword, followed by the function name and the function parameters in parentheses.\n",
    "2. Classes: Classes are blocks of code that define objects and their behaviors. They are defined using the \"class\" keyword, followed by the class name and a colon.\n",
    "3. Loops: Loops are blocks of code that repeat a set of instructions for a specified number of times or until a certain condition is met. There are two main types of loops in Python: \"for\" loops and \"while\" loops.\n",
    "4. Conditional statements: Conditional statements are blocks of code that execute a set of instructions based on a condition. The two main types of conditional statements in Python are \"if\" statements and \"if-else\" statements.\n",
    "5. Try-except blocks: Try-except blocks are blocks of code used to handle exceptions (errors) that may occur during the execution of a program. The \"try\" block contains the code that may raise an exception, and the \"except\" block contains the code that will be executed if an exception occurs.\n",
    "```"
   ]
  },
  {
   "cell_type": "markdown",
   "id": "3fa930fd-6283-416e-9a51-e65dffcabb83",
   "metadata": {
    "tags": []
   },
   "source": [
    "---"
   ]
  },
  {
   "cell_type": "markdown",
   "id": "9e1d203b-33b8-41ef-bee9-82d1b6bc1177",
   "metadata": {},
   "source": [
    "```\n",
    "Q7. State a character used to give single-line comments in Python?\n",
    "\n",
    "Ans. Hash character (#) is used to give  single-line comments in the Python program. Comments does not have to be text to explain the code, it can also be used to prevent Python from executing code.\n",
    "```"
   ]
  },
  {
   "cell_type": "markdown",
   "id": "913faaa8-8531-4d67-aa71-fa37f275bf0c",
   "metadata": {
    "tags": []
   },
   "source": [
    "---"
   ]
  },
  {
   "cell_type": "markdown",
   "id": "427fdc82-1b51-4527-bbd7-c34c664fa46b",
   "metadata": {},
   "source": [
    "```\n",
    "Q8. Mention functions which can help us to find the version of python that we are currently working on?\n",
    "\n",
    "Ans.The function sys. version can help us to find the version of python that we are currently working on. We need to import sys package in order to use this function.\n",
    "```"
   ]
  },
  {
   "cell_type": "markdown",
   "id": "dd603391-c86d-4e7e-8fde-ab1a280800a4",
   "metadata": {
    "tags": []
   },
   "source": [
    "---"
   ]
  },
  {
   "cell_type": "markdown",
   "id": "8ff3bbe0-cac4-4f68-bdaf-edd0d7362290",
   "metadata": {},
   "source": [
    "```\n",
    "Q9. Python supports the creation of anonymous functions atruntime, using a construct called __________________\n",
    "\n",
    "Ans. \"Lambda\"\n",
    "```"
   ]
  },
  {
   "cell_type": "markdown",
   "id": "37b62980-9b64-419b-affd-4029692ec800",
   "metadata": {
    "tags": []
   },
   "source": [
    "---"
   ]
  },
  {
   "cell_type": "markdown",
   "id": "5760f523-62b5-41d8-8543-595ca859771e",
   "metadata": {},
   "source": [
    "```\n",
    "Q10. What does pip stand for python?\n",
    "\n",
    "Ans. pip stands for \"preferred installer program\".\n",
    "```"
   ]
  },
  {
   "cell_type": "markdown",
   "id": "6ee62b74-b98e-4da6-9a9f-1b57d2b91f76",
   "metadata": {
    "tags": []
   },
   "source": [
    "---"
   ]
  },
  {
   "cell_type": "markdown",
   "id": "ab2c8abc-3550-48f7-98c1-c3ac8a8fe921",
   "metadata": {},
   "source": [
    "```\n",
    "Q11. Mention a few built-in functions in Python?\n",
    "\n",
    "Ans. Some built-in functions in Python are -\n",
    "1. print( ) function.\n",
    "2. type( ) function.\n",
    "3. input( ) function.\n",
    "4. abs( ) function.\n",
    "5. pow( ) function.\n",
    "6. dir( ) function.\n",
    "6. sorted( ) function.\n",
    "8. max( ) function.\n",
    "```"
   ]
  },
  {
   "cell_type": "markdown",
   "id": "42a0cfb8-ed35-4f60-88ad-631dcd2a7b79",
   "metadata": {
    "tags": []
   },
   "source": [
    "---"
   ]
  },
  {
   "cell_type": "markdown",
   "id": "8ab936bd-5fef-4b70-9e67-260431af8992",
   "metadata": {},
   "source": [
    "```\n",
    "Q12. What is the maximum possible length of an identifier in Python?\n",
    "\n",
    "Ans. An identifier can have a maximum length of 79 characters in Python.\n",
    "```"
   ]
  },
  {
   "cell_type": "markdown",
   "id": "898a7786-a17a-4b49-9a11-af6dbc36c2aa",
   "metadata": {
    "tags": []
   },
   "source": [
    "---"
   ]
  },
  {
   "cell_type": "markdown",
   "id": "86b34005-b9cc-409b-992c-f4c13d5c3a2d",
   "metadata": {},
   "source": [
    "```\n",
    "Q13. What are the benefits of using Python?\n",
    "\n",
    "Ans. There are many benefits to using Python, including:\n",
    "\n",
    "1. Easy to learn and use: Python has a simple and straightforward syntax, making it easy for new programmers to learn and use.\n",
    "2. High-level programming language: Python provides high-level data structures and supports dynamic typing, making it a good choice for complex applications.\n",
    "3. Versatile: Python is used in a wide range of applications, including web development, scientific computing, data analysis, artificial intelligence, and more.\n",
    "4. Large community: Python has a large and active community of developers who contribute to the development of the language and provide support to its users.\n",
    "5. Open-source: Python is an open-source language, which means that it is free to use and modify, and there are many resources available for learning and using it.\n",
    "6. Cross-platform compatibility: Python can run on many different operating systems, including Windows, MacOS, and Linux, making it a versatile choice for developers.\n",
    "```"
   ]
  },
  {
   "cell_type": "markdown",
   "id": "f977dfab-2795-41ea-9e8d-cfe0b86fa6d1",
   "metadata": {
    "tags": []
   },
   "source": [
    "---"
   ]
  },
  {
   "cell_type": "markdown",
   "id": "ab009cf5-07a5-419d-a1c3-65679f1006d7",
   "metadata": {},
   "source": [
    "```\n",
    "Q14. How is memory managed in Python?\n",
    "\n",
    "Ans. Memory management in Python involves a private heap containing all Python objects and data structures. The management of this private heap is ensured internally by the Python memory manager. The Python memory manager has different components which deal with various dynamic storage management aspects, like sharing, segmentation, preallocation or caching.\n",
    "```"
   ]
  },
  {
   "cell_type": "markdown",
   "id": "1261d70d-6bf6-4868-8aeb-7bbee94f5dd0",
   "metadata": {
    "tags": []
   },
   "source": [
    "---"
   ]
  },
  {
   "cell_type": "markdown",
   "id": "26b9b8bb-285f-4570-b497-1f8ec45cbec7",
   "metadata": {},
   "source": [
    "```\n",
    "Q15. How to install Python on Windows and set path variables?\n",
    "\n",
    "Ans. To install Python on Windows:\n",
    "\n",
    "1. Go to the official Python website (https://www.python.org/downloads/) and download the latest version of Python for Windows.\n",
    "2. Run the Python installation file and follow the on-screen instructions. Make sure to select the option to add Python to your PATH environment variable.\n",
    "\n",
    "To set the PATH environment variable:\n",
    "\n",
    "1. Right-click on the Windows Start button and select \"System\" or search for \"Environment Variables\" in the Windows search bar.\n",
    "2. Click on \"Environment Variables.\"\n",
    "3. Under \"System Variables,\" scroll down and find the \"Path\" variable, then click on \"Edit.\"\n",
    "4. Click on \"New\" and add the path to the Python installation (e.g., \"C:\\Python36\").\n",
    "5. Click \"OK\" to close all windows and save the changes.\n",
    "\n",
    "Now you can open a Command Prompt window and run Python from any location on your computer.\n",
    "```"
   ]
  },
  {
   "cell_type": "markdown",
   "id": "0dd8b406-a6e5-4563-abae-31208c1172ee",
   "metadata": {
    "tags": []
   },
   "source": [
    "---"
   ]
  },
  {
   "cell_type": "markdown",
   "id": "e58b9f3f-18f0-498a-9043-dc598797f802",
   "metadata": {},
   "source": [
    "```\n",
    "Q16. Is indentation required In python?\n",
    "\n",
    "Ans. Yes, indentation is required in Python to define code blocks and scope. It is a crucial part of the Python syntax and used to indicate the start and end of blocks of code. The number of spaces used for indentation is up to the programmer, but it is recommended to use 4 spaces per level of indentation for consistency within the Python community.\n",
    "```"
   ]
  },
  {
   "cell_type": "markdown",
   "id": "c0f29567-a751-4ce9-bd84-c1a7cc87bab7",
   "metadata": {
    "tags": []
   },
   "source": [
    "---"
   ]
  }
 ],
 "metadata": {
  "kernelspec": {
   "display_name": "Python 3 (ipykernel)",
   "language": "python",
   "name": "python3"
  },
  "language_info": {
   "codemirror_mode": {
    "name": "ipython",
    "version": 3
   },
   "file_extension": ".py",
   "mimetype": "text/x-python",
   "name": "python",
   "nbconvert_exporter": "python",
   "pygments_lexer": "ipython3",
   "version": "3.10.8"
  }
 },
 "nbformat": 4,
 "nbformat_minor": 5
}
