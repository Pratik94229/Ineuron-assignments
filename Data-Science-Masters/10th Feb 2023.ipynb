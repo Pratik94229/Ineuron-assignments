{
 "cells": [
  {
   "cell_type": "markdown",
   "id": "ff2d04cf-c1ae-4585-981d-6eb6a8bba703",
   "metadata": {
    "tags": []
   },
   "source": [
    "## 10th Feb Assignment"
   ]
  },
  {
   "cell_type": "markdown",
   "id": "3becb597-68bc-4760-8078-d5cba151e664",
   "metadata": {},
   "source": [
    "```\n",
    "Q1. Which function is used to open a file? What are the different modes of opening a file? Explain each mode of file opening.\n",
    "\n",
    "Ans. In Python, the built-in open() function is used to open a file. This function takes two arguments: the name of the file to be opened, and the mode in which the file should be opened.\n",
    "\n",
    "The different modes of opening a file are:\n",
    "\n",
    "\"r\" (read mode): This mode is used to read data from an existing file. If the file does not exist, a FileNotFoundError is raised.\n",
    "\n",
    "\"w\" (write mode): This mode is used to write data to a file. If the file already exists, its contents are overwritten. If the file does not exist, a new file is created.\n",
    "\n",
    "\"a\" (append mode): This mode is used to append data to an existing file. If the file does not exist, a new file is created.\n",
    "\n",
    "\"x\" (exclusive creation mode): This mode is used to create a new file, but only if it does not already exist. If the file already exists, a FileExistsError is raised.\n",
    "\n",
    "\"b\" (binary mode): This mode is used to read or write binary data, such as images or other non-text files.\n",
    "\n",
    "\"t\" (text mode): This mode is used to read or write text data, which is the default mode if no mode is specified.\n",
    "\n",
    "\"+\" (read and write mode): This mode is used to allow both reading and writing to a file.\n",
    "\n",
    "When opening a file, the mode argument is a string that contains one or more of the above mode characters. For example, to open a file named \"example.txt\" for reading in text mode, you would use the following code:\n",
    "```"
   ]
  },
  {
   "cell_type": "code",
   "execution_count": 1,
   "id": "4f169139-116e-4e63-a820-4f7f28e9411e",
   "metadata": {},
   "outputs": [],
   "source": [
    "file = open(\"example.txt\", \"r\")"
   ]
  },
  {
   "cell_type": "markdown",
   "id": "34c5907d-3b8a-4d78-85c0-bef0cec3427a",
   "metadata": {},
   "source": [
    "```\n",
    "Once the file has been opened, you can use various methods to read or write data to the file, such as read(), readline(), write(), and writelines(). After you are finished working with the file, it's important to close it using the close() method to free up any system resources that were being used by the file.\n",
    "```"
   ]
  },
  {
   "cell_type": "markdown",
   "id": "b0d1ffdf-3408-4d7b-9c99-41f59f307e09",
   "metadata": {},
   "source": [
    "---"
   ]
  },
  {
   "cell_type": "markdown",
   "id": "2dcd856f-d1ab-4a93-8993-b8579b4ecfd8",
   "metadata": {},
   "source": [
    "```\n",
    "Q2. Why close() function is used? Why is it important to close a file?\n",
    "\n",
    "The close() function is used to close an open file in Python. It's important to close a file after we've finished working with it because it frees up system resources that were being used by the file, such as memory and open file handles.\n",
    "\n",
    "If we don't close a file properly after we're done working with it, it can lead to a number of problems. For example:\n",
    "\n",
    "Memory leaks: When we open a file, the operating system allocates memory to store information about the file, such as its size and location on disk. If we don't close the file properly, this memory may not be released, which can cause memory leaks and potentially slow down our program or even crash it.\n",
    "\n",
    "Data corruption: If we're writing to a file and don't close it properly, some of the data we wrote may not be saved to disk. This can lead to data corruption, which can cause serious problems if we're working with important data.\n",
    "\n",
    "Resource conflicts: If we have multiple programs or processes that are accessing the same file, failing to close the file properly can cause resource conflicts, which can lead to unexpected behavior or errors.\n",
    "\n",
    "To avoid these problems, it's important to always close files properly after we're done working with them. In Python, we can close a file using the close() method, like this:\n",
    "```"
   ]
  },
  {
   "cell_type": "code",
   "execution_count": 2,
   "id": "91b05f51-5efb-4627-8047-d8ebbbefa443",
   "metadata": {},
   "outputs": [],
   "source": [
    "file = open(\"example.txt\", \"r\")\n",
    "# do something with the file\n",
    "file.close()"
   ]
  },
  {
   "cell_type": "markdown",
   "id": "34c411fb-95ef-48ca-9760-bac4a28abef5",
   "metadata": {},
   "source": [
    "```\n",
    "Alternatively, we can use the with statement to automatically close a file after we're done working with it:\n",
    "```"
   ]
  },
  {
   "cell_type": "code",
   "execution_count": 3,
   "id": "9d052eac-cbec-45a3-9b54-2f3bf9261086",
   "metadata": {},
   "outputs": [],
   "source": [
    "with open(\"example.txt\", \"r\") as file:\n",
    "    # do something with the file\n",
    "    # file is automatically closed when the `with` block is exited"
   ]
  },
  {
   "cell_type": "markdown",
   "id": "e7dd1b54-7281-4a58-a4f1-193720ec1dd2",
   "metadata": {},
   "source": [
    "```\n",
    "Using the with statement is generally considered a best practice because it ensures that files are always closed properly, even if an error occurs while we're working with the file.\n",
    "```"
   ]
  },
  {
   "cell_type": "markdown",
   "id": "76276f5c-fe5f-46b7-85d3-212c04d9e636",
   "metadata": {},
   "source": [
    "---"
   ]
  },
  {
   "cell_type": "markdown",
   "id": "036566d3-e4dd-4954-bf06-e9ba18ad9aaf",
   "metadata": {},
   "source": [
    "```\n",
    "Q3. Write a python program to create a text file. Write ‘I want to become a Data Scientist’ in that file. Then close the file. Open this file and read the content of the file.\n",
    "\n",
    "Ans.\n",
    "```"
   ]
  },
  {
   "cell_type": "code",
   "execution_count": 4,
   "id": "c9cc1fda-46e7-451f-8c1d-c6f025063a04",
   "metadata": {},
   "outputs": [
    {
     "data": {
      "text/plain": [
       "33"
      ]
     },
     "execution_count": 4,
     "metadata": {},
     "output_type": "execute_result"
    }
   ],
   "source": [
    "f = open(\"Q3.txt\",'w')\n",
    "f.write (\"I want to become a Data Scientist\")"
   ]
  },
  {
   "cell_type": "code",
   "execution_count": 5,
   "id": "64d2aba6-73d7-4e3e-8f08-28bac6ba5638",
   "metadata": {},
   "outputs": [
    {
     "name": "stdout",
     "output_type": "stream",
     "text": [
      "\n"
     ]
    }
   ],
   "source": [
    "f1 = open(\"Q3.txt\",'r')\n",
    "# f1.read() to just read\n",
    "# I have used print to show the output of read fuction\n",
    "print(f1.read())"
   ]
  },
  {
   "cell_type": "markdown",
   "id": "ce2caabc-3c17-4ca5-9c79-c99f903baa7b",
   "metadata": {},
   "source": [
    "```\n",
    "Alternatively, we can use the with statement to automatically close a file after we're done working with it:\n",
    "```"
   ]
  },
  {
   "cell_type": "code",
   "execution_count": 6,
   "id": "5ba52759-4d19-4c86-bbec-f45c7b29bbca",
   "metadata": {},
   "outputs": [],
   "source": [
    "with open(\"Q3.txt\",'w') as f:\n",
    "    f.write (\"I want to become a Data Scientist\")"
   ]
  },
  {
   "cell_type": "code",
   "execution_count": 7,
   "id": "42306c1c-44a8-4327-8703-3ebd432df183",
   "metadata": {},
   "outputs": [
    {
     "name": "stdout",
     "output_type": "stream",
     "text": [
      "I want to become a Data Scientist\n"
     ]
    }
   ],
   "source": [
    "with open(\"Q3.txt\",'r') as f:\n",
    "    # f1.read() to just read\n",
    "    # I have used print to show the output of read fuction\n",
    "    print(f.read())"
   ]
  },
  {
   "cell_type": "markdown",
   "id": "3b0b1495-963c-4f92-96f0-f2b3b8030c18",
   "metadata": {},
   "source": [
    "---"
   ]
  },
  {
   "cell_type": "markdown",
   "id": "4dc46d51-ea10-42b9-b168-3277c0a36f16",
   "metadata": {},
   "source": [
    "```\n",
    "Q4. Explain the following with python code: read(), readline() and readlines().\n",
    "\n",
    "Ans. In Python, we can read files using different methods such as read(), readline(), and readlines(). These methods allow us to read the content of a file in different ways.\n",
    "\n",
    "Here's a brief explanation of each method along with example code:\n",
    "\n",
    "1. read(): The read() method reads the entire content of a file as a string. It takes an optional argument that specifies the number of characters to read. If no argument is given, it reads the entire file.\n",
    "Example:\n",
    "```"
   ]
  },
  {
   "cell_type": "code",
   "execution_count": 8,
   "id": "77878ba8-1bae-4859-bb83-e76a367e9b16",
   "metadata": {},
   "outputs": [
    {
     "name": "stdout",
     "output_type": "stream",
     "text": [
      "\n"
     ]
    }
   ],
   "source": [
    "with open('example.txt', 'r') as f:\n",
    "    content = f.read()\n",
    "    print(content)"
   ]
  },
  {
   "cell_type": "markdown",
   "id": "00d382b5-feff-4493-923b-bbffc1129bbd",
   "metadata": {},
   "source": [
    "```\n",
    "This code will open a file named 'example.txt' in read mode and read the entire content of the file into a variable named content.\n",
    "\n",
    "2. readline(): The readline() method reads one line of a file at a time. Each time you call this method, it reads the next line of the file. If you call it again, it will read the next line, and so on until it reaches the end of the file.\n",
    "```"
   ]
  },
  {
   "cell_type": "code",
   "execution_count": 9,
   "id": "836d68f9-cbac-49b3-9e01-da5c59997de1",
   "metadata": {},
   "outputs": [],
   "source": [
    "with open('example.txt', 'r') as f:\n",
    "    line = f.readline()\n",
    "    while line:\n",
    "        print(line)\n",
    "        line = f.readline()"
   ]
  },
  {
   "cell_type": "markdown",
   "id": "95066ff6-6a2d-443d-8cd0-e5c04abfc46e",
   "metadata": {},
   "source": [
    "```\n",
    "This code will open a file named 'example.txt' in read mode and read the content of the file line by line using a while loop.\n",
    "\n",
    "3. readlines(): The readlines() method reads the entire content of a file as a list of strings. Each string in the list represents a line of the file. If you specify the optional argument sizehint, it will read up to sizehint bytes from the file.\n",
    "```"
   ]
  },
  {
   "cell_type": "code",
   "execution_count": 10,
   "id": "fe214dbe-aaac-4e5b-b308-57fa4fd44b1b",
   "metadata": {},
   "outputs": [],
   "source": [
    "with open('example.txt', 'r') as f:\n",
    "    lines = f.readlines()\n",
    "    for line in lines:\n",
    "        print(line)"
   ]
  },
  {
   "cell_type": "markdown",
   "id": "155293dd-e762-46a6-9d7e-bec2be7e30e0",
   "metadata": {},
   "source": [
    "```\n",
    "This code will open a file named 'example.txt' in read mode and read the content of the file into a list of strings named lines. It will then print each string in the list using a for loop.\n",
    "```"
   ]
  },
  {
   "cell_type": "markdown",
   "id": "7a10dc29-c728-4398-a078-d89afec45824",
   "metadata": {},
   "source": [
    "---"
   ]
  },
  {
   "cell_type": "markdown",
   "id": "c1156fa9-2e5d-4029-924e-c8585da4af50",
   "metadata": {},
   "source": [
    "```\n",
    "Q5. Explain why with statement is used with open(). What is the advantage of using with statement and open() together?\n",
    "\n",
    "Ans. The with statement is used along with the open() function to ensure that a file is closed after its operations are done. The advantage of using the with statement with the open() function is that it provides a clean and easy-to-use syntax to open and close files automatically, without the need to manually close them.\n",
    "\n",
    "When you use the with statement, Python takes care of closing the file after the block of code inside the with statement completes, even if there is an exception or error during the execution of the block. This is useful because it ensures that the file is properly closed and any resources used by the file are released, preventing potential issues like data loss, corrupted files, or performance problems.\n",
    "\n",
    "Here's an example to illustrate the use of the with statement with the open() function:\n",
    "```"
   ]
  },
  {
   "cell_type": "code",
   "execution_count": 11,
   "id": "f791a386-d3b5-4870-bada-9ff5aa52f2bb",
   "metadata": {},
   "outputs": [
    {
     "name": "stdout",
     "output_type": "stream",
     "text": [
      "\n"
     ]
    }
   ],
   "source": [
    "with open('example.txt', 'r') as f:\n",
    "    # code to read or write to the file\n",
    "    content = f.read()\n",
    "    print(content)\n",
    "# file is automatically closed after the block completes"
   ]
  },
  {
   "cell_type": "markdown",
   "id": "d491e284-f16d-419c-97df-59d2169f3363",
   "metadata": {},
   "source": [
    "```\n",
    "In this example, we use the with statement to open a file named 'example.txt' in read mode, and we read the content of the file into a variable named content. After the block of code inside the with statement completes, Python automatically closes the file, freeing any resources used by the file.\n",
    "\n",
    "Using the with statement with the open() function provides a more readable and efficient way of working with files, as it reduces the chance of introducing bugs related to forgetting to close files, and it ensures that resources are properly managed.\n",
    "```"
   ]
  },
  {
   "cell_type": "markdown",
   "id": "e59ee13d-717f-409c-af57-3bb78e7f4305",
   "metadata": {},
   "source": [
    "---"
   ]
  },
  {
   "cell_type": "markdown",
   "id": "5da20c55-3e5f-4876-9d03-688a8703ee2d",
   "metadata": {},
   "source": [
    "```\n",
    "Q6. Explain the write() and writelines() functions. Give a suitable example.\n",
    "\n",
    "Ans. The write() and writelines() functions are used to write data to a file.\n",
    "\n",
    "1. write(): The write() function is used to write a string or a sequence of characters to a file. It takes a string as an argument and writes it to the file. If the file already exists, the write() function overwrites its content. If the file does not exist, a new file is created.\n",
    "\n",
    "Example:\n",
    "```"
   ]
  },
  {
   "cell_type": "code",
   "execution_count": 12,
   "id": "f5fd2fb7-6a20-4a52-8bd9-e9be71df4e97",
   "metadata": {},
   "outputs": [],
   "source": [
    "with open('example.txt', 'w') as f:\n",
    "    lines = ['Hello, world!\\n', 'This is an example.\\n']\n",
    "    f.writelines(lines)"
   ]
  },
  {
   "cell_type": "markdown",
   "id": "eff12ec8-c704-4bde-b9b3-7c0d727d53ed",
   "metadata": {},
   "source": [
    "```\n",
    "In this example, we use the open() function with mode w to open a file named 'example.txt' in write mode. We then create a list of two strings, and use the writelines() function to write the list of strings to the file.\n",
    "\n",
    "Note that in both examples, we use the with statement with the open() function to ensure that the file is properly closed after the write operations are done. This ensures that any resources used by the file are released, and that the data is properly written to the file.\n",
    "```"
   ]
  },
  {
   "cell_type": "markdown",
   "id": "84ce3ffc-2d3b-41a3-af52-dcb6880d2deb",
   "metadata": {},
   "source": [
    "---"
   ]
  }
 ],
 "metadata": {
  "kernelspec": {
   "display_name": "Python 3 (ipykernel)",
   "language": "python",
   "name": "python3"
  },
  "language_info": {
   "codemirror_mode": {
    "name": "ipython",
    "version": 3
   },
   "file_extension": ".py",
   "mimetype": "text/x-python",
   "name": "python",
   "nbconvert_exporter": "python",
   "pygments_lexer": "ipython3",
   "version": "3.10.8"
  }
 },
 "nbformat": 4,
 "nbformat_minor": 5
}
