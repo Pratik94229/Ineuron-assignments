{
 "cells": [
  {
   "cell_type": "markdown",
   "id": "ff2d04cf-c1ae-4585-981d-6eb6a8bba703",
   "metadata": {
    "tags": []
   },
   "source": [
    "## 5th March Assignment\n",
    "### Bokeh"
   ]
  },
  {
   "cell_type": "markdown",
   "id": "717b8989-4fef-4346-b1a5-dd0839a5ef06",
   "metadata": {},
   "source": [
    "---"
   ]
  },
  {
   "cell_type": "markdown",
   "id": "3becb597-68bc-4760-8078-d5cba151e664",
   "metadata": {},
   "source": [
    "```\n",
    "Q1. How can you create a Bokeh plot using Python code?\n",
    "\n",
    "Ans. To create a Bokeh plot using Python code, you can follow these steps:\n",
    "\n",
    "1. Install the Bokeh library: If you haven't already, install the Bokeh library by running the following command:\n",
    "```\n",
    "```python\n",
    "pip install bokeh\n",
    "```\n",
    "```\n",
    "2. Import the necessary modules: In your Python code, import the necessary modules from Bokeh. Typically, you'll need to import bokeh.plotting and any specific glyph types or tools you want to use. Here's an example:\n",
    "```\n",
    "```python\n",
    "from bokeh.plotting import figure, show\n",
    "from bokeh.io import output_notebook\n",
    "```\n",
    "```\n",
    "The figure module provides a canvas to render the plot, and show is used to display the plot. The output_notebook module is required to display the plot in a Jupyter Notebook.\n",
    "\n",
    "3. Create a figure: Use the figure function to create a new figure object. Specify the width, height, and any other desired properties of the plot. Here's an example:\n",
    "```\n",
    "```python\n",
    "# Create a figure object\n",
    "p = figure(width=500, height=400, title='My Bokeh Plot')\n",
    "```\n",
    "```\n",
    "4. Add glyphs to the figure: Use the various glyph methods available in Bokeh (e.g., p.line(), p.circle(), p.rect(), etc.) to add different visual elements to the figure. Specify the data, coordinates, colors, and other properties as needed. Here's an example of adding a line glyph:\n",
    "```\n",
    "```python\n",
    "# Add a line glyph to the figure\n",
    "p.line([1, 2, 3, 4], [10, 15, 13, 17], line_color='blue')\n",
    "```\n",
    "```\n",
    "5. Display the plot: Use the show function to display the plot. If you're using a Jupyter Notebook, call output_notebook() before show() to render the plot inline. Here's an example:\n",
    "```\n",
    "```python\n",
    "# Render the plot in a Jupyter Notebook\n",
    "output_notebook()\n",
    "\n",
    "# Display the plot\n",
    "show(p)\n",
    "```\n",
    "```\n",
    "If you're running the code in a standalone Python script, calling show(p) will open the plot in a separate window.\n",
    "\n",
    "These steps provide a basic outline of creating a Bokeh plot using Python code. You can customize the plot further by adding axes, legends, tooltips, and other interactive features offered by the Bokeh library. \n",
    "```"
   ]
  },
  {
   "cell_type": "markdown",
   "id": "b0d1ffdf-3408-4d7b-9c99-41f59f307e09",
   "metadata": {},
   "source": [
    "---"
   ]
  },
  {
   "cell_type": "markdown",
   "id": "2dcd856f-d1ab-4a93-8993-b8579b4ecfd8",
   "metadata": {},
   "source": [
    "```\n",
    "Q2. What are glyphs in Bokeh, and how can you add them to a Bokeh plot? Explain with an example.\n",
    "\n",
    "Ans. In Bokeh, glyphs are visual markers that represent data points or patterns in a plot. Glyphs can be used to create various types of visualizations, such as lines, circles, rectangles, bars, and more. Each glyph represents individual data points or groups of data points and can be customized with different attributes like size, color, and transparency.\n",
    "\n",
    "To add glyphs to a Bokeh plot, you typically use the glyph methods available in the bokeh.plotting module. Here's an example that demonstrates adding glyphs to a Bokeh plot:\n",
    "```\n",
    "```python\n",
    "from bokeh.plotting import figure, show\n",
    "from bokeh.io import output_notebook\n",
    "\n",
    "# Create a figure object\n",
    "p = figure(width=500, height=400, title='My Bokeh Plot')\n",
    "\n",
    "# Add a line glyph\n",
    "p.line([1, 2, 3, 4], [10, 15, 13, 17], line_color='blue')\n",
    "\n",
    "# Add circle glyphs\n",
    "p.circle([1, 2, 3, 4], [10, 15, 13, 17], size=8, fill_color='red', line_color='black')\n",
    "\n",
    "# Add rectangle glyphs\n",
    "p.rect([1, 2, 3, 4], [10, 15, 13, 17], width=0.4, height=5, fill_color='green', line_color='black')\n",
    "\n",
    "# Render the plot in a Jupyter Notebook\n",
    "output_notebook()\n",
    "\n",
    "# Display the plot\n",
    "show(p)\n",
    "```\n",
    "```\n",
    "In this example, we first import the necessary modules from Bokeh. We create a figure object with a specified width, height, and title.\n",
    "\n",
    "Next, we add a line glyph to the plot using the p.line() method. We pass in the x-coordinates [1, 2, 3, 4] and y-coordinates [10, 15, 13, 17] of the data points, and specify the line color as 'blue'.\n",
    "\n",
    "Then, we add circle glyphs using the p.circle() method. We pass in the same x and y coordinates, set the circle size to 8, and customize the fill color to 'red' and the line color to 'black'.\n",
    "\n",
    "Finally, we add rectangle glyphs using the p.rect() method. Again, we pass in the x and y coordinates, set the rectangle width and height, and specify the fill color as 'green' and the line color as 'black'.\n",
    "\n",
    "The output_notebook() function is called to render the plot inline in a Jupyter Notebook, and show(p) displays the plot.\n",
    "\n",
    "You can add more glyphs to the plot and further customize their attributes, such as transparency, line thickness, or size, to create complex and visually appealing visualizations using Bokeh glyphs.\n",
    "```"
   ]
  },
  {
   "cell_type": "markdown",
   "id": "76276f5c-fe5f-46b7-85d3-212c04d9e636",
   "metadata": {},
   "source": [
    "---"
   ]
  },
  {
   "cell_type": "markdown",
   "id": "036566d3-e4dd-4954-bf06-e9ba18ad9aaf",
   "metadata": {},
   "source": [
    "```\n",
    "Q3. How can you customize the appearance of a Bokeh plot, including the axes, title, and legend?\n",
    "\n",
    "Ans. In Bokeh, you can customize the appearance of a plot, including the axes, title, and legend, by accessing various attributes of the plot object. Here are some common ways to customize the appearance of a Bokeh plot:\n",
    "\n",
    "1. Axes customization:\n",
    "\n",
    "    -Axis labels: Use the xaxis.axis_label and yaxis.axis_label attributes to set the labels for the x and y axes, respectively.\n",
    "    -Axis range: Use the x_range and y_range attributes to set the range of values displayed on the x and y axes, respectively.\n",
    "    -Tick labels: Use the xaxis.major_label_text_font and yaxis.major_label_text_font attributes to customize the font of the tick labels on the x and y axes, respectively.\n",
    "2. Title customization:\n",
    "\n",
    "    -Plot title: Use the title attribute of the plot object to set the title of the plot.\n",
    "    -Title font: Use the title.text_font attribute to specify the font of the plot title.\n",
    "    -Title alignment: Use the title.align attribute to align the plot title. Possible values are 'left', 'center', and 'right'.\n",
    "3. Legend customization:\n",
    "\n",
    "    -Legend labels: Use the legend.label_text_font attribute to customize the font of the legend labels.\n",
    "    -Legend position: Use the legend.location attribute to specify the position of the legend. Possible values are 'top_left', 'top_center', 'top_right', 'center_right', 'bottom_right', 'bottom_center', 'bottom_left', 'center_left', and 'center'.\n",
    "    -Legend background: Use the legend.background_fill_color attribute to set the background color of the legend.\n",
    "\n",
    "Here's an example that demonstrates some of these customizations:\n",
    "```\n",
    "```python\n",
    "from bokeh.plotting import figure, show\n",
    "from bokeh.io import output_notebook\n",
    "\n",
    "# Create a figure object\n",
    "p = figure(width=500, height=400)\n",
    "\n",
    "# Customize axes\n",
    "p.xaxis.axis_label = 'X-axis Label'\n",
    "p.yaxis.axis_label = 'Y-axis Label'\n",
    "p.xaxis.major_label_text_font = 'Arial'\n",
    "p.yaxis.major_label_text_font = 'Arial'\n",
    "\n",
    "# Customize title\n",
    "p.title.text = 'My Bokeh Plot'\n",
    "p.title.text_font = 'Arial'\n",
    "p.title.align = 'center'\n",
    "\n",
    "# Customize legend\n",
    "p.legend.label_text_font = 'Arial'\n",
    "p.legend.location = 'top_right'\n",
    "p.legend.background_fill_color = 'lightgray'\n",
    "\n",
    "# Render the plot in a Jupyter Notebook\n",
    "output_notebook()\n",
    "\n",
    "# Display the plot\n",
    "show(p)\n",
    "```\n",
    "```\n",
    "In this example, we create a basic plot object and then customize the axes by setting axis labels and the font of the tick labels. We also customize the title by specifying the title text, font, and alignment. Additionally, we customize the legend by setting the font of the labels, the position, and the background color.\n",
    "\n",
    "By accessing and modifying these attributes of the plot object, you can achieve various visual customizations in Bokeh plots to suit your specific needs and design preferences.\n",
    "```"
   ]
  },
  {
   "cell_type": "markdown",
   "id": "3b0b1495-963c-4f92-96f0-f2b3b8030c18",
   "metadata": {},
   "source": [
    "---"
   ]
  },
  {
   "cell_type": "markdown",
   "id": "4dc46d51-ea10-42b9-b168-3277c0a36f16",
   "metadata": {},
   "source": [
    "```\n",
    "Q4. What is a Bokeh server, and how can you use it to create interactive plots that can be updated in real time?\n",
    "\n",
    "Ans. A Bokeh server is a Python server application that allows for the creation of interactive plots and data visualizations that can be updated in real time. It enables the development of dynamic and interactive web-based applications where users can interact with the plots and trigger updates based on their actions.\n",
    "\n",
    "With the Bokeh server, you can create rich interactive visualizations that respond to user inputs, such as selecting data points, adjusting sliders, or changing dropdown menu options. The server facilitates the communication between the client (typically a web browser) and the server-side Python code, enabling the exchange of data and updates in real time.\n",
    "\n",
    "To use the Bokeh server, you typically write a Python script that defines the desired interactive plot or application. This script includes the creation of the plot, the definition of any interactive widgets, and the specification of any callbacks that define how the plot should update based on user interactions.\n",
    "\n",
    "When you run the Bokeh server and load the application in a web browser, the server sets up a WebSocket connection with the client. This connection allows for bidirectional communication, so that when a user interacts with the plot or widgets, the server can receive those events and trigger the corresponding Python callbacks.\n",
    "\n",
    "The callbacks can then perform computations, update the data, or modify the plot properties based on the user's actions. The server sends the updated plot or data back to the client, which in turn updates the visualization displayed in the web browser in real time.\n",
    "\n",
    "Using the Bokeh server, you can create highly interactive and responsive applications that allow users to explore and analyze data in real time. It enables a wide range of possibilities, from simple interactive plots to complex dashboards and applications with multiple linked visualizations and dynamic data updates.\n",
    "\n",
    "To run a Bokeh server application, you typically use the bokeh serve command in the terminal, specifying the Python script that defines the application. The server will start running, and you can access the application in a web browser by visiting the specified URL.\n",
    "\n",
    "In summary, the Bokeh server is a powerful tool that enables the creation of interactive plots and applications with real-time updates. It allows for bidirectional communication between the client and server, enabling user interactions to trigger Python callbacks that update the visualization and data displayed in the web browser.\n",
    "```"
   ]
  },
  {
   "cell_type": "markdown",
   "id": "7a10dc29-c728-4398-a078-d89afec45824",
   "metadata": {},
   "source": [
    "---"
   ]
  },
  {
   "cell_type": "markdown",
   "id": "c1156fa9-2e5d-4029-924e-c8585da4af50",
   "metadata": {},
   "source": [
    "```\n",
    "Q5. How can you embed a Bokeh plot into a web page or dashboard using Flask or Django?\n",
    "\n",
    "Ans. To embed a Bokeh plot into a web page or dashboard using Flask or Django, we can follow these general steps:\n",
    "\n",
    "Prepare our Bokeh plot: Create a Bokeh plot using the Bokeh library and customize it according to our needs. This involves creating a figure object, adding glyphs, configuring axes, titles, and other visual properties.\n",
    "\n",
    "Export the Bokeh plot: Bokeh provides a function called bokeh.embed.components that generates the necessary HTML and JavaScript code to embed a Bokeh plot. This function takes the plot object as an argument and returns the required components.\n",
    "\n",
    "Set up our Flask or Django application: Create a Flask or Django application where we want to embed the Bokeh plot. This involves setting up the necessary routes, views, templates, and static files.\n",
    "\n",
    "Create a template: In our Flask or Django template, we add the necessary placeholders where we want to insert the Bokeh plot. This typically involves adding <div> tags with unique IDs to specify the location of the plot.\n",
    "\n",
    "Pass the Bokeh plot components to the template: In our Flask or Django view function, we call bokeh.embed.components with our Bokeh plot object to generate the necessary HTML and JavaScript components. We pass these components to the template context.\n",
    "\n",
    "Render the template: In our Flask or Django view function, we render the template with the plot components passed as context variables. The template engine will replace the placeholders in the template with the actual Bokeh plot HTML and JavaScript code.\n",
    "\n",
    "Run the Flask or Django application: Start our Flask or Django application server and access the specified URL in a web browser. The web page or dashboard will be displayed, with the Bokeh plot embedded in the designated location.\n",
    "\n",
    "Note that the specific implementation details may vary depending on our chosen framework (Flask or Django) and the structure of our application. We may need to configure routing, handle static files, and ensure the necessary dependencies are installed.\n",
    "\n",
    "By following these steps, we can successfully embed a Bokeh plot into a web page or dashboard using Flask or Django, allowing us to display and interact with the plot within the context of our application.\n",
    "```"
   ]
  },
  {
   "cell_type": "markdown",
   "id": "e59ee13d-717f-409c-af57-3bb78e7f4305",
   "metadata": {},
   "source": [
    "---"
   ]
  }
 ],
 "metadata": {
  "kernelspec": {
   "display_name": "Python 3 (ipykernel)",
   "language": "python",
   "name": "python3"
  },
  "language_info": {
   "codemirror_mode": {
    "name": "ipython",
    "version": 3
   },
   "file_extension": ".py",
   "mimetype": "text/x-python",
   "name": "python",
   "nbconvert_exporter": "python",
   "pygments_lexer": "ipython3",
   "version": "3.10.8"
  }
 },
 "nbformat": 4,
 "nbformat_minor": 5
}
