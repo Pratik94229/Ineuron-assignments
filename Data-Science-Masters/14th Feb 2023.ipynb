{
 "cells": [
  {
   "cell_type": "markdown",
   "id": "ff2d04cf-c1ae-4585-981d-6eb6a8bba703",
   "metadata": {},
   "source": [
    "## 14th Feb Assignment"
   ]
  },
  {
   "cell_type": "markdown",
   "id": "3becb597-68bc-4760-8078-d5cba151e664",
   "metadata": {},
   "source": [
    "```\n",
    "Q1. What is multithreading in python? Why is it used? Name the module used to handle threads in python.\n",
    "\n",
    "Ans. Multithreading in Python is a technique used to perform multiple tasks concurrently within a single program. It allows a program to have multiple threads of execution running in parallel, each thread handling a different task or set of tasks.\n",
    "\n",
    "Multithreading is used to improve the performance and responsiveness of a program, particularly in situations where a program may need to perform multiple tasks simultaneously, such as in network programming or in programs with user interfaces.\n",
    "\n",
    "The module used to handle threads in Python is called \"threading\". It provides a simple and efficient way to create and manage threads within a Python program. The \"threading\" module includes a number of useful classes and functions for creating and controlling threads, as well as synchronization primitives such as locks, events, and semaphores, which are used to ensure that multiple threads do not access shared resources at the same time.\n",
    "```"
   ]
  },
  {
   "cell_type": "markdown",
   "id": "b0d1ffdf-3408-4d7b-9c99-41f59f307e09",
   "metadata": {},
   "source": [
    "---"
   ]
  },
  {
   "cell_type": "markdown",
   "id": "2dcd856f-d1ab-4a93-8993-b8579b4ecfd8",
   "metadata": {},
   "source": [
    "```\n",
    "Q2. Why threading module used? Write the use of the following functions \n",
    "    1. activeCount() \n",
    "    2. currentThread() \n",
    "    3. enumerate()\n",
    "    \n",
    "Ans. The threading module in Python is used to implement multithreading in a program. It provides a way to create and manage threads, which can run concurrently, allowing for improved performance and responsiveness of the program.\n",
    "\n",
    "Here are the uses of the following functions in the threading module:\n",
    "\n",
    "1. activeCount(): This function returns the number of currently active thread objects in the program. This can be useful for monitoring the progress of the program and ensuring that all threads are executing as expected.\n",
    "\n",
    "2. currentThread(): This function returns a reference to the current thread object, which can be used to obtain information about the current thread, such as its name or ID.\n",
    "\n",
    "3. enumerate(): This function returns a list of all thread objects that are currently active in the program. This can be useful for iterating over all threads in the program and performing operations on each one, such as terminating or joining them. The function also allows for filtering of the thread objects by specifying a group of threads to return, such as only those that are daemon threads or only those that have a certain name.\n",
    "```"
   ]
  },
  {
   "cell_type": "markdown",
   "id": "76276f5c-fe5f-46b7-85d3-212c04d9e636",
   "metadata": {},
   "source": [
    "---"
   ]
  },
  {
   "cell_type": "markdown",
   "id": "036566d3-e4dd-4954-bf06-e9ba18ad9aaf",
   "metadata": {},
   "source": [
    "```\n",
    "Q3. Explain the following functions\n",
    "    1. run()\n",
    "    2. start() \n",
    "    3. join() \n",
    "    4. isAlive()\n",
    "    \n",
    "Ans.\n",
    "1. run(): This function is called when a thread is started using the start() method. It is the entry point for the new thread and defines the behavior of the thread. The run() method should be overridden by a subclass of the Thread class to define the specific task that the thread should perform.\n",
    "\n",
    "2. start(): This function is used to start a new thread of execution. When called, it creates a new thread object and calls the run() method on that object. The new thread runs independently of the main thread, allowing the program to perform multiple tasks simultaneously. It is important to note that the start() method does not immediately start the new thread; instead, it schedules the thread to start at the next available opportunity.\n",
    "\n",
    "3. join(): This function is used to wait for a thread to complete its execution. When called on a thread object, it blocks the calling thread until the specified thread has finished executing. This is useful for coordinating the execution of multiple threads, ensuring that one thread does not complete its task before another thread has finished its work.\n",
    "\n",
    "4. isAlive(): This function is used to check if a thread is currently executing. When called on a thread object, it returns True if the thread is still running and False if the thread has completed its execution. This can be useful for monitoring the status of a thread and determining if it has completed its task. It is important to note that the isAlive() function is not a reliable way to determine if a thread has finished executing, as there may be a delay between when the thread finishes and when the function returns False.\n",
    "```"
   ]
  },
  {
   "cell_type": "markdown",
   "id": "3b0b1495-963c-4f92-96f0-f2b3b8030c18",
   "metadata": {},
   "source": [
    "---"
   ]
  },
  {
   "cell_type": "markdown",
   "id": "4dc46d51-ea10-42b9-b168-3277c0a36f16",
   "metadata": {},
   "source": [
    "```\n",
    "Q4. Write a python program to create two threads. Thread one must print the list of squares and thread two must print the list of cubes.\n",
    "\n",
    "Ans. \n",
    "```"
   ]
  },
  {
   "cell_type": "code",
   "execution_count": 1,
   "id": "de61bfaf-0617-4bbd-a57f-079edb26d081",
   "metadata": {},
   "outputs": [
    {
     "name": "stdout",
     "output_type": "stream",
     "text": [
      "Square of 0 0\n",
      "Square of 1 1\n",
      "Square of 2 4\n",
      "Square of 3 9\n",
      "Square of 4 16\n",
      "Square of 5 25\n",
      "Square of 6 36\n",
      "Square of 7 49\n",
      "Square of 8 64\n",
      "Square of 9 81\n",
      "Square of 10 100\n",
      "Cube of 0 0\n",
      "Cube of 1 1\n",
      "Cube of 2 8\n",
      "Cube of 3 27\n",
      "Cube of 4 64\n",
      "Cube of 5 125\n",
      "Cube of 6 216\n",
      "Cube of 7 343\n",
      "Cube of 8 512\n",
      "Cube of 9 729\n",
      "Cube of 10 1000\n"
     ]
    }
   ],
   "source": [
    "import threading\n",
    "\n",
    "def power(x):\n",
    "    for a in range(11):\n",
    "        if x ==2 :\n",
    "            print (\"Square of {}\".format(a), a**x)\n",
    "        elif x==3 :\n",
    "            print (\"Cube of {}\".format(a), a**x)\n",
    "        else :\n",
    "            print (\"%d raised to power %d is\" %d(a,x), a**x)\n",
    "\n",
    "thread = [threading.Thread(target = power, args = (i,)) for i in range (2,4)]\n",
    "\n",
    "for t in thread:\n",
    "    t.start()"
   ]
  },
  {
   "cell_type": "code",
   "execution_count": 2,
   "id": "bec4e1a0-3e4e-4142-89d7-f443e9041fec",
   "metadata": {},
   "outputs": [
    {
     "name": "stdout",
     "output_type": "stream",
     "text": [
      "1 squared is 1\n",
      "2 squared is 4\n",
      "3 squared is 9\n",
      "4 squared is 16\n",
      "5 squared is 25\n",
      "6 squared is 36\n",
      "7 squared is 49\n",
      "8 squared is 64\n",
      "9 squared is 81\n",
      "10 squared is 100\n",
      "1 cubed is 1\n",
      "2 cubed is 8\n",
      "3 cubed is 27\n",
      "4 cubed is 64\n",
      "5 cubed is 125\n",
      "6 cubed is 216\n",
      "7 cubed is 343\n",
      "8 cubed is 512\n",
      "9 cubed is 729\n",
      "10 cubed is 1000\n"
     ]
    }
   ],
   "source": [
    "# Alternatively \n",
    "import threading\n",
    "\n",
    "def print_squares():\n",
    "    for i in range(1, 11):\n",
    "        print(f\"{i} squared is {i ** 2}\")\n",
    "\n",
    "def print_cubes():\n",
    "    for i in range(1, 11):\n",
    "        print(f\"{i} cubed is {i ** 3}\")\n",
    "\n",
    "# Create two threads\n",
    "t1 = threading.Thread(target=print_squares)\n",
    "t2 = threading.Thread(target=print_cubes)\n",
    "\n",
    "# Start the threads\n",
    "t1.start()\n",
    "t2.start()\n",
    "\n",
    "# Wait for the threads to finish\n",
    "t1.join()\n",
    "t2.join()\n"
   ]
  },
  {
   "cell_type": "markdown",
   "id": "7a10dc29-c728-4398-a078-d89afec45824",
   "metadata": {},
   "source": [
    "---"
   ]
  },
  {
   "cell_type": "markdown",
   "id": "c1156fa9-2e5d-4029-924e-c8585da4af50",
   "metadata": {},
   "source": [
    "```\n",
    "Q5. State advantages and disadvantages of multithreading.\n",
    "\n",
    "Ans. Multithreading is a technique in computer programming where multiple threads are used to execute multiple parts of a program simultaneously. Here are some advantages and disadvantages of using multithreading:\n",
    "\n",
    "- Advantages:\n",
    "\n",
    "1. Improved performance: Multithreading allows different parts of a program to run in parallel, potentially improving the overall performance of the program by utilizing available resources more efficiently.\n",
    "2. Responsiveness: Multithreading can improve the responsiveness of an application by allowing it to perform multiple tasks at the same time, such as processing user input while performing background operations.\n",
    "3. Resource sharing: Multithreading allows multiple threads to share resources, such as memory and CPU time, which can be more efficient than creating separate processes for each task.\n",
    "4. Simplified programming: Multithreading can make it easier to write complex programs by breaking them into smaller, more manageable parts that can be executed concurrently.\n",
    "\n",
    "- Disadvantages:\n",
    "\n",
    "1. Complexity: Multithreading can add complexity to a program, especially when dealing with shared resources, synchronization, and communication between threads. This can make the program more difficult to write and debug.\n",
    "2. Overhead: Multithreading introduces some overhead in terms of memory and CPU usage, as well as the time required to create and manage threads.\n",
    "3. Synchronization issues: Multithreading can introduce synchronization issues when multiple threads are accessing shared resources simultaneously, leading to race conditions and other concurrency-related bugs.\n",
    "4. Debugging: Debugging a multithreaded program can be more difficult than debugging a single-threaded program, as the interactions between threads can be complex and hard to predict.\n",
    "\n",
    "Overall, multithreading can be a powerful tool for improving the performance and responsiveness of a program, but it also comes with some challenges and potential downsides. Careful design and implementation are necessary to ensure that the benefits of multithreading outweigh the costs.\n",
    "```"
   ]
  },
  {
   "cell_type": "markdown",
   "id": "e59ee13d-717f-409c-af57-3bb78e7f4305",
   "metadata": {},
   "source": [
    "---"
   ]
  },
  {
   "cell_type": "markdown",
   "id": "5da20c55-3e5f-4876-9d03-688a8703ee2d",
   "metadata": {},
   "source": [
    "```\n",
    "Q6. Explain deadlocks and race conditions. \n",
    "\n",
    "Ans. Deadlocks and race conditions are two common problems that can occur in multithreaded programs.\n",
    "\n",
    "A deadlock occurs when two or more threads are waiting for each other to release resources that they need in order to proceed. In a deadlock, each thread is stuck waiting for a resource that is being held by another thread, creating a circular dependency that cannot be resolved. Deadlocks can cause a program to hang or become unresponsive, and can be difficult to detect and fix.\n",
    "\n",
    "A race condition occurs when two or more threads access a shared resource or data structure concurrently, and the result of the program depends on the order in which the threads execute. If the threads are not synchronized properly, the program may produce incorrect results or crash. Race conditions can be difficult to detect and reproduce, as they depend on the timing and interleaving of the threads.\n",
    "\n",
    "To avoid deadlocks, it is important to carefully manage shared resources and ensure that threads do not hold onto resources for too long. One common technique for avoiding deadlocks is to use a lock hierarchy, where resources are acquired in a specific order to prevent circular dependencies. Additionally, using timeouts on locks can help prevent deadlocks by ensuring that threads do not wait indefinitely for a resource to become available.\n",
    "\n",
    "To avoid race conditions, it is important to properly synchronize access to shared resources. This can be done using locks or other synchronization primitives, such as semaphores or monitors. In addition, using atomic operations or thread-safe data structures can help reduce the risk of race conditions by ensuring that shared data is accessed in a consistent and predictable way.\n",
    "\n",
    "Overall, avoiding deadlocks and race conditions requires careful design and implementation of multithreaded programs, as well as testing and debugging to ensure that the program is correct and robust.\n",
    "```"
   ]
  },
  {
   "cell_type": "markdown",
   "id": "84ce3ffc-2d3b-41a3-af52-dcb6880d2deb",
   "metadata": {},
   "source": [
    "---"
   ]
  }
 ],
 "metadata": {
  "kernelspec": {
   "display_name": "Python 3 (ipykernel)",
   "language": "python",
   "name": "python3"
  },
  "language_info": {
   "codemirror_mode": {
    "name": "ipython",
    "version": 3
   },
   "file_extension": ".py",
   "mimetype": "text/x-python",
   "name": "python",
   "nbconvert_exporter": "python",
   "pygments_lexer": "ipython3",
   "version": "3.10.8"
  }
 },
 "nbformat": 4,
 "nbformat_minor": 5
}
