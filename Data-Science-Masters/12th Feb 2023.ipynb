{
 "cells": [
  {
   "cell_type": "markdown",
   "id": "ff2d04cf-c1ae-4585-981d-6eb6a8bba703",
   "metadata": {},
   "source": [
    "## 12th Feb Assignment"
   ]
  },
  {
   "cell_type": "markdown",
   "id": "3becb597-68bc-4760-8078-d5cba151e664",
   "metadata": {},
   "source": [
    "```\n",
    "Q1. What is an Exception in python? Write the difference between Exceptions and Syntax errors.\n",
    "\n",
    "Ans.  An exception is an event that occurs during the execution of a program that disrupts the normal flow of the program's instructions. When an exception is encountered, Python raises an object that represents the type of error that occurred, along with a message that describes the nature of the error.\n",
    "\n",
    "Exceptions can occur due to a variety of reasons, such as invalid input, insufficient memory, or division by zero. Python provides built-in exception classes for common types of errors, such as ValueError, TypeError, and ZeroDivisionError, and also allows developers to define their own custom exceptions.\n",
    "\n",
    "On the other hand, syntax errors occur when the code violates the syntax rules of the Python language. These errors are detected by the Python interpreter during the parsing stage, before the program is actually executed. Syntax errors typically result from missing or incorrect keywords, operators, or punctuation, and are easy to fix once identified.\n",
    "\n",
    "The key difference between exceptions and syntax errors is that syntax errors are detected by the Python interpreter before the program is executed, while exceptions occur during program execution. Syntax errors can be fixed by correcting the syntax error in the code, while exceptions are often caused by runtime errors and require additional handling to prevent the program from crashing.\n",
    "```"
   ]
  },
  {
   "cell_type": "markdown",
   "id": "b0d1ffdf-3408-4d7b-9c99-41f59f307e09",
   "metadata": {},
   "source": [
    "---"
   ]
  },
  {
   "cell_type": "markdown",
   "id": "2dcd856f-d1ab-4a93-8993-b8579b4ecfd8",
   "metadata": {},
   "source": [
    "```\n",
    "Q2. What happens when an exception is not handled? Explain with an example.\n",
    " \n",
    "Ans. When an exception is not handled, it will cause the program to terminate and display an error message that includes the type of exception, the location in the code where the exception occurred, and the traceback, which is a list of function calls that were active at the time the exception occurred.\n",
    "\n",
    "For example, consider the following code that attempts to open a file and read its contents:\n",
    "```"
   ]
  },
  {
   "cell_type": "code",
   "execution_count": 1,
   "id": "b0cb054b-bdc9-4001-84c0-4444ab5bcdd5",
   "metadata": {},
   "outputs": [
    {
     "name": "stdout",
     "output_type": "stream",
     "text": [
      "Error: file not found\n"
     ]
    }
   ],
   "source": [
    "try:\n",
    "    with open('file.txt', 'r') as f:\n",
    "        print(f.read())\n",
    "except FileNotFoundError:\n",
    "    print(\"Error: file not found\")"
   ]
  },
  {
   "cell_type": "markdown",
   "id": "1c2d5639-4ba3-463e-94d1-7620c8007c48",
   "metadata": {},
   "source": [
    "```\n",
    "In this code, the open() function is wrapped in a try-except block that catches the FileNotFoundError exception if the file does not exist. If the exception is not caught, the program will terminate.\n",
    "To prevent this kind of error from occurring, it is important to handle exceptions in a way that allows the program to recover from the error and continue executing. This can involve logging the error, displaying an informative message to the user, or taking corrective action to address the underlying issue that caused the exception.\n",
    "```"
   ]
  },
  {
   "cell_type": "markdown",
   "id": "76276f5c-fe5f-46b7-85d3-212c04d9e636",
   "metadata": {},
   "source": [
    "---"
   ]
  },
  {
   "cell_type": "markdown",
   "id": "036566d3-e4dd-4954-bf06-e9ba18ad9aaf",
   "metadata": {},
   "source": [
    "```\n",
    "Q3. Which Python statements are used to catch and handle exceptions? Explain with an example.\n",
    " \n",
    "Ans. Python provides two statements to catch and handle exceptions: try and except. These statements allow developers to write code that can detect and recover from errors that occur during program execution.\n",
    "\n",
    "The try statement is used to enclose a block of code that may raise an exception. If an exception is raised within the try block, control is transferred to the nearest except block that matches the type of exception. The except block can then handle the exception by performing error recovery, logging the error, or raising a different exception.\n",
    "\n",
    "Here's an example that demonstrates the use of try and except statements to handle an exception:\n",
    "```"
   ]
  },
  {
   "cell_type": "code",
   "execution_count": 2,
   "id": "8dfe1694-3700-47d3-b796-a3056081b5d1",
   "metadata": {},
   "outputs": [
    {
     "name": "stdin",
     "output_type": "stream",
     "text": [
      "Enter a number:  0\n"
     ]
    },
    {
     "name": "stdout",
     "output_type": "stream",
     "text": [
      "Error: Division by zero\n"
     ]
    }
   ],
   "source": [
    "try:\n",
    "    x = int(input(\"Enter a number: \"))\n",
    "    y = 100 / x\n",
    "    print(\"Result:\", y)\n",
    "except ValueError:\n",
    "    print(\"Error: Invalid input\")\n",
    "except ZeroDivisionError:\n",
    "    print(\"Error: Division by zero\")"
   ]
  },
  {
   "cell_type": "markdown",
   "id": "d6c87875-afb7-4afb-853e-961c375874b8",
   "metadata": {},
   "source": [
    "```\n",
    "In this code, the try block contains three statements: the first statement prompts the user to enter a number, and the next two statements perform a division operation and print the result. If the user enters a non-numeric value or a zero, the division operation will raise an exception.\n",
    "\n",
    "The except block contains two handlers that match the possible exceptions that can be raised: ValueError and ZeroDivisionError. If the user enters an invalid input, such as a string or a floating-point number, the ValueError handler will execute and print an error message. If the user enters a zero, the ZeroDivisionError handler will execute and print a different error message.\n",
    "\n",
    "By using try and except statements, this code can handle potential errors in a controlled way, allowing the program to recover and continue executing even if an exception is raised.\n",
    "```"
   ]
  },
  {
   "cell_type": "markdown",
   "id": "3b0b1495-963c-4f92-96f0-f2b3b8030c18",
   "metadata": {},
   "source": [
    "---"
   ]
  },
  {
   "cell_type": "markdown",
   "id": "4dc46d51-ea10-42b9-b168-3277c0a36f16",
   "metadata": {},
   "source": [
    "```\n",
    "Q4. Explain with an example: \n",
    "    a. try and else\n",
    "    b. finally\n",
    "    c. raise\n",
    "\n",
    "Ans. a. try and else:\n",
    "The else block can be used in conjunction with the try statement to specify a block of code that should be executed only if no exception is raised within the try block. Here's an example:\n",
    "```"
   ]
  },
  {
   "cell_type": "code",
   "execution_count": 3,
   "id": "64c3c3da-5316-4d1d-9832-445ef2b75857",
   "metadata": {},
   "outputs": [
    {
     "name": "stdin",
     "output_type": "stream",
     "text": [
      "Enter a number:  abc\n"
     ]
    },
    {
     "name": "stdout",
     "output_type": "stream",
     "text": [
      "Error: Invalid input\n"
     ]
    }
   ],
   "source": [
    "try:\n",
    "    x = int(input(\"Enter a number: \"))\n",
    "except ValueError:\n",
    "    print(\"Error: Invalid input\")\n",
    "else:\n",
    "    y = 100 / x\n",
    "    print(\"Result:\", y)"
   ]
  },
  {
   "cell_type": "markdown",
   "id": "8673012a-214e-4478-a5de-7bc136d3c99f",
   "metadata": {},
   "source": [
    "```\n",
    "In this code, the try block contains only the statement that prompts the user to enter a number. If the user enters an invalid input, such as a string or a floating-point number, the ValueError handler in the except block will execute and print an error message. If the user enters a valid integer, the else block will execute, perform a division operation, and print the result.\n",
    "```"
   ]
  },
  {
   "cell_type": "markdown",
   "id": "1731c975-d7ad-46ce-806f-f2f280deeb5c",
   "metadata": {},
   "source": [
    "```\n",
    "b. finally:\n",
    "The finally block can be used to specify a block of code that should be executed regardless of whether an exception is raised or not. This is useful for tasks such as closing resources, releasing locks, or logging information. Here's an example:\n",
    "```"
   ]
  },
  {
   "cell_type": "code",
   "execution_count": 14,
   "id": "b3e1f31e-c18d-45a4-a46d-81eb39e4f692",
   "metadata": {},
   "outputs": [
    {
     "name": "stdout",
     "output_type": "stream",
     "text": [
      "Error: File not found\n"
     ]
    }
   ],
   "source": [
    "try:\n",
    "    f = open(\"file.txt\", \"r\")\n",
    "    print(f.read())\n",
    "except FileNotFoundError:\n",
    "    print(\"Error: File not found\")\n",
    "finally:\n",
    "    f.close()"
   ]
  },
  {
   "cell_type": "markdown",
   "id": "efccc1e8-d885-48bc-8ed6-9bd0a8d46ac5",
   "metadata": {},
   "source": [
    "```\n",
    "In this code, the try block attempts to open a file and read its contents. If the file is not found, the FileNotFoundError handler in the except block will execute and print an error message. Regardless of whether an exception is raised or not, the finally block will execute and close the file to release the resource.\n",
    "```"
   ]
  },
  {
   "cell_type": "markdown",
   "id": "6cb1d5ef-d01b-408d-816c-a769313fb9a5",
   "metadata": {},
   "source": [
    "```\n",
    "c. raise:\n",
    "The raise statement can be used to raise an exception programmatically. This is useful when the program detects an error condition that cannot be handled automatically, or when the program needs to signal an error to a calling function or module. Here's an example:\n",
    "```"
   ]
  },
  {
   "cell_type": "code",
   "execution_count": 11,
   "id": "27ed0ced-255a-4868-8763-e16ec53818ac",
   "metadata": {},
   "outputs": [
    {
     "name": "stdout",
     "output_type": "stream",
     "text": [
      "Error: Division by zero\n"
     ]
    }
   ],
   "source": [
    "def divide(x, y):\n",
    "    if y == 0:\n",
    "        raise ValueError(\"Error: Division by zero\")\n",
    "    else:\n",
    "        return x / y\n",
    "\n",
    "try:\n",
    "    result = divide(100, 0)\n",
    "except ValueError as e:\n",
    "    print(e)"
   ]
  },
  {
   "cell_type": "markdown",
   "id": "37ed7b43-c259-49e8-91ec-98c630e8f70c",
   "metadata": {},
   "source": [
    "```\n",
    "In this code, the divide() function checks whether the second argument is zero before performing a division operation. If the second argument is zero, the function raises a ValueError exception with a custom error message. The try block calls the divide() function with arguments that will cause an exception to be raised, and the except block catches the exception and prints the error message.\n",
    "```"
   ]
  },
  {
   "cell_type": "markdown",
   "id": "7a10dc29-c728-4398-a078-d89afec45824",
   "metadata": {},
   "source": [
    "---"
   ]
  },
  {
   "cell_type": "markdown",
   "id": "c1156fa9-2e5d-4029-924e-c8585da4af50",
   "metadata": {},
   "source": [
    "```\n",
    "Q5. What are Custom Exceptions in python? Why do we need Custom Exceptions? Explain with an example.\n",
    " \n",
    "Ans. Custom exceptions, also known as user-defined exceptions, are exceptions that are created by the developer to handle specific error conditions that may arise in their program. Python allows developers to create their own custom exceptions by subclassing the built-in Exception class or any of its subclasses.\n",
    "\n",
    "Custom exceptions are useful when a program needs to handle specific types of errors that are not covered by the built-in exceptions. They can also make the code more readable and maintainable by providing meaningful error messages and separating the error handling logic from the main code.\n",
    "\n",
    "Here's an example of creating and using a custom exception:\n",
    "```"
   ]
  },
  {
   "cell_type": "code",
   "execution_count": 12,
   "id": "14765a63-c168-4236-9130-bf507927a19e",
   "metadata": {},
   "outputs": [
    {
     "name": "stdout",
     "output_type": "stream",
     "text": [
      "pear is out of stock\n"
     ]
    }
   ],
   "source": [
    "class OutOfStockError(Exception):\n",
    "    pass\n",
    "\n",
    "def buy_item(item_name, inventory):\n",
    "    if item_name not in inventory:\n",
    "        raise OutOfStockError(f\"{item_name} is out of stock\")\n",
    "    else:\n",
    "        print(f\"Bought {item_name}\")\n",
    "\n",
    "inventory = {\"apple\": 5, \"banana\": 2}\n",
    "\n",
    "try:\n",
    "    buy_item(\"pear\", inventory)\n",
    "except OutOfStockError as e:\n",
    "    print(e)"
   ]
  },
  {
   "cell_type": "markdown",
   "id": "7f9f835e-ce1b-4182-a76a-00c6925116b3",
   "metadata": {},
   "source": [
    "```\n",
    "In this code, we define a custom exception OutOfStockError by subclassing the Exception class. We then define a function buy_item() that checks whether an item is in the inventory and raises the OutOfStockError exception if it is not. The try block calls the buy_item() function with an item that is not in the inventory, causing the OutOfStockError exception to be raised. The except block catches the exception and prints the error message.\n",
    "\n",
    "By using a custom exception, we can provide a meaningful error message that indicates the specific error condition (i.e., the item is out of stock) and separate the error handling logic from the main code. This can make the code more readable and maintainable, especially in larger projects.\n",
    "```"
   ]
  },
  {
   "cell_type": "markdown",
   "id": "e59ee13d-717f-409c-af57-3bb78e7f4305",
   "metadata": {},
   "source": [
    "---"
   ]
  },
  {
   "cell_type": "markdown",
   "id": "5da20c55-3e5f-4876-9d03-688a8703ee2d",
   "metadata": {},
   "source": [
    "```\n",
    "Q6. Create a custom exception class. Use this class to handle an exception. \n",
    "\n",
    "Ans. Here's an example of creating a custom exception class and using it to handle an exception:\n",
    "```"
   ]
  },
  {
   "cell_type": "code",
   "execution_count": 13,
   "id": "f7bb3478-a784-498b-84f6-1212be5e8f96",
   "metadata": {},
   "outputs": [
    {
     "name": "stdout",
     "output_type": "stream",
     "text": [
      "Error: Cannot take the square root of a negative number\n"
     ]
    }
   ],
   "source": [
    "class NegativeNumberError(Exception):\n",
    "    pass\n",
    "\n",
    "def square_root(n):\n",
    "    if n < 0:\n",
    "        raise NegativeNumberError(\"Error: Cannot take the square root of a negative number\")\n",
    "    else:\n",
    "        return n ** 0.5\n",
    "    \n",
    "try:\n",
    "    result = square_root(-4)\n",
    "except NegativeNumberError as e:\n",
    "    print(e)"
   ]
  },
  {
   "cell_type": "markdown",
   "id": "a646ec12-bc4d-4cce-9bcf-6987e0fe53d2",
   "metadata": {},
   "source": [
    "```\n",
    "In this code, we define a custom exception class NegativeNumberError by subclassing the Exception class. We then define a function square_root() that checks whether the argument is negative and raises the NegativeNumberError exception if it is. The try block calls the square_root() function with a negative number, causing the NegativeNumberError exception to be raised. The except block catches the exception and prints the error message.\n",
    "\n",
    "By creating a custom exception class, we can handle specific error conditions that are not covered by the built-in exceptions and provide meaningful error messages that can help with debugging and maintenance.\n",
    "```"
   ]
  },
  {
   "cell_type": "markdown",
   "id": "84ce3ffc-2d3b-41a3-af52-dcb6880d2deb",
   "metadata": {},
   "source": [
    "---"
   ]
  }
 ],
 "metadata": {
  "kernelspec": {
   "display_name": "Python 3 (ipykernel)",
   "language": "python",
   "name": "python3"
  },
  "language_info": {
   "codemirror_mode": {
    "name": "ipython",
    "version": 3
   },
   "file_extension": ".py",
   "mimetype": "text/x-python",
   "name": "python",
   "nbconvert_exporter": "python",
   "pygments_lexer": "ipython3",
   "version": "3.10.8"
  }
 },
 "nbformat": 4,
 "nbformat_minor": 5
}
