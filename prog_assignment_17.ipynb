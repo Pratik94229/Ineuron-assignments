{
 "cells": [
  {
   "cell_type": "code",
   "execution_count": null,
   "id": "928356cc",
   "metadata": {},
   "outputs": [],
   "source": [
    "'''Question1. Create a function that takes three arguments a, b, c and returns the sum of the\n",
    "numbers that are evenly divided by c from the range a, b inclusive.\n",
    "Examples\n",
    "evenly_divisible(1, 10, 20) ➞ 0\n",
    "# No number between 1 and 10 can be evenly divided by 20.\n",
    "evenly_divisible(1, 10, 2) ➞ 30\n",
    "# 2 + 4 + 6 + 8 + 10 = 30\n",
    "evenly_divisible(1, 10, 3) ➞ 18\n",
    "# 3 + 6 + 9 = 18'''"
   ]
  },
  {
   "cell_type": "code",
   "execution_count": 5,
   "id": "87954bc0",
   "metadata": {},
   "outputs": [
    {
     "name": "stdout",
     "output_type": "stream",
     "text": [
      "30\n",
      "18\n",
      "0\n"
     ]
    }
   ],
   "source": [
    "def evenly_divisible(a,b,c):\n",
    "    sum=0\n",
    "    for i in range(a,b+1):\n",
    "        if(i%c==0):\n",
    "            sum=sum+i\n",
    "    return sum       \n",
    "print(evenly_divisible(1,10,2)) \n",
    "print(evenly_divisible(1,10,3))  \n",
    "print(evenly_divisible(1,10,20)) "
   ]
  },
  {
   "cell_type": "code",
   "execution_count": 6,
   "id": "127fd089",
   "metadata": {},
   "outputs": [
    {
     "name": "stdout",
     "output_type": "stream",
     "text": [
      "Enter the expression13>44>33>1\n",
      "Evaluated expression is False\n"
     ]
    }
   ],
   "source": [
    "\"\"\"Question2. Create a function that returns True if a given inequality expression is correct and\n",
    "False otherwise.\n",
    "Examples\n",
    "correct_signs(\"3 < 7 <11\") ➞ True\n",
    "correct_signs(\"13>44>33>1\") ➞ False\n",
    "correct_signs('1<2<6<9>3') ➞ True\"\"\"\n",
    "\n",
    "def check():\n",
    "    inp_string = input('Enter the expression')\n",
    "    result = eval(inp_string)\n",
    "    print(\"Evaluated expression is\",result)\n",
    "\n",
    "check()"
   ]
  },
  {
   "cell_type": "code",
   "execution_count": null,
   "id": "f6a24416",
   "metadata": {},
   "outputs": [],
   "source": [
    "'''Question3. Create a function that replaces all the vowels in a string with a specified character.\n",
    "Examples\n",
    "replace_vowels(\"the aardvark\", \"#\") ➞ \"th# ##rdv#rk\"\n",
    "replace_vowels('minnie mouse', '?') ➞ \"m?nn?? m??s?\"\n",
    "replace_vowels('shakespeare','*') ➞\"sh*k*sp**r*\" '''"
   ]
  },
  {
   "cell_type": "code",
   "execution_count": 12,
   "id": "231f3e30",
   "metadata": {},
   "outputs": [
    {
     "name": "stdout",
     "output_type": "stream",
     "text": [
      " th# ##rdv#rk\n",
      " m?nn?? m??s?\n",
      " sh*k*sp**r*\n"
     ]
    }
   ],
   "source": [
    "def replace_vowels(x,y):\n",
    "    vow=['a','e','i','o','u']\n",
    "    rep_str=' '\n",
    "    for i in x:\n",
    "        if (i in vow):\n",
    "            rep_str=rep_str + y\n",
    "\n",
    "        else:\n",
    "            rep_str=rep_str+ i\n",
    "    return rep_str\n",
    "\n",
    "print(replace_vowels('the aardvark',\"#\"))\n",
    "print(replace_vowels('minnie mouse', '?'))\n",
    "print(replace_vowels('shakespeare','*'))"
   ]
  },
  {
   "cell_type": "code",
   "execution_count": null,
   "id": "a6d5984f",
   "metadata": {},
   "outputs": [],
   "source": [
    "\"\"\"Write a function that calculates the factorial of a number recursively.\n",
    "Examples\n",
    "factorial(5) ➞ 120\n",
    "factorial(3) ➞ 6\n",
    "factorial(1) ➞ 1\n",
    "factorial(0) ➞ 1\"\"\""
   ]
  },
  {
   "cell_type": "code",
   "execution_count": 15,
   "id": "c52c7136",
   "metadata": {},
   "outputs": [
    {
     "name": "stdout",
     "output_type": "stream",
     "text": [
      "120\n",
      "1\n"
     ]
    }
   ],
   "source": [
    "def factorial(n):\n",
    "    if n==0:\n",
    "        return 1\n",
    "    else:\n",
    "        return n*factorial(n-1)\n",
    "    \n",
    "print(factorial(5))\n",
    "print(factorial(0))\n",
    "    "
   ]
  },
  {
   "cell_type": "code",
   "execution_count": null,
   "id": "13beeb7a",
   "metadata": {},
   "outputs": [],
   "source": [
    "'''Question 5\n",
    "Hamming distance is the number of characters that differ between two strings.\n",
    "To illustrate:\n",
    "String1: &quot;abcbba&quot;\n",
    "String2: &quot;abcbda&quot;\n",
    "Hamming Distance: 1 - &quot;b&quot; vs. &quot;d&quot; is the only difference.\n",
    "Create a function that computes the hamming distance between two strings.\n",
    "Examples\n",
    "hamming_distance(abcde,bcdef) ➞ 5\n",
    "hamming_distance(abcde,abcde) ➞ 0\n",
    "hamming_distance(strong,strung) ➞ 1'''"
   ]
  },
  {
   "cell_type": "code",
   "execution_count": 23,
   "id": "50c8bab7",
   "metadata": {},
   "outputs": [
    {
     "name": "stdout",
     "output_type": "stream",
     "text": [
      "5\n",
      "0\n",
      "1\n"
     ]
    }
   ],
   "source": [
    "def hamming_distance(str1,str2):\n",
    "    count=0\n",
    "    for i in range(len(str1)):\n",
    "        if(str1[i]!=str2[i]):\n",
    "            count=count+1\n",
    "    return count        \n",
    "        \n",
    "\n",
    "print(hamming_distance('abcde','bcdef'))\n",
    "print(hamming_distance('abcde','abcde'))\n",
    "print(hamming_distance('strong','strung'))\n",
    "            \n",
    "            "
   ]
  },
  {
   "cell_type": "code",
   "execution_count": null,
   "id": "88fdc19e",
   "metadata": {},
   "outputs": [],
   "source": []
  }
 ],
 "metadata": {
  "kernelspec": {
   "display_name": "Python 3 (ipykernel)",
   "language": "python",
   "name": "python3"
  },
  "language_info": {
   "codemirror_mode": {
    "name": "ipython",
    "version": 3
   },
   "file_extension": ".py",
   "mimetype": "text/x-python",
   "name": "python",
   "nbconvert_exporter": "python",
   "pygments_lexer": "ipython3",
   "version": "3.9.12"
  }
 },
 "nbformat": 4,
 "nbformat_minor": 5
}
