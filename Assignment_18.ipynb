{
 "cells": [
  {
   "cell_type": "markdown",
   "id": "bf6b1d64",
   "metadata": {},
   "source": [
    "### 1.Create a function that takes a list of non-negative integers and strings and return a new list without the strings ?\n",
    "    Examples:\n",
    "        filter_list([1, 2, \"a\", \"b\"]) ➞ [1, 2]\n",
    "        filter_list([1, \"a\", \"b\", 0, 15]) ➞ [1, 0, 15]\n",
    "        filter_list([1, 2, \"aasf\", \"1\", \"123\", 123]) ➞ [1, 2, 123]"
   ]
  },
  {
   "cell_type": "code",
   "execution_count": 1,
   "id": "7852c59f",
   "metadata": {},
   "outputs": [],
   "source": [
    "def filter_list(l):\n",
    "    filtered_List=[]\n",
    "    for i in l:\n",
    "        if type(i)==int and i>=0:\n",
    "            filtered_List.append(i)\n",
    "    return filtered_List"
   ]
  },
  {
   "cell_type": "code",
   "execution_count": 2,
   "id": "7adf0798",
   "metadata": {},
   "outputs": [
    {
     "data": {
      "text/plain": [
       "[1, 2]"
      ]
     },
     "execution_count": 2,
     "metadata": {},
     "output_type": "execute_result"
    }
   ],
   "source": [
    "filter_list([1, 2, \"a\", \"b\"])"
   ]
  },
  {
   "cell_type": "code",
   "execution_count": 4,
   "id": "5b73e455",
   "metadata": {},
   "outputs": [
    {
     "data": {
      "text/plain": [
       "[1, 0, 15]"
      ]
     },
     "execution_count": 4,
     "metadata": {},
     "output_type": "execute_result"
    }
   ],
   "source": [
    "filter_list([1, \"a\", \"b\", 0, 15])"
   ]
  },
  {
   "cell_type": "code",
   "execution_count": 5,
   "id": "18c70faa",
   "metadata": {},
   "outputs": [
    {
     "data": {
      "text/plain": [
       "[1, 2, 123]"
      ]
     },
     "execution_count": 5,
     "metadata": {},
     "output_type": "execute_result"
    }
   ],
   "source": [
    "filter_list([1, 2, \"aasf\", \"1\", \"123\", 123])"
   ]
  },
  {
   "cell_type": "markdown",
   "id": "4c5eb8d5",
   "metadata": {},
   "source": [
    "### 2. The \"Reverser\" takes a string as input and returns that string in reverse order, with the opposite case ?\n",
    "    Examples:\n",
    "    reverse(\"Hello World\") ➞ \"DLROw OLLEh\"\n",
    "    reverse(\"ReVeRsE\") ➞ \"eSrEvEr\"\n",
    "    reverse(\"Radar\") ➞ \"RADAr\""
   ]
  },
  {
   "cell_type": "code",
   "execution_count": 3,
   "id": "10d72d53",
   "metadata": {},
   "outputs": [],
   "source": [
    "def reverse(string):\n",
    "    rev = string[::-1]\n",
    "    op = rev.swapcase()\n",
    "    return op\n",
    "    "
   ]
  },
  {
   "cell_type": "code",
   "execution_count": 4,
   "id": "c65ae1e2",
   "metadata": {},
   "outputs": [
    {
     "data": {
      "text/plain": [
       "'DLROw OLLEh'"
      ]
     },
     "execution_count": 4,
     "metadata": {},
     "output_type": "execute_result"
    }
   ],
   "source": [
    "reverse(\"Hello World\") "
   ]
  },
  {
   "cell_type": "code",
   "execution_count": 5,
   "id": "f20401af",
   "metadata": {},
   "outputs": [
    {
     "data": {
      "text/plain": [
       "'eSrEvEr'"
      ]
     },
     "execution_count": 5,
     "metadata": {},
     "output_type": "execute_result"
    }
   ],
   "source": [
    "reverse(\"ReVeRsE\") "
   ]
  },
  {
   "cell_type": "code",
   "execution_count": 6,
   "id": "865869bf",
   "metadata": {},
   "outputs": [
    {
     "data": {
      "text/plain": [
       "'RADAr'"
      ]
     },
     "execution_count": 6,
     "metadata": {},
     "output_type": "execute_result"
    }
   ],
   "source": [
    "reverse(\"Radar\") "
   ]
  },
  {
   "cell_type": "markdown",
   "id": "0c8f75d8",
   "metadata": {},
   "source": [
    "### 3.You can assign variables from lists like this:\n",
    "    lst = [1, 2, 3, 4, 5, 6]\n",
    "    first = lst[0]\n",
    "    middle = lst[1:-1]\n",
    "    last = lst[-1]\n",
    "    print(first) ➞ outputs 1\n",
    "    print(middle) ➞ outputs [2, 3, 4, 5]\n",
    "    print(last) ➞ outputs 6\n",
    "    With Python 3, you can assign variables from lists in a much more succinct way. Create variables first, middle and last from\n",
    "    the given list using destructuring assignment\n",
    "    (check the Resources tab for some examples), where:\n",
    "    first ➞ 1\n",
    "    middle ➞ [2, 3, 4, 5]\n",
    "    last ➞ 6\n",
    "       Your task is to unpack the list writeyourcodehere into three variables, being first, middle, and last, with middle \n",
    "       beingeverything in between the first and last element. Then print all three variables.\n",
    "       "
   ]
  },
  {
   "cell_type": "code",
   "execution_count": 7,
   "id": "7bb939d7",
   "metadata": {},
   "outputs": [],
   "source": [
    "lst = [1, 2, 3, 4, 5, 6]\n",
    "first ,*middle,last = lst"
   ]
  },
  {
   "cell_type": "code",
   "execution_count": 8,
   "id": "b268c65f",
   "metadata": {},
   "outputs": [
    {
     "data": {
      "text/plain": [
       "1"
      ]
     },
     "execution_count": 8,
     "metadata": {},
     "output_type": "execute_result"
    }
   ],
   "source": [
    "first"
   ]
  },
  {
   "cell_type": "code",
   "execution_count": 9,
   "id": "9a5bc4d5",
   "metadata": {},
   "outputs": [
    {
     "data": {
      "text/plain": [
       "[2, 3, 4, 5]"
      ]
     },
     "execution_count": 9,
     "metadata": {},
     "output_type": "execute_result"
    }
   ],
   "source": [
    "middle"
   ]
  },
  {
   "cell_type": "code",
   "execution_count": 10,
   "id": "1cdf8451",
   "metadata": {},
   "outputs": [
    {
     "data": {
      "text/plain": [
       "6"
      ]
     },
     "execution_count": 10,
     "metadata": {},
     "output_type": "execute_result"
    }
   ],
   "source": [
    "last"
   ]
  },
  {
   "cell_type": "markdown",
   "id": "f849cf8e",
   "metadata": {},
   "source": [
    "### 4.Write a function that calculates the factorial of a number recursively.\n",
    "    Examples:\n",
    "    factorial(5) ➞ 120\n",
    "    factorial(3) ➞ 6\n",
    "    factorial(1) ➞ 1\n",
    "    factorial(0) ➞ 1"
   ]
  },
  {
   "cell_type": "code",
   "execution_count": 11,
   "id": "2891f121",
   "metadata": {},
   "outputs": [],
   "source": [
    "def factorial(n):\n",
    "    if n==0:\n",
    "        return 1\n",
    "    return n*factorial(n-1)"
   ]
  },
  {
   "cell_type": "code",
   "execution_count": 12,
   "id": "2bef0795",
   "metadata": {},
   "outputs": [
    {
     "data": {
      "text/plain": [
       "120"
      ]
     },
     "execution_count": 12,
     "metadata": {},
     "output_type": "execute_result"
    }
   ],
   "source": [
    "factorial(5)"
   ]
  },
  {
   "cell_type": "code",
   "execution_count": 13,
   "id": "bb522cc2",
   "metadata": {},
   "outputs": [
    {
     "data": {
      "text/plain": [
       "6"
      ]
     },
     "execution_count": 13,
     "metadata": {},
     "output_type": "execute_result"
    }
   ],
   "source": [
    "factorial(3)"
   ]
  },
  {
   "cell_type": "code",
   "execution_count": 14,
   "id": "c9d53759",
   "metadata": {},
   "outputs": [
    {
     "data": {
      "text/plain": [
       "1"
      ]
     },
     "execution_count": 14,
     "metadata": {},
     "output_type": "execute_result"
    }
   ],
   "source": [
    "factorial(1)"
   ]
  },
  {
   "cell_type": "code",
   "execution_count": 15,
   "id": "47d93d80",
   "metadata": {},
   "outputs": [
    {
     "data": {
      "text/plain": [
       "1"
      ]
     },
     "execution_count": 15,
     "metadata": {},
     "output_type": "execute_result"
    }
   ],
   "source": [
    "factorial(0)"
   ]
  },
  {
   "cell_type": "markdown",
   "id": "a6a76115",
   "metadata": {},
   "source": [
    "### 5.Write a function that moves all elements of one type to the end of the list.\n",
    "    Examples:\n",
    "    move_to_end([1, 3, 2, 4, 4, 1], 1) ➞ [3, 2, 4, 4, 1, 1]\n",
    "#### Move all the 1s to the end of the array.\n",
    "    move_to_end([7, 8, 9, 1, 2, 3, 4], 9) ➞ [7, 8, 1, 2, 3, 4, 9]\n",
    "    move_to_end([\"a\", \"a\", \"a\", \"b\"], \"a\") ➞ [\"b\", \"a\", \"a\", \"a\"]"
   ]
  },
  {
   "cell_type": "code",
   "execution_count": 16,
   "id": "58c3892b",
   "metadata": {},
   "outputs": [],
   "source": [
    "def move_to_end(l,n):\n",
    "    for i in l:\n",
    "        l.append(n)\n",
    "        l.remove(n)\n",
    "    return l"
   ]
  },
  {
   "cell_type": "code",
   "execution_count": 17,
   "id": "2dee5f23",
   "metadata": {},
   "outputs": [
    {
     "data": {
      "text/plain": [
       "[3, 2, 4, 4, 1, 1]"
      ]
     },
     "execution_count": 17,
     "metadata": {},
     "output_type": "execute_result"
    }
   ],
   "source": [
    "move_to_end([1, 3, 2, 4, 4, 1], 1)"
   ]
  },
  {
   "cell_type": "code",
   "execution_count": 18,
   "id": "76b11bfa",
   "metadata": {},
   "outputs": [
    {
     "data": {
      "text/plain": [
       "[7, 8, 1, 2, 3, 4, 9]"
      ]
     },
     "execution_count": 18,
     "metadata": {},
     "output_type": "execute_result"
    }
   ],
   "source": [
    "move_to_end([7, 8, 9, 1, 2, 3, 4], 9)"
   ]
  },
  {
   "cell_type": "code",
   "execution_count": 19,
   "id": "076e8348",
   "metadata": {},
   "outputs": [
    {
     "data": {
      "text/plain": [
       "['b', 'a', 'a', 'a']"
      ]
     },
     "execution_count": 19,
     "metadata": {},
     "output_type": "execute_result"
    }
   ],
   "source": [
    "move_to_end([\"a\", \"a\", \"a\", \"b\"], \"a\") "
   ]
  },
  {
   "cell_type": "code",
   "execution_count": null,
   "id": "7bde52b4",
   "metadata": {},
   "outputs": [],
   "source": []
  }
 ],
 "metadata": {
  "kernelspec": {
   "display_name": "Python 3",
   "language": "python",
   "name": "python3"
  },
  "language_info": {
   "codemirror_mode": {
    "name": "ipython",
    "version": 3
   },
   "file_extension": ".py",
   "mimetype": "text/x-python",
   "name": "python",
   "nbconvert_exporter": "python",
   "pygments_lexer": "ipython3",
   "version": "3.8.8"
  }
 },
 "nbformat": 4,
 "nbformat_minor": 5
}
