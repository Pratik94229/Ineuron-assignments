{
 "cells": [
  {
   "cell_type": "code",
   "execution_count": 1,
   "id": "fe435de0",
   "metadata": {},
   "outputs": [
    {
     "name": "stdout",
     "output_type": "stream",
     "text": [
      "Array A= [1 0 9 7 5]\n",
      "Array B= [4 2 9 7 9]\n",
      "Sum of array= [ 5  2 18 14 14]\n"
     ]
    }
   ],
   "source": [
    "#1. Write a Python Program to find sum of array?\n",
    "import numpy as np\n",
    "a=np.random.randint(10,size=(5))\n",
    "b=np.random.randint(10,size=(5))\n",
    "c=np.add(a,b)\n",
    "print(\"Array A=\",a)\n",
    "print(\"Array B=\",b)\n",
    "print(\"Sum of array=\",c)"
   ]
  },
  {
   "cell_type": "code",
   "execution_count": 2,
   "id": "6db018a3",
   "metadata": {},
   "outputs": [
    {
     "name": "stdout",
     "output_type": "stream",
     "text": [
      "Largest element in array is 756\n"
     ]
    }
   ],
   "source": [
    "#2. Write a Python Program to find largest element in an array?\n",
    "import numpy as np\n",
    "a=np.array([23,234,67,76,567,54,756])\n",
    "print(\"Largest element in array is\",a.max())"
   ]
  },
  {
   "cell_type": "code",
   "execution_count": 3,
   "id": "08363d5e",
   "metadata": {},
   "outputs": [
    {
     "name": "stdout",
     "output_type": "stream",
     "text": [
      "Array A= [1 3 5 1 6]\n",
      "Array rotation= [[1]\n",
      " [3]\n",
      " [5]\n",
      " [1]\n",
      " [6]]\n"
     ]
    }
   ],
   "source": [
    "#3. Write a Python Program for array rotation?\n",
    "import numpy as np\n",
    "a=np.random.randint(10,size=(5))\n",
    "b=a.reshape(5,1)\n",
    "print(\"Array A=\",a)\n",
    "print(\"Array rotation=\",b)\n",
    "\n"
   ]
  },
  {
   "cell_type": "code",
   "execution_count": 4,
   "id": "53a4a143",
   "metadata": {},
   "outputs": [
    {
     "name": "stdout",
     "output_type": "stream",
     "text": [
      "Enter position between 0-7 from where array is to be splited 3\n",
      "Original array: [3, 234, 67, 76, 567, 54, 756, 82]\n",
      "Array after split: [76, 567, 54, 756, 82, 3, 234, 67]\n"
     ]
    }
   ],
   "source": [
    "#4. Write a Python Program to Split the array and add the first part to the end?\n",
    "arr = [3, 234, 67, 76, 567, 54, 756, 82]\n",
    "n = int(input(\"Enter position between 0-7 from where array is to be splited \"))\n",
    "def split(arr, n):\n",
    "    print(\"Original array:\",arr)\n",
    "    for i in range(0,n):\n",
    "        arr.append(arr[0])\n",
    "        arr.remove(arr[0])    \n",
    "    print(\"Array after split:\",arr)\n",
    "split(arr, n) \n",
    "        \n",
    "    "
   ]
  },
  {
   "cell_type": "code",
   "execution_count": 5,
   "id": "90cf35fb",
   "metadata": {},
   "outputs": [
    {
     "name": "stdout",
     "output_type": "stream",
     "text": [
      "Is arr1 monotonic?: True\n",
      "Is arr2 monotonic?: True\n",
      "Is arr3 monotonic?: False\n"
     ]
    }
   ],
   "source": [
    "#5. Write a Python Program to check if given array is Monotonic?\n",
    "arr1=[1, 2, 2, 3]\n",
    "arr2=[6, 5, 4, 3]\n",
    "arr3=[1, 5, 2]\n",
    "\n",
    "# Function to check array is monotonic\n",
    "def check(arr):\n",
    "    N = len(arr)\n",
    "    inc = True\n",
    "    dec = True\n",
    "     \n",
    "    # Loop to check if array is increasing\n",
    "    for i in range(0, N-1):\n",
    "        if arr[i] > arr[i+1]:\n",
    "            inc = False\n",
    " \n",
    "    # Loop to check if array is decreasing\n",
    "    for i in range(0, N-1):\n",
    "        if arr[i] < arr[i+1]:\n",
    "            dec = False\n",
    "    return inc or dec\n",
    "print(\"Is arr1 monotonic?:\",check(arr1))\n",
    "print(\"Is arr2 monotonic?:\",check(arr2))\n",
    "print(\"Is arr3 monotonic?:\",check(arr3))\n",
    "\n",
    " "
   ]
  },
  {
   "cell_type": "code",
   "execution_count": null,
   "id": "7909a637",
   "metadata": {},
   "outputs": [],
   "source": []
  }
 ],
 "metadata": {
  "kernelspec": {
   "display_name": "Python 3 (ipykernel)",
   "language": "python",
   "name": "python3"
  },
  "language_info": {
   "codemirror_mode": {
    "name": "ipython",
    "version": 3
   },
   "file_extension": ".py",
   "mimetype": "text/x-python",
   "name": "python",
   "nbconvert_exporter": "python",
   "pygments_lexer": "ipython3",
   "version": "3.9.12"
  }
 },
 "nbformat": 4,
 "nbformat_minor": 5
}
