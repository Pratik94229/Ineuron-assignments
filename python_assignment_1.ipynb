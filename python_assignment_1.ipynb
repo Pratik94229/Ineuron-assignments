{
 "cells": [
  {
   "cell_type": "code",
   "execution_count": 14,
   "id": "e397a24d",
   "metadata": {},
   "outputs": [
    {
     "name": "stdout",
     "output_type": "stream",
     "text": [
      "Hello Python\n"
     ]
    }
   ],
   "source": [
    "#1. Write a Python program to print \"Hello Python\"? \n",
    "print(\"Hello Python\")"
   ]
  },
  {
   "cell_type": "code",
   "execution_count": 6,
   "id": "9036f985",
   "metadata": {},
   "outputs": [
    {
     "name": "stdout",
     "output_type": "stream",
     "text": [
      "select operation which you want to perform \n",
      " 1=addition \n",
      " 2=division2\n",
      "Enter 1st number3\n",
      "Enter 2nd number4\n",
      "Division of number is  0.75\n"
     ]
    }
   ],
   "source": [
    "#2. Write a Python program to do arithmetical operations addition and division.? \n",
    "o=input('select operation which you want to perform \\n 1=addition \\n 2=division')\n",
    "a=float(input(\"Enter 1st number\"))\n",
    "b=float(input(\"Enter 2nd number\"))\n",
    "if o=='1':\n",
    "    print(\"sum of number is :\",a+b)\n",
    "elif o=='2':\n",
    "    print(\"Division of number is \",a/b)\n",
    "else:\n",
    "    print(\"Please select only from option provided. \")\n",
    "\n"
   ]
  },
  {
   "cell_type": "code",
   "execution_count": 7,
   "id": "cab0c859",
   "metadata": {},
   "outputs": [
    {
     "name": "stdout",
     "output_type": "stream",
     "text": [
      "Enter base of triangle4\n",
      "Enter height of traingle10\n",
      "Area of triangle is : 20.0\n"
     ]
    }
   ],
   "source": [
    "#3. Write a Python program to find the area of a triangle?\n",
    "B=float(input('Enter base of triangle'))\n",
    "H=float(input(\"Enter height of traingle\"))\n",
    "print(\"Area of triangle is :\",0.5*B*H)\n"
   ]
  },
  {
   "cell_type": "code",
   "execution_count": 10,
   "id": "26905e05",
   "metadata": {},
   "outputs": [
    {
     "name": "stdout",
     "output_type": "stream",
     "text": [
      "10 5\n"
     ]
    }
   ],
   "source": [
    "#4. Write a Python program to swap two variables? \n",
    "a=5\n",
    "b=10\n",
    "def swap(a,b):\n",
    "    c=a\n",
    "    a=b\n",
    "    b=c\n",
    "    print(a,b)\n",
    "swap(a,b)\n"
   ]
  },
  {
   "cell_type": "code",
   "execution_count": 13,
   "id": "efd6bbd8",
   "metadata": {},
   "outputs": [
    {
     "name": "stdout",
     "output_type": "stream",
     "text": [
      "13\n"
     ]
    }
   ],
   "source": [
    "#5. Write a Python program to generate a random number\n",
    "import random\n",
    "list1 = [i for i in range(100)]\n",
    "print(random.choice(list1))"
   ]
  },
  {
   "cell_type": "code",
   "execution_count": null,
   "id": "c77ad61e",
   "metadata": {},
   "outputs": [],
   "source": []
  }
 ],
 "metadata": {
  "kernelspec": {
   "display_name": "Python 3 (ipykernel)",
   "language": "python",
   "name": "python3"
  },
  "language_info": {
   "codemirror_mode": {
    "name": "ipython",
    "version": 3
   },
   "file_extension": ".py",
   "mimetype": "text/x-python",
   "name": "python",
   "nbconvert_exporter": "python",
   "pygments_lexer": "ipython3",
   "version": "3.9.12"
  }
 },
 "nbformat": 4,
 "nbformat_minor": 5
}
