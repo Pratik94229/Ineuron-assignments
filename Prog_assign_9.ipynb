{
 "cells": [
  {
   "cell_type": "code",
   "execution_count": 1,
   "id": "83717235",
   "metadata": {},
   "outputs": [
    {
     "name": "stdout",
     "output_type": "stream",
     "text": [
      "Enter a Number: 12\n",
      "12 is a Not Disarium Number\n",
      "Enter a Number: 175\n",
      "175 is a Disarium Number\n"
     ]
    }
   ],
   "source": [
    "#1.Write a Python Program to check if the given number is a Disarium Number ?\n",
    "def check_Dis_Num():\n",
    "    num = input('Enter a Number: ')\n",
    "    sum = 0\n",
    "    x=1\n",
    "    for i in num:\n",
    "        sum = sum + int(i)**(x)\n",
    "        x=x+1\n",
    "    if sum == int(num):\n",
    "        print(num,\"is a Disarium Number\")\n",
    "    else:\n",
    "        print(num,\"is a Not Disarium Number\") \n",
    "\n",
    "check_Dis_Num()\n",
    "check_Dis_Num()\n"
   ]
  },
  {
   "cell_type": "code",
   "execution_count": 2,
   "id": "b6e3b69d",
   "metadata": {},
   "outputs": [
    {
     "name": "stdout",
     "output_type": "stream",
     "text": [
      "1\n",
      "2\n",
      "3\n",
      "4\n",
      "5\n",
      "6\n",
      "7\n",
      "8\n",
      "9\n",
      "89\n"
     ]
    }
   ],
   "source": [
    "#2.Write a Python Program to print all Disarium numbers between 1 to 100 ?\n",
    "def check_Dis_Num(num):\n",
    "    sum = 0\n",
    "    x=1\n",
    "    for i in str(num):\n",
    "        sum = sum + int(i)**(x)\n",
    "        x=x+1\n",
    "    if sum == int(num):\n",
    "        return num\n",
    "    else:\n",
    "        return 0\n",
    "    \n",
    "for i in range(101):\n",
    "    if check_Dis_Num(i):\n",
    "        print(i)\n",
    "    \n",
    "    \n",
    "\n",
    "\n",
    "\n"
   ]
  },
  {
   "cell_type": "code",
   "execution_count": 3,
   "id": "fa0e6f87",
   "metadata": {},
   "outputs": [
    {
     "name": "stdout",
     "output_type": "stream",
     "text": [
      "Enter any number65\n",
      "65 : is not a happy number\n"
     ]
    }
   ],
   "source": [
    "#3.Write a Python Program to check if the given number is Happy Number ? \n",
    "def is_Happy_Num(num):  \n",
    "    rem = sum = 0 \n",
    "    while(num > 0): \n",
    "        rem = num%10;  \n",
    "        sum = sum + (rem*rem)\n",
    "        num = num//10;  \n",
    "    return sum  \n",
    "\n",
    "num=int(input(\"Enter any number\"))     \n",
    "result = num \n",
    "while(result != 1 and result != 4):  \n",
    "    result = is_Happy_Num(result)  \n",
    "   \n",
    "#Happy number always ends with 1 and Unhappy number ends in repeating numbers which contain 4 \n",
    "if(result == 1):  \n",
    "    print(num,\": is a happy number\"); \n",
    " \n",
    "elif(result == 4):  \n",
    "    print(num,\": is not a happy number\")  "
   ]
  },
  {
   "cell_type": "code",
   "execution_count": 4,
   "id": "e890c99f",
   "metadata": {},
   "outputs": [
    {
     "name": "stdout",
     "output_type": "stream",
     "text": [
      "7\n",
      "10\n",
      "13\n",
      "19\n",
      "23\n",
      "28\n",
      "31\n",
      "32\n",
      "44\n",
      "49\n",
      "68\n",
      "70\n",
      "79\n",
      "82\n",
      "86\n",
      "91\n",
      "94\n",
      "97\n",
      "100\n"
     ]
    }
   ],
   "source": [
    "#4.Write a Python Program to print all Happy numbers between 1 and 100 ?\n",
    "def is_Happy_Num(num):\n",
    "    rem = sum = 0;\n",
    "\n",
    "    # Calculates the sum of squares of digits\n",
    "    while (num > 0):\n",
    "        rem = num % 10\n",
    "        sum = sum + (rem * rem)\n",
    "        num = num // 10\n",
    "    return sum\n",
    "\n",
    "\n",
    "for i in range(1,101):\n",
    "    result = i\n",
    "    while (result != 1 and result != 4):\n",
    "        result = is_Happy_Num(result)\n",
    "        if (result == 1):\n",
    "            print(i)\n",
    "        elif (result == 4):\n",
    "            pass "
   ]
  },
  {
   "cell_type": "code",
   "execution_count": 5,
   "id": "f4401775",
   "metadata": {},
   "outputs": [
    {
     "name": "stdout",
     "output_type": "stream",
     "text": [
      "Enter number29\n",
      "29 is not a Harshad number\n"
     ]
    }
   ],
   "source": [
    "#5.Write a Python Program to determine whether the given number is a Harshad Number ?\n",
    "def check_Harshad_num(n) :\n",
    "    sum = 0\n",
    "    temp = n\n",
    "    while temp > 0 :\n",
    "        sum = sum + temp % 10\n",
    "        temp = temp // 10\n",
    "    if(n % sum == 0):\n",
    "        return 1\n",
    "    else:\n",
    "        return 0\n",
    "    \n",
    "n=int(input(\"Enter number\"))\n",
    "if(check_Harshad_num(n)):\n",
    "    print(n,\"is Harshad number\")\n",
    "else:\n",
    "    print(n,\"is not a Harshad number\")\n",
    "    \n"
   ]
  },
  {
   "cell_type": "code",
   "execution_count": 6,
   "id": "562464e1",
   "metadata": {},
   "outputs": [
    {
     "name": "stdout",
     "output_type": "stream",
     "text": [
      "1 X 2 = 2\n",
      "2 X 3 = 6\n",
      "3 X 4 = 12\n",
      "4 X 5 = 20\n",
      "5 X 6 = 30\n",
      "6 X 7 = 42\n",
      "7 X 8 = 56\n",
      "8 X 9 = 72\n",
      "9 X 10 = 90\n"
     ]
    }
   ],
   "source": [
    "#6.Write a Python Program to print all pronic numbers between 1 and 100 ?\n",
    "def is_Pronic_Num(num):\n",
    "    for i in range(1,num+1):\n",
    "        if ((i*(i+1)) == num):\n",
    "            print(i,'X',i+1,\"=\",end=' ')\n",
    "            return 1\n",
    "        elif(i==num):\n",
    "            return 0\n",
    "\n",
    "for i in range(1,100):\n",
    "    if (is_Pronic_Num(i)):\n",
    "        print(i)\n",
    "\n",
    "        \n",
    "            \n",
    "      "
   ]
  },
  {
   "cell_type": "code",
   "execution_count": null,
   "id": "33095334",
   "metadata": {},
   "outputs": [],
   "source": []
  }
 ],
 "metadata": {
  "kernelspec": {
   "display_name": "Python 3 (ipykernel)",
   "language": "python",
   "name": "python3"
  },
  "language_info": {
   "codemirror_mode": {
    "name": "ipython",
    "version": 3
   },
   "file_extension": ".py",
   "mimetype": "text/x-python",
   "name": "python",
   "nbconvert_exporter": "python",
   "pygments_lexer": "ipython3",
   "version": "3.9.12"
  }
 },
 "nbformat": 4,
 "nbformat_minor": 5
}
