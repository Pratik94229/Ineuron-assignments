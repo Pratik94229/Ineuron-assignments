{
 "cells": [
  {
   "cell_type": "code",
   "execution_count": null,
   "id": "f0cc919f",
   "metadata": {},
   "outputs": [],
   "source": [
    "'''1. Write a Python Program to Display Fibonacci Sequence Using Recursion? \n",
    "2. Write a Python Program to Find Factorial of Number Using Recursion? \n",
    "3. Write a Python Program to calculate your Body Mass Index? \n",
    "4. Write a Python Program to calculate the natural logarithm of any number? \n",
    "5. Write a Python Program for cube sum of first n natural numbers?'''"
   ]
  },
  {
   "cell_type": "code",
   "execution_count": 1,
   "id": "f498044e",
   "metadata": {},
   "outputs": [
    {
     "name": "stdout",
     "output_type": "stream",
     "text": [
      "enter no. upto which fibonaci seq. is to be calculated10\n",
      "0\n",
      "1\n",
      "1\n",
      "2\n",
      "3\n",
      "5\n",
      "8\n",
      "13\n",
      "21\n",
      "34\n"
     ]
    }
   ],
   "source": [
    "N=int(input(\"enter no. upto which fibonaci seq. is to be calculated\"))\n",
    "def fibonacci(N): \n",
    "    if N==1:\n",
    "        return 0\n",
    "    elif N==2: \n",
    "        return 1\n",
    "    else: \n",
    "        return (fibonacci(N-1)+fibonacci(N-2))\n",
    "for i in range(1,N+1): \n",
    "    print(fibonacci(i))"
   ]
  },
  {
   "cell_type": "code",
   "execution_count": 2,
   "id": "49e1b8be",
   "metadata": {},
   "outputs": [
    {
     "name": "stdout",
     "output_type": "stream",
     "text": [
      "enter no. whose factorial is to be calculated5\n",
      "The factorial of number is 120\n"
     ]
    }
   ],
   "source": [
    "N=int(input(\"enter no. whose factorial is to be calculated\")) \n",
    "def factorial(N):\n",
    "    if N==1:\n",
    "        return 1 \n",
    "    else: \n",
    "        return N*factorial(N-1) \n",
    "    \n",
    "print(\"The factorial of number is\",factorial(N))"
   ]
  },
  {
   "cell_type": "code",
   "execution_count": 3,
   "id": "4fec3f9e",
   "metadata": {},
   "outputs": [
    {
     "name": "stdout",
     "output_type": "stream",
     "text": [
      "Enter height in meter1.8\n",
      "Enter weight in kg75\n",
      "Your BMI is 23.148148148148145\n"
     ]
    }
   ],
   "source": [
    "h=float(input(\"Enter height in meter\"))\n",
    "w=float(input(\"Enter weight in kg\"))\n",
    "bmi=w/h**2\n",
    "print(\"Your BMI is\",bmi)\n"
   ]
  },
  {
   "cell_type": "code",
   "execution_count": 7,
   "id": "cf571612",
   "metadata": {},
   "outputs": [
    {
     "name": "stdout",
     "output_type": "stream",
     "text": [
      "Enter number whose natural logarithm needs to be find out100\n",
      "Log of n is 4.605170185988092\n"
     ]
    }
   ],
   "source": [
    "import math\n",
    "n=float(input(\"Enter number whose natural logarithm needs to be find out\"))\n",
    "nat_ln = math.log(n)\n",
    "print(\"Log of n is\",nat_ln)"
   ]
  },
  {
   "cell_type": "code",
   "execution_count": 4,
   "id": "fe43f1fb",
   "metadata": {},
   "outputs": [
    {
     "name": "stdout",
     "output_type": "stream",
     "text": [
      "Enter number upto which cube is to be calculated4\n",
      "sum of cubes of number is: 100\n"
     ]
    }
   ],
   "source": [
    "n=int(input(\"Enter number upto which cube is to be calculated\"))\n",
    "sum=0\n",
    "for i in range(1,n+1):\n",
    "    sum=sum+i**3\n",
    "\n",
    "print(\"sum of cubes of number is:\",sum)\n"
   ]
  },
  {
   "cell_type": "code",
   "execution_count": null,
   "id": "bb128087",
   "metadata": {},
   "outputs": [],
   "source": []
  }
 ],
 "metadata": {
  "kernelspec": {
   "display_name": "Python 3 (ipykernel)",
   "language": "python",
   "name": "python3"
  },
  "language_info": {
   "codemirror_mode": {
    "name": "ipython",
    "version": 3
   },
   "file_extension": ".py",
   "mimetype": "text/x-python",
   "name": "python",
   "nbconvert_exporter": "python",
   "pygments_lexer": "ipython3",
   "version": "3.9.12"
  }
 },
 "nbformat": 4,
 "nbformat_minor": 5
}
