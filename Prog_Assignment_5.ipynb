{
 "cells": [
  {
   "cell_type": "code",
   "execution_count": 8,
   "id": "829d4410",
   "metadata": {},
   "outputs": [
    {
     "name": "stdout",
     "output_type": "stream",
     "text": [
      "enter 1st no.4\n",
      "enter 2nd no.5\n",
      "lcm of two number is 20\n"
     ]
    }
   ],
   "source": [
    "#1. Write a Python Program to Find LCM?\n",
    "N1 = int(input(\"enter 1st no.\")) \n",
    "N2 = int(input(\"enter 2nd no.\")) \n",
    "lcm=1 \n",
    "for i in range(1,(N1*N2)+1): \n",
    "    if ((lcm % N1)==0 and (lcm% N2)== 0): \n",
    "        print(\"lcm of two number is\",lcm) \n",
    "        break\n",
    "    else: lcm=lcm+1"
   ]
  },
  {
   "cell_type": "code",
   "execution_count": 3,
   "id": "647a170f",
   "metadata": {},
   "outputs": [
    {
     "name": "stdout",
     "output_type": "stream",
     "text": [
      "enter 1st no.4\n",
      "enter 2nd no.5\n",
      "hcf of two number is 1\n"
     ]
    }
   ],
   "source": [
    "#2. Write a Python Program to Find HCF?\n",
    "N1 = int(input(\"enter 1st no.\")) \n",
    "N2 = int(input(\"enter 2nd no.\")) \n",
    "if N1 > N2:\n",
    "    greater_no = N1 \n",
    "    smaller_no = N2\n",
    "else:\n",
    "    greater_no = N2 \n",
    "    smaller_no = N1\n",
    "hcf=2 \n",
    "for i in range(1,greater_no+1): \n",
    "    if ((N1% hcf)==0 and (N2% hcf)== 0):\n",
    "        print(\"hcf of two number is \",hcf) \n",
    "        break\n",
    "    elif i==greater_no:\n",
    "        print(\"hcf of two number is 1\")\n",
    "    else: \n",
    "        hcf=hcf+1\n"
   ]
  },
  {
   "cell_type": "code",
   "execution_count": 9,
   "id": "08cc0d75",
   "metadata": {},
   "outputs": [
    {
     "name": "stdout",
     "output_type": "stream",
     "text": [
      "Enter decimal number which needs to be converted50\n",
      "The decimal value of 50 is:\n",
      "0b110010 in binary.\n",
      "0o62 in octal.\n",
      "0x32 in hexadecimal.\n"
     ]
    }
   ],
   "source": [
    "#3. Write a Python Program to Convert Decimal to Binary, Octal and Hexadecimal?\n",
    "n=int(input(\"Enter decimal number which needs to be converted\"))\n",
    "print(\"The decimal value of\",n, \"is:\")\n",
    "print(bin(n), \"in binary.\")\n",
    "print(oct(n), \"in octal.\")\n",
    "print(hex(n), \"in hexadecimal.\")\n"
   ]
  },
  {
   "cell_type": "code",
   "execution_count": 7,
   "id": "a2eb616a",
   "metadata": {},
   "outputs": [
    {
     "name": "stdout",
     "output_type": "stream",
     "text": [
      "Enter characterA\n",
      "The ASCII value of 'A' is 65\n"
     ]
    }
   ],
   "source": [
    "#4. Write a Python Program To Find ASCII value of a character?\n",
    "char=input(\"Enter character\")\n",
    "print(\"The ASCII value of '\" + char + \"' is\", ord(char))\n"
   ]
  },
  {
   "cell_type": "code",
   "execution_count": null,
   "id": "bbea2656",
   "metadata": {},
   "outputs": [
    {
     "name": "stdout",
     "output_type": "stream",
     "text": [
      "Press 1:for addition of two numbers\n",
      "Press 2:for substraction of two numbers\n",
      "Press 3:for multiplication of two numbers\n",
      " Press 4:for division of two numbers\n",
      " Press 0:for exit1\n",
      "Enter 1st number4\n",
      "Enter 2nd number5\n",
      "sum of number is: 9\n"
     ]
    }
   ],
   "source": [
    "#5. Write a Python Program to Make a Simple Calculator with 4 basic mathematical operations?\n",
    "def sum(a,b): \n",
    "    print(\"sum of number is:\",a+b)\n",
    "def subs(a,b): \n",
    "    print(\"Difference of number is:\", a-b)\n",
    "def multi(a,b): \n",
    "    print(\"Multiplication of number is:\",a*b)\n",
    "def division(a,b): \n",
    "    print(\"Division of number gives:\",a/b)\n",
    "    \n",
    "A=int(input(\"Press 1:for addition of two numbers\\nPress 2:for substraction of two numbers\\nPress 3:for multiplication of two numbers\\n Press 4:for division of two numbers\\n Press 0:for exit\")) \n",
    "while(A):\n",
    "    B=int(input(\"Enter 1st number\"))\n",
    "    C=int(input(\"Enter 2nd number\"))\n",
    "    if A==1 : \n",
    "        sum(B,C)\n",
    "        A=int(input(\"Press 1:for addition of two numbers\\nPress 2:for substraction of two numbers\\nPress 3:for multiplication of two numbers\\n Press 4:for division of two numbers\\n Press 0:for exit\")) \n",
    "    elif A==2 : \n",
    "        subs(B,C) \n",
    "        A=int(input(\"Press 1:for addition of two numbers\\nPress 2:for substraction of two numbers\\nPress 3:for multiplication of two numbers\\n Press 4:for division of two numbers\\n Press 0:for exit\")) \n",
    "    elif A==3 : \n",
    "        multi(B,C) \n",
    "        A=int(input(\"Press 1:for addition of two numbers\\nPress 2:for substraction of two numbers\\nPress 3:for multiplication of two numbers\\n Press 4:for division of two numbers\\n Press 0:for exit\")) \n",
    "    elif A==4 : \n",
    "        division(B,C)\n",
    "        A=int(input(\"Press 1:for addition of two numbers\\nPress 2:for substraction of two numbers\\nPress 3:for multiplication of two numbers\\n Press 4:for division of two numbers\\n Press 0:for exit\")) \n",
    "        "
   ]
  },
  {
   "cell_type": "code",
   "execution_count": null,
   "id": "6bb96e9d",
   "metadata": {},
   "outputs": [],
   "source": []
  },
  {
   "cell_type": "code",
   "execution_count": null,
   "id": "a4c23f82",
   "metadata": {},
   "outputs": [],
   "source": []
  }
 ],
 "metadata": {
  "kernelspec": {
   "display_name": "Python 3 (ipykernel)",
   "language": "python",
   "name": "python3"
  },
  "language_info": {
   "codemirror_mode": {
    "name": "ipython",
    "version": 3
   },
   "file_extension": ".py",
   "mimetype": "text/x-python",
   "name": "python",
   "nbconvert_exporter": "python",
   "pygments_lexer": "ipython3",
   "version": "3.9.12"
  }
 },
 "nbformat": 4,
 "nbformat_minor": 5
}
