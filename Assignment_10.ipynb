{
 "cells": [
  {
   "cell_type": "code",
   "execution_count": 1,
   "id": "6d6f4558",
   "metadata": {},
   "outputs": [
    {
     "name": "stdout",
     "output_type": "stream",
     "text": [
      "15\n"
     ]
    }
   ],
   "source": [
    "#1. Write a Python program to find sum of elements in list?\n",
    "list=[1,2,3,4,5] \n",
    "sum_list = 0 \n",
    "for i in range(len(list)): \n",
    "    sum_list=sum_list+list[i] \n",
    "print(\"Sum of number in list:\"sum(list))"
   ]
  },
  {
   "cell_type": "code",
   "execution_count": 2,
   "id": "01af4166",
   "metadata": {},
   "outputs": [
    {
     "name": "stdout",
     "output_type": "stream",
     "text": [
      "Product of number in list is 120\n"
     ]
    }
   ],
   "source": [
    "#2. Write a Python program to Multiply all numbers in the list?\n",
    "list=[1,2,3,4,5] \n",
    "mul_list = 1 \n",
    "for i in range(len(list)-1): \n",
    "    mul_list=mul_list+mul_list*list[i]\n",
    "print(\"Product of number in list is\",mul_list)"
   ]
  },
  {
   "cell_type": "code",
   "execution_count": 5,
   "id": "c421e08a",
   "metadata": {},
   "outputs": [
    {
     "name": "stdout",
     "output_type": "stream",
     "text": [
      "Smallest element in the list is 2\n"
     ]
    }
   ],
   "source": [
    "#3. Write a Python program to find smallest number in a list?\n",
    "list=[192,5,15,13,17,222,2] \n",
    "smallest= list[0] #assuming smallest as 1st element in the list\n",
    "for i in range(len(list)): \n",
    "    if(smallest>list[i]): #update smallest\n",
    "        smallest=list[i]\n",
    "print(\"Smallest element in the list is\",smallest)"
   ]
  },
  {
   "cell_type": "code",
   "execution_count": 7,
   "id": "84f4f640",
   "metadata": {},
   "outputs": [
    {
     "name": "stdout",
     "output_type": "stream",
     "text": [
      "Largest number in the list is: 9999\n"
     ]
    }
   ],
   "source": [
    "#4. Write a Python program to find largest number in a list?\n",
    "list=[192,5,15,13,17,222,2,9999] \n",
    "largest = list[0] \n",
    "for i in range(len(list)): \n",
    "    if(largest<list[i]): largest=list[i]\n",
    "print(\"Largest number in the list is:\",largest)"
   ]
  },
  {
   "cell_type": "code",
   "execution_count": 9,
   "id": "ee8c0666",
   "metadata": {},
   "outputs": [
    {
     "name": "stdout",
     "output_type": "stream",
     "text": [
      "Second largest element is the list is 5\n"
     ]
    }
   ],
   "source": [
    "#5. Write a Python program to find second largest number in a list?\n",
    "list=[192,5,15,13,17,222,2,9999,24] \n",
    "sorted(list) \n",
    "print(\"Second largest element is the list is\",list[1])"
   ]
  },
  {
   "cell_type": "code",
   "execution_count": 12,
   "id": "21bde0dd",
   "metadata": {},
   "outputs": [
    {
     "name": "stdout",
     "output_type": "stream",
     "text": [
      "enter nth term you need to find out2\n",
      "Nth largest element in the list is 222\n"
     ]
    }
   ],
   "source": [
    "#6. Write a Python program to find N largest elements from a list?\n",
    "list=[192,5,15,13,17,222,2,9999,24] \n",
    "def nth_term(list,n): \n",
    "    sorted_list=sorted(list,reverse=True) \n",
    "    return sorted_list[n-1]\n",
    "n=int(input(\"enter nth term you need to find out\")) \n",
    "print(\"Nth largest element in the list is\",nth_term(list,n))"
   ]
  },
  {
   "cell_type": "code",
   "execution_count": 13,
   "id": "6d163074",
   "metadata": {},
   "outputs": [
    {
     "name": "stdout",
     "output_type": "stream",
     "text": [
      "192\n",
      "222\n",
      "2\n",
      "24\n"
     ]
    }
   ],
   "source": [
    "#7.Write a Python program to print even numbers in a list?\n",
    "list=[192,5,15,13,17,222,2,9999,24] \n",
    "for i in list: \n",
    "    if(i%2==0): \n",
    "        print(i)"
   ]
  },
  {
   "cell_type": "code",
   "execution_count": 14,
   "id": "bf2b005c",
   "metadata": {},
   "outputs": [
    {
     "name": "stdout",
     "output_type": "stream",
     "text": [
      "5\n",
      "15\n",
      "13\n",
      "17\n",
      "9999\n"
     ]
    }
   ],
   "source": [
    "#8.Write a Python program to print odd numbers in a List?\n",
    "list=[192,5,15,13,17,222,2,9999,24] \n",
    "for i in list: \n",
    "    if(i%2!=0): \n",
    "        print(i)"
   ]
  },
  {
   "cell_type": "code",
   "execution_count": 16,
   "id": "3ce52cb5",
   "metadata": {},
   "outputs": [
    {
     "name": "stdout",
     "output_type": "stream",
     "text": [
      "[192, 5, 15, 13, 17, 222, 2, 9999, 24]\n"
     ]
    }
   ],
   "source": [
    "#9. Write a Python program to Remove empty List from List?\n",
    "list=[192,5,15,13,17,222,[],2,9999,24,[]] \n",
    "for i in list:\n",
    "    if(i==[]): \n",
    "        list.remove(i)\n",
    "print(list)"
   ]
  },
  {
   "cell_type": "code",
   "execution_count": 18,
   "id": "c9d44087",
   "metadata": {},
   "outputs": [
    {
     "name": "stdout",
     "output_type": "stream",
     "text": [
      "Copy of list: [192, 5, 15, 13, 17, 222, 2, 9999]\n",
      "Original list: [192, 5, 15, 13, 17, 222, 2, 9999]\n"
     ]
    }
   ],
   "source": [
    "#10. Write a Python program to Cloning or Copying a list?\n",
    "list=[192,5,15,13,17,222,2,9999] \n",
    "list_copy=[]\n",
    "for i in range(len(list)): \n",
    "    list_copy.append(list[i])\n",
    "print(\"Copy of list:\",list_copy)\n",
    "print(\"Original list:\",list)"
   ]
  },
  {
   "cell_type": "code",
   "execution_count": 19,
   "id": "6e5e7ec5",
   "metadata": {},
   "outputs": [
    {
     "name": "stdout",
     "output_type": "stream",
     "text": [
      "No. of element in the list are 8\n"
     ]
    }
   ],
   "source": [
    "#11. Write a Python program to Count occurrences of an element in a list?\n",
    "list=[192,5,15,13,17,222,2,9999] \n",
    "count=0 \n",
    "for i in list:\n",
    "    count=count+1\n",
    "print(\"No. of element in the list are\",count)"
   ]
  },
  {
   "cell_type": "code",
   "execution_count": null,
   "id": "1e4bdb6f",
   "metadata": {},
   "outputs": [],
   "source": []
  }
 ],
 "metadata": {
  "kernelspec": {
   "display_name": "Python 3 (ipykernel)",
   "language": "python",
   "name": "python3"
  },
  "language_info": {
   "codemirror_mode": {
    "name": "ipython",
    "version": 3
   },
   "file_extension": ".py",
   "mimetype": "text/x-python",
   "name": "python",
   "nbconvert_exporter": "python",
   "pygments_lexer": "ipython3",
   "version": "3.9.12"
  }
 },
 "nbformat": 4,
 "nbformat_minor": 5
}
