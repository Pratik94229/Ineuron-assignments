{
 "cells": [
  {
   "cell_type": "code",
   "execution_count": 3,
   "id": "07f86f26",
   "metadata": {},
   "outputs": [
    {
     "name": "stdout",
     "output_type": "stream",
     "text": [
      "Enter comma seprated input sequence100,150,180\n",
      "18\n",
      "22\n",
      "24\n"
     ]
    }
   ],
   "source": [
    "\"\"\"Question 1: Write a program that calculates and prints the value according to the given formula: \n",
    "Q = Square root of [(2 * C * D)/H] Following are the fixed values of C and H: C is 50. H is 30.\n",
    "D is the variable whose values should be input to your program in a comma-separated sequence. \n",
    "Example Let us assume the following comma separated input sequence is given to the program: 100,150,180 \n",
    "The output of the program should be:\n",
    "18,22,24 \"\"\"\n",
    "import numpy \n",
    "S=input(\"Enter comma seprated input sequence\") \n",
    "C=50 \n",
    "H=30\n",
    "l=S.split(\",\") \n",
    "for i in l: \n",
    "    Q = [(2 * C * int(i)) / H] \n",
    "    print(int(numpy.sqrt(Q)))"
   ]
  },
  {
   "cell_type": "code",
   "execution_count": 1,
   "id": "2fc51599",
   "metadata": {},
   "outputs": [
    {
     "name": "stdout",
     "output_type": "stream",
     "text": [
      "enter no. of row3\n",
      "enter no. of coloumn5\n",
      "[[0, 0, 0, 0, 0], [0, 1, 2, 3, 4], [0, 2, 4, 6, 8]]\n"
     ]
    }
   ],
   "source": [
    "'''Question 2: Write a program which takes 2 digits, X,Y as input and generates a 2-dimensional array. \n",
    "The element value in the i-th row and j-th column of the array should be i*j.Note: i=0,1.., X-1; j=0,1,¡Y-1.\n",
    "Example Suppose the following inputs are given to the program: 3,5\n",
    "Then, the output of the program should be: [[0, 0, 0, 0, 0], [0, 1, 2, 3, 4], [0, 2, 4, 6, 8]]'''\n",
    "import numpy\n",
    "a=int(input(\"enter no. of row\")) \n",
    "b=int(input(\"enter no. of coloumn\")) \n",
    "x=numpy.arange(0,a,1) \n",
    "y=numpy.arange(0,b,1) \n",
    "z=x*y.reshape(b,1) \n",
    "l=z.transpose() \n",
    "list1=l.tolist() \n",
    "print(list1)"
   ]
  },
  {
   "cell_type": "code",
   "execution_count": 2,
   "id": "30fde59e",
   "metadata": {},
   "outputs": [
    {
     "name": "stdout",
     "output_type": "stream",
     "text": [
      "Input any sentencewithout,hello,bag,world\n",
      "bag, hello, without, world\n"
     ]
    }
   ],
   "source": [
    "'''Question 3:\n",
    "Write a program that accepts a comma separated sequence of words as input and prints the words in a comma-separated sequence\n",
    "after sorting them alphabetically. Suppose the following input is supplied to the program:\n",
    "without,hello,bag,world Then, the output should be:bag,hello,without,world''' \n",
    "S=input(\"Input any sentence\") \n",
    "l=S.split(\",\") \n",
    "l.sort() \n",
    "print(\", \".join(l))"
   ]
  },
  {
   "cell_type": "code",
   "execution_count": 4,
   "id": "93aa24e6",
   "metadata": {},
   "outputs": [
    {
     "name": "stdout",
     "output_type": "stream",
     "text": [
      "Input any sentencehello world and practice makes perfect and hello world again\n",
      "again and hello makes perfect practice world\n"
     ]
    }
   ],
   "source": [
    "'''Question 4:\n",
    "Write a program that accepts a sequence of whitespace separated words as input and prints the words after \n",
    "removing all duplicate words and sorting them alphanumerically. Suppose the following input is supplied to the \n",
    "program: hello world and practice makes perfect and hello world again Then, the output should be: \n",
    "again and hello makes perfect practice world'''\n",
    "S=input(\"Input any sentence\") \n",
    "n=[]\n",
    "l=S.split(\" \") \n",
    "m=set(l) \n",
    "for i in m:\n",
    "    n.append(i)\n",
    "    n.sort() \n",
    "print(\" \".join(n))"
   ]
  },
  {
   "cell_type": "code",
   "execution_count": 5,
   "id": "26aaf37f",
   "metadata": {},
   "outputs": [
    {
     "name": "stdout",
     "output_type": "stream",
     "text": [
      "Enter a alphanumeric sentencehello world! 123\n",
      "Alphabets: 10\n",
      "Digits: 3\n"
     ]
    }
   ],
   "source": [
    "'''Question 5: Write a program that accepts a sentence and calculate the number of letters and digits. \n",
    "Suppose the following input is supplied to the program: \n",
    "hello world! 123 Then, the output should be: \n",
    "LETTERS 10\n",
    "DIGITS 3'''\n",
    "S=input(\"Enter a alphanumeric sentence\") \n",
    "X=S.lower() \n",
    "alpha=\"abcdefghijklmnopqrstuvwxyz\" \n",
    "digit=\"0123456789\" \n",
    "count_alpha=0 \n",
    "count_digit=0 \n",
    "for i in X: \n",
    "    if i in alpha:\n",
    "        count_alpha=count_alpha+1 \n",
    "    elif i in digit: \n",
    "        count_digit=count_digit+1\n",
    "print(\"Alphabets:\",count_alpha) \n",
    "print(\"Digits:\",count_digit)"
   ]
  },
  {
   "cell_type": "code",
   "execution_count": 8,
   "id": "232f2f92",
   "metadata": {},
   "outputs": [
    {
     "name": "stdout",
     "output_type": "stream",
     "text": [
      "enter your password dataABd1234@1,a F1#,2w3E*,2We3345\n",
      "['ABd1234@1']\n"
     ]
    }
   ],
   "source": [
    "'''Question 6:\n",
    "A website requires the users to input username and password to register.\n",
    "Write a program to check the validity of password input by users.\n",
    "Following are the criteria for checking the password: 1.\n",
    "At least 1 letter between [a-z] \n",
    "2. At least 1 number between [0-9] \n",
    "1. At least 1 letter between [A-Z] \n",
    "3. At least 1 character from [$#@] \n",
    "4. Minimum length of transaction password: 6 \n",
    "5. Maximum length of transaction password: 12\n",
    "Your program should accept a sequence of comma separated passwords and will check them according to the above criteria.\n",
    "Passwords that match the criteria are to be printed, each separated by a comma.\n",
    "Example If the following passwords are given as input to the program: \n",
    "ABd1234@1,a F1#,2w3E*,2We3345 Then, the output of the program should be: ABd1234@1'''\n",
    "S = input(\"enter your password data\")\n",
    "Caps = \"ABCDEFGHIJKLMNOPQRSTUVWXYZ\"\n",
    "small = \"abcdefghijklmnopqrstuvwxyz\"\n",
    "num = \"0123456789\"\n",
    "special = \"$#@\"\n",
    "l = S.split(\",\")\n",
    "password = []\n",
    "for i in l:\n",
    "    a = b = c = d = 0\n",
    "    if (len(i) >= 6 and len(i) <= 12):\n",
    "        for j in i:\n",
    "            if ((j in Caps)):\n",
    "                a = a + 1\n",
    "            elif j in small:\n",
    "                b = b + 1\n",
    "            elif j in num:\n",
    "                c = c + 1\n",
    "            elif j in special:\n",
    "                d = d + 1\n",
    "    if ((a != 0) and (b != 0) and (c != 0) and (d != 0)):\n",
    "        password.append(i)\n",
    "print(password)\n",
    "\n",
    "      "
   ]
  },
  {
   "cell_type": "code",
   "execution_count": null,
   "id": "c1b01490",
   "metadata": {},
   "outputs": [],
   "source": []
  }
 ],
 "metadata": {
  "kernelspec": {
   "display_name": "Python 3 (ipykernel)",
   "language": "python",
   "name": "python3"
  },
  "language_info": {
   "codemirror_mode": {
    "name": "ipython",
    "version": 3
   },
   "file_extension": ".py",
   "mimetype": "text/x-python",
   "name": "python",
   "nbconvert_exporter": "python",
   "pygments_lexer": "ipython3",
   "version": "3.9.12"
  }
 },
 "nbformat": 4,
 "nbformat_minor": 5
}
